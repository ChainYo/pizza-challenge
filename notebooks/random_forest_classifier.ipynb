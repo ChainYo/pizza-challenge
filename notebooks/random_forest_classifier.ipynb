{
 "cells": [
  {
   "cell_type": "markdown",
   "metadata": {},
   "source": [
    "# First modeling: Random Forest Classifier"
   ]
  },
  {
   "cell_type": "code",
   "execution_count": 1,
   "metadata": {},
   "outputs": [
    {
     "name": "stderr",
     "output_type": "stream",
     "text": [
      "/home/chainyo/miniconda3/envs/challenge/lib/python3.8/site-packages/xgboost/compat.py:36: FutureWarning: pandas.Int64Index is deprecated and will be removed from pandas in a future version. Use pandas.Index with the appropriate dtype instead.\n",
      "  from pandas import MultiIndex, Int64Index\n"
     ]
    }
   ],
   "source": [
    "import json\n",
    "import matplotlib.pyplot as plt\n",
    "import multiprocessing\n",
    "import numpy as np\n",
    "import nltk\n",
    "import optuna\n",
    "import pandas as pd\n",
    "import pickle\n",
    "import re\n",
    "import seaborn as sns\n",
    "import xgboost as xgb\n",
    "\n",
    "from gensim.models import Word2Vec\n",
    "from sklearn.cluster import KMeans\n",
    "from sklearn.metrics import confusion_matrix, accuracy_score\n",
    "from sklearn.model_selection import train_test_split\n",
    "from typing import List"
   ]
  },
  {
   "cell_type": "code",
   "execution_count": 2,
   "metadata": {},
   "outputs": [
    {
     "data": {
      "text/html": [
       "<div>\n",
       "<style scoped>\n",
       "    .dataframe tbody tr th:only-of-type {\n",
       "        vertical-align: middle;\n",
       "    }\n",
       "\n",
       "    .dataframe tbody tr th {\n",
       "        vertical-align: top;\n",
       "    }\n",
       "\n",
       "    .dataframe thead th {\n",
       "        text-align: right;\n",
       "    }\n",
       "</style>\n",
       "<table border=\"1\" class=\"dataframe\">\n",
       "  <thead>\n",
       "    <tr style=\"text-align: right;\">\n",
       "      <th></th>\n",
       "      <th>post_was_edited</th>\n",
       "      <th>request_text_edit_aware</th>\n",
       "      <th>request_title</th>\n",
       "      <th>requester_account_age_in_days_at_request</th>\n",
       "      <th>requester_days_since_first_post_on_raop_at_request</th>\n",
       "      <th>requester_number_of_comments_at_request</th>\n",
       "      <th>requester_number_of_comments_at_retrieval</th>\n",
       "      <th>requester_number_of_comments_in_raop_at_request</th>\n",
       "      <th>requester_number_of_posts_at_request</th>\n",
       "      <th>requester_number_of_posts_on_raop_at_request</th>\n",
       "      <th>requester_number_of_subreddits_at_request</th>\n",
       "      <th>requester_received_pizza</th>\n",
       "      <th>requester_subreddits_at_request</th>\n",
       "      <th>requester_upvotes_minus_downvotes_at_request</th>\n",
       "      <th>requester_upvotes_plus_downvotes_at_request</th>\n",
       "      <th>requester_username</th>\n",
       "      <th>unix_timestamp_of_request</th>\n",
       "      <th>unix_timestamp_of_request_utc</th>\n",
       "      <th>cleaned_text</th>\n",
       "    </tr>\n",
       "  </thead>\n",
       "  <tbody>\n",
       "    <tr>\n",
       "      <th>0</th>\n",
       "      <td>0</td>\n",
       "      <td>Hi I am in need of food for my 4 children we a...</td>\n",
       "      <td>Request Colorado Springs Help Us Please</td>\n",
       "      <td>0.000000</td>\n",
       "      <td>0.000000</td>\n",
       "      <td>0</td>\n",
       "      <td>0</td>\n",
       "      <td>0</td>\n",
       "      <td>0</td>\n",
       "      <td>0</td>\n",
       "      <td>0</td>\n",
       "      <td>0</td>\n",
       "      <td>0</td>\n",
       "      <td>0</td>\n",
       "      <td>0</td>\n",
       "      <td>nickylvst</td>\n",
       "      <td>1317852607000</td>\n",
       "      <td>1317849007000</td>\n",
       "      <td>hi i am in need of food for my 4 children we a...</td>\n",
       "    </tr>\n",
       "    <tr>\n",
       "      <th>1</th>\n",
       "      <td>0</td>\n",
       "      <td>I spent the last money I had on gas today. Im ...</td>\n",
       "      <td>[Request] California, No cash and I could use ...</td>\n",
       "      <td>501.111100</td>\n",
       "      <td>0.000000</td>\n",
       "      <td>0</td>\n",
       "      <td>1000</td>\n",
       "      <td>0</td>\n",
       "      <td>15</td>\n",
       "      <td>0</td>\n",
       "      <td>12</td>\n",
       "      <td>0</td>\n",
       "      <td>12</td>\n",
       "      <td>34</td>\n",
       "      <td>116</td>\n",
       "      <td>fohacidal</td>\n",
       "      <td>1332652424000</td>\n",
       "      <td>1332648824000</td>\n",
       "      <td>i spent the last money i had on gas today. im ...</td>\n",
       "    </tr>\n",
       "    <tr>\n",
       "      <th>2</th>\n",
       "      <td>0</td>\n",
       "      <td>My girlfriend decided it would be a good idea ...</td>\n",
       "      <td>[Request] Hungry couple in Dundee, Scotland wo...</td>\n",
       "      <td>0.000000</td>\n",
       "      <td>0.000000</td>\n",
       "      <td>0</td>\n",
       "      <td>0</td>\n",
       "      <td>0</td>\n",
       "      <td>0</td>\n",
       "      <td>0</td>\n",
       "      <td>0</td>\n",
       "      <td>0</td>\n",
       "      <td>0</td>\n",
       "      <td>0</td>\n",
       "      <td>0</td>\n",
       "      <td>jacquibatman7</td>\n",
       "      <td>1319650094000</td>\n",
       "      <td>1319646494000</td>\n",
       "      <td>my girlfriend decided it would be a good idea ...</td>\n",
       "    </tr>\n",
       "    <tr>\n",
       "      <th>3</th>\n",
       "      <td>1</td>\n",
       "      <td>It's cold, I'n hungry, and to be completely ho...</td>\n",
       "      <td>[Request] In Canada (Ontario), just got home f...</td>\n",
       "      <td>6.518438</td>\n",
       "      <td>0.000000</td>\n",
       "      <td>36</td>\n",
       "      <td>41</td>\n",
       "      <td>0</td>\n",
       "      <td>1</td>\n",
       "      <td>0</td>\n",
       "      <td>4</td>\n",
       "      <td>0</td>\n",
       "      <td>4</td>\n",
       "      <td>54</td>\n",
       "      <td>76</td>\n",
       "      <td>4on_the_floor</td>\n",
       "      <td>1322855434000</td>\n",
       "      <td>1322855434000</td>\n",
       "      <td>it's cold, i'n hungry, and to be completely ho...</td>\n",
       "    </tr>\n",
       "    <tr>\n",
       "      <th>4</th>\n",
       "      <td>0</td>\n",
       "      <td>hey guys:\\n I love this sub. I think it's grea...</td>\n",
       "      <td>[Request] Old friend coming to visit. Would LO...</td>\n",
       "      <td>162.063252</td>\n",
       "      <td>101.606505</td>\n",
       "      <td>140</td>\n",
       "      <td>178</td>\n",
       "      <td>2</td>\n",
       "      <td>14</td>\n",
       "      <td>0</td>\n",
       "      <td>11</td>\n",
       "      <td>0</td>\n",
       "      <td>11</td>\n",
       "      <td>1121</td>\n",
       "      <td>1733</td>\n",
       "      <td>Futuredogwalker</td>\n",
       "      <td>1373657691000</td>\n",
       "      <td>1373654091000</td>\n",
       "      <td>hey guys: i love this sub. i think it's great....</td>\n",
       "    </tr>\n",
       "  </tbody>\n",
       "</table>\n",
       "</div>"
      ],
      "text/plain": [
       "   post_was_edited                            request_text_edit_aware  \\\n",
       "0                0  Hi I am in need of food for my 4 children we a...   \n",
       "1                0  I spent the last money I had on gas today. Im ...   \n",
       "2                0  My girlfriend decided it would be a good idea ...   \n",
       "3                1  It's cold, I'n hungry, and to be completely ho...   \n",
       "4                0  hey guys:\\n I love this sub. I think it's grea...   \n",
       "\n",
       "                                       request_title  \\\n",
       "0            Request Colorado Springs Help Us Please   \n",
       "1  [Request] California, No cash and I could use ...   \n",
       "2  [Request] Hungry couple in Dundee, Scotland wo...   \n",
       "3  [Request] In Canada (Ontario), just got home f...   \n",
       "4  [Request] Old friend coming to visit. Would LO...   \n",
       "\n",
       "   requester_account_age_in_days_at_request  \\\n",
       "0                                  0.000000   \n",
       "1                                501.111100   \n",
       "2                                  0.000000   \n",
       "3                                  6.518438   \n",
       "4                                162.063252   \n",
       "\n",
       "   requester_days_since_first_post_on_raop_at_request  \\\n",
       "0                                           0.000000    \n",
       "1                                           0.000000    \n",
       "2                                           0.000000    \n",
       "3                                           0.000000    \n",
       "4                                         101.606505    \n",
       "\n",
       "   requester_number_of_comments_at_request  \\\n",
       "0                                        0   \n",
       "1                                        0   \n",
       "2                                        0   \n",
       "3                                       36   \n",
       "4                                      140   \n",
       "\n",
       "   requester_number_of_comments_at_retrieval  \\\n",
       "0                                          0   \n",
       "1                                       1000   \n",
       "2                                          0   \n",
       "3                                         41   \n",
       "4                                        178   \n",
       "\n",
       "   requester_number_of_comments_in_raop_at_request  \\\n",
       "0                                                0   \n",
       "1                                                0   \n",
       "2                                                0   \n",
       "3                                                0   \n",
       "4                                                2   \n",
       "\n",
       "   requester_number_of_posts_at_request  \\\n",
       "0                                     0   \n",
       "1                                    15   \n",
       "2                                     0   \n",
       "3                                     1   \n",
       "4                                    14   \n",
       "\n",
       "   requester_number_of_posts_on_raop_at_request  \\\n",
       "0                                             0   \n",
       "1                                             0   \n",
       "2                                             0   \n",
       "3                                             0   \n",
       "4                                             0   \n",
       "\n",
       "   requester_number_of_subreddits_at_request  requester_received_pizza  \\\n",
       "0                                          0                         0   \n",
       "1                                         12                         0   \n",
       "2                                          0                         0   \n",
       "3                                          4                         0   \n",
       "4                                         11                         0   \n",
       "\n",
       "   requester_subreddits_at_request  \\\n",
       "0                                0   \n",
       "1                               12   \n",
       "2                                0   \n",
       "3                                4   \n",
       "4                               11   \n",
       "\n",
       "   requester_upvotes_minus_downvotes_at_request  \\\n",
       "0                                             0   \n",
       "1                                            34   \n",
       "2                                             0   \n",
       "3                                            54   \n",
       "4                                          1121   \n",
       "\n",
       "   requester_upvotes_plus_downvotes_at_request requester_username  \\\n",
       "0                                            0          nickylvst   \n",
       "1                                          116          fohacidal   \n",
       "2                                            0      jacquibatman7   \n",
       "3                                           76      4on_the_floor   \n",
       "4                                         1733    Futuredogwalker   \n",
       "\n",
       "   unix_timestamp_of_request  unix_timestamp_of_request_utc  \\\n",
       "0              1317852607000                  1317849007000   \n",
       "1              1332652424000                  1332648824000   \n",
       "2              1319650094000                  1319646494000   \n",
       "3              1322855434000                  1322855434000   \n",
       "4              1373657691000                  1373654091000   \n",
       "\n",
       "                                        cleaned_text  \n",
       "0  hi i am in need of food for my 4 children we a...  \n",
       "1  i spent the last money i had on gas today. im ...  \n",
       "2  my girlfriend decided it would be a good idea ...  \n",
       "3  it's cold, i'n hungry, and to be completely ho...  \n",
       "4  hey guys: i love this sub. i think it's great....  "
      ]
     },
     "execution_count": 2,
     "metadata": {},
     "output_type": "execute_result"
    }
   ],
   "source": [
    "datafile_path = \"../data/04_feature/preprocessed_data.json\"\n",
    "with open(datafile_path) as f:\n",
    "    data = json.load(f)\n",
    "\n",
    "df = pd.DataFrame(data)\n",
    "df.head()"
   ]
  },
  {
   "cell_type": "markdown",
   "metadata": {},
   "source": [
    "## Tokenization\n",
    "\n",
    "We use `nltk` and `gensim` to preprocess the cleaned text part of the dataset and tokenize it."
   ]
  },
  {
   "cell_type": "code",
   "execution_count": 3,
   "metadata": {},
   "outputs": [
    {
     "name": "stderr",
     "output_type": "stream",
     "text": [
      "[nltk_data] Downloading package punkt to /home/chainyo/nltk_data...\n",
      "[nltk_data]   Package punkt is already up-to-date!\n"
     ]
    }
   ],
   "source": [
    "nltk.download('punkt')\n",
    "tokenizer = nltk.data.load('tokenizers/punkt/english.pickle')\n",
    "\n",
    "\n",
    "def create_list_of_words(sentence: str) -> List[str]:\n",
    "    \"\"\"\n",
    "    Create a list of words from a sentence.\n",
    "\n",
    "    Parameters\n",
    "    ----------\n",
    "    sentence : str\n",
    "        A sentence.\n",
    "    \n",
    "    Returns\n",
    "    -------\n",
    "    List[str]\n",
    "        A list of words from the sentence.\n",
    "    \"\"\"\n",
    "    sentence = re.sub(r'[^\\w\\s]', '', sentence) # Remove punctuation\n",
    "    words = nltk.word_tokenize(sentence)\n",
    "    return words\n",
    "\n",
    "\n",
    "def preprocessing_before_word2vec(data: pd.Series) -> List[List[str]]:\n",
    "    \"\"\"\n",
    "    Preprocessing before word2vec.\n",
    "\n",
    "    Parameters\n",
    "    ----------\n",
    "    data : pd.Series\n",
    "        A series of sentences.\n",
    "    \n",
    "    Returns\n",
    "    -------\n",
    "    List[List[str]]\n",
    "        A list of list of words from the sentences.\n",
    "    \"\"\"\n",
    "    tokenized_words = []\n",
    "    for text in data:\n",
    "        tokenized_words.append(create_list_of_words(text))\n",
    "    return tokenized_words\n"
   ]
  },
  {
   "cell_type": "code",
   "execution_count": 4,
   "metadata": {},
   "outputs": [],
   "source": [
    "df[\"preprocessed_text\"] = preprocessing_before_word2vec(df[\"cleaned_text\"])"
   ]
  },
  {
   "cell_type": "code",
   "execution_count": 5,
   "metadata": {},
   "outputs": [],
   "source": [
    "workers = multiprocessing.cpu_count()\n",
    "word2vec_model = Word2Vec(min_count=30, window=2, vector_size=300, sample=6e-5, alpha=0.03, min_alpha=0.0007, negative=20, workers=workers)\n",
    "\n",
    "word2vec_model.build_vocab(df[\"preprocessed_text\"]) # Build vocabulary\n",
    "word2vec_model.train(df[\"preprocessed_text\"], total_examples=word2vec_model.corpus_count, epochs=30) # Train\n",
    "\n",
    "word2vec_model.wv.save_word2vec_format(\"../data/06_models/word2vec_model.bin\", binary=True) # Save model"
   ]
  },
  {
   "cell_type": "markdown",
   "metadata": {},
   "source": [
    "## Clustering\n",
    "\n",
    "Now we trained a gensim model with the cleaned text. We can use the model to cluster the text."
   ]
  },
  {
   "cell_type": "code",
   "execution_count": 6,
   "metadata": {},
   "outputs": [
    {
     "name": "stdout",
     "output_type": "stream",
     "text": [
      "Number of clusters: 227\n"
     ]
    }
   ],
   "source": [
    "n_clusters = int(word2vec_model.wv.vectors.shape[0] / 4)\n",
    "print(f\"Number of clusters: {n_clusters}\")\n",
    "\n",
    "kmeans_model = KMeans(n_clusters=n_clusters, random_state=3)\n",
    "index = kmeans_model.fit_predict(word2vec_model.wv.vectors) # Fit and predict\n",
    "\n",
    "word_centroid_map = dict(zip(word2vec_model.wv.index_to_key, index)) # Create a dictionary of word to centroid"
   ]
  },
  {
   "cell_type": "code",
   "execution_count": 7,
   "metadata": {},
   "outputs": [
    {
     "name": "stdout",
     "output_type": "stream",
     "text": [
      "Cluster 0 words: thinking,\n",
      "Cluster 1 words: try, mind, wouldnt, happen, figure, believe,\n",
      "Cluster 2 words: either, pizzas, fine, delivery, considering,\n",
      "Cluster 3 words: years, 4, 6, 12, 7, 8, 9,\n",
      "Cluster 4 words: low, tight, running, budget,\n",
      "Cluster 5 words: go, didnt, everything, leave, couldnt, supposed, stop,\n",
      "Cluster 6 words: here, also, post, should, anyway, reason, guess, anyways, received, system, yes,\n",
      "Cluster 7 words: by, find, come, another, goes, wait, set,\n",
      "Cluster 8 words: forward,\n",
      "Cluster 9 words: financially,\n",
      "Cluster 10 words: have, left, nothing, run, literally, except,\n",
      "Cluster 11 words: like, feeling, special, feels,\n",
      "Cluster 12 words: help,\n",
      "Cluster 13 words: until, paid, till,\n",
      "Cluster 14 words: wonderful, folks,\n",
      "Cluster 15 words: with, home, stay, dog,\n",
      "Cluster 16 words: dinner, hot, cheese, large, pepperoni, meat, slice,\n",
      "Cluster 17 words: noodles, pasta, chicken, soup, sauce, canned,\n",
      "Cluster 18 words: wan,\n",
      "Cluster 19 words: which, half, 20, bucks, 30, minutes,\n",
      "Cluster 20 words: due, paying, moving, barely, semester, expenses, medical,\n",
      "Cluster 21 words: life, best, guy, girl, makes, man, deal, different,\n",
      "Cluster 22 words: card, paypal, cards,\n",
      "Cluster 23 words: random,\n",
      "Cluster 24 words: going, still, gets, anymore, shit, longer, miss,\n",
      "Cluster 25 words: long, actually, idea, honestly, seems, especially, easy, felt,\n",
      "Cluster 26 words: so, that, too, thats, thing, though, point, such, fact, whats,\n",
      "Cluster 27 words: happy, grateful, d, share, kindness, forever, lt3, donate,\n",
      "Cluster 28 words: na,\n",
      "Cluster 29 words: you, whatever, draw, write, song,\n",
      "Cluster 30 words: ill, definitely, future, pass,\n",
      "Cluster 31 words: thanks, thank, your, reading, advance, consideration,\n",
      "Cluster 32 words: from, full, business,\n",
      "Cluster 33 words: never, done, heard, posted,\n",
      "Cluster 34 words: and, bit, yet, spend, starting, income, saving,\n",
      "Cluster 35 words: work, together, gone, bed, class, turned, theyre, sleep, missed,\n",
      "Cluster 36 words: been, ive, since, gotten,\n",
      "Cluster 37 words: pm, email, address,\n",
      "Cluster 38 words: dominos, hut,\n",
      "Cluster 39 words: some, love, tonight, pie, enjoy, wed, warm, brighten, tasty,\n",
      "Cluster 40 words: peanut,\n",
      "Cluster 41 words: title,\n",
      "Cluster 42 words: parents, own, room, taken, process, cost,\n",
      "Cluster 43 words: surprise, celebrate, treat, cheer, spirits, bring,\n",
      "Cluster 44 words: ran, ate, water, bag, milk, frozen, dry,\n",
      "Cluster 45 words: two, 2, 3, three,\n",
      "Cluster 46 words: only, around, without, unfortunately, used, means, save, problem, walk, buying, plus, fix,\n",
      "Cluster 47 words: college, student,\n",
      "Cluster 48 words: mom, mother, dad, single, father, passed,\n",
      "Cluster 49 words: his, hospital, ended, surgery, visit,\n",
      "Cluster 50 words: very, roommate, between, roommates, tldr, flat,\n",
      "Cluster 51 words: butter,\n",
      "Cluster 52 words: late, later,\n",
      "Cluster 53 words: god,\n",
      "Cluster 54 words: ount, bank,\n",
      "Cluster 55 words: in, am, city, florida, texas, ohio,\n",
      "Cluster 56 words: grocery,\n",
      "Cluster 57 words: video, games,\n",
      "Cluster 58 words: other, these, less, each,\n",
      "Cluster 59 words: amp, children, young,\n",
      "Cluster 60 words: but, just, its, isnt, luck, quite, normally, okay, cause, sucks,\n",
      "Cluster 61 words: car, went, took, phone, company, bus,\n",
      "Cluster 62 words: acts,\n",
      "Cluster 63 words: youre, youd, prove, message, interested, questions,\n",
      "Cluster 64 words: bless,\n",
      "Cluster 65 words: short,\n",
      "Cluster 66 words: meet,\n",
      "Cluster 67 words: really, now, right, moment, super, arent, stomach,\n",
      "Cluster 68 words: give, hope, look, giving, others, hand, helps, understand,\n",
      "Cluster 69 words: offer, trade, exchange, art,\n",
      "Cluster 70 words: could, wondering,\n",
      "Cluster 71 words: havent, eaten,\n",
      "Cluster 72 words: delicious, goodness,\n",
      "Cluster 73 words: oh, info, details, ps, information, link,\n",
      "Cluster 74 words: return, promise, gladly, repay, favour,\n",
      "Cluster 75 words: says,\n",
      "Cluster 76 words: are, our, were, both, students,\n",
      "Cluster 77 words: take, see, said, ever, wanted, needed, does, needs, gave, sent, helped, given, remember,\n",
      "Cluster 78 words: live, area, california,\n",
      "Cluster 79 words: recently, moved, currently, apartment, state, university,\n",
      "Cluster 80 words: job, new, start, finally, started, part, unemployment, second, interview, august,\n",
      "Cluster 81 words: rent, bills, bill, insurance, deposit, cover, payment,\n",
      "Cluster 82 words: redditor, redditors, fellow,\n",
      "Cluster 83 words: cant, afford,\n",
      "Cluster 84 words: appreciate,\n",
      "Cluster 85 words: working, trying, jobs, unemployed, struggling, support, finding, minimum,\n",
      "Cluster 86 words: times, rough, tough,\n",
      "Cluster 87 words: next, friday, monday, thursday, payday, wednesday, til,\n",
      "Cluster 88 words: is, things, lot, doing, most, always, many, whole, usually, same, crazy, seeing, worse, news, ok, side,\n",
      "Cluster 89 words: game, playing, play,\n",
      "Cluster 90 words: story,\n",
      "Cluster 91 words: subreddit, posting, sub,\n",
      "Cluster 92 words: course, along,\n",
      "Cluster 93 words: living, weve,\n",
      "Cluster 94 words: dollars, wallet, dollar, checking, cents,\n",
      "Cluster 95 words: if, someone, please, willing, send, somebody,\n",
      "Cluster 96 words: about, before, found, did, told, decided, asked,\n",
      "Cluster 97 words: tell,\n",
      "Cluster 98 words: money, gas, groceries,\n",
      "Cluster 99 words: as, soon,\n",
      "Cluster 100 words: credit, debit,\n",
      "Cluster 101 words: able,\n",
      "Cluster 102 words: reddit, guys, raop, everyone, community,\n",
      "Cluster 103 words: a,\n",
      "Cluster 104 words: mean, world, favorite,\n",
      "Cluster 105 words: location, forgot, mention,\n",
      "Cluster 106 words: time, first,\n",
      "Cluster 107 words: shopping,\n",
      "Cluster 108 words: picture, pictures, pics,\n",
      "Cluster 109 words: months, ago, laid,\n",
      "Cluster 110 words: the, weekend, rest, saturday, sunday, closed,\n",
      "Cluster 111 words: or, extra,\n",
      "Cluster 112 words: school, summer, waiting, finished, classes, campus, final,\n",
      "Cluster 113 words: worth,\n",
      "Cluster 114 words: stuff, nights, mostly, dogs,\n",
      "Cluster 115 words: financial,\n",
      "Cluster 116 words: edit, near, located, canada, uk, ca,\n",
      "Cluster 117 words: fridge, empty,\n",
      "Cluster 118 words: loan, loans,\n",
      "Cluster 119 words: ends,\n",
      "Cluster 120 words: watching, watch, movie,\n",
      "Cluster 121 words: would, id, nice, awesome, itd,\n",
      "Cluster 122 words: us, feed,\n",
      "Cluster 123 words: paycheck, check, mail,\n",
      "Cluster 124 words: cheesy,\n",
      "Cluster 125 words: theres, free, maybe, those, sort, type, o, offers,\n",
      "Cluster 126 words: days, weeks,\n",
      "Cluster 127 words: gift,\n",
      "Cluster 128 words: him,\n",
      "Cluster 129 words: more, than,\n",
      "Cluster 130 words: sob,\n",
      "Cluster 131 words: past,\n",
      "Cluster 132 words: up, night, looking, craving, break, absolutely, extremely, spot, seriously,\n",
      "Cluster 133 words: food, stamps, pantry,\n",
      "Cluster 134 words: there,\n",
      "Cluster 135 words: get, tomorrow, then, wont, tuesday, hold,\n",
      "Cluster 136 words: was, because, today, made, yesterday, morning, already, tried, bought, wasnt, christmas, turns, earlier,\n",
      "Cluster 137 words: im, hungry, pretty, starving, poor, kid,\n",
      "Cluster 138 words: face, smile,\n",
      "Cluster 139 words: local, within, places,\n",
      "Cluster 140 words: aid,\n",
      "Cluster 141 words: an, cat, online, using, door,\n",
      "Cluster 142 words: at, house, stuck, sitting,\n",
      "Cluster 143 words: will, when, once, comes,\n",
      "Cluster 144 words: anybody,\n",
      "Cluster 145 words: dont, no, eat,\n",
      "Cluster 146 words: friend, birthday, brother, mine, party,\n",
      "Cluster 147 words: out,\n",
      "Cluster 148 words: ramen, eating, bread, meals, cereal, eggs,\n",
      "Cluster 149 words: last, month, over, spent, every, almost, top, power, towards, 100, early,\n",
      "Cluster 150 words: gon,\n",
      "Cluster 151 words: want, anything, something,\n",
      "Cluster 152 words: one, way, hoping, person, evening, possibly,\n",
      "Cluster 153 words: know, what, how, ask, say, why, wrong,\n",
      "Cluster 154 words: sick, tired, cooking, cold, cheap,\n",
      "Cluster 155 words: cash, funds,\n",
      "Cluster 156 words: all, while, through, getting, down, hit, high, head, during, stress, huge, entire,\n",
      "Cluster 157 words: little, myself, alone, cook, outside, depressed, wanting,\n",
      "Cluster 158 words: hey, hi, hello,\n",
      "Cluster 159 words: they, place, where, doesnt, etc, drive,\n",
      "Cluster 160 words: who, helping, heart,\n",
      "Cluster 161 words: anyone, kind, generous, soul, hook,\n",
      "Cluster 162 words: small, town, close, walking,\n",
      "Cluster 163 words: friends, away, girlfriend, hes, shes, staying, gf, lives,\n",
      "Cluster 164 words: lurker,\n",
      "Cluster 165 words: verification, code,\n",
      "Cluster 166 words: for, day, meal, lunch, change, instead, decent,\n",
      "Cluster 167 words: being, making, far, basically, shitty, homeless, difficult,\n",
      "Cluster 168 words: four, pregnant,\n",
      "Cluster 169 words: he,\n",
      "Cluster 170 words: got, lost, hours, hour, worked, several, shift,\n",
      "Cluster 171 words: her, she,\n",
      "Cluster 172 words: me, wants,\n",
      "Cluster 173 words: works,\n",
      "Cluster 174 words: their, care,\n",
      "Cluster 175 words: few, couple,\n",
      "Cluster 176 words: year, old,\n",
      "Cluster 177 words: provide, proof,\n",
      "Cluster 178 words: broke,\n",
      "Cluster 179 words: studying, finals,\n",
      "Cluster 180 words: had, off, after, hasnt, spending, cut, issues, managed, unable,\n",
      "Cluster 181 words: sorry,\n",
      "Cluster 182 words: has, having, hard, lately, problems,\n",
      "Cluster 183 words: papa,\n",
      "Cluster 184 words: 5, 10, 1, 15,\n",
      "Cluster 185 words: sad, kinda, honest,\n",
      "Cluster 186 words: i,\n",
      "Cluster 187 words: rice, beans,\n",
      "Cluster 188 words: store,\n",
      "Cluster 189 words: bad, terrible, happened,\n",
      "Cluster 190 words: into, came, move, boyfriend, leaving, pain, behind, across, driving,\n",
      "Cluster 191 words: people,\n",
      "Cluster 192 words: much, amazing, sounds, totally, simple,\n",
      "Cluster 193 words: it, well, sure, possible,\n",
      "Cluster 194 words: be,\n",
      "Cluster 195 words: good, great, better, big, requesting,\n",
      "Cluster 196 words: this,\n",
      "Cluster 197 words: on, end, coming, completely, plan, test, starts,\n",
      "Cluster 198 words: back, feet,\n",
      "Cluster 199 words: think, real, might, rather, cool, fun, yeah, wish, lol,\n",
      "Cluster 200 words: any,\n",
      "Cluster 201 words: pay,\n",
      "Cluster 202 words: appreciated, greatly,\n",
      "Cluster 203 words: not, exactly,\n",
      "Cluster 204 words: enough, buy,\n",
      "Cluster 205 words: them, let, talk,\n",
      "Cluster 206 words: site, throwaway, website, saw,\n",
      "Cluster 207 words: call, called, boss,\n",
      "Cluster 208 words: feel, asking, hate,\n",
      "Cluster 209 words: week,\n",
      "Cluster 210 words: family, kids, wife, husband, son, sister, daughter, baby,\n",
      "Cluster 211 words: thought, figured, shot,\n",
      "Cluster 212 words: my, name, major, computer, assistance, amount, putting, office, bunch, debt, under, current,\n",
      "Cluster 213 words: pizza,\n",
      "Cluster 214 words: again, hopefully, receive, chance, position, date,\n",
      "Cluster 215 words: request, heres, upon, pic,\n",
      "Cluster 216 words: make, even, least, probably, open,\n",
      "Cluster 217 words: taking, read,\n",
      "Cluster 218 words: use, order, pick, spare, fill,\n",
      "Cluster 219 words: act,\n",
      "Cluster 220 words: can, do, need, else,\n",
      "Cluster 221 words: to,\n",
      "Cluster 222 words: we,\n",
      "Cluster 223 words: of,\n",
      "Cluster 224 words: johns,\n",
      "Cluster 225 words: keep, put, situation, may, however, show, internet, turn, hell, desperate, case, realized,\n",
      "Cluster 226 words: favor,\n"
     ]
    }
   ],
   "source": [
    "def show_clusters(model, word_centroid_map, n_clusters):\n",
    "    for i in range(n_clusters):\n",
    "        print(\"Cluster %d words:\" % i, end='')\n",
    "        for word, index in word_centroid_map.items():\n",
    "            if index == i:\n",
    "                print(' %s' % word, end=',')\n",
    "        print()\n",
    "\n",
    "\n",
    "show_clusters(word2vec_model, word_centroid_map, n_clusters)"
   ]
  },
  {
   "cell_type": "markdown",
   "metadata": {},
   "source": [
    "## Create dataset"
   ]
  },
  {
   "cell_type": "code",
   "execution_count": 8,
   "metadata": {},
   "outputs": [
    {
     "data": {
      "text/plain": [
       "Index(['post_was_edited', 'request_text_edit_aware', 'request_title',\n",
       "       'requester_account_age_in_days_at_request',\n",
       "       'requester_days_since_first_post_on_raop_at_request',\n",
       "       'requester_number_of_comments_at_request',\n",
       "       'requester_number_of_comments_at_retrieval',\n",
       "       'requester_number_of_comments_in_raop_at_request',\n",
       "       'requester_number_of_posts_at_request',\n",
       "       'requester_number_of_posts_on_raop_at_request',\n",
       "       'requester_number_of_subreddits_at_request', 'requester_received_pizza',\n",
       "       'requester_subreddits_at_request',\n",
       "       'requester_upvotes_minus_downvotes_at_request',\n",
       "       'requester_upvotes_plus_downvotes_at_request', 'requester_username',\n",
       "       'unix_timestamp_of_request', 'unix_timestamp_of_request_utc',\n",
       "       'cleaned_text', 'preprocessed_text'],\n",
       "      dtype='object')"
      ]
     },
     "execution_count": 8,
     "metadata": {},
     "output_type": "execute_result"
    }
   ],
   "source": [
    "df.columns"
   ]
  },
  {
   "cell_type": "markdown",
   "metadata": {},
   "source": [
    "For now we will only use the requester text and the label."
   ]
  },
  {
   "cell_type": "code",
   "execution_count": 9,
   "metadata": {},
   "outputs": [
    {
     "name": "stdout",
     "output_type": "stream",
     "text": [
      "(4040,) (4040,)\n"
     ]
    }
   ],
   "source": [
    "features = df[\"request_text_edit_aware\"]\n",
    "target = df[\"requester_received_pizza\"]\n",
    "\n",
    "print(features.shape, target.shape)"
   ]
  },
  {
   "cell_type": "code",
   "execution_count": 10,
   "metadata": {},
   "outputs": [
    {
     "name": "stdout",
     "output_type": "stream",
     "text": [
      "Training set size: (2424,), (2424,)\n",
      "Validation set size: (808,), (808,)\n",
      "Test set size: (808,), (808,)\n"
     ]
    }
   ],
   "source": [
    "X_train, X_test, y_train, y_test = train_test_split(features, target, test_size=0.2, random_state=3, stratify=target)\n",
    "X_train, X_val, y_train, y_val = train_test_split(X_train, y_train, test_size=0.25, random_state=3, stratify=y_train)\n",
    "\n",
    "print(f\"Training set size: {X_train.shape}, {y_train.shape}\")\n",
    "print(f\"Validation set size: {X_val.shape}, {y_val.shape}\")\n",
    "print(f\"Test set size: {X_test.shape}, {y_test.shape}\")"
   ]
  },
  {
   "cell_type": "markdown",
   "metadata": {},
   "source": [
    "We will create a bag of centroids only for the last feature which is the list of words from the cleaned text sentences."
   ]
  },
  {
   "cell_type": "code",
   "execution_count": 11,
   "metadata": {},
   "outputs": [],
   "source": [
    "def create_bag_of_centroids(wordlist: List[str], word_centroid_map: dict) -> np.ndarray:\n",
    "    \"\"\"\n",
    "    Create a bag of centroids from a wordlist.\n",
    "\n",
    "    Parameters\n",
    "    ----------\n",
    "    wordlist : List[str]\n",
    "        A list of words.\n",
    "    word_centroid_map : dict\n",
    "        A dictionary of word to centroid.\n",
    "    \n",
    "    Returns\n",
    "    -------\n",
    "    np.ndarray\n",
    "        A bag of centroids.\n",
    "    \"\"\"\n",
    "    num_centroids = max(word_centroid_map.values()) + 1\n",
    "    bag_of_centroids = np.zeros(num_centroids, dtype=np.float32)\n",
    "    for word in wordlist:\n",
    "        if word in word_centroid_map:\n",
    "            index = word_centroid_map[word]\n",
    "            bag_of_centroids[index] += 1\n",
    "    return bag_of_centroids"
   ]
  },
  {
   "cell_type": "code",
   "execution_count": 12,
   "metadata": {},
   "outputs": [
    {
     "name": "stdout",
     "output_type": "stream",
     "text": [
      "(2424, 227) (808, 227) (808, 227)\n"
     ]
    }
   ],
   "source": [
    "# Create bags of centroids for training, validation and test sets\n",
    "train_bag_of_centroids = np.zeros((X_train.size, n_clusters), dtype=np.float32)\n",
    "val_bag_of_centroids = np.zeros((X_val.size, n_clusters), dtype=np.float32)\n",
    "test_bag_of_centroids = np.zeros((X_test.size, n_clusters), dtype=np.float32)\n",
    "\n",
    "for i, text in enumerate(X_train):\n",
    "    train_bag_of_centroids[i] = create_bag_of_centroids(text, word_centroid_map)\n",
    "for i, text in enumerate(X_val):\n",
    "    val_bag_of_centroids[i] = create_bag_of_centroids(text, word_centroid_map)\n",
    "for i, text in enumerate(X_test):\n",
    "    test_bag_of_centroids[i] = create_bag_of_centroids(text, word_centroid_map)\n",
    "\n",
    "print(train_bag_of_centroids.shape, val_bag_of_centroids.shape, test_bag_of_centroids.shape)"
   ]
  },
  {
   "cell_type": "markdown",
   "metadata": {},
   "source": [
    "## Train the model - Random Forest Classifier"
   ]
  },
  {
   "cell_type": "code",
   "execution_count": 27,
   "metadata": {},
   "outputs": [],
   "source": [
    "def objective(trial):\n",
    "    param = {\n",
    "        'lambda': trial.suggest_loguniform('lambda', 1e-3, 10.0),\n",
    "        'alpha': trial.suggest_loguniform('alpha', 1e-3, 10.0),\n",
    "        'colsample_bytree': trial.suggest_categorical('colsample_bytree', [0.3,0.4,0.5,0.6,0.7,0.8,0.9, 1.0]),\n",
    "        'subsample': trial.suggest_categorical('subsample', [0.4,0.5,0.6,0.7,0.8,1.0]),\n",
    "        'learning_rate': trial.suggest_categorical('learning_rate', [0.008,0.009,0.01,0.012,0.014,0.016,0.018, 0.02]),\n",
    "        'n_estimators': 4000,\n",
    "        'max_depth': trial.suggest_categorical('max_depth', [5,7,9,11,13,15,17,20]),\n",
    "        'random_state': trial.suggest_categorical('random_state', [24, 48,2020]),\n",
    "        'min_child_weight': trial.suggest_int('min_child_weight', 1, 300),\n",
    "    }\n",
    "\n",
    "    model = xgb.XGBClassifier(**param)\n",
    "    model.fit(\n",
    "        train_bag_of_centroids, y_train, \n",
    "        eval_set=[(val_bag_of_centroids, y_val)], \n",
    "        verbose=False,\n",
    "        early_stopping_rounds=100\n",
    "    )\n",
    "\n",
    "    preds = model.predict(test_bag_of_centroids)\n",
    "    pred_labels = np.rint(preds)\n",
    "    accuracy = accuracy_score(y_test, pred_labels)\n",
    "    return accuracy"
   ]
  },
  {
   "cell_type": "code",
   "execution_count": 28,
   "metadata": {},
   "outputs": [
    {
     "name": "stderr",
     "output_type": "stream",
     "text": [
      "\u001b[32m[I 2022-03-15 15:54:40,602]\u001b[0m A new study created in memory with name: no-name-dd0d6c43-f952-4d68-b3ee-427b950fef2b\u001b[0m\n",
      "/home/chainyo/miniconda3/envs/challenge/lib/python3.8/site-packages/xgboost/sklearn.py:1224: UserWarning: The use of label encoder in XGBClassifier is deprecated and will be removed in a future release. To remove this warning, do the following: 1) Pass option use_label_encoder=False when constructing XGBClassifier object; and 2) Encode your labels (y) as integers starting with 0, i.e. 0, 1, 2, ..., [num_class - 1].\n",
      "  warnings.warn(label_encoder_deprecation_msg, UserWarning)\n"
     ]
    },
    {
     "name": "stdout",
     "output_type": "stream",
     "text": [
      "[15:54:40] WARNING: ../src/learner.cc:1115: Starting in XGBoost 1.3.0, the default evaluation metric used with the objective 'binary:logistic' was changed from 'error' to 'logloss'. Explicitly set eval_metric if you'd like to restore the old behavior.\n"
     ]
    },
    {
     "name": "stderr",
     "output_type": "stream",
     "text": [
      "\u001b[32m[I 2022-03-15 15:54:41,690]\u001b[0m Trial 0 finished with value: 0.7537128712871287 and parameters: {'lambda': 0.13504936679151183, 'alpha': 0.030006315982995347, 'colsample_bytree': 0.4, 'subsample': 0.4, 'learning_rate': 0.008, 'max_depth': 20, 'random_state': 24, 'min_child_weight': 256}. Best is trial 0 with value: 0.7537128712871287.\u001b[0m\n",
      "/home/chainyo/miniconda3/envs/challenge/lib/python3.8/site-packages/xgboost/sklearn.py:1224: UserWarning: The use of label encoder in XGBClassifier is deprecated and will be removed in a future release. To remove this warning, do the following: 1) Pass option use_label_encoder=False when constructing XGBClassifier object; and 2) Encode your labels (y) as integers starting with 0, i.e. 0, 1, 2, ..., [num_class - 1].\n",
      "  warnings.warn(label_encoder_deprecation_msg, UserWarning)\n"
     ]
    },
    {
     "name": "stdout",
     "output_type": "stream",
     "text": [
      "[15:54:41] WARNING: ../src/learner.cc:1115: Starting in XGBoost 1.3.0, the default evaluation metric used with the objective 'binary:logistic' was changed from 'error' to 'logloss'. Explicitly set eval_metric if you'd like to restore the old behavior.\n"
     ]
    },
    {
     "name": "stderr",
     "output_type": "stream",
     "text": [
      "\u001b[32m[I 2022-03-15 15:54:45,698]\u001b[0m Trial 1 finished with value: 0.7537128712871287 and parameters: {'lambda': 0.4054900151722544, 'alpha': 0.26555305157784004, 'colsample_bytree': 0.8, 'subsample': 0.4, 'learning_rate': 0.012, 'max_depth': 20, 'random_state': 48, 'min_child_weight': 48}. Best is trial 0 with value: 0.7537128712871287.\u001b[0m\n",
      "/home/chainyo/miniconda3/envs/challenge/lib/python3.8/site-packages/xgboost/sklearn.py:1224: UserWarning: The use of label encoder in XGBClassifier is deprecated and will be removed in a future release. To remove this warning, do the following: 1) Pass option use_label_encoder=False when constructing XGBClassifier object; and 2) Encode your labels (y) as integers starting with 0, i.e. 0, 1, 2, ..., [num_class - 1].\n",
      "  warnings.warn(label_encoder_deprecation_msg, UserWarning)\n"
     ]
    },
    {
     "name": "stdout",
     "output_type": "stream",
     "text": [
      "[15:54:45] WARNING: ../src/learner.cc:1115: Starting in XGBoost 1.3.0, the default evaluation metric used with the objective 'binary:logistic' was changed from 'error' to 'logloss'. Explicitly set eval_metric if you'd like to restore the old behavior.\n"
     ]
    },
    {
     "name": "stderr",
     "output_type": "stream",
     "text": [
      "\u001b[32m[I 2022-03-15 15:54:49,696]\u001b[0m Trial 2 finished with value: 0.7537128712871287 and parameters: {'lambda': 2.6296737089567865, 'alpha': 0.0645894253259178, 'colsample_bytree': 0.5, 'subsample': 1.0, 'learning_rate': 0.012, 'max_depth': 5, 'random_state': 48, 'min_child_weight': 134}. Best is trial 0 with value: 0.7537128712871287.\u001b[0m\n",
      "/home/chainyo/miniconda3/envs/challenge/lib/python3.8/site-packages/xgboost/sklearn.py:1224: UserWarning: The use of label encoder in XGBClassifier is deprecated and will be removed in a future release. To remove this warning, do the following: 1) Pass option use_label_encoder=False when constructing XGBClassifier object; and 2) Encode your labels (y) as integers starting with 0, i.e. 0, 1, 2, ..., [num_class - 1].\n",
      "  warnings.warn(label_encoder_deprecation_msg, UserWarning)\n"
     ]
    },
    {
     "name": "stdout",
     "output_type": "stream",
     "text": [
      "[15:54:49] WARNING: ../src/learner.cc:1115: Starting in XGBoost 1.3.0, the default evaluation metric used with the objective 'binary:logistic' was changed from 'error' to 'logloss'. Explicitly set eval_metric if you'd like to restore the old behavior.\n"
     ]
    },
    {
     "name": "stderr",
     "output_type": "stream",
     "text": [
      "\u001b[32m[I 2022-03-15 15:54:52,765]\u001b[0m Trial 3 finished with value: 0.7537128712871287 and parameters: {'lambda': 0.08675960106666937, 'alpha': 0.00827216050714491, 'colsample_bytree': 0.9, 'subsample': 0.4, 'learning_rate': 0.016, 'max_depth': 17, 'random_state': 24, 'min_child_weight': 239}. Best is trial 0 with value: 0.7537128712871287.\u001b[0m\n",
      "/home/chainyo/miniconda3/envs/challenge/lib/python3.8/site-packages/xgboost/sklearn.py:1224: UserWarning: The use of label encoder in XGBClassifier is deprecated and will be removed in a future release. To remove this warning, do the following: 1) Pass option use_label_encoder=False when constructing XGBClassifier object; and 2) Encode your labels (y) as integers starting with 0, i.e. 0, 1, 2, ..., [num_class - 1].\n",
      "  warnings.warn(label_encoder_deprecation_msg, UserWarning)\n"
     ]
    },
    {
     "name": "stdout",
     "output_type": "stream",
     "text": [
      "[15:54:52] WARNING: ../src/learner.cc:1115: Starting in XGBoost 1.3.0, the default evaluation metric used with the objective 'binary:logistic' was changed from 'error' to 'logloss'. Explicitly set eval_metric if you'd like to restore the old behavior.\n"
     ]
    },
    {
     "name": "stderr",
     "output_type": "stream",
     "text": [
      "\u001b[32m[I 2022-03-15 15:54:56,666]\u001b[0m Trial 4 finished with value: 0.7537128712871287 and parameters: {'lambda': 3.096509679257949, 'alpha': 0.7979908270430242, 'colsample_bytree': 0.6, 'subsample': 0.7, 'learning_rate': 0.009, 'max_depth': 5, 'random_state': 48, 'min_child_weight': 26}. Best is trial 0 with value: 0.7537128712871287.\u001b[0m\n",
      "/home/chainyo/miniconda3/envs/challenge/lib/python3.8/site-packages/xgboost/sklearn.py:1224: UserWarning: The use of label encoder in XGBClassifier is deprecated and will be removed in a future release. To remove this warning, do the following: 1) Pass option use_label_encoder=False when constructing XGBClassifier object; and 2) Encode your labels (y) as integers starting with 0, i.e. 0, 1, 2, ..., [num_class - 1].\n",
      "  warnings.warn(label_encoder_deprecation_msg, UserWarning)\n"
     ]
    },
    {
     "name": "stdout",
     "output_type": "stream",
     "text": [
      "[15:54:56] WARNING: ../src/learner.cc:1115: Starting in XGBoost 1.3.0, the default evaluation metric used with the objective 'binary:logistic' was changed from 'error' to 'logloss'. Explicitly set eval_metric if you'd like to restore the old behavior.\n"
     ]
    },
    {
     "name": "stderr",
     "output_type": "stream",
     "text": [
      "\u001b[32m[I 2022-03-15 15:54:59,921]\u001b[0m Trial 5 finished with value: 0.7537128712871287 and parameters: {'lambda': 0.0053486285897926585, 'alpha': 0.003120862143950332, 'colsample_bytree': 0.8, 'subsample': 0.7, 'learning_rate': 0.014, 'max_depth': 7, 'random_state': 48, 'min_child_weight': 23}. Best is trial 0 with value: 0.7537128712871287.\u001b[0m\n",
      "/home/chainyo/miniconda3/envs/challenge/lib/python3.8/site-packages/xgboost/sklearn.py:1224: UserWarning: The use of label encoder in XGBClassifier is deprecated and will be removed in a future release. To remove this warning, do the following: 1) Pass option use_label_encoder=False when constructing XGBClassifier object; and 2) Encode your labels (y) as integers starting with 0, i.e. 0, 1, 2, ..., [num_class - 1].\n",
      "  warnings.warn(label_encoder_deprecation_msg, UserWarning)\n"
     ]
    },
    {
     "name": "stdout",
     "output_type": "stream",
     "text": [
      "[15:54:59] WARNING: ../src/learner.cc:1115: Starting in XGBoost 1.3.0, the default evaluation metric used with the objective 'binary:logistic' was changed from 'error' to 'logloss'. Explicitly set eval_metric if you'd like to restore the old behavior.\n"
     ]
    },
    {
     "name": "stderr",
     "output_type": "stream",
     "text": [
      "\u001b[32m[I 2022-03-15 15:55:03,940]\u001b[0m Trial 6 finished with value: 0.7537128712871287 and parameters: {'lambda': 0.09680322889067616, 'alpha': 9.365732488053753, 'colsample_bytree': 1.0, 'subsample': 0.5, 'learning_rate': 0.01, 'max_depth': 17, 'random_state': 48, 'min_child_weight': 285}. Best is trial 0 with value: 0.7537128712871287.\u001b[0m\n",
      "/home/chainyo/miniconda3/envs/challenge/lib/python3.8/site-packages/xgboost/sklearn.py:1224: UserWarning: The use of label encoder in XGBClassifier is deprecated and will be removed in a future release. To remove this warning, do the following: 1) Pass option use_label_encoder=False when constructing XGBClassifier object; and 2) Encode your labels (y) as integers starting with 0, i.e. 0, 1, 2, ..., [num_class - 1].\n",
      "  warnings.warn(label_encoder_deprecation_msg, UserWarning)\n"
     ]
    },
    {
     "name": "stdout",
     "output_type": "stream",
     "text": [
      "[15:55:03] WARNING: ../src/learner.cc:1115: Starting in XGBoost 1.3.0, the default evaluation metric used with the objective 'binary:logistic' was changed from 'error' to 'logloss'. Explicitly set eval_metric if you'd like to restore the old behavior.\n"
     ]
    },
    {
     "name": "stderr",
     "output_type": "stream",
     "text": [
      "\u001b[32m[I 2022-03-15 15:55:07,643]\u001b[0m Trial 7 finished with value: 0.7537128712871287 and parameters: {'lambda': 0.9269896766605651, 'alpha': 0.003107234380606034, 'colsample_bytree': 1.0, 'subsample': 0.6, 'learning_rate': 0.012, 'max_depth': 9, 'random_state': 48, 'min_child_weight': 240}. Best is trial 0 with value: 0.7537128712871287.\u001b[0m\n",
      "/home/chainyo/miniconda3/envs/challenge/lib/python3.8/site-packages/xgboost/sklearn.py:1224: UserWarning: The use of label encoder in XGBClassifier is deprecated and will be removed in a future release. To remove this warning, do the following: 1) Pass option use_label_encoder=False when constructing XGBClassifier object; and 2) Encode your labels (y) as integers starting with 0, i.e. 0, 1, 2, ..., [num_class - 1].\n",
      "  warnings.warn(label_encoder_deprecation_msg, UserWarning)\n"
     ]
    },
    {
     "name": "stdout",
     "output_type": "stream",
     "text": [
      "[15:55:07] WARNING: ../src/learner.cc:1115: Starting in XGBoost 1.3.0, the default evaluation metric used with the objective 'binary:logistic' was changed from 'error' to 'logloss'. Explicitly set eval_metric if you'd like to restore the old behavior.\n"
     ]
    },
    {
     "name": "stderr",
     "output_type": "stream",
     "text": [
      "\u001b[32m[I 2022-03-15 15:55:11,364]\u001b[0m Trial 8 finished with value: 0.7537128712871287 and parameters: {'lambda': 0.5369687458500214, 'alpha': 0.007107763486780402, 'colsample_bytree': 0.4, 'subsample': 0.7, 'learning_rate': 0.018, 'max_depth': 13, 'random_state': 48, 'min_child_weight': 117}. Best is trial 0 with value: 0.7537128712871287.\u001b[0m\n",
      "/home/chainyo/miniconda3/envs/challenge/lib/python3.8/site-packages/xgboost/sklearn.py:1224: UserWarning: The use of label encoder in XGBClassifier is deprecated and will be removed in a future release. To remove this warning, do the following: 1) Pass option use_label_encoder=False when constructing XGBClassifier object; and 2) Encode your labels (y) as integers starting with 0, i.e. 0, 1, 2, ..., [num_class - 1].\n",
      "  warnings.warn(label_encoder_deprecation_msg, UserWarning)\n"
     ]
    },
    {
     "name": "stdout",
     "output_type": "stream",
     "text": [
      "[15:55:11] WARNING: ../src/learner.cc:1115: Starting in XGBoost 1.3.0, the default evaluation metric used with the objective 'binary:logistic' was changed from 'error' to 'logloss'. Explicitly set eval_metric if you'd like to restore the old behavior.\n"
     ]
    },
    {
     "name": "stderr",
     "output_type": "stream",
     "text": [
      "\u001b[32m[I 2022-03-15 15:55:12,630]\u001b[0m Trial 9 finished with value: 0.7537128712871287 and parameters: {'lambda': 0.0014738994710886784, 'alpha': 0.019968244404328296, 'colsample_bytree': 0.7, 'subsample': 0.4, 'learning_rate': 0.012, 'max_depth': 7, 'random_state': 48, 'min_child_weight': 272}. Best is trial 0 with value: 0.7537128712871287.\u001b[0m\n",
      "/home/chainyo/miniconda3/envs/challenge/lib/python3.8/site-packages/xgboost/sklearn.py:1224: UserWarning: The use of label encoder in XGBClassifier is deprecated and will be removed in a future release. To remove this warning, do the following: 1) Pass option use_label_encoder=False when constructing XGBClassifier object; and 2) Encode your labels (y) as integers starting with 0, i.e. 0, 1, 2, ..., [num_class - 1].\n",
      "  warnings.warn(label_encoder_deprecation_msg, UserWarning)\n"
     ]
    },
    {
     "name": "stdout",
     "output_type": "stream",
     "text": [
      "[15:55:12] WARNING: ../src/learner.cc:1115: Starting in XGBoost 1.3.0, the default evaluation metric used with the objective 'binary:logistic' was changed from 'error' to 'logloss'. Explicitly set eval_metric if you'd like to restore the old behavior.\n"
     ]
    },
    {
     "name": "stderr",
     "output_type": "stream",
     "text": [
      "\u001b[32m[I 2022-03-15 15:55:17,864]\u001b[0m Trial 10 finished with value: 0.7537128712871287 and parameters: {'lambda': 0.006957281733916239, 'alpha': 1.5752157839017953, 'colsample_bytree': 0.4, 'subsample': 0.8, 'learning_rate': 0.008, 'max_depth': 11, 'random_state': 24, 'min_child_weight': 200}. Best is trial 0 with value: 0.7537128712871287.\u001b[0m\n",
      "/home/chainyo/miniconda3/envs/challenge/lib/python3.8/site-packages/xgboost/sklearn.py:1224: UserWarning: The use of label encoder in XGBClassifier is deprecated and will be removed in a future release. To remove this warning, do the following: 1) Pass option use_label_encoder=False when constructing XGBClassifier object; and 2) Encode your labels (y) as integers starting with 0, i.e. 0, 1, 2, ..., [num_class - 1].\n",
      "  warnings.warn(label_encoder_deprecation_msg, UserWarning)\n"
     ]
    },
    {
     "name": "stdout",
     "output_type": "stream",
     "text": [
      "[15:55:17] WARNING: ../src/learner.cc:1115: Starting in XGBoost 1.3.0, the default evaluation metric used with the objective 'binary:logistic' was changed from 'error' to 'logloss'. Explicitly set eval_metric if you'd like to restore the old behavior.\n"
     ]
    },
    {
     "name": "stderr",
     "output_type": "stream",
     "text": [
      "\u001b[32m[I 2022-03-15 15:55:20,466]\u001b[0m Trial 11 finished with value: 0.7537128712871287 and parameters: {'lambda': 0.27742679516849383, 'alpha': 0.21784227964304967, 'colsample_bytree': 0.3, 'subsample': 0.4, 'learning_rate': 0.02, 'max_depth': 20, 'random_state': 2020, 'min_child_weight': 82}. Best is trial 0 with value: 0.7537128712871287.\u001b[0m\n",
      "/home/chainyo/miniconda3/envs/challenge/lib/python3.8/site-packages/xgboost/sklearn.py:1224: UserWarning: The use of label encoder in XGBClassifier is deprecated and will be removed in a future release. To remove this warning, do the following: 1) Pass option use_label_encoder=False when constructing XGBClassifier object; and 2) Encode your labels (y) as integers starting with 0, i.e. 0, 1, 2, ..., [num_class - 1].\n",
      "  warnings.warn(label_encoder_deprecation_msg, UserWarning)\n"
     ]
    },
    {
     "name": "stdout",
     "output_type": "stream",
     "text": [
      "[15:55:20] WARNING: ../src/learner.cc:1115: Starting in XGBoost 1.3.0, the default evaluation metric used with the objective 'binary:logistic' was changed from 'error' to 'logloss'. Explicitly set eval_metric if you'd like to restore the old behavior.\n"
     ]
    },
    {
     "name": "stderr",
     "output_type": "stream",
     "text": [
      "\u001b[32m[I 2022-03-15 15:55:27,192]\u001b[0m Trial 12 finished with value: 0.7537128712871287 and parameters: {'lambda': 0.03673145934993262, 'alpha': 0.11728014290550008, 'colsample_bytree': 0.8, 'subsample': 0.4, 'learning_rate': 0.008, 'max_depth': 20, 'random_state': 24, 'min_child_weight': 173}. Best is trial 0 with value: 0.7537128712871287.\u001b[0m\n",
      "/home/chainyo/miniconda3/envs/challenge/lib/python3.8/site-packages/xgboost/sklearn.py:1224: UserWarning: The use of label encoder in XGBClassifier is deprecated and will be removed in a future release. To remove this warning, do the following: 1) Pass option use_label_encoder=False when constructing XGBClassifier object; and 2) Encode your labels (y) as integers starting with 0, i.e. 0, 1, 2, ..., [num_class - 1].\n",
      "  warnings.warn(label_encoder_deprecation_msg, UserWarning)\n"
     ]
    },
    {
     "name": "stdout",
     "output_type": "stream",
     "text": [
      "[15:55:27] WARNING: ../src/learner.cc:1115: Starting in XGBoost 1.3.0, the default evaluation metric used with the objective 'binary:logistic' was changed from 'error' to 'logloss'. Explicitly set eval_metric if you'd like to restore the old behavior.\n"
     ]
    },
    {
     "name": "stderr",
     "output_type": "stream",
     "text": [
      "\u001b[32m[I 2022-03-15 15:55:32,184]\u001b[0m Trial 13 finished with value: 0.7537128712871287 and parameters: {'lambda': 0.027411332503706098, 'alpha': 0.03555279196911771, 'colsample_bytree': 0.8, 'subsample': 0.4, 'learning_rate': 0.008, 'max_depth': 20, 'random_state': 2020, 'min_child_weight': 72}. Best is trial 0 with value: 0.7537128712871287.\u001b[0m\n",
      "/home/chainyo/miniconda3/envs/challenge/lib/python3.8/site-packages/xgboost/sklearn.py:1224: UserWarning: The use of label encoder in XGBClassifier is deprecated and will be removed in a future release. To remove this warning, do the following: 1) Pass option use_label_encoder=False when constructing XGBClassifier object; and 2) Encode your labels (y) as integers starting with 0, i.e. 0, 1, 2, ..., [num_class - 1].\n",
      "  warnings.warn(label_encoder_deprecation_msg, UserWarning)\n"
     ]
    },
    {
     "name": "stdout",
     "output_type": "stream",
     "text": [
      "[15:55:32] WARNING: ../src/learner.cc:1115: Starting in XGBoost 1.3.0, the default evaluation metric used with the objective 'binary:logistic' was changed from 'error' to 'logloss'. Explicitly set eval_metric if you'd like to restore the old behavior.\n"
     ]
    },
    {
     "name": "stderr",
     "output_type": "stream",
     "text": [
      "\u001b[32m[I 2022-03-15 15:55:35,851]\u001b[0m Trial 14 finished with value: 0.7537128712871287 and parameters: {'lambda': 0.29825042820331277, 'alpha': 0.49007281333471925, 'colsample_bytree': 0.4, 'subsample': 1.0, 'learning_rate': 0.014, 'max_depth': 15, 'random_state': 24, 'min_child_weight': 195}. Best is trial 0 with value: 0.7537128712871287.\u001b[0m\n",
      "/home/chainyo/miniconda3/envs/challenge/lib/python3.8/site-packages/xgboost/sklearn.py:1224: UserWarning: The use of label encoder in XGBClassifier is deprecated and will be removed in a future release. To remove this warning, do the following: 1) Pass option use_label_encoder=False when constructing XGBClassifier object; and 2) Encode your labels (y) as integers starting with 0, i.e. 0, 1, 2, ..., [num_class - 1].\n",
      "  warnings.warn(label_encoder_deprecation_msg, UserWarning)\n"
     ]
    },
    {
     "name": "stdout",
     "output_type": "stream",
     "text": [
      "[15:55:35] WARNING: ../src/learner.cc:1115: Starting in XGBoost 1.3.0, the default evaluation metric used with the objective 'binary:logistic' was changed from 'error' to 'logloss'. Explicitly set eval_metric if you'd like to restore the old behavior.\n"
     ]
    },
    {
     "name": "stderr",
     "output_type": "stream",
     "text": [
      "\u001b[32m[I 2022-03-15 15:55:38,743]\u001b[0m Trial 15 finished with value: 0.7537128712871287 and parameters: {'lambda': 6.528347778451198, 'alpha': 6.636644759115918, 'colsample_bytree': 0.7, 'subsample': 0.8, 'learning_rate': 0.016, 'max_depth': 20, 'random_state': 24, 'min_child_weight': 80}. Best is trial 0 with value: 0.7537128712871287.\u001b[0m\n",
      "/home/chainyo/miniconda3/envs/challenge/lib/python3.8/site-packages/xgboost/sklearn.py:1224: UserWarning: The use of label encoder in XGBClassifier is deprecated and will be removed in a future release. To remove this warning, do the following: 1) Pass option use_label_encoder=False when constructing XGBClassifier object; and 2) Encode your labels (y) as integers starting with 0, i.e. 0, 1, 2, ..., [num_class - 1].\n",
      "  warnings.warn(label_encoder_deprecation_msg, UserWarning)\n"
     ]
    },
    {
     "name": "stdout",
     "output_type": "stream",
     "text": [
      "[15:55:38] WARNING: ../src/learner.cc:1115: Starting in XGBoost 1.3.0, the default evaluation metric used with the objective 'binary:logistic' was changed from 'error' to 'logloss'. Explicitly set eval_metric if you'd like to restore the old behavior.\n"
     ]
    },
    {
     "name": "stderr",
     "output_type": "stream",
     "text": [
      "\u001b[32m[I 2022-03-15 15:55:43,350]\u001b[0m Trial 16 finished with value: 0.7537128712871287 and parameters: {'lambda': 1.5720917256879356, 'alpha': 0.24374597676464185, 'colsample_bytree': 0.6, 'subsample': 0.5, 'learning_rate': 0.009, 'max_depth': 20, 'random_state': 2020, 'min_child_weight': 114}. Best is trial 0 with value: 0.7537128712871287.\u001b[0m\n",
      "/home/chainyo/miniconda3/envs/challenge/lib/python3.8/site-packages/xgboost/sklearn.py:1224: UserWarning: The use of label encoder in XGBClassifier is deprecated and will be removed in a future release. To remove this warning, do the following: 1) Pass option use_label_encoder=False when constructing XGBClassifier object; and 2) Encode your labels (y) as integers starting with 0, i.e. 0, 1, 2, ..., [num_class - 1].\n",
      "  warnings.warn(label_encoder_deprecation_msg, UserWarning)\n"
     ]
    },
    {
     "name": "stdout",
     "output_type": "stream",
     "text": [
      "[15:55:43] WARNING: ../src/learner.cc:1115: Starting in XGBoost 1.3.0, the default evaluation metric used with the objective 'binary:logistic' was changed from 'error' to 'logloss'. Explicitly set eval_metric if you'd like to restore the old behavior.\n"
     ]
    },
    {
     "name": "stderr",
     "output_type": "stream",
     "text": [
      "\u001b[32m[I 2022-03-15 15:55:46,449]\u001b[0m Trial 17 finished with value: 0.7537128712871287 and parameters: {'lambda': 0.18114903394868076, 'alpha': 1.0272588809615906, 'colsample_bytree': 0.4, 'subsample': 1.0, 'learning_rate': 0.014, 'max_depth': 15, 'random_state': 24, 'min_child_weight': 201}. Best is trial 0 with value: 0.7537128712871287.\u001b[0m\n",
      "/home/chainyo/miniconda3/envs/challenge/lib/python3.8/site-packages/xgboost/sklearn.py:1224: UserWarning: The use of label encoder in XGBClassifier is deprecated and will be removed in a future release. To remove this warning, do the following: 1) Pass option use_label_encoder=False when constructing XGBClassifier object; and 2) Encode your labels (y) as integers starting with 0, i.e. 0, 1, 2, ..., [num_class - 1].\n",
      "  warnings.warn(label_encoder_deprecation_msg, UserWarning)\n"
     ]
    },
    {
     "name": "stdout",
     "output_type": "stream",
     "text": [
      "[15:55:46] WARNING: ../src/learner.cc:1115: Starting in XGBoost 1.3.0, the default evaluation metric used with the objective 'binary:logistic' was changed from 'error' to 'logloss'. Explicitly set eval_metric if you'd like to restore the old behavior.\n"
     ]
    },
    {
     "name": "stderr",
     "output_type": "stream",
     "text": [
      "\u001b[32m[I 2022-03-15 15:55:49,819]\u001b[0m Trial 18 finished with value: 0.7537128712871287 and parameters: {'lambda': 3.6667254453299, 'alpha': 7.746912868689329, 'colsample_bytree': 0.7, 'subsample': 0.8, 'learning_rate': 0.016, 'max_depth': 9, 'random_state': 24, 'min_child_weight': 157}. Best is trial 0 with value: 0.7537128712871287.\u001b[0m\n",
      "/home/chainyo/miniconda3/envs/challenge/lib/python3.8/site-packages/xgboost/sklearn.py:1224: UserWarning: The use of label encoder in XGBClassifier is deprecated and will be removed in a future release. To remove this warning, do the following: 1) Pass option use_label_encoder=False when constructing XGBClassifier object; and 2) Encode your labels (y) as integers starting with 0, i.e. 0, 1, 2, ..., [num_class - 1].\n",
      "  warnings.warn(label_encoder_deprecation_msg, UserWarning)\n"
     ]
    },
    {
     "name": "stdout",
     "output_type": "stream",
     "text": [
      "[15:55:49] WARNING: ../src/learner.cc:1115: Starting in XGBoost 1.3.0, the default evaluation metric used with the objective 'binary:logistic' was changed from 'error' to 'logloss'. Explicitly set eval_metric if you'd like to restore the old behavior.\n"
     ]
    },
    {
     "name": "stderr",
     "output_type": "stream",
     "text": [
      "\u001b[32m[I 2022-03-15 15:55:54,542]\u001b[0m Trial 19 finished with value: 0.7537128712871287 and parameters: {'lambda': 1.0687130376961105, 'alpha': 0.0010225619420774204, 'colsample_bytree': 0.6, 'subsample': 0.5, 'learning_rate': 0.009, 'max_depth': 11, 'random_state': 2020, 'min_child_weight': 109}. Best is trial 0 with value: 0.7537128712871287.\u001b[0m\n",
      "/home/chainyo/miniconda3/envs/challenge/lib/python3.8/site-packages/xgboost/sklearn.py:1224: UserWarning: The use of label encoder in XGBClassifier is deprecated and will be removed in a future release. To remove this warning, do the following: 1) Pass option use_label_encoder=False when constructing XGBClassifier object; and 2) Encode your labels (y) as integers starting with 0, i.e. 0, 1, 2, ..., [num_class - 1].\n",
      "  warnings.warn(label_encoder_deprecation_msg, UserWarning)\n"
     ]
    },
    {
     "name": "stdout",
     "output_type": "stream",
     "text": [
      "[15:55:54] WARNING: ../src/learner.cc:1115: Starting in XGBoost 1.3.0, the default evaluation metric used with the objective 'binary:logistic' was changed from 'error' to 'logloss'. Explicitly set eval_metric if you'd like to restore the old behavior.\n"
     ]
    },
    {
     "name": "stderr",
     "output_type": "stream",
     "text": [
      "\u001b[32m[I 2022-03-15 15:55:58,243]\u001b[0m Trial 20 finished with value: 0.7537128712871287 and parameters: {'lambda': 0.02621449888879999, 'alpha': 2.159962945566247, 'colsample_bytree': 0.4, 'subsample': 1.0, 'learning_rate': 0.014, 'max_depth': 15, 'random_state': 24, 'min_child_weight': 239}. Best is trial 0 with value: 0.7537128712871287.\u001b[0m\n",
      "/home/chainyo/miniconda3/envs/challenge/lib/python3.8/site-packages/xgboost/sklearn.py:1224: UserWarning: The use of label encoder in XGBClassifier is deprecated and will be removed in a future release. To remove this warning, do the following: 1) Pass option use_label_encoder=False when constructing XGBClassifier object; and 2) Encode your labels (y) as integers starting with 0, i.e. 0, 1, 2, ..., [num_class - 1].\n",
      "  warnings.warn(label_encoder_deprecation_msg, UserWarning)\n"
     ]
    },
    {
     "name": "stdout",
     "output_type": "stream",
     "text": [
      "[15:55:58] WARNING: ../src/learner.cc:1115: Starting in XGBoost 1.3.0, the default evaluation metric used with the objective 'binary:logistic' was changed from 'error' to 'logloss'. Explicitly set eval_metric if you'd like to restore the old behavior.\n"
     ]
    },
    {
     "name": "stderr",
     "output_type": "stream",
     "text": [
      "\u001b[32m[I 2022-03-15 15:56:01,587]\u001b[0m Trial 21 finished with value: 0.7537128712871287 and parameters: {'lambda': 9.308532653318585, 'alpha': 3.7474646404337286, 'colsample_bytree': 0.7, 'subsample': 0.8, 'learning_rate': 0.016, 'max_depth': 9, 'random_state': 24, 'min_child_weight': 165}. Best is trial 0 with value: 0.7537128712871287.\u001b[0m\n",
      "/home/chainyo/miniconda3/envs/challenge/lib/python3.8/site-packages/xgboost/sklearn.py:1224: UserWarning: The use of label encoder in XGBClassifier is deprecated and will be removed in a future release. To remove this warning, do the following: 1) Pass option use_label_encoder=False when constructing XGBClassifier object; and 2) Encode your labels (y) as integers starting with 0, i.e. 0, 1, 2, ..., [num_class - 1].\n",
      "  warnings.warn(label_encoder_deprecation_msg, UserWarning)\n"
     ]
    },
    {
     "name": "stdout",
     "output_type": "stream",
     "text": [
      "[15:56:01] WARNING: ../src/learner.cc:1115: Starting in XGBoost 1.3.0, the default evaluation metric used with the objective 'binary:logistic' was changed from 'error' to 'logloss'. Explicitly set eval_metric if you'd like to restore the old behavior.\n"
     ]
    },
    {
     "name": "stderr",
     "output_type": "stream",
     "text": [
      "\u001b[32m[I 2022-03-15 15:56:06,619]\u001b[0m Trial 22 finished with value: 0.7537128712871287 and parameters: {'lambda': 1.122589112088486, 'alpha': 0.0010875309661656125, 'colsample_bytree': 0.6, 'subsample': 0.5, 'learning_rate': 0.009, 'max_depth': 11, 'random_state': 2020, 'min_child_weight': 146}. Best is trial 0 with value: 0.7537128712871287.\u001b[0m\n",
      "/home/chainyo/miniconda3/envs/challenge/lib/python3.8/site-packages/xgboost/sklearn.py:1224: UserWarning: The use of label encoder in XGBClassifier is deprecated and will be removed in a future release. To remove this warning, do the following: 1) Pass option use_label_encoder=False when constructing XGBClassifier object; and 2) Encode your labels (y) as integers starting with 0, i.e. 0, 1, 2, ..., [num_class - 1].\n",
      "  warnings.warn(label_encoder_deprecation_msg, UserWarning)\n"
     ]
    },
    {
     "name": "stdout",
     "output_type": "stream",
     "text": [
      "[15:56:06] WARNING: ../src/learner.cc:1115: Starting in XGBoost 1.3.0, the default evaluation metric used with the objective 'binary:logistic' was changed from 'error' to 'logloss'. Explicitly set eval_metric if you'd like to restore the old behavior.\n"
     ]
    },
    {
     "name": "stderr",
     "output_type": "stream",
     "text": [
      "\u001b[32m[I 2022-03-15 15:56:09,712]\u001b[0m Trial 23 finished with value: 0.7537128712871287 and parameters: {'lambda': 0.028884112063921316, 'alpha': 0.018890644589866022, 'colsample_bytree': 0.4, 'subsample': 0.6, 'learning_rate': 0.02, 'max_depth': 15, 'random_state': 2020, 'min_child_weight': 241}. Best is trial 0 with value: 0.7537128712871287.\u001b[0m\n",
      "/home/chainyo/miniconda3/envs/challenge/lib/python3.8/site-packages/xgboost/sklearn.py:1224: UserWarning: The use of label encoder in XGBClassifier is deprecated and will be removed in a future release. To remove this warning, do the following: 1) Pass option use_label_encoder=False when constructing XGBClassifier object; and 2) Encode your labels (y) as integers starting with 0, i.e. 0, 1, 2, ..., [num_class - 1].\n",
      "  warnings.warn(label_encoder_deprecation_msg, UserWarning)\n"
     ]
    },
    {
     "name": "stdout",
     "output_type": "stream",
     "text": [
      "[15:56:09] WARNING: ../src/learner.cc:1115: Starting in XGBoost 1.3.0, the default evaluation metric used with the objective 'binary:logistic' was changed from 'error' to 'logloss'. Explicitly set eval_metric if you'd like to restore the old behavior.\n"
     ]
    },
    {
     "name": "stderr",
     "output_type": "stream",
     "text": [
      "\u001b[32m[I 2022-03-15 15:56:14,380]\u001b[0m Trial 24 finished with value: 0.7537128712871287 and parameters: {'lambda': 0.010348621697944637, 'alpha': 1.596767854589165, 'colsample_bytree': 0.9, 'subsample': 1.0, 'learning_rate': 0.01, 'max_depth': 9, 'random_state': 24, 'min_child_weight': 296}. Best is trial 0 with value: 0.7537128712871287.\u001b[0m\n",
      "/home/chainyo/miniconda3/envs/challenge/lib/python3.8/site-packages/xgboost/sklearn.py:1224: UserWarning: The use of label encoder in XGBClassifier is deprecated and will be removed in a future release. To remove this warning, do the following: 1) Pass option use_label_encoder=False when constructing XGBClassifier object; and 2) Encode your labels (y) as integers starting with 0, i.e. 0, 1, 2, ..., [num_class - 1].\n",
      "  warnings.warn(label_encoder_deprecation_msg, UserWarning)\n"
     ]
    },
    {
     "name": "stdout",
     "output_type": "stream",
     "text": [
      "[15:56:14] WARNING: ../src/learner.cc:1115: Starting in XGBoost 1.3.0, the default evaluation metric used with the objective 'binary:logistic' was changed from 'error' to 'logloss'. Explicitly set eval_metric if you'd like to restore the old behavior.\n"
     ]
    },
    {
     "name": "stderr",
     "output_type": "stream",
     "text": [
      "\u001b[32m[I 2022-03-15 15:56:17,579]\u001b[0m Trial 25 finished with value: 0.7537128712871287 and parameters: {'lambda': 9.625095024254593, 'alpha': 0.001446908202740603, 'colsample_bytree': 0.3, 'subsample': 0.5, 'learning_rate': 0.018, 'max_depth': 11, 'random_state': 2020, 'min_child_weight': 166}. Best is trial 0 with value: 0.7537128712871287.\u001b[0m\n",
      "/home/chainyo/miniconda3/envs/challenge/lib/python3.8/site-packages/xgboost/sklearn.py:1224: UserWarning: The use of label encoder in XGBClassifier is deprecated and will be removed in a future release. To remove this warning, do the following: 1) Pass option use_label_encoder=False when constructing XGBClassifier object; and 2) Encode your labels (y) as integers starting with 0, i.e. 0, 1, 2, ..., [num_class - 1].\n",
      "  warnings.warn(label_encoder_deprecation_msg, UserWarning)\n"
     ]
    },
    {
     "name": "stdout",
     "output_type": "stream",
     "text": [
      "[15:56:17] WARNING: ../src/learner.cc:1115: Starting in XGBoost 1.3.0, the default evaluation metric used with the objective 'binary:logistic' was changed from 'error' to 'logloss'. Explicitly set eval_metric if you'd like to restore the old behavior.\n"
     ]
    },
    {
     "name": "stderr",
     "output_type": "stream",
     "text": [
      "\u001b[32m[I 2022-03-15 15:56:21,045]\u001b[0m Trial 26 finished with value: 0.7537128712871287 and parameters: {'lambda': 0.04222865737130896, 'alpha': 0.011585937250213285, 'colsample_bytree': 0.5, 'subsample': 0.6, 'learning_rate': 0.02, 'max_depth': 13, 'random_state': 2020, 'min_child_weight': 264}. Best is trial 0 with value: 0.7537128712871287.\u001b[0m\n",
      "/home/chainyo/miniconda3/envs/challenge/lib/python3.8/site-packages/xgboost/sklearn.py:1224: UserWarning: The use of label encoder in XGBClassifier is deprecated and will be removed in a future release. To remove this warning, do the following: 1) Pass option use_label_encoder=False when constructing XGBClassifier object; and 2) Encode your labels (y) as integers starting with 0, i.e. 0, 1, 2, ..., [num_class - 1].\n",
      "  warnings.warn(label_encoder_deprecation_msg, UserWarning)\n"
     ]
    },
    {
     "name": "stdout",
     "output_type": "stream",
     "text": [
      "[15:56:21] WARNING: ../src/learner.cc:1115: Starting in XGBoost 1.3.0, the default evaluation metric used with the objective 'binary:logistic' was changed from 'error' to 'logloss'. Explicitly set eval_metric if you'd like to restore the old behavior.\n"
     ]
    },
    {
     "name": "stderr",
     "output_type": "stream",
     "text": [
      "\u001b[32m[I 2022-03-15 15:56:25,881]\u001b[0m Trial 27 finished with value: 0.7537128712871287 and parameters: {'lambda': 0.007924665202323187, 'alpha': 0.05604065385928456, 'colsample_bytree': 0.9, 'subsample': 0.6, 'learning_rate': 0.01, 'max_depth': 9, 'random_state': 24, 'min_child_weight': 258}. Best is trial 0 with value: 0.7537128712871287.\u001b[0m\n",
      "/home/chainyo/miniconda3/envs/challenge/lib/python3.8/site-packages/xgboost/sklearn.py:1224: UserWarning: The use of label encoder in XGBClassifier is deprecated and will be removed in a future release. To remove this warning, do the following: 1) Pass option use_label_encoder=False when constructing XGBClassifier object; and 2) Encode your labels (y) as integers starting with 0, i.e. 0, 1, 2, ..., [num_class - 1].\n",
      "  warnings.warn(label_encoder_deprecation_msg, UserWarning)\n"
     ]
    },
    {
     "name": "stdout",
     "output_type": "stream",
     "text": [
      "[15:56:26] WARNING: ../src/learner.cc:1115: Starting in XGBoost 1.3.0, the default evaluation metric used with the objective 'binary:logistic' was changed from 'error' to 'logloss'. Explicitly set eval_metric if you'd like to restore the old behavior.\n"
     ]
    },
    {
     "name": "stderr",
     "output_type": "stream",
     "text": [
      "\u001b[32m[I 2022-03-15 15:56:28,241]\u001b[0m Trial 28 finished with value: 0.7537128712871287 and parameters: {'lambda': 0.0024661340873354375, 'alpha': 0.003029841343212095, 'colsample_bytree': 0.3, 'subsample': 0.5, 'learning_rate': 0.018, 'max_depth': 11, 'random_state': 24, 'min_child_weight': 298}. Best is trial 0 with value: 0.7537128712871287.\u001b[0m\n",
      "/home/chainyo/miniconda3/envs/challenge/lib/python3.8/site-packages/xgboost/sklearn.py:1224: UserWarning: The use of label encoder in XGBClassifier is deprecated and will be removed in a future release. To remove this warning, do the following: 1) Pass option use_label_encoder=False when constructing XGBClassifier object; and 2) Encode your labels (y) as integers starting with 0, i.e. 0, 1, 2, ..., [num_class - 1].\n",
      "  warnings.warn(label_encoder_deprecation_msg, UserWarning)\n"
     ]
    },
    {
     "name": "stdout",
     "output_type": "stream",
     "text": [
      "[15:56:28] WARNING: ../src/learner.cc:1115: Starting in XGBoost 1.3.0, the default evaluation metric used with the objective 'binary:logistic' was changed from 'error' to 'logloss'. Explicitly set eval_metric if you'd like to restore the old behavior.\n"
     ]
    },
    {
     "name": "stderr",
     "output_type": "stream",
     "text": [
      "\u001b[32m[I 2022-03-15 15:56:30,622]\u001b[0m Trial 29 finished with value: 0.7537128712871287 and parameters: {'lambda': 0.07207437204147428, 'alpha': 0.009776719171112344, 'colsample_bytree': 0.5, 'subsample': 0.6, 'learning_rate': 0.018, 'max_depth': 13, 'random_state': 2020, 'min_child_weight': 218}. Best is trial 0 with value: 0.7537128712871287.\u001b[0m\n",
      "/home/chainyo/miniconda3/envs/challenge/lib/python3.8/site-packages/xgboost/sklearn.py:1224: UserWarning: The use of label encoder in XGBClassifier is deprecated and will be removed in a future release. To remove this warning, do the following: 1) Pass option use_label_encoder=False when constructing XGBClassifier object; and 2) Encode your labels (y) as integers starting with 0, i.e. 0, 1, 2, ..., [num_class - 1].\n",
      "  warnings.warn(label_encoder_deprecation_msg, UserWarning)\n"
     ]
    },
    {
     "name": "stdout",
     "output_type": "stream",
     "text": [
      "[15:56:30] WARNING: ../src/learner.cc:1115: Starting in XGBoost 1.3.0, the default evaluation metric used with the objective 'binary:logistic' was changed from 'error' to 'logloss'. Explicitly set eval_metric if you'd like to restore the old behavior.\n"
     ]
    },
    {
     "name": "stderr",
     "output_type": "stream",
     "text": [
      "\u001b[32m[I 2022-03-15 15:56:34,619]\u001b[0m Trial 30 finished with value: 0.7537128712871287 and parameters: {'lambda': 0.017235297201873646, 'alpha': 0.06124477675881267, 'colsample_bytree': 0.9, 'subsample': 0.6, 'learning_rate': 0.01, 'max_depth': 13, 'random_state': 24, 'min_child_weight': 269}. Best is trial 0 with value: 0.7537128712871287.\u001b[0m\n",
      "/home/chainyo/miniconda3/envs/challenge/lib/python3.8/site-packages/xgboost/sklearn.py:1224: UserWarning: The use of label encoder in XGBClassifier is deprecated and will be removed in a future release. To remove this warning, do the following: 1) Pass option use_label_encoder=False when constructing XGBClassifier object; and 2) Encode your labels (y) as integers starting with 0, i.e. 0, 1, 2, ..., [num_class - 1].\n",
      "  warnings.warn(label_encoder_deprecation_msg, UserWarning)\n"
     ]
    },
    {
     "name": "stdout",
     "output_type": "stream",
     "text": [
      "[15:56:34] WARNING: ../src/learner.cc:1115: Starting in XGBoost 1.3.0, the default evaluation metric used with the objective 'binary:logistic' was changed from 'error' to 'logloss'. Explicitly set eval_metric if you'd like to restore the old behavior.\n"
     ]
    },
    {
     "name": "stderr",
     "output_type": "stream",
     "text": [
      "\u001b[32m[I 2022-03-15 15:56:37,670]\u001b[0m Trial 31 finished with value: 0.7537128712871287 and parameters: {'lambda': 0.00262792878800882, 'alpha': 0.02024087122509124, 'colsample_bytree': 0.3, 'subsample': 0.6, 'learning_rate': 0.02, 'max_depth': 13, 'random_state': 24, 'min_child_weight': 261}. Best is trial 0 with value: 0.7537128712871287.\u001b[0m\n",
      "/home/chainyo/miniconda3/envs/challenge/lib/python3.8/site-packages/xgboost/sklearn.py:1224: UserWarning: The use of label encoder in XGBClassifier is deprecated and will be removed in a future release. To remove this warning, do the following: 1) Pass option use_label_encoder=False when constructing XGBClassifier object; and 2) Encode your labels (y) as integers starting with 0, i.e. 0, 1, 2, ..., [num_class - 1].\n",
      "  warnings.warn(label_encoder_deprecation_msg, UserWarning)\n"
     ]
    },
    {
     "name": "stdout",
     "output_type": "stream",
     "text": [
      "[15:56:37] WARNING: ../src/learner.cc:1115: Starting in XGBoost 1.3.0, the default evaluation metric used with the objective 'binary:logistic' was changed from 'error' to 'logloss'. Explicitly set eval_metric if you'd like to restore the old behavior.\n"
     ]
    },
    {
     "name": "stderr",
     "output_type": "stream",
     "text": [
      "\u001b[32m[I 2022-03-15 15:56:41,837]\u001b[0m Trial 32 finished with value: 0.7537128712871287 and parameters: {'lambda': 0.00323157318722977, 'alpha': 0.0037720470597143833, 'colsample_bytree': 0.5, 'subsample': 0.6, 'learning_rate': 0.018, 'max_depth': 11, 'random_state': 24, 'min_child_weight': 218}. Best is trial 0 with value: 0.7537128712871287.\u001b[0m\n",
      "/home/chainyo/miniconda3/envs/challenge/lib/python3.8/site-packages/xgboost/sklearn.py:1224: UserWarning: The use of label encoder in XGBClassifier is deprecated and will be removed in a future release. To remove this warning, do the following: 1) Pass option use_label_encoder=False when constructing XGBClassifier object; and 2) Encode your labels (y) as integers starting with 0, i.e. 0, 1, 2, ..., [num_class - 1].\n",
      "  warnings.warn(label_encoder_deprecation_msg, UserWarning)\n"
     ]
    },
    {
     "name": "stdout",
     "output_type": "stream",
     "text": [
      "[15:56:41] WARNING: ../src/learner.cc:1115: Starting in XGBoost 1.3.0, the default evaluation metric used with the objective 'binary:logistic' was changed from 'error' to 'logloss'. Explicitly set eval_metric if you'd like to restore the old behavior.\n"
     ]
    },
    {
     "name": "stderr",
     "output_type": "stream",
     "text": [
      "\u001b[32m[I 2022-03-15 15:56:46,393]\u001b[0m Trial 33 finished with value: 0.7537128712871287 and parameters: {'lambda': 0.0010471861112163114, 'alpha': 0.03699846591458693, 'colsample_bytree': 0.5, 'subsample': 0.6, 'learning_rate': 0.018, 'max_depth': 13, 'random_state': 24, 'min_child_weight': 289}. Best is trial 0 with value: 0.7537128712871287.\u001b[0m\n",
      "/home/chainyo/miniconda3/envs/challenge/lib/python3.8/site-packages/xgboost/sklearn.py:1224: UserWarning: The use of label encoder in XGBClassifier is deprecated and will be removed in a future release. To remove this warning, do the following: 1) Pass option use_label_encoder=False when constructing XGBClassifier object; and 2) Encode your labels (y) as integers starting with 0, i.e. 0, 1, 2, ..., [num_class - 1].\n",
      "  warnings.warn(label_encoder_deprecation_msg, UserWarning)\n"
     ]
    },
    {
     "name": "stdout",
     "output_type": "stream",
     "text": [
      "[15:56:46] WARNING: ../src/learner.cc:1115: Starting in XGBoost 1.3.0, the default evaluation metric used with the objective 'binary:logistic' was changed from 'error' to 'logloss'. Explicitly set eval_metric if you'd like to restore the old behavior.\n"
     ]
    },
    {
     "name": "stderr",
     "output_type": "stream",
     "text": [
      "\u001b[32m[I 2022-03-15 15:56:50,706]\u001b[0m Trial 34 finished with value: 0.7537128712871287 and parameters: {'lambda': 0.014263868075799198, 'alpha': 0.09057706373426617, 'colsample_bytree': 0.9, 'subsample': 0.6, 'learning_rate': 0.01, 'max_depth': 13, 'random_state': 24, 'min_child_weight': 225}. Best is trial 0 with value: 0.7537128712871287.\u001b[0m\n",
      "/home/chainyo/miniconda3/envs/challenge/lib/python3.8/site-packages/xgboost/sklearn.py:1224: UserWarning: The use of label encoder in XGBClassifier is deprecated and will be removed in a future release. To remove this warning, do the following: 1) Pass option use_label_encoder=False when constructing XGBClassifier object; and 2) Encode your labels (y) as integers starting with 0, i.e. 0, 1, 2, ..., [num_class - 1].\n",
      "  warnings.warn(label_encoder_deprecation_msg, UserWarning)\n"
     ]
    },
    {
     "name": "stdout",
     "output_type": "stream",
     "text": [
      "[15:56:50] WARNING: ../src/learner.cc:1115: Starting in XGBoost 1.3.0, the default evaluation metric used with the objective 'binary:logistic' was changed from 'error' to 'logloss'. Explicitly set eval_metric if you'd like to restore the old behavior.\n"
     ]
    },
    {
     "name": "stderr",
     "output_type": "stream",
     "text": [
      "\u001b[32m[I 2022-03-15 15:56:53,856]\u001b[0m Trial 35 finished with value: 0.7537128712871287 and parameters: {'lambda': 1.8393684204094143, 'alpha': 3.7007688504350584, 'colsample_bytree': 0.6, 'subsample': 0.8, 'learning_rate': 0.016, 'max_depth': 5, 'random_state': 24, 'min_child_weight': 103}. Best is trial 0 with value: 0.7537128712871287.\u001b[0m\n",
      "/home/chainyo/miniconda3/envs/challenge/lib/python3.8/site-packages/xgboost/sklearn.py:1224: UserWarning: The use of label encoder in XGBClassifier is deprecated and will be removed in a future release. To remove this warning, do the following: 1) Pass option use_label_encoder=False when constructing XGBClassifier object; and 2) Encode your labels (y) as integers starting with 0, i.e. 0, 1, 2, ..., [num_class - 1].\n",
      "  warnings.warn(label_encoder_deprecation_msg, UserWarning)\n"
     ]
    },
    {
     "name": "stdout",
     "output_type": "stream",
     "text": [
      "[15:56:53] WARNING: ../src/learner.cc:1115: Starting in XGBoost 1.3.0, the default evaluation metric used with the objective 'binary:logistic' was changed from 'error' to 'logloss'. Explicitly set eval_metric if you'd like to restore the old behavior.\n"
     ]
    },
    {
     "name": "stderr",
     "output_type": "stream",
     "text": [
      "\u001b[32m[I 2022-03-15 15:56:58,093]\u001b[0m Trial 36 finished with value: 0.7537128712871287 and parameters: {'lambda': 0.5917955025045832, 'alpha': 1.9799340425110414, 'colsample_bytree': 0.7, 'subsample': 1.0, 'learning_rate': 0.009, 'max_depth': 15, 'random_state': 24, 'min_child_weight': 129}. Best is trial 0 with value: 0.7537128712871287.\u001b[0m\n",
      "/home/chainyo/miniconda3/envs/challenge/lib/python3.8/site-packages/xgboost/sklearn.py:1224: UserWarning: The use of label encoder in XGBClassifier is deprecated and will be removed in a future release. To remove this warning, do the following: 1) Pass option use_label_encoder=False when constructing XGBClassifier object; and 2) Encode your labels (y) as integers starting with 0, i.e. 0, 1, 2, ..., [num_class - 1].\n",
      "  warnings.warn(label_encoder_deprecation_msg, UserWarning)\n"
     ]
    },
    {
     "name": "stdout",
     "output_type": "stream",
     "text": [
      "[15:56:58] WARNING: ../src/learner.cc:1115: Starting in XGBoost 1.3.0, the default evaluation metric used with the objective 'binary:logistic' was changed from 'error' to 'logloss'. Explicitly set eval_metric if you'd like to restore the old behavior.\n"
     ]
    },
    {
     "name": "stderr",
     "output_type": "stream",
     "text": [
      "\u001b[32m[I 2022-03-15 15:57:03,823]\u001b[0m Trial 37 finished with value: 0.7537128712871287 and parameters: {'lambda': 0.17750945109475172, 'alpha': 3.8575502547542233, 'colsample_bytree': 0.4, 'subsample': 0.8, 'learning_rate': 0.014, 'max_depth': 17, 'random_state': 2020, 'min_child_weight': 144}. Best is trial 0 with value: 0.7537128712871287.\u001b[0m\n",
      "/home/chainyo/miniconda3/envs/challenge/lib/python3.8/site-packages/xgboost/sklearn.py:1224: UserWarning: The use of label encoder in XGBClassifier is deprecated and will be removed in a future release. To remove this warning, do the following: 1) Pass option use_label_encoder=False when constructing XGBClassifier object; and 2) Encode your labels (y) as integers starting with 0, i.e. 0, 1, 2, ..., [num_class - 1].\n",
      "  warnings.warn(label_encoder_deprecation_msg, UserWarning)\n"
     ]
    },
    {
     "name": "stdout",
     "output_type": "stream",
     "text": [
      "[15:57:03] WARNING: ../src/learner.cc:1115: Starting in XGBoost 1.3.0, the default evaluation metric used with the objective 'binary:logistic' was changed from 'error' to 'logloss'. Explicitly set eval_metric if you'd like to restore the old behavior.\n"
     ]
    },
    {
     "name": "stderr",
     "output_type": "stream",
     "text": [
      "\u001b[32m[I 2022-03-15 15:57:08,152]\u001b[0m Trial 38 finished with value: 0.7537128712871287 and parameters: {'lambda': 3.735843997183287, 'alpha': 0.13454367347702806, 'colsample_bytree': 0.6, 'subsample': 0.7, 'learning_rate': 0.02, 'max_depth': 7, 'random_state': 2020, 'min_child_weight': 187}. Best is trial 0 with value: 0.7537128712871287.\u001b[0m\n",
      "/home/chainyo/miniconda3/envs/challenge/lib/python3.8/site-packages/xgboost/sklearn.py:1224: UserWarning: The use of label encoder in XGBClassifier is deprecated and will be removed in a future release. To remove this warning, do the following: 1) Pass option use_label_encoder=False when constructing XGBClassifier object; and 2) Encode your labels (y) as integers starting with 0, i.e. 0, 1, 2, ..., [num_class - 1].\n",
      "  warnings.warn(label_encoder_deprecation_msg, UserWarning)\n"
     ]
    },
    {
     "name": "stdout",
     "output_type": "stream",
     "text": [
      "[15:57:08] WARNING: ../src/learner.cc:1115: Starting in XGBoost 1.3.0, the default evaluation metric used with the objective 'binary:logistic' was changed from 'error' to 'logloss'. Explicitly set eval_metric if you'd like to restore the old behavior.\n"
     ]
    },
    {
     "name": "stderr",
     "output_type": "stream",
     "text": [
      "\u001b[32m[I 2022-03-15 15:57:13,660]\u001b[0m Trial 39 finished with value: 0.7537128712871287 and parameters: {'lambda': 6.092575603671957, 'alpha': 0.5108230877431722, 'colsample_bytree': 1.0, 'subsample': 0.4, 'learning_rate': 0.008, 'max_depth': 9, 'random_state': 2020, 'min_child_weight': 7}. Best is trial 0 with value: 0.7537128712871287.\u001b[0m\n",
      "/home/chainyo/miniconda3/envs/challenge/lib/python3.8/site-packages/xgboost/sklearn.py:1224: UserWarning: The use of label encoder in XGBClassifier is deprecated and will be removed in a future release. To remove this warning, do the following: 1) Pass option use_label_encoder=False when constructing XGBClassifier object; and 2) Encode your labels (y) as integers starting with 0, i.e. 0, 1, 2, ..., [num_class - 1].\n",
      "  warnings.warn(label_encoder_deprecation_msg, UserWarning)\n"
     ]
    },
    {
     "name": "stdout",
     "output_type": "stream",
     "text": [
      "[15:57:13] WARNING: ../src/learner.cc:1115: Starting in XGBoost 1.3.0, the default evaluation metric used with the objective 'binary:logistic' was changed from 'error' to 'logloss'. Explicitly set eval_metric if you'd like to restore the old behavior.\n"
     ]
    },
    {
     "name": "stderr",
     "output_type": "stream",
     "text": [
      "\u001b[32m[I 2022-03-15 15:57:18,079]\u001b[0m Trial 40 finished with value: 0.7537128712871287 and parameters: {'lambda': 0.05265322902617164, 'alpha': 0.005152323076223047, 'colsample_bytree': 0.9, 'subsample': 1.0, 'learning_rate': 0.009, 'max_depth': 5, 'random_state': 2020, 'min_child_weight': 251}. Best is trial 0 with value: 0.7537128712871287.\u001b[0m\n",
      "/home/chainyo/miniconda3/envs/challenge/lib/python3.8/site-packages/xgboost/sklearn.py:1224: UserWarning: The use of label encoder in XGBClassifier is deprecated and will be removed in a future release. To remove this warning, do the following: 1) Pass option use_label_encoder=False when constructing XGBClassifier object; and 2) Encode your labels (y) as integers starting with 0, i.e. 0, 1, 2, ..., [num_class - 1].\n",
      "  warnings.warn(label_encoder_deprecation_msg, UserWarning)\n"
     ]
    },
    {
     "name": "stdout",
     "output_type": "stream",
     "text": [
      "[15:57:18] WARNING: ../src/learner.cc:1115: Starting in XGBoost 1.3.0, the default evaluation metric used with the objective 'binary:logistic' was changed from 'error' to 'logloss'. Explicitly set eval_metric if you'd like to restore the old behavior.\n"
     ]
    },
    {
     "name": "stderr",
     "output_type": "stream",
     "text": [
      "\u001b[32m[I 2022-03-15 15:57:24,960]\u001b[0m Trial 41 finished with value: 0.7537128712871287 and parameters: {'lambda': 0.14233164045296412, 'alpha': 0.0010126540514915012, 'colsample_bytree': 0.3, 'subsample': 0.5, 'learning_rate': 0.01, 'max_depth': 11, 'random_state': 2020, 'min_child_weight': 180}. Best is trial 0 with value: 0.7537128712871287.\u001b[0m\n",
      "/home/chainyo/miniconda3/envs/challenge/lib/python3.8/site-packages/xgboost/sklearn.py:1224: UserWarning: The use of label encoder in XGBClassifier is deprecated and will be removed in a future release. To remove this warning, do the following: 1) Pass option use_label_encoder=False when constructing XGBClassifier object; and 2) Encode your labels (y) as integers starting with 0, i.e. 0, 1, 2, ..., [num_class - 1].\n",
      "  warnings.warn(label_encoder_deprecation_msg, UserWarning)\n"
     ]
    },
    {
     "name": "stdout",
     "output_type": "stream",
     "text": [
      "[15:57:25] WARNING: ../src/learner.cc:1115: Starting in XGBoost 1.3.0, the default evaluation metric used with the objective 'binary:logistic' was changed from 'error' to 'logloss'. Explicitly set eval_metric if you'd like to restore the old behavior.\n"
     ]
    },
    {
     "name": "stderr",
     "output_type": "stream",
     "text": [
      "\u001b[32m[I 2022-03-15 15:57:28,679]\u001b[0m Trial 42 finished with value: 0.7537128712871287 and parameters: {'lambda': 0.011445736272495396, 'alpha': 0.012117147005862026, 'colsample_bytree': 0.5, 'subsample': 0.6, 'learning_rate': 0.02, 'max_depth': 15, 'random_state': 2020, 'min_child_weight': 283}. Best is trial 0 with value: 0.7537128712871287.\u001b[0m\n",
      "/home/chainyo/miniconda3/envs/challenge/lib/python3.8/site-packages/xgboost/sklearn.py:1224: UserWarning: The use of label encoder in XGBClassifier is deprecated and will be removed in a future release. To remove this warning, do the following: 1) Pass option use_label_encoder=False when constructing XGBClassifier object; and 2) Encode your labels (y) as integers starting with 0, i.e. 0, 1, 2, ..., [num_class - 1].\n",
      "  warnings.warn(label_encoder_deprecation_msg, UserWarning)\n"
     ]
    },
    {
     "name": "stdout",
     "output_type": "stream",
     "text": [
      "[15:57:28] WARNING: ../src/learner.cc:1115: Starting in XGBoost 1.3.0, the default evaluation metric used with the objective 'binary:logistic' was changed from 'error' to 'logloss'. Explicitly set eval_metric if you'd like to restore the old behavior.\n"
     ]
    },
    {
     "name": "stderr",
     "output_type": "stream",
     "text": [
      "\u001b[32m[I 2022-03-15 15:57:29,410]\u001b[0m Trial 43 finished with value: 0.7537128712871287 and parameters: {'lambda': 0.053814227468026166, 'alpha': 0.001969446890147256, 'colsample_bytree': 0.4, 'subsample': 0.4, 'learning_rate': 0.02, 'max_depth': 17, 'random_state': 2020, 'min_child_weight': 276}. Best is trial 0 with value: 0.7537128712871287.\u001b[0m\n",
      "/home/chainyo/miniconda3/envs/challenge/lib/python3.8/site-packages/xgboost/sklearn.py:1224: UserWarning: The use of label encoder in XGBClassifier is deprecated and will be removed in a future release. To remove this warning, do the following: 1) Pass option use_label_encoder=False when constructing XGBClassifier object; and 2) Encode your labels (y) as integers starting with 0, i.e. 0, 1, 2, ..., [num_class - 1].\n",
      "  warnings.warn(label_encoder_deprecation_msg, UserWarning)\n"
     ]
    },
    {
     "name": "stdout",
     "output_type": "stream",
     "text": [
      "[15:57:29] WARNING: ../src/learner.cc:1115: Starting in XGBoost 1.3.0, the default evaluation metric used with the objective 'binary:logistic' was changed from 'error' to 'logloss'. Explicitly set eval_metric if you'd like to restore the old behavior.\n"
     ]
    },
    {
     "name": "stderr",
     "output_type": "stream",
     "text": [
      "\u001b[32m[I 2022-03-15 15:57:33,662]\u001b[0m Trial 44 finished with value: 0.7537128712871287 and parameters: {'lambda': 0.007495553616436855, 'alpha': 0.044256780804760185, 'colsample_bytree': 0.9, 'subsample': 0.7, 'learning_rate': 0.01, 'max_depth': 9, 'random_state': 48, 'min_child_weight': 300}. Best is trial 0 with value: 0.7537128712871287.\u001b[0m\n",
      "/home/chainyo/miniconda3/envs/challenge/lib/python3.8/site-packages/xgboost/sklearn.py:1224: UserWarning: The use of label encoder in XGBClassifier is deprecated and will be removed in a future release. To remove this warning, do the following: 1) Pass option use_label_encoder=False when constructing XGBClassifier object; and 2) Encode your labels (y) as integers starting with 0, i.e. 0, 1, 2, ..., [num_class - 1].\n",
      "  warnings.warn(label_encoder_deprecation_msg, UserWarning)\n"
     ]
    },
    {
     "name": "stdout",
     "output_type": "stream",
     "text": [
      "[15:57:33] WARNING: ../src/learner.cc:1115: Starting in XGBoost 1.3.0, the default evaluation metric used with the objective 'binary:logistic' was changed from 'error' to 'logloss'. Explicitly set eval_metric if you'd like to restore the old behavior.\n"
     ]
    },
    {
     "name": "stderr",
     "output_type": "stream",
     "text": [
      "\u001b[32m[I 2022-03-15 15:57:37,813]\u001b[0m Trial 45 finished with value: 0.7537128712871287 and parameters: {'lambda': 0.005426254798912445, 'alpha': 0.01397235376428202, 'colsample_bytree': 0.9, 'subsample': 1.0, 'learning_rate': 0.01, 'max_depth': 9, 'random_state': 48, 'min_child_weight': 256}. Best is trial 0 with value: 0.7537128712871287.\u001b[0m\n",
      "/home/chainyo/miniconda3/envs/challenge/lib/python3.8/site-packages/xgboost/sklearn.py:1224: UserWarning: The use of label encoder in XGBClassifier is deprecated and will be removed in a future release. To remove this warning, do the following: 1) Pass option use_label_encoder=False when constructing XGBClassifier object; and 2) Encode your labels (y) as integers starting with 0, i.e. 0, 1, 2, ..., [num_class - 1].\n",
      "  warnings.warn(label_encoder_deprecation_msg, UserWarning)\n"
     ]
    },
    {
     "name": "stdout",
     "output_type": "stream",
     "text": [
      "[15:57:37] WARNING: ../src/learner.cc:1115: Starting in XGBoost 1.3.0, the default evaluation metric used with the objective 'binary:logistic' was changed from 'error' to 'logloss'. Explicitly set eval_metric if you'd like to restore the old behavior.\n"
     ]
    },
    {
     "name": "stderr",
     "output_type": "stream",
     "text": [
      "\u001b[32m[I 2022-03-15 15:57:41,181]\u001b[0m Trial 46 finished with value: 0.7537128712871287 and parameters: {'lambda': 0.0022844867093157347, 'alpha': 0.0020616122745554097, 'colsample_bytree': 0.3, 'subsample': 0.5, 'learning_rate': 0.018, 'max_depth': 11, 'random_state': 24, 'min_child_weight': 227}. Best is trial 0 with value: 0.7537128712871287.\u001b[0m\n",
      "/home/chainyo/miniconda3/envs/challenge/lib/python3.8/site-packages/xgboost/sklearn.py:1224: UserWarning: The use of label encoder in XGBClassifier is deprecated and will be removed in a future release. To remove this warning, do the following: 1) Pass option use_label_encoder=False when constructing XGBClassifier object; and 2) Encode your labels (y) as integers starting with 0, i.e. 0, 1, 2, ..., [num_class - 1].\n",
      "  warnings.warn(label_encoder_deprecation_msg, UserWarning)\n"
     ]
    },
    {
     "name": "stdout",
     "output_type": "stream",
     "text": [
      "[15:57:41] WARNING: ../src/learner.cc:1115: Starting in XGBoost 1.3.0, the default evaluation metric used with the objective 'binary:logistic' was changed from 'error' to 'logloss'. Explicitly set eval_metric if you'd like to restore the old behavior.\n"
     ]
    },
    {
     "name": "stderr",
     "output_type": "stream",
     "text": [
      "\u001b[32m[I 2022-03-15 15:57:44,251]\u001b[0m Trial 47 finished with value: 0.7537128712871287 and parameters: {'lambda': 0.0032888781174961095, 'alpha': 0.005830174132505967, 'colsample_bytree': 0.3, 'subsample': 0.5, 'learning_rate': 0.018, 'max_depth': 11, 'random_state': 24, 'min_child_weight': 263}. Best is trial 0 with value: 0.7537128712871287.\u001b[0m\n",
      "/home/chainyo/miniconda3/envs/challenge/lib/python3.8/site-packages/xgboost/sklearn.py:1224: UserWarning: The use of label encoder in XGBClassifier is deprecated and will be removed in a future release. To remove this warning, do the following: 1) Pass option use_label_encoder=False when constructing XGBClassifier object; and 2) Encode your labels (y) as integers starting with 0, i.e. 0, 1, 2, ..., [num_class - 1].\n",
      "  warnings.warn(label_encoder_deprecation_msg, UserWarning)\n"
     ]
    },
    {
     "name": "stdout",
     "output_type": "stream",
     "text": [
      "[15:57:44] WARNING: ../src/learner.cc:1115: Starting in XGBoost 1.3.0, the default evaluation metric used with the objective 'binary:logistic' was changed from 'error' to 'logloss'. Explicitly set eval_metric if you'd like to restore the old behavior.\n"
     ]
    },
    {
     "name": "stderr",
     "output_type": "stream",
     "text": [
      "\u001b[32m[I 2022-03-15 15:57:48,854]\u001b[0m Trial 48 finished with value: 0.7537128712871287 and parameters: {'lambda': 0.08127412206535402, 'alpha': 0.009369238606100916, 'colsample_bytree': 0.5, 'subsample': 0.6, 'learning_rate': 0.012, 'max_depth': 13, 'random_state': 48, 'min_child_weight': 212}. Best is trial 0 with value: 0.7537128712871287.\u001b[0m\n",
      "/home/chainyo/miniconda3/envs/challenge/lib/python3.8/site-packages/xgboost/sklearn.py:1224: UserWarning: The use of label encoder in XGBClassifier is deprecated and will be removed in a future release. To remove this warning, do the following: 1) Pass option use_label_encoder=False when constructing XGBClassifier object; and 2) Encode your labels (y) as integers starting with 0, i.e. 0, 1, 2, ..., [num_class - 1].\n",
      "  warnings.warn(label_encoder_deprecation_msg, UserWarning)\n"
     ]
    },
    {
     "name": "stdout",
     "output_type": "stream",
     "text": [
      "[15:57:48] WARNING: ../src/learner.cc:1115: Starting in XGBoost 1.3.0, the default evaluation metric used with the objective 'binary:logistic' was changed from 'error' to 'logloss'. Explicitly set eval_metric if you'd like to restore the old behavior.\n"
     ]
    },
    {
     "name": "stderr",
     "output_type": "stream",
     "text": [
      "\u001b[32m[I 2022-03-15 15:57:55,388]\u001b[0m Trial 49 finished with value: 0.7537128712871287 and parameters: {'lambda': 0.07638399900425727, 'alpha': 0.025393374712171096, 'colsample_bytree': 0.5, 'subsample': 0.6, 'learning_rate': 0.008, 'max_depth': 13, 'random_state': 24, 'min_child_weight': 244}. Best is trial 0 with value: 0.7537128712871287.\u001b[0m\n",
      "/home/chainyo/miniconda3/envs/challenge/lib/python3.8/site-packages/xgboost/sklearn.py:1224: UserWarning: The use of label encoder in XGBClassifier is deprecated and will be removed in a future release. To remove this warning, do the following: 1) Pass option use_label_encoder=False when constructing XGBClassifier object; and 2) Encode your labels (y) as integers starting with 0, i.e. 0, 1, 2, ..., [num_class - 1].\n",
      "  warnings.warn(label_encoder_deprecation_msg, UserWarning)\n"
     ]
    },
    {
     "name": "stdout",
     "output_type": "stream",
     "text": [
      "[15:57:55] WARNING: ../src/learner.cc:1115: Starting in XGBoost 1.3.0, the default evaluation metric used with the objective 'binary:logistic' was changed from 'error' to 'logloss'. Explicitly set eval_metric if you'd like to restore the old behavior.\n"
     ]
    },
    {
     "name": "stderr",
     "output_type": "stream",
     "text": [
      "\u001b[32m[I 2022-03-15 15:57:56,241]\u001b[0m Trial 50 finished with value: 0.7537128712871287 and parameters: {'lambda': 0.01994105696298115, 'alpha': 0.06445602566016048, 'colsample_bytree': 0.9, 'subsample': 0.4, 'learning_rate': 0.01, 'max_depth': 20, 'random_state': 24, 'min_child_weight': 274}. Best is trial 0 with value: 0.7537128712871287.\u001b[0m\n",
      "/home/chainyo/miniconda3/envs/challenge/lib/python3.8/site-packages/xgboost/sklearn.py:1224: UserWarning: The use of label encoder in XGBClassifier is deprecated and will be removed in a future release. To remove this warning, do the following: 1) Pass option use_label_encoder=False when constructing XGBClassifier object; and 2) Encode your labels (y) as integers starting with 0, i.e. 0, 1, 2, ..., [num_class - 1].\n",
      "  warnings.warn(label_encoder_deprecation_msg, UserWarning)\n"
     ]
    },
    {
     "name": "stdout",
     "output_type": "stream",
     "text": [
      "[15:57:56] WARNING: ../src/learner.cc:1115: Starting in XGBoost 1.3.0, the default evaluation metric used with the objective 'binary:logistic' was changed from 'error' to 'logloss'. Explicitly set eval_metric if you'd like to restore the old behavior.\n"
     ]
    },
    {
     "name": "stderr",
     "output_type": "stream",
     "text": [
      "\u001b[32m[I 2022-03-15 15:58:01,837]\u001b[0m Trial 51 finished with value: 0.7537128712871287 and parameters: {'lambda': 0.0020986739493332645, 'alpha': 0.027848765630663557, 'colsample_bytree': 0.3, 'subsample': 0.6, 'learning_rate': 0.018, 'max_depth': 13, 'random_state': 24, 'min_child_weight': 284}. Best is trial 0 with value: 0.7537128712871287.\u001b[0m\n",
      "/home/chainyo/miniconda3/envs/challenge/lib/python3.8/site-packages/xgboost/sklearn.py:1224: UserWarning: The use of label encoder in XGBClassifier is deprecated and will be removed in a future release. To remove this warning, do the following: 1) Pass option use_label_encoder=False when constructing XGBClassifier object; and 2) Encode your labels (y) as integers starting with 0, i.e. 0, 1, 2, ..., [num_class - 1].\n",
      "  warnings.warn(label_encoder_deprecation_msg, UserWarning)\n"
     ]
    },
    {
     "name": "stdout",
     "output_type": "stream",
     "text": [
      "[15:58:01] WARNING: ../src/learner.cc:1115: Starting in XGBoost 1.3.0, the default evaluation metric used with the objective 'binary:logistic' was changed from 'error' to 'logloss'. Explicitly set eval_metric if you'd like to restore the old behavior.\n"
     ]
    },
    {
     "name": "stderr",
     "output_type": "stream",
     "text": [
      "\u001b[32m[I 2022-03-15 15:58:04,608]\u001b[0m Trial 52 finished with value: 0.7537128712871287 and parameters: {'lambda': 0.0040905277224402015, 'alpha': 0.004229793435542233, 'colsample_bytree': 0.5, 'subsample': 0.6, 'learning_rate': 0.018, 'max_depth': 13, 'random_state': 24, 'min_child_weight': 225}. Best is trial 0 with value: 0.7537128712871287.\u001b[0m\n",
      "/home/chainyo/miniconda3/envs/challenge/lib/python3.8/site-packages/xgboost/sklearn.py:1224: UserWarning: The use of label encoder in XGBClassifier is deprecated and will be removed in a future release. To remove this warning, do the following: 1) Pass option use_label_encoder=False when constructing XGBClassifier object; and 2) Encode your labels (y) as integers starting with 0, i.e. 0, 1, 2, ..., [num_class - 1].\n",
      "  warnings.warn(label_encoder_deprecation_msg, UserWarning)\n"
     ]
    },
    {
     "name": "stdout",
     "output_type": "stream",
     "text": [
      "[15:58:04] WARNING: ../src/learner.cc:1115: Starting in XGBoost 1.3.0, the default evaluation metric used with the objective 'binary:logistic' was changed from 'error' to 'logloss'. Explicitly set eval_metric if you'd like to restore the old behavior.\n"
     ]
    },
    {
     "name": "stderr",
     "output_type": "stream",
     "text": [
      "\u001b[32m[I 2022-03-15 15:58:07,527]\u001b[0m Trial 53 finished with value: 0.7537128712871287 and parameters: {'lambda': 0.0029477225793023915, 'alpha': 0.0033424884267492854, 'colsample_bytree': 0.8, 'subsample': 0.6, 'learning_rate': 0.018, 'max_depth': 13, 'random_state': 24, 'min_child_weight': 209}. Best is trial 0 with value: 0.7537128712871287.\u001b[0m\n",
      "/home/chainyo/miniconda3/envs/challenge/lib/python3.8/site-packages/xgboost/sklearn.py:1224: UserWarning: The use of label encoder in XGBClassifier is deprecated and will be removed in a future release. To remove this warning, do the following: 1) Pass option use_label_encoder=False when constructing XGBClassifier object; and 2) Encode your labels (y) as integers starting with 0, i.e. 0, 1, 2, ..., [num_class - 1].\n",
      "  warnings.warn(label_encoder_deprecation_msg, UserWarning)\n"
     ]
    },
    {
     "name": "stdout",
     "output_type": "stream",
     "text": [
      "[15:58:07] WARNING: ../src/learner.cc:1115: Starting in XGBoost 1.3.0, the default evaluation metric used with the objective 'binary:logistic' was changed from 'error' to 'logloss'. Explicitly set eval_metric if you'd like to restore the old behavior.\n"
     ]
    },
    {
     "name": "stderr",
     "output_type": "stream",
     "text": [
      "\u001b[32m[I 2022-03-15 15:58:10,600]\u001b[0m Trial 54 finished with value: 0.7537128712871287 and parameters: {'lambda': 0.0012224640113410862, 'alpha': 0.018178243497225084, 'colsample_bytree': 0.5, 'subsample': 0.6, 'learning_rate': 0.018, 'max_depth': 13, 'random_state': 24, 'min_child_weight': 231}. Best is trial 0 with value: 0.7537128712871287.\u001b[0m\n",
      "/home/chainyo/miniconda3/envs/challenge/lib/python3.8/site-packages/xgboost/sklearn.py:1224: UserWarning: The use of label encoder in XGBClassifier is deprecated and will be removed in a future release. To remove this warning, do the following: 1) Pass option use_label_encoder=False when constructing XGBClassifier object; and 2) Encode your labels (y) as integers starting with 0, i.e. 0, 1, 2, ..., [num_class - 1].\n",
      "  warnings.warn(label_encoder_deprecation_msg, UserWarning)\n"
     ]
    },
    {
     "name": "stdout",
     "output_type": "stream",
     "text": [
      "[15:58:10] WARNING: ../src/learner.cc:1115: Starting in XGBoost 1.3.0, the default evaluation metric used with the objective 'binary:logistic' was changed from 'error' to 'logloss'. Explicitly set eval_metric if you'd like to restore the old behavior.\n"
     ]
    },
    {
     "name": "stderr",
     "output_type": "stream",
     "text": [
      "\u001b[32m[I 2022-03-15 15:58:15,833]\u001b[0m Trial 55 finished with value: 0.7537128712871287 and parameters: {'lambda': 0.0014213764579488278, 'alpha': 0.04151019221315457, 'colsample_bytree': 0.5, 'subsample': 0.6, 'learning_rate': 0.008, 'max_depth': 13, 'random_state': 24, 'min_child_weight': 269}. Best is trial 0 with value: 0.7537128712871287.\u001b[0m\n",
      "/home/chainyo/miniconda3/envs/challenge/lib/python3.8/site-packages/xgboost/sklearn.py:1224: UserWarning: The use of label encoder in XGBClassifier is deprecated and will be removed in a future release. To remove this warning, do the following: 1) Pass option use_label_encoder=False when constructing XGBClassifier object; and 2) Encode your labels (y) as integers starting with 0, i.e. 0, 1, 2, ..., [num_class - 1].\n",
      "  warnings.warn(label_encoder_deprecation_msg, UserWarning)\n"
     ]
    },
    {
     "name": "stdout",
     "output_type": "stream",
     "text": [
      "[15:58:15] WARNING: ../src/learner.cc:1115: Starting in XGBoost 1.3.0, the default evaluation metric used with the objective 'binary:logistic' was changed from 'error' to 'logloss'. Explicitly set eval_metric if you'd like to restore the old behavior.\n"
     ]
    },
    {
     "name": "stderr",
     "output_type": "stream",
     "text": [
      "\u001b[32m[I 2022-03-15 15:58:19,554]\u001b[0m Trial 56 finished with value: 0.7537128712871287 and parameters: {'lambda': 0.0010678580996099619, 'alpha': 0.10311366855703968, 'colsample_bytree': 1.0, 'subsample': 0.6, 'learning_rate': 0.01, 'max_depth': 13, 'random_state': 24, 'min_child_weight': 251}. Best is trial 0 with value: 0.7537128712871287.\u001b[0m\n",
      "/home/chainyo/miniconda3/envs/challenge/lib/python3.8/site-packages/xgboost/sklearn.py:1224: UserWarning: The use of label encoder in XGBClassifier is deprecated and will be removed in a future release. To remove this warning, do the following: 1) Pass option use_label_encoder=False when constructing XGBClassifier object; and 2) Encode your labels (y) as integers starting with 0, i.e. 0, 1, 2, ..., [num_class - 1].\n",
      "  warnings.warn(label_encoder_deprecation_msg, UserWarning)\n"
     ]
    },
    {
     "name": "stdout",
     "output_type": "stream",
     "text": [
      "[15:58:19] WARNING: ../src/learner.cc:1115: Starting in XGBoost 1.3.0, the default evaluation metric used with the objective 'binary:logistic' was changed from 'error' to 'logloss'. Explicitly set eval_metric if you'd like to restore the old behavior.\n"
     ]
    },
    {
     "name": "stderr",
     "output_type": "stream",
     "text": [
      "\u001b[32m[I 2022-03-15 15:58:26,776]\u001b[0m Trial 57 finished with value: 0.7537128712871287 and parameters: {'lambda': 0.014173621145526677, 'alpha': 0.15496301172937424, 'colsample_bytree': 0.9, 'subsample': 0.6, 'learning_rate': 0.012, 'max_depth': 20, 'random_state': 24, 'min_child_weight': 287}. Best is trial 0 with value: 0.7537128712871287.\u001b[0m\n",
      "/home/chainyo/miniconda3/envs/challenge/lib/python3.8/site-packages/xgboost/sklearn.py:1224: UserWarning: The use of label encoder in XGBClassifier is deprecated and will be removed in a future release. To remove this warning, do the following: 1) Pass option use_label_encoder=False when constructing XGBClassifier object; and 2) Encode your labels (y) as integers starting with 0, i.e. 0, 1, 2, ..., [num_class - 1].\n",
      "  warnings.warn(label_encoder_deprecation_msg, UserWarning)\n"
     ]
    },
    {
     "name": "stdout",
     "output_type": "stream",
     "text": [
      "[15:58:26] WARNING: ../src/learner.cc:1115: Starting in XGBoost 1.3.0, the default evaluation metric used with the objective 'binary:logistic' was changed from 'error' to 'logloss'. Explicitly set eval_metric if you'd like to restore the old behavior.\n"
     ]
    },
    {
     "name": "stderr",
     "output_type": "stream",
     "text": [
      "\u001b[32m[I 2022-03-15 15:58:30,873]\u001b[0m Trial 58 finished with value: 0.7537128712871287 and parameters: {'lambda': 0.004815507186517771, 'alpha': 0.18677611654686455, 'colsample_bytree': 0.6, 'subsample': 0.8, 'learning_rate': 0.016, 'max_depth': 5, 'random_state': 24, 'min_child_weight': 99}. Best is trial 0 with value: 0.7537128712871287.\u001b[0m\n",
      "/home/chainyo/miniconda3/envs/challenge/lib/python3.8/site-packages/xgboost/sklearn.py:1224: UserWarning: The use of label encoder in XGBClassifier is deprecated and will be removed in a future release. To remove this warning, do the following: 1) Pass option use_label_encoder=False when constructing XGBClassifier object; and 2) Encode your labels (y) as integers starting with 0, i.e. 0, 1, 2, ..., [num_class - 1].\n",
      "  warnings.warn(label_encoder_deprecation_msg, UserWarning)\n"
     ]
    },
    {
     "name": "stdout",
     "output_type": "stream",
     "text": [
      "[15:58:30] WARNING: ../src/learner.cc:1115: Starting in XGBoost 1.3.0, the default evaluation metric used with the objective 'binary:logistic' was changed from 'error' to 'logloss'. Explicitly set eval_metric if you'd like to restore the old behavior.\n"
     ]
    },
    {
     "name": "stderr",
     "output_type": "stream",
     "text": [
      "\u001b[32m[I 2022-03-15 15:58:36,626]\u001b[0m Trial 59 finished with value: 0.7537128712871287 and parameters: {'lambda': 0.6353852273780394, 'alpha': 0.08876986086913032, 'colsample_bytree': 0.6, 'subsample': 0.8, 'learning_rate': 0.016, 'max_depth': 5, 'random_state': 24, 'min_child_weight': 195}. Best is trial 0 with value: 0.7537128712871287.\u001b[0m\n",
      "/home/chainyo/miniconda3/envs/challenge/lib/python3.8/site-packages/xgboost/sklearn.py:1224: UserWarning: The use of label encoder in XGBClassifier is deprecated and will be removed in a future release. To remove this warning, do the following: 1) Pass option use_label_encoder=False when constructing XGBClassifier object; and 2) Encode your labels (y) as integers starting with 0, i.e. 0, 1, 2, ..., [num_class - 1].\n",
      "  warnings.warn(label_encoder_deprecation_msg, UserWarning)\n"
     ]
    },
    {
     "name": "stdout",
     "output_type": "stream",
     "text": [
      "[15:58:36] WARNING: ../src/learner.cc:1115: Starting in XGBoost 1.3.0, the default evaluation metric used with the objective 'binary:logistic' was changed from 'error' to 'logloss'. Explicitly set eval_metric if you'd like to restore the old behavior.\n"
     ]
    },
    {
     "name": "stderr",
     "output_type": "stream",
     "text": [
      "\u001b[32m[I 2022-03-15 15:58:40,226]\u001b[0m Trial 60 finished with value: 0.7537128712871287 and parameters: {'lambda': 0.374106698074678, 'alpha': 0.30350897855286796, 'colsample_bytree': 0.7, 'subsample': 1.0, 'learning_rate': 0.009, 'max_depth': 5, 'random_state': 24, 'min_child_weight': 46}. Best is trial 0 with value: 0.7537128712871287.\u001b[0m\n",
      "/home/chainyo/miniconda3/envs/challenge/lib/python3.8/site-packages/xgboost/sklearn.py:1224: UserWarning: The use of label encoder in XGBClassifier is deprecated and will be removed in a future release. To remove this warning, do the following: 1) Pass option use_label_encoder=False when constructing XGBClassifier object; and 2) Encode your labels (y) as integers starting with 0, i.e. 0, 1, 2, ..., [num_class - 1].\n",
      "  warnings.warn(label_encoder_deprecation_msg, UserWarning)\n"
     ]
    },
    {
     "name": "stdout",
     "output_type": "stream",
     "text": [
      "[15:58:40] WARNING: ../src/learner.cc:1115: Starting in XGBoost 1.3.0, the default evaluation metric used with the objective 'binary:logistic' was changed from 'error' to 'logloss'. Explicitly set eval_metric if you'd like to restore the old behavior.\n"
     ]
    },
    {
     "name": "stderr",
     "output_type": "stream",
     "text": [
      "\u001b[32m[I 2022-03-15 15:58:43,433]\u001b[0m Trial 61 finished with value: 0.7537128712871287 and parameters: {'lambda': 0.18956741336445082, 'alpha': 5.000912025613089, 'colsample_bytree': 0.4, 'subsample': 0.8, 'learning_rate': 0.014, 'max_depth': 17, 'random_state': 24, 'min_child_weight': 131}. Best is trial 0 with value: 0.7537128712871287.\u001b[0m\n",
      "/home/chainyo/miniconda3/envs/challenge/lib/python3.8/site-packages/xgboost/sklearn.py:1224: UserWarning: The use of label encoder in XGBClassifier is deprecated and will be removed in a future release. To remove this warning, do the following: 1) Pass option use_label_encoder=False when constructing XGBClassifier object; and 2) Encode your labels (y) as integers starting with 0, i.e. 0, 1, 2, ..., [num_class - 1].\n",
      "  warnings.warn(label_encoder_deprecation_msg, UserWarning)\n"
     ]
    },
    {
     "name": "stdout",
     "output_type": "stream",
     "text": [
      "[15:58:43] WARNING: ../src/learner.cc:1115: Starting in XGBoost 1.3.0, the default evaluation metric used with the objective 'binary:logistic' was changed from 'error' to 'logloss'. Explicitly set eval_metric if you'd like to restore the old behavior.\n"
     ]
    },
    {
     "name": "stderr",
     "output_type": "stream",
     "text": [
      "\u001b[32m[I 2022-03-15 15:58:47,081]\u001b[0m Trial 62 finished with value: 0.7537128712871287 and parameters: {'lambda': 1.6088439993249817, 'alpha': 2.8458356001937077, 'colsample_bytree': 0.6, 'subsample': 0.7, 'learning_rate': 0.014, 'max_depth': 7, 'random_state': 2020, 'min_child_weight': 133}. Best is trial 0 with value: 0.7537128712871287.\u001b[0m\n",
      "/home/chainyo/miniconda3/envs/challenge/lib/python3.8/site-packages/xgboost/sklearn.py:1224: UserWarning: The use of label encoder in XGBClassifier is deprecated and will be removed in a future release. To remove this warning, do the following: 1) Pass option use_label_encoder=False when constructing XGBClassifier object; and 2) Encode your labels (y) as integers starting with 0, i.e. 0, 1, 2, ..., [num_class - 1].\n",
      "  warnings.warn(label_encoder_deprecation_msg, UserWarning)\n"
     ]
    },
    {
     "name": "stdout",
     "output_type": "stream",
     "text": [
      "[15:58:47] WARNING: ../src/learner.cc:1115: Starting in XGBoost 1.3.0, the default evaluation metric used with the objective 'binary:logistic' was changed from 'error' to 'logloss'. Explicitly set eval_metric if you'd like to restore the old behavior.\n"
     ]
    },
    {
     "name": "stderr",
     "output_type": "stream",
     "text": [
      "\u001b[32m[I 2022-03-15 15:58:53,137]\u001b[0m Trial 63 finished with value: 0.7537128712871287 and parameters: {'lambda': 3.5322594963247003, 'alpha': 9.736550502056042, 'colsample_bytree': 0.7, 'subsample': 0.7, 'learning_rate': 0.014, 'max_depth': 7, 'random_state': 2020, 'min_child_weight': 182}. Best is trial 0 with value: 0.7537128712871287.\u001b[0m\n",
      "/home/chainyo/miniconda3/envs/challenge/lib/python3.8/site-packages/xgboost/sklearn.py:1224: UserWarning: The use of label encoder in XGBClassifier is deprecated and will be removed in a future release. To remove this warning, do the following: 1) Pass option use_label_encoder=False when constructing XGBClassifier object; and 2) Encode your labels (y) as integers starting with 0, i.e. 0, 1, 2, ..., [num_class - 1].\n",
      "  warnings.warn(label_encoder_deprecation_msg, UserWarning)\n"
     ]
    },
    {
     "name": "stdout",
     "output_type": "stream",
     "text": [
      "[15:58:53] WARNING: ../src/learner.cc:1115: Starting in XGBoost 1.3.0, the default evaluation metric used with the objective 'binary:logistic' was changed from 'error' to 'logloss'. Explicitly set eval_metric if you'd like to restore the old behavior.\n"
     ]
    },
    {
     "name": "stderr",
     "output_type": "stream",
     "text": [
      "\u001b[32m[I 2022-03-15 15:58:58,722]\u001b[0m Trial 64 finished with value: 0.7537128712871287 and parameters: {'lambda': 5.338552399903572, 'alpha': 0.459745615074255, 'colsample_bytree': 1.0, 'subsample': 0.4, 'learning_rate': 0.008, 'max_depth': 17, 'random_state': 2020, 'min_child_weight': 146}. Best is trial 0 with value: 0.7537128712871287.\u001b[0m\n",
      "/home/chainyo/miniconda3/envs/challenge/lib/python3.8/site-packages/xgboost/sklearn.py:1224: UserWarning: The use of label encoder in XGBClassifier is deprecated and will be removed in a future release. To remove this warning, do the following: 1) Pass option use_label_encoder=False when constructing XGBClassifier object; and 2) Encode your labels (y) as integers starting with 0, i.e. 0, 1, 2, ..., [num_class - 1].\n",
      "  warnings.warn(label_encoder_deprecation_msg, UserWarning)\n"
     ]
    },
    {
     "name": "stdout",
     "output_type": "stream",
     "text": [
      "[15:58:58] WARNING: ../src/learner.cc:1115: Starting in XGBoost 1.3.0, the default evaluation metric used with the objective 'binary:logistic' was changed from 'error' to 'logloss'. Explicitly set eval_metric if you'd like to restore the old behavior.\n"
     ]
    },
    {
     "name": "stderr",
     "output_type": "stream",
     "text": [
      "\u001b[32m[I 2022-03-15 15:59:02,913]\u001b[0m Trial 65 finished with value: 0.7537128712871287 and parameters: {'lambda': 2.5524249910644414, 'alpha': 1.2419723521317692, 'colsample_bytree': 1.0, 'subsample': 0.4, 'learning_rate': 0.008, 'max_depth': 7, 'random_state': 2020, 'min_child_weight': 11}. Best is trial 0 with value: 0.7537128712871287.\u001b[0m\n",
      "/home/chainyo/miniconda3/envs/challenge/lib/python3.8/site-packages/xgboost/sklearn.py:1224: UserWarning: The use of label encoder in XGBClassifier is deprecated and will be removed in a future release. To remove this warning, do the following: 1) Pass option use_label_encoder=False when constructing XGBClassifier object; and 2) Encode your labels (y) as integers starting with 0, i.e. 0, 1, 2, ..., [num_class - 1].\n",
      "  warnings.warn(label_encoder_deprecation_msg, UserWarning)\n"
     ]
    },
    {
     "name": "stdout",
     "output_type": "stream",
     "text": [
      "[15:59:02] WARNING: ../src/learner.cc:1115: Starting in XGBoost 1.3.0, the default evaluation metric used with the objective 'binary:logistic' was changed from 'error' to 'logloss'. Explicitly set eval_metric if you'd like to restore the old behavior.\n"
     ]
    },
    {
     "name": "stderr",
     "output_type": "stream",
     "text": [
      "\u001b[32m[I 2022-03-15 15:59:06,767]\u001b[0m Trial 66 finished with value: 0.7537128712871287 and parameters: {'lambda': 2.217789283891718, 'alpha': 2.1982899997679404, 'colsample_bytree': 0.4, 'subsample': 1.0, 'learning_rate': 0.009, 'max_depth': 5, 'random_state': 2020, 'min_child_weight': 59}. Best is trial 0 with value: 0.7537128712871287.\u001b[0m\n",
      "/home/chainyo/miniconda3/envs/challenge/lib/python3.8/site-packages/xgboost/sklearn.py:1224: UserWarning: The use of label encoder in XGBClassifier is deprecated and will be removed in a future release. To remove this warning, do the following: 1) Pass option use_label_encoder=False when constructing XGBClassifier object; and 2) Encode your labels (y) as integers starting with 0, i.e. 0, 1, 2, ..., [num_class - 1].\n",
      "  warnings.warn(label_encoder_deprecation_msg, UserWarning)\n"
     ]
    },
    {
     "name": "stdout",
     "output_type": "stream",
     "text": [
      "[15:59:06] WARNING: ../src/learner.cc:1115: Starting in XGBoost 1.3.0, the default evaluation metric used with the objective 'binary:logistic' was changed from 'error' to 'logloss'. Explicitly set eval_metric if you'd like to restore the old behavior.\n"
     ]
    },
    {
     "name": "stderr",
     "output_type": "stream",
     "text": [
      "\u001b[32m[I 2022-03-15 15:59:11,354]\u001b[0m Trial 67 finished with value: 0.7537128712871287 and parameters: {'lambda': 0.5850317927846144, 'alpha': 0.7072156788279573, 'colsample_bytree': 0.6, 'subsample': 0.8, 'learning_rate': 0.009, 'max_depth': 5, 'random_state': 2020, 'min_child_weight': 96}. Best is trial 0 with value: 0.7537128712871287.\u001b[0m\n",
      "/home/chainyo/miniconda3/envs/challenge/lib/python3.8/site-packages/xgboost/sklearn.py:1224: UserWarning: The use of label encoder in XGBClassifier is deprecated and will be removed in a future release. To remove this warning, do the following: 1) Pass option use_label_encoder=False when constructing XGBClassifier object; and 2) Encode your labels (y) as integers starting with 0, i.e. 0, 1, 2, ..., [num_class - 1].\n",
      "  warnings.warn(label_encoder_deprecation_msg, UserWarning)\n"
     ]
    },
    {
     "name": "stdout",
     "output_type": "stream",
     "text": [
      "[15:59:11] WARNING: ../src/learner.cc:1115: Starting in XGBoost 1.3.0, the default evaluation metric used with the objective 'binary:logistic' was changed from 'error' to 'logloss'. Explicitly set eval_metric if you'd like to restore the old behavior.\n"
     ]
    },
    {
     "name": "stderr",
     "output_type": "stream",
     "text": [
      "\u001b[32m[I 2022-03-15 15:59:24,338]\u001b[0m Trial 68 finished with value: 0.7537128712871287 and parameters: {'lambda': 0.1370328907758072, 'alpha': 0.3170021717119763, 'colsample_bytree': 1.0, 'subsample': 1.0, 'learning_rate': 0.009, 'max_depth': 15, 'random_state': 2020, 'min_child_weight': 181}. Best is trial 0 with value: 0.7537128712871287.\u001b[0m\n",
      "/home/chainyo/miniconda3/envs/challenge/lib/python3.8/site-packages/xgboost/sklearn.py:1224: UserWarning: The use of label encoder in XGBClassifier is deprecated and will be removed in a future release. To remove this warning, do the following: 1) Pass option use_label_encoder=False when constructing XGBClassifier object; and 2) Encode your labels (y) as integers starting with 0, i.e. 0, 1, 2, ..., [num_class - 1].\n",
      "  warnings.warn(label_encoder_deprecation_msg, UserWarning)\n"
     ]
    },
    {
     "name": "stdout",
     "output_type": "stream",
     "text": [
      "[15:59:24] WARNING: ../src/learner.cc:1115: Starting in XGBoost 1.3.0, the default evaluation metric used with the objective 'binary:logistic' was changed from 'error' to 'logloss'. Explicitly set eval_metric if you'd like to restore the old behavior.\n"
     ]
    },
    {
     "name": "stderr",
     "output_type": "stream",
     "text": [
      "\u001b[32m[I 2022-03-15 15:59:29,707]\u001b[0m Trial 69 finished with value: 0.7537128712871287 and parameters: {'lambda': 0.13178453334356327, 'alpha': 0.8087605998570587, 'colsample_bytree': 0.4, 'subsample': 0.4, 'learning_rate': 0.008, 'max_depth': 17, 'random_state': 2020, 'min_child_weight': 123}. Best is trial 0 with value: 0.7537128712871287.\u001b[0m\n",
      "/home/chainyo/miniconda3/envs/challenge/lib/python3.8/site-packages/xgboost/sklearn.py:1224: UserWarning: The use of label encoder in XGBClassifier is deprecated and will be removed in a future release. To remove this warning, do the following: 1) Pass option use_label_encoder=False when constructing XGBClassifier object; and 2) Encode your labels (y) as integers starting with 0, i.e. 0, 1, 2, ..., [num_class - 1].\n",
      "  warnings.warn(label_encoder_deprecation_msg, UserWarning)\n"
     ]
    },
    {
     "name": "stdout",
     "output_type": "stream",
     "text": [
      "[15:59:29] WARNING: ../src/learner.cc:1115: Starting in XGBoost 1.3.0, the default evaluation metric used with the objective 'binary:logistic' was changed from 'error' to 'logloss'. Explicitly set eval_metric if you'd like to restore the old behavior.\n"
     ]
    },
    {
     "name": "stderr",
     "output_type": "stream",
     "text": [
      "\u001b[32m[I 2022-03-15 15:59:32,391]\u001b[0m Trial 70 finished with value: 0.7537128712871287 and parameters: {'lambda': 0.2674733963263331, 'alpha': 0.006382439481441425, 'colsample_bytree': 0.4, 'subsample': 0.7, 'learning_rate': 0.02, 'max_depth': 7, 'random_state': 2020, 'min_child_weight': 154}. Best is trial 0 with value: 0.7537128712871287.\u001b[0m\n",
      "/home/chainyo/miniconda3/envs/challenge/lib/python3.8/site-packages/xgboost/sklearn.py:1224: UserWarning: The use of label encoder in XGBClassifier is deprecated and will be removed in a future release. To remove this warning, do the following: 1) Pass option use_label_encoder=False when constructing XGBClassifier object; and 2) Encode your labels (y) as integers starting with 0, i.e. 0, 1, 2, ..., [num_class - 1].\n",
      "  warnings.warn(label_encoder_deprecation_msg, UserWarning)\n"
     ]
    },
    {
     "name": "stdout",
     "output_type": "stream",
     "text": [
      "[15:59:32] WARNING: ../src/learner.cc:1115: Starting in XGBoost 1.3.0, the default evaluation metric used with the objective 'binary:logistic' was changed from 'error' to 'logloss'. Explicitly set eval_metric if you'd like to restore the old behavior.\n"
     ]
    },
    {
     "name": "stderr",
     "output_type": "stream",
     "text": [
      "\u001b[32m[I 2022-03-15 15:59:36,370]\u001b[0m Trial 71 finished with value: 0.7537128712871287 and parameters: {'lambda': 0.002065269098313385, 'alpha': 0.0286656904143704, 'colsample_bytree': 0.3, 'subsample': 0.5, 'learning_rate': 0.018, 'max_depth': 20, 'random_state': 48, 'min_child_weight': 248}. Best is trial 0 with value: 0.7537128712871287.\u001b[0m\n",
      "/home/chainyo/miniconda3/envs/challenge/lib/python3.8/site-packages/xgboost/sklearn.py:1224: UserWarning: The use of label encoder in XGBClassifier is deprecated and will be removed in a future release. To remove this warning, do the following: 1) Pass option use_label_encoder=False when constructing XGBClassifier object; and 2) Encode your labels (y) as integers starting with 0, i.e. 0, 1, 2, ..., [num_class - 1].\n",
      "  warnings.warn(label_encoder_deprecation_msg, UserWarning)\n"
     ]
    },
    {
     "name": "stdout",
     "output_type": "stream",
     "text": [
      "[15:59:36] WARNING: ../src/learner.cc:1115: Starting in XGBoost 1.3.0, the default evaluation metric used with the objective 'binary:logistic' was changed from 'error' to 'logloss'. Explicitly set eval_metric if you'd like to restore the old behavior.\n"
     ]
    },
    {
     "name": "stderr",
     "output_type": "stream",
     "text": [
      "\u001b[32m[I 2022-03-15 15:59:46,777]\u001b[0m Trial 72 finished with value: 0.7537128712871287 and parameters: {'lambda': 0.001774551426149005, 'alpha': 0.02633680229790936, 'colsample_bytree': 0.3, 'subsample': 0.5, 'learning_rate': 0.012, 'max_depth': 20, 'random_state': 48, 'min_child_weight': 235}. Best is trial 0 with value: 0.7537128712871287.\u001b[0m\n",
      "/home/chainyo/miniconda3/envs/challenge/lib/python3.8/site-packages/xgboost/sklearn.py:1224: UserWarning: The use of label encoder in XGBClassifier is deprecated and will be removed in a future release. To remove this warning, do the following: 1) Pass option use_label_encoder=False when constructing XGBClassifier object; and 2) Encode your labels (y) as integers starting with 0, i.e. 0, 1, 2, ..., [num_class - 1].\n",
      "  warnings.warn(label_encoder_deprecation_msg, UserWarning)\n"
     ]
    },
    {
     "name": "stdout",
     "output_type": "stream",
     "text": [
      "[15:59:46] WARNING: ../src/learner.cc:1115: Starting in XGBoost 1.3.0, the default evaluation metric used with the objective 'binary:logistic' was changed from 'error' to 'logloss'. Explicitly set eval_metric if you'd like to restore the old behavior.\n"
     ]
    },
    {
     "name": "stderr",
     "output_type": "stream",
     "text": [
      "\u001b[32m[I 2022-03-15 15:59:49,943]\u001b[0m Trial 73 finished with value: 0.7537128712871287 and parameters: {'lambda': 0.003944300594835432, 'alpha': 0.002272828741733395, 'colsample_bytree': 0.3, 'subsample': 0.5, 'learning_rate': 0.018, 'max_depth': 11, 'random_state': 24, 'min_child_weight': 279}. Best is trial 0 with value: 0.7537128712871287.\u001b[0m\n",
      "/home/chainyo/miniconda3/envs/challenge/lib/python3.8/site-packages/xgboost/sklearn.py:1224: UserWarning: The use of label encoder in XGBClassifier is deprecated and will be removed in a future release. To remove this warning, do the following: 1) Pass option use_label_encoder=False when constructing XGBClassifier object; and 2) Encode your labels (y) as integers starting with 0, i.e. 0, 1, 2, ..., [num_class - 1].\n",
      "  warnings.warn(label_encoder_deprecation_msg, UserWarning)\n"
     ]
    },
    {
     "name": "stdout",
     "output_type": "stream",
     "text": [
      "[15:59:50] WARNING: ../src/learner.cc:1115: Starting in XGBoost 1.3.0, the default evaluation metric used with the objective 'binary:logistic' was changed from 'error' to 'logloss'. Explicitly set eval_metric if you'd like to restore the old behavior.\n"
     ]
    },
    {
     "name": "stderr",
     "output_type": "stream",
     "text": [
      "\u001b[32m[I 2022-03-15 15:59:54,497]\u001b[0m Trial 74 finished with value: 0.7537128712871287 and parameters: {'lambda': 0.08286731000518344, 'alpha': 0.007852048262454954, 'colsample_bytree': 0.8, 'subsample': 0.6, 'learning_rate': 0.012, 'max_depth': 13, 'random_state': 48, 'min_child_weight': 206}. Best is trial 0 with value: 0.7537128712871287.\u001b[0m\n",
      "/home/chainyo/miniconda3/envs/challenge/lib/python3.8/site-packages/xgboost/sklearn.py:1224: UserWarning: The use of label encoder in XGBClassifier is deprecated and will be removed in a future release. To remove this warning, do the following: 1) Pass option use_label_encoder=False when constructing XGBClassifier object; and 2) Encode your labels (y) as integers starting with 0, i.e. 0, 1, 2, ..., [num_class - 1].\n",
      "  warnings.warn(label_encoder_deprecation_msg, UserWarning)\n"
     ]
    },
    {
     "name": "stdout",
     "output_type": "stream",
     "text": [
      "[15:59:54] WARNING: ../src/learner.cc:1115: Starting in XGBoost 1.3.0, the default evaluation metric used with the objective 'binary:logistic' was changed from 'error' to 'logloss'. Explicitly set eval_metric if you'd like to restore the old behavior.\n"
     ]
    },
    {
     "name": "stderr",
     "output_type": "stream",
     "text": [
      "\u001b[32m[I 2022-03-15 15:59:57,834]\u001b[0m Trial 75 finished with value: 0.7537128712871287 and parameters: {'lambda': 0.02191830976518955, 'alpha': 0.004517712622095141, 'colsample_bytree': 0.8, 'subsample': 0.6, 'learning_rate': 0.018, 'max_depth': 13, 'random_state': 24, 'min_child_weight': 214}. Best is trial 0 with value: 0.7537128712871287.\u001b[0m\n",
      "/home/chainyo/miniconda3/envs/challenge/lib/python3.8/site-packages/xgboost/sklearn.py:1224: UserWarning: The use of label encoder in XGBClassifier is deprecated and will be removed in a future release. To remove this warning, do the following: 1) Pass option use_label_encoder=False when constructing XGBClassifier object; and 2) Encode your labels (y) as integers starting with 0, i.e. 0, 1, 2, ..., [num_class - 1].\n",
      "  warnings.warn(label_encoder_deprecation_msg, UserWarning)\n"
     ]
    },
    {
     "name": "stdout",
     "output_type": "stream",
     "text": [
      "[15:59:57] WARNING: ../src/learner.cc:1115: Starting in XGBoost 1.3.0, the default evaluation metric used with the objective 'binary:logistic' was changed from 'error' to 'logloss'. Explicitly set eval_metric if you'd like to restore the old behavior.\n"
     ]
    },
    {
     "name": "stderr",
     "output_type": "stream",
     "text": [
      "\u001b[32m[I 2022-03-15 16:00:01,400]\u001b[0m Trial 76 finished with value: 0.7537128712871287 and parameters: {'lambda': 0.001456888173862838, 'alpha': 0.018413937353761588, 'colsample_bytree': 0.5, 'subsample': 0.6, 'learning_rate': 0.018, 'max_depth': 13, 'random_state': 24, 'min_child_weight': 232}. Best is trial 0 with value: 0.7537128712871287.\u001b[0m\n",
      "/home/chainyo/miniconda3/envs/challenge/lib/python3.8/site-packages/xgboost/sklearn.py:1224: UserWarning: The use of label encoder in XGBClassifier is deprecated and will be removed in a future release. To remove this warning, do the following: 1) Pass option use_label_encoder=False when constructing XGBClassifier object; and 2) Encode your labels (y) as integers starting with 0, i.e. 0, 1, 2, ..., [num_class - 1].\n",
      "  warnings.warn(label_encoder_deprecation_msg, UserWarning)\n"
     ]
    },
    {
     "name": "stdout",
     "output_type": "stream",
     "text": [
      "[16:00:01] WARNING: ../src/learner.cc:1115: Starting in XGBoost 1.3.0, the default evaluation metric used with the objective 'binary:logistic' was changed from 'error' to 'logloss'. Explicitly set eval_metric if you'd like to restore the old behavior.\n"
     ]
    },
    {
     "name": "stderr",
     "output_type": "stream",
     "text": [
      "\u001b[32m[I 2022-03-15 16:00:06,800]\u001b[0m Trial 77 finished with value: 0.7537128712871287 and parameters: {'lambda': 0.10533572351453953, 'alpha': 0.02580181981595112, 'colsample_bytree': 0.5, 'subsample': 0.6, 'learning_rate': 0.012, 'max_depth': 13, 'random_state': 24, 'min_child_weight': 244}. Best is trial 0 with value: 0.7537128712871287.\u001b[0m\n",
      "/home/chainyo/miniconda3/envs/challenge/lib/python3.8/site-packages/xgboost/sklearn.py:1224: UserWarning: The use of label encoder in XGBClassifier is deprecated and will be removed in a future release. To remove this warning, do the following: 1) Pass option use_label_encoder=False when constructing XGBClassifier object; and 2) Encode your labels (y) as integers starting with 0, i.e. 0, 1, 2, ..., [num_class - 1].\n",
      "  warnings.warn(label_encoder_deprecation_msg, UserWarning)\n"
     ]
    },
    {
     "name": "stdout",
     "output_type": "stream",
     "text": [
      "[16:00:06] WARNING: ../src/learner.cc:1115: Starting in XGBoost 1.3.0, the default evaluation metric used with the objective 'binary:logistic' was changed from 'error' to 'logloss'. Explicitly set eval_metric if you'd like to restore the old behavior.\n"
     ]
    },
    {
     "name": "stderr",
     "output_type": "stream",
     "text": [
      "\u001b[32m[I 2022-03-15 16:00:14,292]\u001b[0m Trial 78 finished with value: 0.7537128712871287 and parameters: {'lambda': 0.001617587977384513, 'alpha': 0.060770816080284853, 'colsample_bytree': 0.5, 'subsample': 0.6, 'learning_rate': 0.008, 'max_depth': 13, 'random_state': 24, 'min_child_weight': 271}. Best is trial 0 with value: 0.7537128712871287.\u001b[0m\n",
      "/home/chainyo/miniconda3/envs/challenge/lib/python3.8/site-packages/xgboost/sklearn.py:1224: UserWarning: The use of label encoder in XGBClassifier is deprecated and will be removed in a future release. To remove this warning, do the following: 1) Pass option use_label_encoder=False when constructing XGBClassifier object; and 2) Encode your labels (y) as integers starting with 0, i.e. 0, 1, 2, ..., [num_class - 1].\n",
      "  warnings.warn(label_encoder_deprecation_msg, UserWarning)\n"
     ]
    },
    {
     "name": "stdout",
     "output_type": "stream",
     "text": [
      "[16:00:14] WARNING: ../src/learner.cc:1115: Starting in XGBoost 1.3.0, the default evaluation metric used with the objective 'binary:logistic' was changed from 'error' to 'logloss'. Explicitly set eval_metric if you'd like to restore the old behavior.\n"
     ]
    },
    {
     "name": "stderr",
     "output_type": "stream",
     "text": [
      "\u001b[32m[I 2022-03-15 16:00:17,417]\u001b[0m Trial 79 finished with value: 0.7537128712871287 and parameters: {'lambda': 0.0010195537836639535, 'alpha': 0.041373212249370066, 'colsample_bytree': 0.8, 'subsample': 0.4, 'learning_rate': 0.018, 'max_depth': 13, 'random_state': 24, 'min_child_weight': 253}. Best is trial 0 with value: 0.7537128712871287.\u001b[0m\n",
      "/home/chainyo/miniconda3/envs/challenge/lib/python3.8/site-packages/xgboost/sklearn.py:1224: UserWarning: The use of label encoder in XGBClassifier is deprecated and will be removed in a future release. To remove this warning, do the following: 1) Pass option use_label_encoder=False when constructing XGBClassifier object; and 2) Encode your labels (y) as integers starting with 0, i.e. 0, 1, 2, ..., [num_class - 1].\n",
      "  warnings.warn(label_encoder_deprecation_msg, UserWarning)\n"
     ]
    },
    {
     "name": "stdout",
     "output_type": "stream",
     "text": [
      "[16:00:17] WARNING: ../src/learner.cc:1115: Starting in XGBoost 1.3.0, the default evaluation metric used with the objective 'binary:logistic' was changed from 'error' to 'logloss'. Explicitly set eval_metric if you'd like to restore the old behavior.\n"
     ]
    },
    {
     "name": "stderr",
     "output_type": "stream",
     "text": [
      "\u001b[32m[I 2022-03-15 16:00:22,728]\u001b[0m Trial 80 finished with value: 0.7537128712871287 and parameters: {'lambda': 0.0012143042908238349, 'alpha': 0.12257906036501441, 'colsample_bytree': 0.8, 'subsample': 0.6, 'learning_rate': 0.018, 'max_depth': 20, 'random_state': 24, 'min_child_weight': 289}. Best is trial 0 with value: 0.7537128712871287.\u001b[0m\n",
      "/home/chainyo/miniconda3/envs/challenge/lib/python3.8/site-packages/xgboost/sklearn.py:1224: UserWarning: The use of label encoder in XGBClassifier is deprecated and will be removed in a future release. To remove this warning, do the following: 1) Pass option use_label_encoder=False when constructing XGBClassifier object; and 2) Encode your labels (y) as integers starting with 0, i.e. 0, 1, 2, ..., [num_class - 1].\n",
      "  warnings.warn(label_encoder_deprecation_msg, UserWarning)\n"
     ]
    },
    {
     "name": "stdout",
     "output_type": "stream",
     "text": [
      "[16:00:22] WARNING: ../src/learner.cc:1115: Starting in XGBoost 1.3.0, the default evaluation metric used with the objective 'binary:logistic' was changed from 'error' to 'logloss'. Explicitly set eval_metric if you'd like to restore the old behavior.\n"
     ]
    },
    {
     "name": "stderr",
     "output_type": "stream",
     "text": [
      "\u001b[32m[I 2022-03-15 16:00:27,487]\u001b[0m Trial 81 finished with value: 0.7537128712871287 and parameters: {'lambda': 0.004595926034651314, 'alpha': 0.19205215307816031, 'colsample_bytree': 0.5, 'subsample': 0.6, 'learning_rate': 0.016, 'max_depth': 13, 'random_state': 24, 'min_child_weight': 290}. Best is trial 0 with value: 0.7537128712871287.\u001b[0m\n",
      "/home/chainyo/miniconda3/envs/challenge/lib/python3.8/site-packages/xgboost/sklearn.py:1224: UserWarning: The use of label encoder in XGBClassifier is deprecated and will be removed in a future release. To remove this warning, do the following: 1) Pass option use_label_encoder=False when constructing XGBClassifier object; and 2) Encode your labels (y) as integers starting with 0, i.e. 0, 1, 2, ..., [num_class - 1].\n",
      "  warnings.warn(label_encoder_deprecation_msg, UserWarning)\n"
     ]
    },
    {
     "name": "stdout",
     "output_type": "stream",
     "text": [
      "[16:00:27] WARNING: ../src/learner.cc:1115: Starting in XGBoost 1.3.0, the default evaluation metric used with the objective 'binary:logistic' was changed from 'error' to 'logloss'. Explicitly set eval_metric if you'd like to restore the old behavior.\n"
     ]
    },
    {
     "name": "stderr",
     "output_type": "stream",
     "text": [
      "\u001b[32m[I 2022-03-15 16:00:30,638]\u001b[0m Trial 82 finished with value: 0.7537128712871287 and parameters: {'lambda': 0.0030962927642743166, 'alpha': 0.08484332509368335, 'colsample_bytree': 0.6, 'subsample': 0.8, 'learning_rate': 0.016, 'max_depth': 5, 'random_state': 24, 'min_child_weight': 203}. Best is trial 0 with value: 0.7537128712871287.\u001b[0m\n",
      "/home/chainyo/miniconda3/envs/challenge/lib/python3.8/site-packages/xgboost/sklearn.py:1224: UserWarning: The use of label encoder in XGBClassifier is deprecated and will be removed in a future release. To remove this warning, do the following: 1) Pass option use_label_encoder=False when constructing XGBClassifier object; and 2) Encode your labels (y) as integers starting with 0, i.e. 0, 1, 2, ..., [num_class - 1].\n",
      "  warnings.warn(label_encoder_deprecation_msg, UserWarning)\n"
     ]
    },
    {
     "name": "stdout",
     "output_type": "stream",
     "text": [
      "[16:00:30] WARNING: ../src/learner.cc:1115: Starting in XGBoost 1.3.0, the default evaluation metric used with the objective 'binary:logistic' was changed from 'error' to 'logloss'. Explicitly set eval_metric if you'd like to restore the old behavior.\n"
     ]
    },
    {
     "name": "stderr",
     "output_type": "stream",
     "text": [
      "\u001b[32m[I 2022-03-15 16:00:33,552]\u001b[0m Trial 83 finished with value: 0.7537128712871287 and parameters: {'lambda': 0.006014476937057609, 'alpha': 0.18185470679281315, 'colsample_bytree': 0.6, 'subsample': 0.8, 'learning_rate': 0.016, 'max_depth': 20, 'random_state': 24, 'min_child_weight': 195}. Best is trial 0 with value: 0.7537128712871287.\u001b[0m\n",
      "/home/chainyo/miniconda3/envs/challenge/lib/python3.8/site-packages/xgboost/sklearn.py:1224: UserWarning: The use of label encoder in XGBClassifier is deprecated and will be removed in a future release. To remove this warning, do the following: 1) Pass option use_label_encoder=False when constructing XGBClassifier object; and 2) Encode your labels (y) as integers starting with 0, i.e. 0, 1, 2, ..., [num_class - 1].\n",
      "  warnings.warn(label_encoder_deprecation_msg, UserWarning)\n"
     ]
    },
    {
     "name": "stdout",
     "output_type": "stream",
     "text": [
      "[16:00:33] WARNING: ../src/learner.cc:1115: Starting in XGBoost 1.3.0, the default evaluation metric used with the objective 'binary:logistic' was changed from 'error' to 'logloss'. Explicitly set eval_metric if you'd like to restore the old behavior.\n"
     ]
    },
    {
     "name": "stderr",
     "output_type": "stream",
     "text": [
      "\u001b[32m[I 2022-03-15 16:00:37,767]\u001b[0m Trial 84 finished with value: 0.7537128712871287 and parameters: {'lambda': 0.3471759525923892, 'alpha': 0.15067116526804425, 'colsample_bytree': 0.7, 'subsample': 0.8, 'learning_rate': 0.016, 'max_depth': 5, 'random_state': 24, 'min_child_weight': 77}. Best is trial 0 with value: 0.7537128712871287.\u001b[0m\n",
      "/home/chainyo/miniconda3/envs/challenge/lib/python3.8/site-packages/xgboost/sklearn.py:1224: UserWarning: The use of label encoder in XGBClassifier is deprecated and will be removed in a future release. To remove this warning, do the following: 1) Pass option use_label_encoder=False when constructing XGBClassifier object; and 2) Encode your labels (y) as integers starting with 0, i.e. 0, 1, 2, ..., [num_class - 1].\n",
      "  warnings.warn(label_encoder_deprecation_msg, UserWarning)\n"
     ]
    },
    {
     "name": "stdout",
     "output_type": "stream",
     "text": [
      "[16:00:38] WARNING: ../src/learner.cc:1115: Starting in XGBoost 1.3.0, the default evaluation metric used with the objective 'binary:logistic' was changed from 'error' to 'logloss'. Explicitly set eval_metric if you'd like to restore the old behavior.\n"
     ]
    },
    {
     "name": "stderr",
     "output_type": "stream",
     "text": [
      "\u001b[32m[I 2022-03-15 16:00:41,461]\u001b[0m Trial 85 finished with value: 0.7537128712871287 and parameters: {'lambda': 0.0013519231831236977, 'alpha': 0.3221753585283935, 'colsample_bytree': 0.7, 'subsample': 0.8, 'learning_rate': 0.016, 'max_depth': 5, 'random_state': 24, 'min_child_weight': 44}. Best is trial 0 with value: 0.7537128712871287.\u001b[0m\n",
      "/home/chainyo/miniconda3/envs/challenge/lib/python3.8/site-packages/xgboost/sklearn.py:1224: UserWarning: The use of label encoder in XGBClassifier is deprecated and will be removed in a future release. To remove this warning, do the following: 1) Pass option use_label_encoder=False when constructing XGBClassifier object; and 2) Encode your labels (y) as integers starting with 0, i.e. 0, 1, 2, ..., [num_class - 1].\n",
      "  warnings.warn(label_encoder_deprecation_msg, UserWarning)\n"
     ]
    },
    {
     "name": "stdout",
     "output_type": "stream",
     "text": [
      "[16:00:41] WARNING: ../src/learner.cc:1115: Starting in XGBoost 1.3.0, the default evaluation metric used with the objective 'binary:logistic' was changed from 'error' to 'logloss'. Explicitly set eval_metric if you'd like to restore the old behavior.\n"
     ]
    },
    {
     "name": "stderr",
     "output_type": "stream",
     "text": [
      "\u001b[32m[I 2022-03-15 16:00:47,545]\u001b[0m Trial 86 finished with value: 0.7537128712871287 and parameters: {'lambda': 0.2437998214132617, 'alpha': 0.08347158725004297, 'colsample_bytree': 1.0, 'subsample': 0.8, 'learning_rate': 0.014, 'max_depth': 5, 'random_state': 24, 'min_child_weight': 87}. Best is trial 0 with value: 0.7537128712871287.\u001b[0m\n",
      "/home/chainyo/miniconda3/envs/challenge/lib/python3.8/site-packages/xgboost/sklearn.py:1224: UserWarning: The use of label encoder in XGBClassifier is deprecated and will be removed in a future release. To remove this warning, do the following: 1) Pass option use_label_encoder=False when constructing XGBClassifier object; and 2) Encode your labels (y) as integers starting with 0, i.e. 0, 1, 2, ..., [num_class - 1].\n",
      "  warnings.warn(label_encoder_deprecation_msg, UserWarning)\n"
     ]
    },
    {
     "name": "stdout",
     "output_type": "stream",
     "text": [
      "[16:00:47] WARNING: ../src/learner.cc:1115: Starting in XGBoost 1.3.0, the default evaluation metric used with the objective 'binary:logistic' was changed from 'error' to 'logloss'. Explicitly set eval_metric if you'd like to restore the old behavior.\n"
     ]
    },
    {
     "name": "stderr",
     "output_type": "stream",
     "text": [
      "\u001b[32m[I 2022-03-15 16:00:51,402]\u001b[0m Trial 87 finished with value: 0.7537128712871287 and parameters: {'lambda': 0.44046770411386604, 'alpha': 5.4173751482776975, 'colsample_bytree': 0.6, 'subsample': 0.7, 'learning_rate': 0.014, 'max_depth': 5, 'random_state': 24, 'min_child_weight': 130}. Best is trial 0 with value: 0.7537128712871287.\u001b[0m\n",
      "/home/chainyo/miniconda3/envs/challenge/lib/python3.8/site-packages/xgboost/sklearn.py:1224: UserWarning: The use of label encoder in XGBClassifier is deprecated and will be removed in a future release. To remove this warning, do the following: 1) Pass option use_label_encoder=False when constructing XGBClassifier object; and 2) Encode your labels (y) as integers starting with 0, i.e. 0, 1, 2, ..., [num_class - 1].\n",
      "  warnings.warn(label_encoder_deprecation_msg, UserWarning)\n"
     ]
    },
    {
     "name": "stdout",
     "output_type": "stream",
     "text": [
      "[16:00:51] WARNING: ../src/learner.cc:1115: Starting in XGBoost 1.3.0, the default evaluation metric used with the objective 'binary:logistic' was changed from 'error' to 'logloss'. Explicitly set eval_metric if you'd like to restore the old behavior.\n"
     ]
    },
    {
     "name": "stderr",
     "output_type": "stream",
     "text": [
      "\u001b[32m[I 2022-03-15 16:00:56,898]\u001b[0m Trial 88 finished with value: 0.7537128712871287 and parameters: {'lambda': 0.7673515348181154, 'alpha': 5.80467020429278, 'colsample_bytree': 0.7, 'subsample': 0.7, 'learning_rate': 0.014, 'max_depth': 7, 'random_state': 24, 'min_child_weight': 138}. Best is trial 0 with value: 0.7537128712871287.\u001b[0m\n",
      "/home/chainyo/miniconda3/envs/challenge/lib/python3.8/site-packages/xgboost/sklearn.py:1224: UserWarning: The use of label encoder in XGBClassifier is deprecated and will be removed in a future release. To remove this warning, do the following: 1) Pass option use_label_encoder=False when constructing XGBClassifier object; and 2) Encode your labels (y) as integers starting with 0, i.e. 0, 1, 2, ..., [num_class - 1].\n",
      "  warnings.warn(label_encoder_deprecation_msg, UserWarning)\n"
     ]
    },
    {
     "name": "stdout",
     "output_type": "stream",
     "text": [
      "[16:00:56] WARNING: ../src/learner.cc:1115: Starting in XGBoost 1.3.0, the default evaluation metric used with the objective 'binary:logistic' was changed from 'error' to 'logloss'. Explicitly set eval_metric if you'd like to restore the old behavior.\n"
     ]
    },
    {
     "name": "stderr",
     "output_type": "stream",
     "text": [
      "\u001b[32m[I 2022-03-15 16:01:01,281]\u001b[0m Trial 89 finished with value: 0.7537128712871287 and parameters: {'lambda': 1.0916879720738561, 'alpha': 8.7045672681265, 'colsample_bytree': 0.6, 'subsample': 0.7, 'learning_rate': 0.014, 'max_depth': 7, 'random_state': 24, 'min_child_weight': 162}. Best is trial 0 with value: 0.7537128712871287.\u001b[0m\n",
      "/home/chainyo/miniconda3/envs/challenge/lib/python3.8/site-packages/xgboost/sklearn.py:1224: UserWarning: The use of label encoder in XGBClassifier is deprecated and will be removed in a future release. To remove this warning, do the following: 1) Pass option use_label_encoder=False when constructing XGBClassifier object; and 2) Encode your labels (y) as integers starting with 0, i.e. 0, 1, 2, ..., [num_class - 1].\n",
      "  warnings.warn(label_encoder_deprecation_msg, UserWarning)\n"
     ]
    },
    {
     "name": "stdout",
     "output_type": "stream",
     "text": [
      "[16:01:01] WARNING: ../src/learner.cc:1115: Starting in XGBoost 1.3.0, the default evaluation metric used with the objective 'binary:logistic' was changed from 'error' to 'logloss'. Explicitly set eval_metric if you'd like to restore the old behavior.\n"
     ]
    },
    {
     "name": "stderr",
     "output_type": "stream",
     "text": [
      "\u001b[32m[I 2022-03-15 16:01:04,765]\u001b[0m Trial 90 finished with value: 0.7537128712871287 and parameters: {'lambda': 4.953827384638132, 'alpha': 0.43435444925074446, 'colsample_bytree': 0.7, 'subsample': 0.7, 'learning_rate': 0.014, 'max_depth': 17, 'random_state': 2020, 'min_child_weight': 144}. Best is trial 0 with value: 0.7537128712871287.\u001b[0m\n",
      "/home/chainyo/miniconda3/envs/challenge/lib/python3.8/site-packages/xgboost/sklearn.py:1224: UserWarning: The use of label encoder in XGBClassifier is deprecated and will be removed in a future release. To remove this warning, do the following: 1) Pass option use_label_encoder=False when constructing XGBClassifier object; and 2) Encode your labels (y) as integers starting with 0, i.e. 0, 1, 2, ..., [num_class - 1].\n",
      "  warnings.warn(label_encoder_deprecation_msg, UserWarning)\n"
     ]
    },
    {
     "name": "stdout",
     "output_type": "stream",
     "text": [
      "[16:01:04] WARNING: ../src/learner.cc:1115: Starting in XGBoost 1.3.0, the default evaluation metric used with the objective 'binary:logistic' was changed from 'error' to 'logloss'. Explicitly set eval_metric if you'd like to restore the old behavior.\n"
     ]
    },
    {
     "name": "stderr",
     "output_type": "stream",
     "text": [
      "\u001b[32m[I 2022-03-15 16:01:08,811]\u001b[0m Trial 91 finished with value: 0.7537128712871287 and parameters: {'lambda': 2.825602637603427, 'alpha': 1.3128922079187177, 'colsample_bytree': 1.0, 'subsample': 0.4, 'learning_rate': 0.008, 'max_depth': 7, 'random_state': 2020, 'min_child_weight': 18}. Best is trial 0 with value: 0.7537128712871287.\u001b[0m\n",
      "/home/chainyo/miniconda3/envs/challenge/lib/python3.8/site-packages/xgboost/sklearn.py:1224: UserWarning: The use of label encoder in XGBClassifier is deprecated and will be removed in a future release. To remove this warning, do the following: 1) Pass option use_label_encoder=False when constructing XGBClassifier object; and 2) Encode your labels (y) as integers starting with 0, i.e. 0, 1, 2, ..., [num_class - 1].\n",
      "  warnings.warn(label_encoder_deprecation_msg, UserWarning)\n"
     ]
    },
    {
     "name": "stdout",
     "output_type": "stream",
     "text": [
      "[16:01:08] WARNING: ../src/learner.cc:1115: Starting in XGBoost 1.3.0, the default evaluation metric used with the objective 'binary:logistic' was changed from 'error' to 'logloss'. Explicitly set eval_metric if you'd like to restore the old behavior.\n"
     ]
    },
    {
     "name": "stderr",
     "output_type": "stream",
     "text": [
      "\u001b[32m[I 2022-03-15 16:01:12,019]\u001b[0m Trial 92 finished with value: 0.7537128712871287 and parameters: {'lambda': 1.9055527866887916, 'alpha': 2.915395124345372, 'colsample_bytree': 0.4, 'subsample': 1.0, 'learning_rate': 0.009, 'max_depth': 7, 'random_state': 2020, 'min_child_weight': 49}. Best is trial 0 with value: 0.7537128712871287.\u001b[0m\n",
      "/home/chainyo/miniconda3/envs/challenge/lib/python3.8/site-packages/xgboost/sklearn.py:1224: UserWarning: The use of label encoder in XGBClassifier is deprecated and will be removed in a future release. To remove this warning, do the following: 1) Pass option use_label_encoder=False when constructing XGBClassifier object; and 2) Encode your labels (y) as integers starting with 0, i.e. 0, 1, 2, ..., [num_class - 1].\n",
      "  warnings.warn(label_encoder_deprecation_msg, UserWarning)\n"
     ]
    },
    {
     "name": "stdout",
     "output_type": "stream",
     "text": [
      "[16:01:12] WARNING: ../src/learner.cc:1115: Starting in XGBoost 1.3.0, the default evaluation metric used with the objective 'binary:logistic' was changed from 'error' to 'logloss'. Explicitly set eval_metric if you'd like to restore the old behavior.\n"
     ]
    },
    {
     "name": "stderr",
     "output_type": "stream",
     "text": [
      "\u001b[32m[I 2022-03-15 16:01:15,844]\u001b[0m Trial 93 finished with value: 0.7537128712871287 and parameters: {'lambda': 1.5521304888360563, 'alpha': 2.1332583507646086, 'colsample_bytree': 0.4, 'subsample': 0.4, 'learning_rate': 0.008, 'max_depth': 17, 'random_state': 2020, 'min_child_weight': 66}. Best is trial 0 with value: 0.7537128712871287.\u001b[0m\n",
      "/home/chainyo/miniconda3/envs/challenge/lib/python3.8/site-packages/xgboost/sklearn.py:1224: UserWarning: The use of label encoder in XGBClassifier is deprecated and will be removed in a future release. To remove this warning, do the following: 1) Pass option use_label_encoder=False when constructing XGBClassifier object; and 2) Encode your labels (y) as integers starting with 0, i.e. 0, 1, 2, ..., [num_class - 1].\n",
      "  warnings.warn(label_encoder_deprecation_msg, UserWarning)\n"
     ]
    },
    {
     "name": "stdout",
     "output_type": "stream",
     "text": [
      "[16:01:15] WARNING: ../src/learner.cc:1115: Starting in XGBoost 1.3.0, the default evaluation metric used with the objective 'binary:logistic' was changed from 'error' to 'logloss'. Explicitly set eval_metric if you'd like to restore the old behavior.\n"
     ]
    },
    {
     "name": "stderr",
     "output_type": "stream",
     "text": [
      "\u001b[32m[I 2022-03-15 16:01:21,347]\u001b[0m Trial 94 finished with value: 0.7537128712871287 and parameters: {'lambda': 2.206254344847714, 'alpha': 0.7636370592555303, 'colsample_bytree': 1.0, 'subsample': 0.4, 'learning_rate': 0.009, 'max_depth': 5, 'random_state': 2020, 'min_child_weight': 37}. Best is trial 0 with value: 0.7537128712871287.\u001b[0m\n",
      "/home/chainyo/miniconda3/envs/challenge/lib/python3.8/site-packages/xgboost/sklearn.py:1224: UserWarning: The use of label encoder in XGBClassifier is deprecated and will be removed in a future release. To remove this warning, do the following: 1) Pass option use_label_encoder=False when constructing XGBClassifier object; and 2) Encode your labels (y) as integers starting with 0, i.e. 0, 1, 2, ..., [num_class - 1].\n",
      "  warnings.warn(label_encoder_deprecation_msg, UserWarning)\n"
     ]
    },
    {
     "name": "stdout",
     "output_type": "stream",
     "text": [
      "[16:01:21] WARNING: ../src/learner.cc:1115: Starting in XGBoost 1.3.0, the default evaluation metric used with the objective 'binary:logistic' was changed from 'error' to 'logloss'. Explicitly set eval_metric if you'd like to restore the old behavior.\n"
     ]
    },
    {
     "name": "stderr",
     "output_type": "stream",
     "text": [
      "\u001b[32m[I 2022-03-15 16:01:25,342]\u001b[0m Trial 95 finished with value: 0.7537128712871287 and parameters: {'lambda': 3.474408873059638, 'alpha': 2.859403319617271, 'colsample_bytree': 1.0, 'subsample': 1.0, 'learning_rate': 0.009, 'max_depth': 15, 'random_state': 2020, 'min_child_weight': 61}. Best is trial 0 with value: 0.7537128712871287.\u001b[0m\n",
      "/home/chainyo/miniconda3/envs/challenge/lib/python3.8/site-packages/xgboost/sklearn.py:1224: UserWarning: The use of label encoder in XGBClassifier is deprecated and will be removed in a future release. To remove this warning, do the following: 1) Pass option use_label_encoder=False when constructing XGBClassifier object; and 2) Encode your labels (y) as integers starting with 0, i.e. 0, 1, 2, ..., [num_class - 1].\n",
      "  warnings.warn(label_encoder_deprecation_msg, UserWarning)\n"
     ]
    },
    {
     "name": "stdout",
     "output_type": "stream",
     "text": [
      "[16:01:25] WARNING: ../src/learner.cc:1115: Starting in XGBoost 1.3.0, the default evaluation metric used with the objective 'binary:logistic' was changed from 'error' to 'logloss'. Explicitly set eval_metric if you'd like to restore the old behavior.\n"
     ]
    },
    {
     "name": "stderr",
     "output_type": "stream",
     "text": [
      "\u001b[32m[I 2022-03-15 16:01:29,926]\u001b[0m Trial 96 finished with value: 0.7537128712871287 and parameters: {'lambda': 4.78883494360768, 'alpha': 0.7888358640863529, 'colsample_bytree': 0.4, 'subsample': 0.4, 'learning_rate': 0.008, 'max_depth': 17, 'random_state': 2020, 'min_child_weight': 114}. Best is trial 0 with value: 0.7537128712871287.\u001b[0m\n",
      "/home/chainyo/miniconda3/envs/challenge/lib/python3.8/site-packages/xgboost/sklearn.py:1224: UserWarning: The use of label encoder in XGBClassifier is deprecated and will be removed in a future release. To remove this warning, do the following: 1) Pass option use_label_encoder=False when constructing XGBClassifier object; and 2) Encode your labels (y) as integers starting with 0, i.e. 0, 1, 2, ..., [num_class - 1].\n",
      "  warnings.warn(label_encoder_deprecation_msg, UserWarning)\n"
     ]
    },
    {
     "name": "stdout",
     "output_type": "stream",
     "text": [
      "[16:01:30] WARNING: ../src/learner.cc:1115: Starting in XGBoost 1.3.0, the default evaluation metric used with the objective 'binary:logistic' was changed from 'error' to 'logloss'. Explicitly set eval_metric if you'd like to restore the old behavior.\n"
     ]
    },
    {
     "name": "stderr",
     "output_type": "stream",
     "text": [
      "\u001b[32m[I 2022-03-15 16:01:35,128]\u001b[0m Trial 97 finished with value: 0.7537128712871287 and parameters: {'lambda': 1.3694139053187433, 'alpha': 1.1016191952946517, 'colsample_bytree': 0.4, 'subsample': 0.4, 'learning_rate': 0.008, 'max_depth': 17, 'random_state': 2020, 'min_child_weight': 171}. Best is trial 0 with value: 0.7537128712871287.\u001b[0m\n",
      "/home/chainyo/miniconda3/envs/challenge/lib/python3.8/site-packages/xgboost/sklearn.py:1224: UserWarning: The use of label encoder in XGBClassifier is deprecated and will be removed in a future release. To remove this warning, do the following: 1) Pass option use_label_encoder=False when constructing XGBClassifier object; and 2) Encode your labels (y) as integers starting with 0, i.e. 0, 1, 2, ..., [num_class - 1].\n",
      "  warnings.warn(label_encoder_deprecation_msg, UserWarning)\n"
     ]
    },
    {
     "name": "stdout",
     "output_type": "stream",
     "text": [
      "[16:01:35] WARNING: ../src/learner.cc:1115: Starting in XGBoost 1.3.0, the default evaluation metric used with the objective 'binary:logistic' was changed from 'error' to 'logloss'. Explicitly set eval_metric if you'd like to restore the old behavior.\n"
     ]
    },
    {
     "name": "stderr",
     "output_type": "stream",
     "text": [
      "\u001b[32m[I 2022-03-15 16:01:41,967]\u001b[0m Trial 98 finished with value: 0.7537128712871287 and parameters: {'lambda': 0.12589632770423845, 'alpha': 0.674615945103036, 'colsample_bytree': 1.0, 'subsample': 0.7, 'learning_rate': 0.009, 'max_depth': 7, 'random_state': 2020, 'min_child_weight': 155}. Best is trial 0 with value: 0.7537128712871287.\u001b[0m\n",
      "/home/chainyo/miniconda3/envs/challenge/lib/python3.8/site-packages/xgboost/sklearn.py:1224: UserWarning: The use of label encoder in XGBClassifier is deprecated and will be removed in a future release. To remove this warning, do the following: 1) Pass option use_label_encoder=False when constructing XGBClassifier object; and 2) Encode your labels (y) as integers starting with 0, i.e. 0, 1, 2, ..., [num_class - 1].\n",
      "  warnings.warn(label_encoder_deprecation_msg, UserWarning)\n"
     ]
    },
    {
     "name": "stdout",
     "output_type": "stream",
     "text": [
      "[16:01:42] WARNING: ../src/learner.cc:1115: Starting in XGBoost 1.3.0, the default evaluation metric used with the objective 'binary:logistic' was changed from 'error' to 'logloss'. Explicitly set eval_metric if you'd like to restore the old behavior.\n"
     ]
    },
    {
     "name": "stderr",
     "output_type": "stream",
     "text": [
      "\u001b[32m[I 2022-03-15 16:01:47,567]\u001b[0m Trial 99 finished with value: 0.75 and parameters: {'lambda': 0.2482591832463003, 'alpha': 0.5889086042254222, 'colsample_bytree': 0.4, 'subsample': 0.4, 'learning_rate': 0.008, 'max_depth': 7, 'random_state': 2020, 'min_child_weight': 1}. Best is trial 0 with value: 0.7537128712871287.\u001b[0m\n"
     ]
    },
    {
     "name": "stdout",
     "output_type": "stream",
     "text": [
      "FrozenTrial(number=0, values=[0.7537128712871287], datetime_start=datetime.datetime(2022, 3, 15, 15, 54, 40, 603385), datetime_complete=datetime.datetime(2022, 3, 15, 15, 54, 41, 690080), params={'lambda': 0.13504936679151183, 'alpha': 0.030006315982995347, 'colsample_bytree': 0.4, 'subsample': 0.4, 'learning_rate': 0.008, 'max_depth': 20, 'random_state': 24, 'min_child_weight': 256}, distributions={'lambda': LogUniformDistribution(high=10.0, low=0.001), 'alpha': LogUniformDistribution(high=10.0, low=0.001), 'colsample_bytree': CategoricalDistribution(choices=(0.3, 0.4, 0.5, 0.6, 0.7, 0.8, 0.9, 1.0)), 'subsample': CategoricalDistribution(choices=(0.4, 0.5, 0.6, 0.7, 0.8, 1.0)), 'learning_rate': CategoricalDistribution(choices=(0.008, 0.009, 0.01, 0.012, 0.014, 0.016, 0.018, 0.02)), 'max_depth': CategoricalDistribution(choices=(5, 7, 9, 11, 13, 15, 17, 20)), 'random_state': CategoricalDistribution(choices=(24, 48, 2020)), 'min_child_weight': IntUniformDistribution(high=300, low=1, step=1)}, user_attrs={}, system_attrs={}, intermediate_values={}, trial_id=0, state=TrialState.COMPLETE, value=None)\n"
     ]
    }
   ],
   "source": [
    "study = optuna.create_study(direction=\"maximize\")\n",
    "study.optimize(objective, n_trials=100)\n",
    "print(study.best_trial)"
   ]
  },
  {
   "cell_type": "code",
   "execution_count": 30,
   "metadata": {},
   "outputs": [
    {
     "data": {
      "text/html": [
       "<div>\n",
       "<style scoped>\n",
       "    .dataframe tbody tr th:only-of-type {\n",
       "        vertical-align: middle;\n",
       "    }\n",
       "\n",
       "    .dataframe tbody tr th {\n",
       "        vertical-align: top;\n",
       "    }\n",
       "\n",
       "    .dataframe thead th {\n",
       "        text-align: right;\n",
       "    }\n",
       "</style>\n",
       "<table border=\"1\" class=\"dataframe\">\n",
       "  <thead>\n",
       "    <tr style=\"text-align: right;\">\n",
       "      <th></th>\n",
       "      <th>number</th>\n",
       "      <th>value</th>\n",
       "      <th>datetime_start</th>\n",
       "      <th>datetime_complete</th>\n",
       "      <th>duration</th>\n",
       "      <th>params_alpha</th>\n",
       "      <th>params_colsample_bytree</th>\n",
       "      <th>params_lambda</th>\n",
       "      <th>params_learning_rate</th>\n",
       "      <th>params_max_depth</th>\n",
       "      <th>params_min_child_weight</th>\n",
       "      <th>params_random_state</th>\n",
       "      <th>params_subsample</th>\n",
       "      <th>state</th>\n",
       "    </tr>\n",
       "  </thead>\n",
       "  <tbody>\n",
       "    <tr>\n",
       "      <th>0</th>\n",
       "      <td>0</td>\n",
       "      <td>0.753713</td>\n",
       "      <td>2022-03-15 15:54:40.603385</td>\n",
       "      <td>2022-03-15 15:54:41.690080</td>\n",
       "      <td>0 days 00:00:01.086695</td>\n",
       "      <td>0.030006</td>\n",
       "      <td>0.4</td>\n",
       "      <td>0.135049</td>\n",
       "      <td>0.008</td>\n",
       "      <td>20</td>\n",
       "      <td>256</td>\n",
       "      <td>24</td>\n",
       "      <td>0.4</td>\n",
       "      <td>COMPLETE</td>\n",
       "    </tr>\n",
       "    <tr>\n",
       "      <th>1</th>\n",
       "      <td>1</td>\n",
       "      <td>0.753713</td>\n",
       "      <td>2022-03-15 15:54:41.690928</td>\n",
       "      <td>2022-03-15 15:54:45.698216</td>\n",
       "      <td>0 days 00:00:04.007288</td>\n",
       "      <td>0.265553</td>\n",
       "      <td>0.8</td>\n",
       "      <td>0.405490</td>\n",
       "      <td>0.012</td>\n",
       "      <td>20</td>\n",
       "      <td>48</td>\n",
       "      <td>48</td>\n",
       "      <td>0.4</td>\n",
       "      <td>COMPLETE</td>\n",
       "    </tr>\n",
       "    <tr>\n",
       "      <th>2</th>\n",
       "      <td>2</td>\n",
       "      <td>0.753713</td>\n",
       "      <td>2022-03-15 15:54:45.699213</td>\n",
       "      <td>2022-03-15 15:54:49.696446</td>\n",
       "      <td>0 days 00:00:03.997233</td>\n",
       "      <td>0.064589</td>\n",
       "      <td>0.5</td>\n",
       "      <td>2.629674</td>\n",
       "      <td>0.012</td>\n",
       "      <td>5</td>\n",
       "      <td>134</td>\n",
       "      <td>48</td>\n",
       "      <td>1.0</td>\n",
       "      <td>COMPLETE</td>\n",
       "    </tr>\n",
       "    <tr>\n",
       "      <th>3</th>\n",
       "      <td>3</td>\n",
       "      <td>0.753713</td>\n",
       "      <td>2022-03-15 15:54:49.697503</td>\n",
       "      <td>2022-03-15 15:54:52.765159</td>\n",
       "      <td>0 days 00:00:03.067656</td>\n",
       "      <td>0.008272</td>\n",
       "      <td>0.9</td>\n",
       "      <td>0.086760</td>\n",
       "      <td>0.016</td>\n",
       "      <td>17</td>\n",
       "      <td>239</td>\n",
       "      <td>24</td>\n",
       "      <td>0.4</td>\n",
       "      <td>COMPLETE</td>\n",
       "    </tr>\n",
       "    <tr>\n",
       "      <th>4</th>\n",
       "      <td>4</td>\n",
       "      <td>0.753713</td>\n",
       "      <td>2022-03-15 15:54:52.766132</td>\n",
       "      <td>2022-03-15 15:54:56.666328</td>\n",
       "      <td>0 days 00:00:03.900196</td>\n",
       "      <td>0.797991</td>\n",
       "      <td>0.6</td>\n",
       "      <td>3.096510</td>\n",
       "      <td>0.009</td>\n",
       "      <td>5</td>\n",
       "      <td>26</td>\n",
       "      <td>48</td>\n",
       "      <td>0.7</td>\n",
       "      <td>COMPLETE</td>\n",
       "    </tr>\n",
       "    <tr>\n",
       "      <th>...</th>\n",
       "      <td>...</td>\n",
       "      <td>...</td>\n",
       "      <td>...</td>\n",
       "      <td>...</td>\n",
       "      <td>...</td>\n",
       "      <td>...</td>\n",
       "      <td>...</td>\n",
       "      <td>...</td>\n",
       "      <td>...</td>\n",
       "      <td>...</td>\n",
       "      <td>...</td>\n",
       "      <td>...</td>\n",
       "      <td>...</td>\n",
       "      <td>...</td>\n",
       "    </tr>\n",
       "    <tr>\n",
       "      <th>95</th>\n",
       "      <td>95</td>\n",
       "      <td>0.753713</td>\n",
       "      <td>2022-03-15 16:01:21.348403</td>\n",
       "      <td>2022-03-15 16:01:25.342306</td>\n",
       "      <td>0 days 00:00:03.993903</td>\n",
       "      <td>2.859403</td>\n",
       "      <td>1.0</td>\n",
       "      <td>3.474409</td>\n",
       "      <td>0.009</td>\n",
       "      <td>15</td>\n",
       "      <td>61</td>\n",
       "      <td>2020</td>\n",
       "      <td>1.0</td>\n",
       "      <td>COMPLETE</td>\n",
       "    </tr>\n",
       "    <tr>\n",
       "      <th>96</th>\n",
       "      <td>96</td>\n",
       "      <td>0.753713</td>\n",
       "      <td>2022-03-15 16:01:25.343646</td>\n",
       "      <td>2022-03-15 16:01:29.926534</td>\n",
       "      <td>0 days 00:00:04.582888</td>\n",
       "      <td>0.788836</td>\n",
       "      <td>0.4</td>\n",
       "      <td>4.788835</td>\n",
       "      <td>0.008</td>\n",
       "      <td>17</td>\n",
       "      <td>114</td>\n",
       "      <td>2020</td>\n",
       "      <td>0.4</td>\n",
       "      <td>COMPLETE</td>\n",
       "    </tr>\n",
       "    <tr>\n",
       "      <th>97</th>\n",
       "      <td>97</td>\n",
       "      <td>0.753713</td>\n",
       "      <td>2022-03-15 16:01:29.927480</td>\n",
       "      <td>2022-03-15 16:01:35.128523</td>\n",
       "      <td>0 days 00:00:05.201043</td>\n",
       "      <td>1.101619</td>\n",
       "      <td>0.4</td>\n",
       "      <td>1.369414</td>\n",
       "      <td>0.008</td>\n",
       "      <td>17</td>\n",
       "      <td>171</td>\n",
       "      <td>2020</td>\n",
       "      <td>0.4</td>\n",
       "      <td>COMPLETE</td>\n",
       "    </tr>\n",
       "    <tr>\n",
       "      <th>98</th>\n",
       "      <td>98</td>\n",
       "      <td>0.753713</td>\n",
       "      <td>2022-03-15 16:01:35.130072</td>\n",
       "      <td>2022-03-15 16:01:41.966812</td>\n",
       "      <td>0 days 00:00:06.836740</td>\n",
       "      <td>0.674616</td>\n",
       "      <td>1.0</td>\n",
       "      <td>0.125896</td>\n",
       "      <td>0.009</td>\n",
       "      <td>7</td>\n",
       "      <td>155</td>\n",
       "      <td>2020</td>\n",
       "      <td>0.7</td>\n",
       "      <td>COMPLETE</td>\n",
       "    </tr>\n",
       "    <tr>\n",
       "      <th>99</th>\n",
       "      <td>99</td>\n",
       "      <td>0.750000</td>\n",
       "      <td>2022-03-15 16:01:41.967805</td>\n",
       "      <td>2022-03-15 16:01:47.566948</td>\n",
       "      <td>0 days 00:00:05.599143</td>\n",
       "      <td>0.588909</td>\n",
       "      <td>0.4</td>\n",
       "      <td>0.248259</td>\n",
       "      <td>0.008</td>\n",
       "      <td>7</td>\n",
       "      <td>1</td>\n",
       "      <td>2020</td>\n",
       "      <td>0.4</td>\n",
       "      <td>COMPLETE</td>\n",
       "    </tr>\n",
       "  </tbody>\n",
       "</table>\n",
       "<p>100 rows × 14 columns</p>\n",
       "</div>"
      ],
      "text/plain": [
       "    number     value             datetime_start          datetime_complete  \\\n",
       "0        0  0.753713 2022-03-15 15:54:40.603385 2022-03-15 15:54:41.690080   \n",
       "1        1  0.753713 2022-03-15 15:54:41.690928 2022-03-15 15:54:45.698216   \n",
       "2        2  0.753713 2022-03-15 15:54:45.699213 2022-03-15 15:54:49.696446   \n",
       "3        3  0.753713 2022-03-15 15:54:49.697503 2022-03-15 15:54:52.765159   \n",
       "4        4  0.753713 2022-03-15 15:54:52.766132 2022-03-15 15:54:56.666328   \n",
       "..     ...       ...                        ...                        ...   \n",
       "95      95  0.753713 2022-03-15 16:01:21.348403 2022-03-15 16:01:25.342306   \n",
       "96      96  0.753713 2022-03-15 16:01:25.343646 2022-03-15 16:01:29.926534   \n",
       "97      97  0.753713 2022-03-15 16:01:29.927480 2022-03-15 16:01:35.128523   \n",
       "98      98  0.753713 2022-03-15 16:01:35.130072 2022-03-15 16:01:41.966812   \n",
       "99      99  0.750000 2022-03-15 16:01:41.967805 2022-03-15 16:01:47.566948   \n",
       "\n",
       "                 duration  params_alpha  params_colsample_bytree  \\\n",
       "0  0 days 00:00:01.086695      0.030006                      0.4   \n",
       "1  0 days 00:00:04.007288      0.265553                      0.8   \n",
       "2  0 days 00:00:03.997233      0.064589                      0.5   \n",
       "3  0 days 00:00:03.067656      0.008272                      0.9   \n",
       "4  0 days 00:00:03.900196      0.797991                      0.6   \n",
       "..                    ...           ...                      ...   \n",
       "95 0 days 00:00:03.993903      2.859403                      1.0   \n",
       "96 0 days 00:00:04.582888      0.788836                      0.4   \n",
       "97 0 days 00:00:05.201043      1.101619                      0.4   \n",
       "98 0 days 00:00:06.836740      0.674616                      1.0   \n",
       "99 0 days 00:00:05.599143      0.588909                      0.4   \n",
       "\n",
       "    params_lambda  params_learning_rate  params_max_depth  \\\n",
       "0        0.135049                 0.008                20   \n",
       "1        0.405490                 0.012                20   \n",
       "2        2.629674                 0.012                 5   \n",
       "3        0.086760                 0.016                17   \n",
       "4        3.096510                 0.009                 5   \n",
       "..            ...                   ...               ...   \n",
       "95       3.474409                 0.009                15   \n",
       "96       4.788835                 0.008                17   \n",
       "97       1.369414                 0.008                17   \n",
       "98       0.125896                 0.009                 7   \n",
       "99       0.248259                 0.008                 7   \n",
       "\n",
       "    params_min_child_weight  params_random_state  params_subsample     state  \n",
       "0                       256                   24               0.4  COMPLETE  \n",
       "1                        48                   48               0.4  COMPLETE  \n",
       "2                       134                   48               1.0  COMPLETE  \n",
       "3                       239                   24               0.4  COMPLETE  \n",
       "4                        26                   48               0.7  COMPLETE  \n",
       "..                      ...                  ...               ...       ...  \n",
       "95                       61                 2020               1.0  COMPLETE  \n",
       "96                      114                 2020               0.4  COMPLETE  \n",
       "97                      171                 2020               0.4  COMPLETE  \n",
       "98                      155                 2020               0.7  COMPLETE  \n",
       "99                        1                 2020               0.4  COMPLETE  \n",
       "\n",
       "[100 rows x 14 columns]"
      ]
     },
     "execution_count": 30,
     "metadata": {},
     "output_type": "execute_result"
    }
   ],
   "source": [
    "study.trials_dataframe()"
   ]
  },
  {
   "cell_type": "code",
   "execution_count": 38,
   "metadata": {},
   "outputs": [
    {
     "ename": "ValueError",
     "evalue": "Mime type rendering requires nbformat>=4.2.0 but it is not installed",
     "output_type": "error",
     "traceback": [
      "\u001b[0;31m---------------------------------------------------------------------------\u001b[0m",
      "\u001b[0;31mValueError\u001b[0m                                Traceback (most recent call last)",
      "File \u001b[0;32m~/miniconda3/envs/challenge/lib/python3.8/site-packages/IPython/core/formatters.py:921\u001b[0m, in \u001b[0;36mIPythonDisplayFormatter.__call__\u001b[0;34m(self, obj)\u001b[0m\n\u001b[1;32m    <a href='file:///home/chainyo/miniconda3/envs/challenge/lib/python3.8/site-packages/IPython/core/formatters.py?line=918'>919</a>\u001b[0m method \u001b[39m=\u001b[39m get_real_method(obj, \u001b[39mself\u001b[39m\u001b[39m.\u001b[39mprint_method)\n\u001b[1;32m    <a href='file:///home/chainyo/miniconda3/envs/challenge/lib/python3.8/site-packages/IPython/core/formatters.py?line=919'>920</a>\u001b[0m \u001b[39mif\u001b[39;00m method \u001b[39mis\u001b[39;00m \u001b[39mnot\u001b[39;00m \u001b[39mNone\u001b[39;00m:\n\u001b[0;32m--> <a href='file:///home/chainyo/miniconda3/envs/challenge/lib/python3.8/site-packages/IPython/core/formatters.py?line=920'>921</a>\u001b[0m     method()\n\u001b[1;32m    <a href='file:///home/chainyo/miniconda3/envs/challenge/lib/python3.8/site-packages/IPython/core/formatters.py?line=921'>922</a>\u001b[0m     \u001b[39mreturn\u001b[39;00m \u001b[39mTrue\u001b[39;00m\n",
      "File \u001b[0;32m~/miniconda3/envs/challenge/lib/python3.8/site-packages/plotly/basedatatypes.py:844\u001b[0m, in \u001b[0;36mBaseFigure._ipython_display_\u001b[0;34m(self)\u001b[0m\n\u001b[1;32m    <a href='file:///home/chainyo/miniconda3/envs/challenge/lib/python3.8/site-packages/plotly/basedatatypes.py?line=840'>841</a>\u001b[0m \u001b[39mimport\u001b[39;00m \u001b[39mplotly\u001b[39;00m\u001b[39m.\u001b[39;00m\u001b[39mio\u001b[39;00m \u001b[39mas\u001b[39;00m \u001b[39mpio\u001b[39;00m\n\u001b[1;32m    <a href='file:///home/chainyo/miniconda3/envs/challenge/lib/python3.8/site-packages/plotly/basedatatypes.py?line=842'>843</a>\u001b[0m \u001b[39mif\u001b[39;00m pio\u001b[39m.\u001b[39mrenderers\u001b[39m.\u001b[39mrender_on_display \u001b[39mand\u001b[39;00m pio\u001b[39m.\u001b[39mrenderers\u001b[39m.\u001b[39mdefault:\n\u001b[0;32m--> <a href='file:///home/chainyo/miniconda3/envs/challenge/lib/python3.8/site-packages/plotly/basedatatypes.py?line=843'>844</a>\u001b[0m     pio\u001b[39m.\u001b[39;49mshow(\u001b[39mself\u001b[39;49m)\n\u001b[1;32m    <a href='file:///home/chainyo/miniconda3/envs/challenge/lib/python3.8/site-packages/plotly/basedatatypes.py?line=844'>845</a>\u001b[0m \u001b[39melse\u001b[39;00m:\n\u001b[1;32m    <a href='file:///home/chainyo/miniconda3/envs/challenge/lib/python3.8/site-packages/plotly/basedatatypes.py?line=845'>846</a>\u001b[0m     \u001b[39mprint\u001b[39m(\u001b[39mrepr\u001b[39m(\u001b[39mself\u001b[39m))\n",
      "File \u001b[0;32m~/miniconda3/envs/challenge/lib/python3.8/site-packages/plotly/io/_renderers.py:397\u001b[0m, in \u001b[0;36mshow\u001b[0;34m(fig, renderer, validate, **kwargs)\u001b[0m\n\u001b[1;32m    <a href='file:///home/chainyo/miniconda3/envs/challenge/lib/python3.8/site-packages/plotly/io/_renderers.py?line=391'>392</a>\u001b[0m         \u001b[39mraise\u001b[39;00m \u001b[39mValueError\u001b[39;00m(\n\u001b[1;32m    <a href='file:///home/chainyo/miniconda3/envs/challenge/lib/python3.8/site-packages/plotly/io/_renderers.py?line=392'>393</a>\u001b[0m             \u001b[39m\"\u001b[39m\u001b[39mMime type rendering requires ipython but it is not installed\u001b[39m\u001b[39m\"\u001b[39m\n\u001b[1;32m    <a href='file:///home/chainyo/miniconda3/envs/challenge/lib/python3.8/site-packages/plotly/io/_renderers.py?line=393'>394</a>\u001b[0m         )\n\u001b[1;32m    <a href='file:///home/chainyo/miniconda3/envs/challenge/lib/python3.8/site-packages/plotly/io/_renderers.py?line=395'>396</a>\u001b[0m     \u001b[39mif\u001b[39;00m \u001b[39mnot\u001b[39;00m nbformat \u001b[39mor\u001b[39;00m LooseVersion(nbformat\u001b[39m.\u001b[39m__version__) \u001b[39m<\u001b[39m LooseVersion(\u001b[39m\"\u001b[39m\u001b[39m4.2.0\u001b[39m\u001b[39m\"\u001b[39m):\n\u001b[0;32m--> <a href='file:///home/chainyo/miniconda3/envs/challenge/lib/python3.8/site-packages/plotly/io/_renderers.py?line=396'>397</a>\u001b[0m         \u001b[39mraise\u001b[39;00m \u001b[39mValueError\u001b[39;00m(\n\u001b[1;32m    <a href='file:///home/chainyo/miniconda3/envs/challenge/lib/python3.8/site-packages/plotly/io/_renderers.py?line=397'>398</a>\u001b[0m             \u001b[39m\"\u001b[39m\u001b[39mMime type rendering requires nbformat>=4.2.0 but it is not installed\u001b[39m\u001b[39m\"\u001b[39m\n\u001b[1;32m    <a href='file:///home/chainyo/miniconda3/envs/challenge/lib/python3.8/site-packages/plotly/io/_renderers.py?line=398'>399</a>\u001b[0m         )\n\u001b[1;32m    <a href='file:///home/chainyo/miniconda3/envs/challenge/lib/python3.8/site-packages/plotly/io/_renderers.py?line=400'>401</a>\u001b[0m     ipython_display\u001b[39m.\u001b[39mdisplay(bundle, raw\u001b[39m=\u001b[39m\u001b[39mTrue\u001b[39;00m)\n\u001b[1;32m    <a href='file:///home/chainyo/miniconda3/envs/challenge/lib/python3.8/site-packages/plotly/io/_renderers.py?line=402'>403</a>\u001b[0m \u001b[39m# external renderers\u001b[39;00m\n",
      "\u001b[0;31mValueError\u001b[0m: Mime type rendering requires nbformat>=4.2.0 but it is not installed"
     ]
    },
    {
     "data": {
      "application/vnd.plotly.v1+json": {
       "config": {
        "plotlyServerURL": "https://plot.ly"
       },
       "data": [
        {
         "mode": "markers",
         "name": "Objective Value",
         "type": "scatter",
         "x": [
          0,
          1,
          2,
          3,
          4,
          5,
          6,
          7,
          8,
          9,
          10,
          11,
          12,
          13,
          14,
          15,
          16,
          17,
          18,
          19,
          20,
          21,
          22,
          23,
          24,
          25,
          26,
          27,
          28,
          29,
          30,
          31,
          32,
          33,
          34,
          35,
          36,
          37,
          38,
          39,
          40,
          41,
          42,
          43,
          44,
          45,
          46,
          47,
          48,
          49,
          50,
          51,
          52,
          53,
          54,
          55,
          56,
          57,
          58,
          59,
          60,
          61,
          62,
          63,
          64,
          65,
          66,
          67,
          68,
          69,
          70,
          71,
          72,
          73,
          74,
          75,
          76,
          77,
          78,
          79,
          80,
          81,
          82,
          83,
          84,
          85,
          86,
          87,
          88,
          89,
          90,
          91,
          92,
          93,
          94,
          95,
          96,
          97,
          98,
          99
         ],
         "y": [
          0.7537128712871287,
          0.7537128712871287,
          0.7537128712871287,
          0.7537128712871287,
          0.7537128712871287,
          0.7537128712871287,
          0.7537128712871287,
          0.7537128712871287,
          0.7537128712871287,
          0.7537128712871287,
          0.7537128712871287,
          0.7537128712871287,
          0.7537128712871287,
          0.7537128712871287,
          0.7537128712871287,
          0.7537128712871287,
          0.7537128712871287,
          0.7537128712871287,
          0.7537128712871287,
          0.7537128712871287,
          0.7537128712871287,
          0.7537128712871287,
          0.7537128712871287,
          0.7537128712871287,
          0.7537128712871287,
          0.7537128712871287,
          0.7537128712871287,
          0.7537128712871287,
          0.7537128712871287,
          0.7537128712871287,
          0.7537128712871287,
          0.7537128712871287,
          0.7537128712871287,
          0.7537128712871287,
          0.7537128712871287,
          0.7537128712871287,
          0.7537128712871287,
          0.7537128712871287,
          0.7537128712871287,
          0.7537128712871287,
          0.7537128712871287,
          0.7537128712871287,
          0.7537128712871287,
          0.7537128712871287,
          0.7537128712871287,
          0.7537128712871287,
          0.7537128712871287,
          0.7537128712871287,
          0.7537128712871287,
          0.7537128712871287,
          0.7537128712871287,
          0.7537128712871287,
          0.7537128712871287,
          0.7537128712871287,
          0.7537128712871287,
          0.7537128712871287,
          0.7537128712871287,
          0.7537128712871287,
          0.7537128712871287,
          0.7537128712871287,
          0.7537128712871287,
          0.7537128712871287,
          0.7537128712871287,
          0.7537128712871287,
          0.7537128712871287,
          0.7537128712871287,
          0.7537128712871287,
          0.7537128712871287,
          0.7537128712871287,
          0.7537128712871287,
          0.7537128712871287,
          0.7537128712871287,
          0.7537128712871287,
          0.7537128712871287,
          0.7537128712871287,
          0.7537128712871287,
          0.7537128712871287,
          0.7537128712871287,
          0.7537128712871287,
          0.7537128712871287,
          0.7537128712871287,
          0.7537128712871287,
          0.7537128712871287,
          0.7537128712871287,
          0.7537128712871287,
          0.7537128712871287,
          0.7537128712871287,
          0.7537128712871287,
          0.7537128712871287,
          0.7537128712871287,
          0.7537128712871287,
          0.7537128712871287,
          0.7537128712871287,
          0.7537128712871287,
          0.7537128712871287,
          0.7537128712871287,
          0.7537128712871287,
          0.7537128712871287,
          0.7537128712871287,
          0.75
         ]
        },
        {
         "name": "Best Value",
         "type": "scatter",
         "x": [
          0,
          1,
          2,
          3,
          4,
          5,
          6,
          7,
          8,
          9,
          10,
          11,
          12,
          13,
          14,
          15,
          16,
          17,
          18,
          19,
          20,
          21,
          22,
          23,
          24,
          25,
          26,
          27,
          28,
          29,
          30,
          31,
          32,
          33,
          34,
          35,
          36,
          37,
          38,
          39,
          40,
          41,
          42,
          43,
          44,
          45,
          46,
          47,
          48,
          49,
          50,
          51,
          52,
          53,
          54,
          55,
          56,
          57,
          58,
          59,
          60,
          61,
          62,
          63,
          64,
          65,
          66,
          67,
          68,
          69,
          70,
          71,
          72,
          73,
          74,
          75,
          76,
          77,
          78,
          79,
          80,
          81,
          82,
          83,
          84,
          85,
          86,
          87,
          88,
          89,
          90,
          91,
          92,
          93,
          94,
          95,
          96,
          97,
          98,
          99
         ],
         "y": [
          0.7537128712871287,
          0.7537128712871287,
          0.7537128712871287,
          0.7537128712871287,
          0.7537128712871287,
          0.7537128712871287,
          0.7537128712871287,
          0.7537128712871287,
          0.7537128712871287,
          0.7537128712871287,
          0.7537128712871287,
          0.7537128712871287,
          0.7537128712871287,
          0.7537128712871287,
          0.7537128712871287,
          0.7537128712871287,
          0.7537128712871287,
          0.7537128712871287,
          0.7537128712871287,
          0.7537128712871287,
          0.7537128712871287,
          0.7537128712871287,
          0.7537128712871287,
          0.7537128712871287,
          0.7537128712871287,
          0.7537128712871287,
          0.7537128712871287,
          0.7537128712871287,
          0.7537128712871287,
          0.7537128712871287,
          0.7537128712871287,
          0.7537128712871287,
          0.7537128712871287,
          0.7537128712871287,
          0.7537128712871287,
          0.7537128712871287,
          0.7537128712871287,
          0.7537128712871287,
          0.7537128712871287,
          0.7537128712871287,
          0.7537128712871287,
          0.7537128712871287,
          0.7537128712871287,
          0.7537128712871287,
          0.7537128712871287,
          0.7537128712871287,
          0.7537128712871287,
          0.7537128712871287,
          0.7537128712871287,
          0.7537128712871287,
          0.7537128712871287,
          0.7537128712871287,
          0.7537128712871287,
          0.7537128712871287,
          0.7537128712871287,
          0.7537128712871287,
          0.7537128712871287,
          0.7537128712871287,
          0.7537128712871287,
          0.7537128712871287,
          0.7537128712871287,
          0.7537128712871287,
          0.7537128712871287,
          0.7537128712871287,
          0.7537128712871287,
          0.7537128712871287,
          0.7537128712871287,
          0.7537128712871287,
          0.7537128712871287,
          0.7537128712871287,
          0.7537128712871287,
          0.7537128712871287,
          0.7537128712871287,
          0.7537128712871287,
          0.7537128712871287,
          0.7537128712871287,
          0.7537128712871287,
          0.7537128712871287,
          0.7537128712871287,
          0.7537128712871287,
          0.7537128712871287,
          0.7537128712871287,
          0.7537128712871287,
          0.7537128712871287,
          0.7537128712871287,
          0.7537128712871287,
          0.7537128712871287,
          0.7537128712871287,
          0.7537128712871287,
          0.7537128712871287,
          0.7537128712871287,
          0.7537128712871287,
          0.7537128712871287,
          0.7537128712871287,
          0.7537128712871287,
          0.7537128712871287,
          0.7537128712871287,
          0.7537128712871287,
          0.7537128712871287,
          0.7537128712871287
         ]
        }
       ],
       "layout": {
        "template": {
         "data": {
          "bar": [
           {
            "error_x": {
             "color": "#2a3f5f"
            },
            "error_y": {
             "color": "#2a3f5f"
            },
            "marker": {
             "line": {
              "color": "#E5ECF6",
              "width": 0.5
             },
             "pattern": {
              "fillmode": "overlay",
              "size": 10,
              "solidity": 0.2
             }
            },
            "type": "bar"
           }
          ],
          "barpolar": [
           {
            "marker": {
             "line": {
              "color": "#E5ECF6",
              "width": 0.5
             },
             "pattern": {
              "fillmode": "overlay",
              "size": 10,
              "solidity": 0.2
             }
            },
            "type": "barpolar"
           }
          ],
          "carpet": [
           {
            "aaxis": {
             "endlinecolor": "#2a3f5f",
             "gridcolor": "white",
             "linecolor": "white",
             "minorgridcolor": "white",
             "startlinecolor": "#2a3f5f"
            },
            "baxis": {
             "endlinecolor": "#2a3f5f",
             "gridcolor": "white",
             "linecolor": "white",
             "minorgridcolor": "white",
             "startlinecolor": "#2a3f5f"
            },
            "type": "carpet"
           }
          ],
          "choropleth": [
           {
            "colorbar": {
             "outlinewidth": 0,
             "ticks": ""
            },
            "type": "choropleth"
           }
          ],
          "contour": [
           {
            "colorbar": {
             "outlinewidth": 0,
             "ticks": ""
            },
            "colorscale": [
             [
              0,
              "#0d0887"
             ],
             [
              0.1111111111111111,
              "#46039f"
             ],
             [
              0.2222222222222222,
              "#7201a8"
             ],
             [
              0.3333333333333333,
              "#9c179e"
             ],
             [
              0.4444444444444444,
              "#bd3786"
             ],
             [
              0.5555555555555556,
              "#d8576b"
             ],
             [
              0.6666666666666666,
              "#ed7953"
             ],
             [
              0.7777777777777778,
              "#fb9f3a"
             ],
             [
              0.8888888888888888,
              "#fdca26"
             ],
             [
              1,
              "#f0f921"
             ]
            ],
            "type": "contour"
           }
          ],
          "contourcarpet": [
           {
            "colorbar": {
             "outlinewidth": 0,
             "ticks": ""
            },
            "type": "contourcarpet"
           }
          ],
          "heatmap": [
           {
            "colorbar": {
             "outlinewidth": 0,
             "ticks": ""
            },
            "colorscale": [
             [
              0,
              "#0d0887"
             ],
             [
              0.1111111111111111,
              "#46039f"
             ],
             [
              0.2222222222222222,
              "#7201a8"
             ],
             [
              0.3333333333333333,
              "#9c179e"
             ],
             [
              0.4444444444444444,
              "#bd3786"
             ],
             [
              0.5555555555555556,
              "#d8576b"
             ],
             [
              0.6666666666666666,
              "#ed7953"
             ],
             [
              0.7777777777777778,
              "#fb9f3a"
             ],
             [
              0.8888888888888888,
              "#fdca26"
             ],
             [
              1,
              "#f0f921"
             ]
            ],
            "type": "heatmap"
           }
          ],
          "heatmapgl": [
           {
            "colorbar": {
             "outlinewidth": 0,
             "ticks": ""
            },
            "colorscale": [
             [
              0,
              "#0d0887"
             ],
             [
              0.1111111111111111,
              "#46039f"
             ],
             [
              0.2222222222222222,
              "#7201a8"
             ],
             [
              0.3333333333333333,
              "#9c179e"
             ],
             [
              0.4444444444444444,
              "#bd3786"
             ],
             [
              0.5555555555555556,
              "#d8576b"
             ],
             [
              0.6666666666666666,
              "#ed7953"
             ],
             [
              0.7777777777777778,
              "#fb9f3a"
             ],
             [
              0.8888888888888888,
              "#fdca26"
             ],
             [
              1,
              "#f0f921"
             ]
            ],
            "type": "heatmapgl"
           }
          ],
          "histogram": [
           {
            "marker": {
             "pattern": {
              "fillmode": "overlay",
              "size": 10,
              "solidity": 0.2
             }
            },
            "type": "histogram"
           }
          ],
          "histogram2d": [
           {
            "colorbar": {
             "outlinewidth": 0,
             "ticks": ""
            },
            "colorscale": [
             [
              0,
              "#0d0887"
             ],
             [
              0.1111111111111111,
              "#46039f"
             ],
             [
              0.2222222222222222,
              "#7201a8"
             ],
             [
              0.3333333333333333,
              "#9c179e"
             ],
             [
              0.4444444444444444,
              "#bd3786"
             ],
             [
              0.5555555555555556,
              "#d8576b"
             ],
             [
              0.6666666666666666,
              "#ed7953"
             ],
             [
              0.7777777777777778,
              "#fb9f3a"
             ],
             [
              0.8888888888888888,
              "#fdca26"
             ],
             [
              1,
              "#f0f921"
             ]
            ],
            "type": "histogram2d"
           }
          ],
          "histogram2dcontour": [
           {
            "colorbar": {
             "outlinewidth": 0,
             "ticks": ""
            },
            "colorscale": [
             [
              0,
              "#0d0887"
             ],
             [
              0.1111111111111111,
              "#46039f"
             ],
             [
              0.2222222222222222,
              "#7201a8"
             ],
             [
              0.3333333333333333,
              "#9c179e"
             ],
             [
              0.4444444444444444,
              "#bd3786"
             ],
             [
              0.5555555555555556,
              "#d8576b"
             ],
             [
              0.6666666666666666,
              "#ed7953"
             ],
             [
              0.7777777777777778,
              "#fb9f3a"
             ],
             [
              0.8888888888888888,
              "#fdca26"
             ],
             [
              1,
              "#f0f921"
             ]
            ],
            "type": "histogram2dcontour"
           }
          ],
          "mesh3d": [
           {
            "colorbar": {
             "outlinewidth": 0,
             "ticks": ""
            },
            "type": "mesh3d"
           }
          ],
          "parcoords": [
           {
            "line": {
             "colorbar": {
              "outlinewidth": 0,
              "ticks": ""
             }
            },
            "type": "parcoords"
           }
          ],
          "pie": [
           {
            "automargin": true,
            "type": "pie"
           }
          ],
          "scatter": [
           {
            "marker": {
             "colorbar": {
              "outlinewidth": 0,
              "ticks": ""
             }
            },
            "type": "scatter"
           }
          ],
          "scatter3d": [
           {
            "line": {
             "colorbar": {
              "outlinewidth": 0,
              "ticks": ""
             }
            },
            "marker": {
             "colorbar": {
              "outlinewidth": 0,
              "ticks": ""
             }
            },
            "type": "scatter3d"
           }
          ],
          "scattercarpet": [
           {
            "marker": {
             "colorbar": {
              "outlinewidth": 0,
              "ticks": ""
             }
            },
            "type": "scattercarpet"
           }
          ],
          "scattergeo": [
           {
            "marker": {
             "colorbar": {
              "outlinewidth": 0,
              "ticks": ""
             }
            },
            "type": "scattergeo"
           }
          ],
          "scattergl": [
           {
            "marker": {
             "colorbar": {
              "outlinewidth": 0,
              "ticks": ""
             }
            },
            "type": "scattergl"
           }
          ],
          "scattermapbox": [
           {
            "marker": {
             "colorbar": {
              "outlinewidth": 0,
              "ticks": ""
             }
            },
            "type": "scattermapbox"
           }
          ],
          "scatterpolar": [
           {
            "marker": {
             "colorbar": {
              "outlinewidth": 0,
              "ticks": ""
             }
            },
            "type": "scatterpolar"
           }
          ],
          "scatterpolargl": [
           {
            "marker": {
             "colorbar": {
              "outlinewidth": 0,
              "ticks": ""
             }
            },
            "type": "scatterpolargl"
           }
          ],
          "scatterternary": [
           {
            "marker": {
             "colorbar": {
              "outlinewidth": 0,
              "ticks": ""
             }
            },
            "type": "scatterternary"
           }
          ],
          "surface": [
           {
            "colorbar": {
             "outlinewidth": 0,
             "ticks": ""
            },
            "colorscale": [
             [
              0,
              "#0d0887"
             ],
             [
              0.1111111111111111,
              "#46039f"
             ],
             [
              0.2222222222222222,
              "#7201a8"
             ],
             [
              0.3333333333333333,
              "#9c179e"
             ],
             [
              0.4444444444444444,
              "#bd3786"
             ],
             [
              0.5555555555555556,
              "#d8576b"
             ],
             [
              0.6666666666666666,
              "#ed7953"
             ],
             [
              0.7777777777777778,
              "#fb9f3a"
             ],
             [
              0.8888888888888888,
              "#fdca26"
             ],
             [
              1,
              "#f0f921"
             ]
            ],
            "type": "surface"
           }
          ],
          "table": [
           {
            "cells": {
             "fill": {
              "color": "#EBF0F8"
             },
             "line": {
              "color": "white"
             }
            },
            "header": {
             "fill": {
              "color": "#C8D4E3"
             },
             "line": {
              "color": "white"
             }
            },
            "type": "table"
           }
          ]
         },
         "layout": {
          "annotationdefaults": {
           "arrowcolor": "#2a3f5f",
           "arrowhead": 0,
           "arrowwidth": 1
          },
          "autotypenumbers": "strict",
          "coloraxis": {
           "colorbar": {
            "outlinewidth": 0,
            "ticks": ""
           }
          },
          "colorscale": {
           "diverging": [
            [
             0,
             "#8e0152"
            ],
            [
             0.1,
             "#c51b7d"
            ],
            [
             0.2,
             "#de77ae"
            ],
            [
             0.3,
             "#f1b6da"
            ],
            [
             0.4,
             "#fde0ef"
            ],
            [
             0.5,
             "#f7f7f7"
            ],
            [
             0.6,
             "#e6f5d0"
            ],
            [
             0.7,
             "#b8e186"
            ],
            [
             0.8,
             "#7fbc41"
            ],
            [
             0.9,
             "#4d9221"
            ],
            [
             1,
             "#276419"
            ]
           ],
           "sequential": [
            [
             0,
             "#0d0887"
            ],
            [
             0.1111111111111111,
             "#46039f"
            ],
            [
             0.2222222222222222,
             "#7201a8"
            ],
            [
             0.3333333333333333,
             "#9c179e"
            ],
            [
             0.4444444444444444,
             "#bd3786"
            ],
            [
             0.5555555555555556,
             "#d8576b"
            ],
            [
             0.6666666666666666,
             "#ed7953"
            ],
            [
             0.7777777777777778,
             "#fb9f3a"
            ],
            [
             0.8888888888888888,
             "#fdca26"
            ],
            [
             1,
             "#f0f921"
            ]
           ],
           "sequentialminus": [
            [
             0,
             "#0d0887"
            ],
            [
             0.1111111111111111,
             "#46039f"
            ],
            [
             0.2222222222222222,
             "#7201a8"
            ],
            [
             0.3333333333333333,
             "#9c179e"
            ],
            [
             0.4444444444444444,
             "#bd3786"
            ],
            [
             0.5555555555555556,
             "#d8576b"
            ],
            [
             0.6666666666666666,
             "#ed7953"
            ],
            [
             0.7777777777777778,
             "#fb9f3a"
            ],
            [
             0.8888888888888888,
             "#fdca26"
            ],
            [
             1,
             "#f0f921"
            ]
           ]
          },
          "colorway": [
           "#636efa",
           "#EF553B",
           "#00cc96",
           "#ab63fa",
           "#FFA15A",
           "#19d3f3",
           "#FF6692",
           "#B6E880",
           "#FF97FF",
           "#FECB52"
          ],
          "font": {
           "color": "#2a3f5f"
          },
          "geo": {
           "bgcolor": "white",
           "lakecolor": "white",
           "landcolor": "#E5ECF6",
           "showlakes": true,
           "showland": true,
           "subunitcolor": "white"
          },
          "hoverlabel": {
           "align": "left"
          },
          "hovermode": "closest",
          "mapbox": {
           "style": "light"
          },
          "paper_bgcolor": "white",
          "plot_bgcolor": "#E5ECF6",
          "polar": {
           "angularaxis": {
            "gridcolor": "white",
            "linecolor": "white",
            "ticks": ""
           },
           "bgcolor": "#E5ECF6",
           "radialaxis": {
            "gridcolor": "white",
            "linecolor": "white",
            "ticks": ""
           }
          },
          "scene": {
           "xaxis": {
            "backgroundcolor": "#E5ECF6",
            "gridcolor": "white",
            "gridwidth": 2,
            "linecolor": "white",
            "showbackground": true,
            "ticks": "",
            "zerolinecolor": "white"
           },
           "yaxis": {
            "backgroundcolor": "#E5ECF6",
            "gridcolor": "white",
            "gridwidth": 2,
            "linecolor": "white",
            "showbackground": true,
            "ticks": "",
            "zerolinecolor": "white"
           },
           "zaxis": {
            "backgroundcolor": "#E5ECF6",
            "gridcolor": "white",
            "gridwidth": 2,
            "linecolor": "white",
            "showbackground": true,
            "ticks": "",
            "zerolinecolor": "white"
           }
          },
          "shapedefaults": {
           "line": {
            "color": "#2a3f5f"
           }
          },
          "ternary": {
           "aaxis": {
            "gridcolor": "white",
            "linecolor": "white",
            "ticks": ""
           },
           "baxis": {
            "gridcolor": "white",
            "linecolor": "white",
            "ticks": ""
           },
           "bgcolor": "#E5ECF6",
           "caxis": {
            "gridcolor": "white",
            "linecolor": "white",
            "ticks": ""
           }
          },
          "title": {
           "x": 0.05
          },
          "xaxis": {
           "automargin": true,
           "gridcolor": "white",
           "linecolor": "white",
           "ticks": "",
           "title": {
            "standoff": 15
           },
           "zerolinecolor": "white",
           "zerolinewidth": 2
          },
          "yaxis": {
           "automargin": true,
           "gridcolor": "white",
           "linecolor": "white",
           "ticks": "",
           "title": {
            "standoff": 15
           },
           "zerolinecolor": "white",
           "zerolinewidth": 2
          }
         }
        },
        "title": {
         "text": "Optimization History Plot"
        },
        "xaxis": {
         "title": {
          "text": "#Trials"
         }
        },
        "yaxis": {
         "title": {
          "text": "Objective Value"
         }
        }
       }
      },
      "text/html": [
       "<div>                        <script type=\"text/javascript\">window.PlotlyConfig = {MathJaxConfig: 'local'};</script>\n",
       "        <script src=\"https://cdn.plot.ly/plotly-2.9.0.min.js\"></script>                <div id=\"9437c85c-f604-4b46-a351-bfeb914a8ac2\" class=\"plotly-graph-div\" style=\"height:100%; width:100%;\"></div>            <script type=\"text/javascript\">                                    window.PLOTLYENV=window.PLOTLYENV || {};                                    if (document.getElementById(\"9437c85c-f604-4b46-a351-bfeb914a8ac2\")) {                    Plotly.newPlot(                        \"9437c85c-f604-4b46-a351-bfeb914a8ac2\",                        [{\"mode\":\"markers\",\"name\":\"Objective Value\",\"x\":[0,1,2,3,4,5,6,7,8,9,10,11,12,13,14,15,16,17,18,19,20,21,22,23,24,25,26,27,28,29,30,31,32,33,34,35,36,37,38,39,40,41,42,43,44,45,46,47,48,49,50,51,52,53,54,55,56,57,58,59,60,61,62,63,64,65,66,67,68,69,70,71,72,73,74,75,76,77,78,79,80,81,82,83,84,85,86,87,88,89,90,91,92,93,94,95,96,97,98,99],\"y\":[0.7537128712871287,0.7537128712871287,0.7537128712871287,0.7537128712871287,0.7537128712871287,0.7537128712871287,0.7537128712871287,0.7537128712871287,0.7537128712871287,0.7537128712871287,0.7537128712871287,0.7537128712871287,0.7537128712871287,0.7537128712871287,0.7537128712871287,0.7537128712871287,0.7537128712871287,0.7537128712871287,0.7537128712871287,0.7537128712871287,0.7537128712871287,0.7537128712871287,0.7537128712871287,0.7537128712871287,0.7537128712871287,0.7537128712871287,0.7537128712871287,0.7537128712871287,0.7537128712871287,0.7537128712871287,0.7537128712871287,0.7537128712871287,0.7537128712871287,0.7537128712871287,0.7537128712871287,0.7537128712871287,0.7537128712871287,0.7537128712871287,0.7537128712871287,0.7537128712871287,0.7537128712871287,0.7537128712871287,0.7537128712871287,0.7537128712871287,0.7537128712871287,0.7537128712871287,0.7537128712871287,0.7537128712871287,0.7537128712871287,0.7537128712871287,0.7537128712871287,0.7537128712871287,0.7537128712871287,0.7537128712871287,0.7537128712871287,0.7537128712871287,0.7537128712871287,0.7537128712871287,0.7537128712871287,0.7537128712871287,0.7537128712871287,0.7537128712871287,0.7537128712871287,0.7537128712871287,0.7537128712871287,0.7537128712871287,0.7537128712871287,0.7537128712871287,0.7537128712871287,0.7537128712871287,0.7537128712871287,0.7537128712871287,0.7537128712871287,0.7537128712871287,0.7537128712871287,0.7537128712871287,0.7537128712871287,0.7537128712871287,0.7537128712871287,0.7537128712871287,0.7537128712871287,0.7537128712871287,0.7537128712871287,0.7537128712871287,0.7537128712871287,0.7537128712871287,0.7537128712871287,0.7537128712871287,0.7537128712871287,0.7537128712871287,0.7537128712871287,0.7537128712871287,0.7537128712871287,0.7537128712871287,0.7537128712871287,0.7537128712871287,0.7537128712871287,0.7537128712871287,0.7537128712871287,0.75],\"type\":\"scatter\"},{\"name\":\"Best Value\",\"x\":[0,1,2,3,4,5,6,7,8,9,10,11,12,13,14,15,16,17,18,19,20,21,22,23,24,25,26,27,28,29,30,31,32,33,34,35,36,37,38,39,40,41,42,43,44,45,46,47,48,49,50,51,52,53,54,55,56,57,58,59,60,61,62,63,64,65,66,67,68,69,70,71,72,73,74,75,76,77,78,79,80,81,82,83,84,85,86,87,88,89,90,91,92,93,94,95,96,97,98,99],\"y\":[0.7537128712871287,0.7537128712871287,0.7537128712871287,0.7537128712871287,0.7537128712871287,0.7537128712871287,0.7537128712871287,0.7537128712871287,0.7537128712871287,0.7537128712871287,0.7537128712871287,0.7537128712871287,0.7537128712871287,0.7537128712871287,0.7537128712871287,0.7537128712871287,0.7537128712871287,0.7537128712871287,0.7537128712871287,0.7537128712871287,0.7537128712871287,0.7537128712871287,0.7537128712871287,0.7537128712871287,0.7537128712871287,0.7537128712871287,0.7537128712871287,0.7537128712871287,0.7537128712871287,0.7537128712871287,0.7537128712871287,0.7537128712871287,0.7537128712871287,0.7537128712871287,0.7537128712871287,0.7537128712871287,0.7537128712871287,0.7537128712871287,0.7537128712871287,0.7537128712871287,0.7537128712871287,0.7537128712871287,0.7537128712871287,0.7537128712871287,0.7537128712871287,0.7537128712871287,0.7537128712871287,0.7537128712871287,0.7537128712871287,0.7537128712871287,0.7537128712871287,0.7537128712871287,0.7537128712871287,0.7537128712871287,0.7537128712871287,0.7537128712871287,0.7537128712871287,0.7537128712871287,0.7537128712871287,0.7537128712871287,0.7537128712871287,0.7537128712871287,0.7537128712871287,0.7537128712871287,0.7537128712871287,0.7537128712871287,0.7537128712871287,0.7537128712871287,0.7537128712871287,0.7537128712871287,0.7537128712871287,0.7537128712871287,0.7537128712871287,0.7537128712871287,0.7537128712871287,0.7537128712871287,0.7537128712871287,0.7537128712871287,0.7537128712871287,0.7537128712871287,0.7537128712871287,0.7537128712871287,0.7537128712871287,0.7537128712871287,0.7537128712871287,0.7537128712871287,0.7537128712871287,0.7537128712871287,0.7537128712871287,0.7537128712871287,0.7537128712871287,0.7537128712871287,0.7537128712871287,0.7537128712871287,0.7537128712871287,0.7537128712871287,0.7537128712871287,0.7537128712871287,0.7537128712871287,0.7537128712871287],\"type\":\"scatter\"}],                        {\"title\":{\"text\":\"Optimization History Plot\"},\"xaxis\":{\"title\":{\"text\":\"#Trials\"}},\"yaxis\":{\"title\":{\"text\":\"Objective Value\"}},\"template\":{\"data\":{\"bar\":[{\"error_x\":{\"color\":\"#2a3f5f\"},\"error_y\":{\"color\":\"#2a3f5f\"},\"marker\":{\"line\":{\"color\":\"#E5ECF6\",\"width\":0.5},\"pattern\":{\"fillmode\":\"overlay\",\"size\":10,\"solidity\":0.2}},\"type\":\"bar\"}],\"barpolar\":[{\"marker\":{\"line\":{\"color\":\"#E5ECF6\",\"width\":0.5},\"pattern\":{\"fillmode\":\"overlay\",\"size\":10,\"solidity\":0.2}},\"type\":\"barpolar\"}],\"carpet\":[{\"aaxis\":{\"endlinecolor\":\"#2a3f5f\",\"gridcolor\":\"white\",\"linecolor\":\"white\",\"minorgridcolor\":\"white\",\"startlinecolor\":\"#2a3f5f\"},\"baxis\":{\"endlinecolor\":\"#2a3f5f\",\"gridcolor\":\"white\",\"linecolor\":\"white\",\"minorgridcolor\":\"white\",\"startlinecolor\":\"#2a3f5f\"},\"type\":\"carpet\"}],\"choropleth\":[{\"colorbar\":{\"outlinewidth\":0,\"ticks\":\"\"},\"type\":\"choropleth\"}],\"contour\":[{\"colorbar\":{\"outlinewidth\":0,\"ticks\":\"\"},\"colorscale\":[[0.0,\"#0d0887\"],[0.1111111111111111,\"#46039f\"],[0.2222222222222222,\"#7201a8\"],[0.3333333333333333,\"#9c179e\"],[0.4444444444444444,\"#bd3786\"],[0.5555555555555556,\"#d8576b\"],[0.6666666666666666,\"#ed7953\"],[0.7777777777777778,\"#fb9f3a\"],[0.8888888888888888,\"#fdca26\"],[1.0,\"#f0f921\"]],\"type\":\"contour\"}],\"contourcarpet\":[{\"colorbar\":{\"outlinewidth\":0,\"ticks\":\"\"},\"type\":\"contourcarpet\"}],\"heatmap\":[{\"colorbar\":{\"outlinewidth\":0,\"ticks\":\"\"},\"colorscale\":[[0.0,\"#0d0887\"],[0.1111111111111111,\"#46039f\"],[0.2222222222222222,\"#7201a8\"],[0.3333333333333333,\"#9c179e\"],[0.4444444444444444,\"#bd3786\"],[0.5555555555555556,\"#d8576b\"],[0.6666666666666666,\"#ed7953\"],[0.7777777777777778,\"#fb9f3a\"],[0.8888888888888888,\"#fdca26\"],[1.0,\"#f0f921\"]],\"type\":\"heatmap\"}],\"heatmapgl\":[{\"colorbar\":{\"outlinewidth\":0,\"ticks\":\"\"},\"colorscale\":[[0.0,\"#0d0887\"],[0.1111111111111111,\"#46039f\"],[0.2222222222222222,\"#7201a8\"],[0.3333333333333333,\"#9c179e\"],[0.4444444444444444,\"#bd3786\"],[0.5555555555555556,\"#d8576b\"],[0.6666666666666666,\"#ed7953\"],[0.7777777777777778,\"#fb9f3a\"],[0.8888888888888888,\"#fdca26\"],[1.0,\"#f0f921\"]],\"type\":\"heatmapgl\"}],\"histogram\":[{\"marker\":{\"pattern\":{\"fillmode\":\"overlay\",\"size\":10,\"solidity\":0.2}},\"type\":\"histogram\"}],\"histogram2d\":[{\"colorbar\":{\"outlinewidth\":0,\"ticks\":\"\"},\"colorscale\":[[0.0,\"#0d0887\"],[0.1111111111111111,\"#46039f\"],[0.2222222222222222,\"#7201a8\"],[0.3333333333333333,\"#9c179e\"],[0.4444444444444444,\"#bd3786\"],[0.5555555555555556,\"#d8576b\"],[0.6666666666666666,\"#ed7953\"],[0.7777777777777778,\"#fb9f3a\"],[0.8888888888888888,\"#fdca26\"],[1.0,\"#f0f921\"]],\"type\":\"histogram2d\"}],\"histogram2dcontour\":[{\"colorbar\":{\"outlinewidth\":0,\"ticks\":\"\"},\"colorscale\":[[0.0,\"#0d0887\"],[0.1111111111111111,\"#46039f\"],[0.2222222222222222,\"#7201a8\"],[0.3333333333333333,\"#9c179e\"],[0.4444444444444444,\"#bd3786\"],[0.5555555555555556,\"#d8576b\"],[0.6666666666666666,\"#ed7953\"],[0.7777777777777778,\"#fb9f3a\"],[0.8888888888888888,\"#fdca26\"],[1.0,\"#f0f921\"]],\"type\":\"histogram2dcontour\"}],\"mesh3d\":[{\"colorbar\":{\"outlinewidth\":0,\"ticks\":\"\"},\"type\":\"mesh3d\"}],\"parcoords\":[{\"line\":{\"colorbar\":{\"outlinewidth\":0,\"ticks\":\"\"}},\"type\":\"parcoords\"}],\"pie\":[{\"automargin\":true,\"type\":\"pie\"}],\"scatter\":[{\"marker\":{\"colorbar\":{\"outlinewidth\":0,\"ticks\":\"\"}},\"type\":\"scatter\"}],\"scatter3d\":[{\"line\":{\"colorbar\":{\"outlinewidth\":0,\"ticks\":\"\"}},\"marker\":{\"colorbar\":{\"outlinewidth\":0,\"ticks\":\"\"}},\"type\":\"scatter3d\"}],\"scattercarpet\":[{\"marker\":{\"colorbar\":{\"outlinewidth\":0,\"ticks\":\"\"}},\"type\":\"scattercarpet\"}],\"scattergeo\":[{\"marker\":{\"colorbar\":{\"outlinewidth\":0,\"ticks\":\"\"}},\"type\":\"scattergeo\"}],\"scattergl\":[{\"marker\":{\"colorbar\":{\"outlinewidth\":0,\"ticks\":\"\"}},\"type\":\"scattergl\"}],\"scattermapbox\":[{\"marker\":{\"colorbar\":{\"outlinewidth\":0,\"ticks\":\"\"}},\"type\":\"scattermapbox\"}],\"scatterpolar\":[{\"marker\":{\"colorbar\":{\"outlinewidth\":0,\"ticks\":\"\"}},\"type\":\"scatterpolar\"}],\"scatterpolargl\":[{\"marker\":{\"colorbar\":{\"outlinewidth\":0,\"ticks\":\"\"}},\"type\":\"scatterpolargl\"}],\"scatterternary\":[{\"marker\":{\"colorbar\":{\"outlinewidth\":0,\"ticks\":\"\"}},\"type\":\"scatterternary\"}],\"surface\":[{\"colorbar\":{\"outlinewidth\":0,\"ticks\":\"\"},\"colorscale\":[[0.0,\"#0d0887\"],[0.1111111111111111,\"#46039f\"],[0.2222222222222222,\"#7201a8\"],[0.3333333333333333,\"#9c179e\"],[0.4444444444444444,\"#bd3786\"],[0.5555555555555556,\"#d8576b\"],[0.6666666666666666,\"#ed7953\"],[0.7777777777777778,\"#fb9f3a\"],[0.8888888888888888,\"#fdca26\"],[1.0,\"#f0f921\"]],\"type\":\"surface\"}],\"table\":[{\"cells\":{\"fill\":{\"color\":\"#EBF0F8\"},\"line\":{\"color\":\"white\"}},\"header\":{\"fill\":{\"color\":\"#C8D4E3\"},\"line\":{\"color\":\"white\"}},\"type\":\"table\"}]},\"layout\":{\"annotationdefaults\":{\"arrowcolor\":\"#2a3f5f\",\"arrowhead\":0,\"arrowwidth\":1},\"autotypenumbers\":\"strict\",\"coloraxis\":{\"colorbar\":{\"outlinewidth\":0,\"ticks\":\"\"}},\"colorscale\":{\"diverging\":[[0,\"#8e0152\"],[0.1,\"#c51b7d\"],[0.2,\"#de77ae\"],[0.3,\"#f1b6da\"],[0.4,\"#fde0ef\"],[0.5,\"#f7f7f7\"],[0.6,\"#e6f5d0\"],[0.7,\"#b8e186\"],[0.8,\"#7fbc41\"],[0.9,\"#4d9221\"],[1,\"#276419\"]],\"sequential\":[[0.0,\"#0d0887\"],[0.1111111111111111,\"#46039f\"],[0.2222222222222222,\"#7201a8\"],[0.3333333333333333,\"#9c179e\"],[0.4444444444444444,\"#bd3786\"],[0.5555555555555556,\"#d8576b\"],[0.6666666666666666,\"#ed7953\"],[0.7777777777777778,\"#fb9f3a\"],[0.8888888888888888,\"#fdca26\"],[1.0,\"#f0f921\"]],\"sequentialminus\":[[0.0,\"#0d0887\"],[0.1111111111111111,\"#46039f\"],[0.2222222222222222,\"#7201a8\"],[0.3333333333333333,\"#9c179e\"],[0.4444444444444444,\"#bd3786\"],[0.5555555555555556,\"#d8576b\"],[0.6666666666666666,\"#ed7953\"],[0.7777777777777778,\"#fb9f3a\"],[0.8888888888888888,\"#fdca26\"],[1.0,\"#f0f921\"]]},\"colorway\":[\"#636efa\",\"#EF553B\",\"#00cc96\",\"#ab63fa\",\"#FFA15A\",\"#19d3f3\",\"#FF6692\",\"#B6E880\",\"#FF97FF\",\"#FECB52\"],\"font\":{\"color\":\"#2a3f5f\"},\"geo\":{\"bgcolor\":\"white\",\"lakecolor\":\"white\",\"landcolor\":\"#E5ECF6\",\"showlakes\":true,\"showland\":true,\"subunitcolor\":\"white\"},\"hoverlabel\":{\"align\":\"left\"},\"hovermode\":\"closest\",\"mapbox\":{\"style\":\"light\"},\"paper_bgcolor\":\"white\",\"plot_bgcolor\":\"#E5ECF6\",\"polar\":{\"angularaxis\":{\"gridcolor\":\"white\",\"linecolor\":\"white\",\"ticks\":\"\"},\"bgcolor\":\"#E5ECF6\",\"radialaxis\":{\"gridcolor\":\"white\",\"linecolor\":\"white\",\"ticks\":\"\"}},\"scene\":{\"xaxis\":{\"backgroundcolor\":\"#E5ECF6\",\"gridcolor\":\"white\",\"gridwidth\":2,\"linecolor\":\"white\",\"showbackground\":true,\"ticks\":\"\",\"zerolinecolor\":\"white\"},\"yaxis\":{\"backgroundcolor\":\"#E5ECF6\",\"gridcolor\":\"white\",\"gridwidth\":2,\"linecolor\":\"white\",\"showbackground\":true,\"ticks\":\"\",\"zerolinecolor\":\"white\"},\"zaxis\":{\"backgroundcolor\":\"#E5ECF6\",\"gridcolor\":\"white\",\"gridwidth\":2,\"linecolor\":\"white\",\"showbackground\":true,\"ticks\":\"\",\"zerolinecolor\":\"white\"}},\"shapedefaults\":{\"line\":{\"color\":\"#2a3f5f\"}},\"ternary\":{\"aaxis\":{\"gridcolor\":\"white\",\"linecolor\":\"white\",\"ticks\":\"\"},\"baxis\":{\"gridcolor\":\"white\",\"linecolor\":\"white\",\"ticks\":\"\"},\"bgcolor\":\"#E5ECF6\",\"caxis\":{\"gridcolor\":\"white\",\"linecolor\":\"white\",\"ticks\":\"\"}},\"title\":{\"x\":0.05},\"xaxis\":{\"automargin\":true,\"gridcolor\":\"white\",\"linecolor\":\"white\",\"ticks\":\"\",\"title\":{\"standoff\":15},\"zerolinecolor\":\"white\",\"zerolinewidth\":2},\"yaxis\":{\"automargin\":true,\"gridcolor\":\"white\",\"linecolor\":\"white\",\"ticks\":\"\",\"title\":{\"standoff\":15},\"zerolinecolor\":\"white\",\"zerolinewidth\":2}}}},                        {\"responsive\": true}                    )                };                            </script>        </div>"
      ],
      "text/plain": [
       "Figure({\n",
       "    'data': [{'mode': 'markers',\n",
       "              'name': 'Objective Value',\n",
       "              'type': 'scatter',\n",
       "              'x': [0, 1, 2, 3, 4, 5, 6, 7, 8, 9, 10, 11, 12, 13, 14, 15, 16, 17,\n",
       "                    18, 19, 20, 21, 22, 23, 24, 25, 26, 27, 28, 29, 30, 31, 32, 33,\n",
       "                    34, 35, 36, 37, 38, 39, 40, 41, 42, 43, 44, 45, 46, 47, 48, 49,\n",
       "                    50, 51, 52, 53, 54, 55, 56, 57, 58, 59, 60, 61, 62, 63, 64, 65,\n",
       "                    66, 67, 68, 69, 70, 71, 72, 73, 74, 75, 76, 77, 78, 79, 80, 81,\n",
       "                    82, 83, 84, 85, 86, 87, 88, 89, 90, 91, 92, 93, 94, 95, 96, 97,\n",
       "                    98, 99],\n",
       "              'y': [0.7537128712871287, 0.7537128712871287, 0.7537128712871287,\n",
       "                    0.7537128712871287, 0.7537128712871287, 0.7537128712871287,\n",
       "                    0.7537128712871287, 0.7537128712871287, 0.7537128712871287,\n",
       "                    0.7537128712871287, 0.7537128712871287, 0.7537128712871287,\n",
       "                    0.7537128712871287, 0.7537128712871287, 0.7537128712871287,\n",
       "                    0.7537128712871287, 0.7537128712871287, 0.7537128712871287,\n",
       "                    0.7537128712871287, 0.7537128712871287, 0.7537128712871287,\n",
       "                    0.7537128712871287, 0.7537128712871287, 0.7537128712871287,\n",
       "                    0.7537128712871287, 0.7537128712871287, 0.7537128712871287,\n",
       "                    0.7537128712871287, 0.7537128712871287, 0.7537128712871287,\n",
       "                    0.7537128712871287, 0.7537128712871287, 0.7537128712871287,\n",
       "                    0.7537128712871287, 0.7537128712871287, 0.7537128712871287,\n",
       "                    0.7537128712871287, 0.7537128712871287, 0.7537128712871287,\n",
       "                    0.7537128712871287, 0.7537128712871287, 0.7537128712871287,\n",
       "                    0.7537128712871287, 0.7537128712871287, 0.7537128712871287,\n",
       "                    0.7537128712871287, 0.7537128712871287, 0.7537128712871287,\n",
       "                    0.7537128712871287, 0.7537128712871287, 0.7537128712871287,\n",
       "                    0.7537128712871287, 0.7537128712871287, 0.7537128712871287,\n",
       "                    0.7537128712871287, 0.7537128712871287, 0.7537128712871287,\n",
       "                    0.7537128712871287, 0.7537128712871287, 0.7537128712871287,\n",
       "                    0.7537128712871287, 0.7537128712871287, 0.7537128712871287,\n",
       "                    0.7537128712871287, 0.7537128712871287, 0.7537128712871287,\n",
       "                    0.7537128712871287, 0.7537128712871287, 0.7537128712871287,\n",
       "                    0.7537128712871287, 0.7537128712871287, 0.7537128712871287,\n",
       "                    0.7537128712871287, 0.7537128712871287, 0.7537128712871287,\n",
       "                    0.7537128712871287, 0.7537128712871287, 0.7537128712871287,\n",
       "                    0.7537128712871287, 0.7537128712871287, 0.7537128712871287,\n",
       "                    0.7537128712871287, 0.7537128712871287, 0.7537128712871287,\n",
       "                    0.7537128712871287, 0.7537128712871287, 0.7537128712871287,\n",
       "                    0.7537128712871287, 0.7537128712871287, 0.7537128712871287,\n",
       "                    0.7537128712871287, 0.7537128712871287, 0.7537128712871287,\n",
       "                    0.7537128712871287, 0.7537128712871287, 0.7537128712871287,\n",
       "                    0.7537128712871287, 0.7537128712871287, 0.7537128712871287,\n",
       "                    0.75]},\n",
       "             {'name': 'Best Value',\n",
       "              'type': 'scatter',\n",
       "              'x': [0, 1, 2, 3, 4, 5, 6, 7, 8, 9, 10, 11, 12, 13, 14, 15, 16, 17,\n",
       "                    18, 19, 20, 21, 22, 23, 24, 25, 26, 27, 28, 29, 30, 31, 32, 33,\n",
       "                    34, 35, 36, 37, 38, 39, 40, 41, 42, 43, 44, 45, 46, 47, 48, 49,\n",
       "                    50, 51, 52, 53, 54, 55, 56, 57, 58, 59, 60, 61, 62, 63, 64, 65,\n",
       "                    66, 67, 68, 69, 70, 71, 72, 73, 74, 75, 76, 77, 78, 79, 80, 81,\n",
       "                    82, 83, 84, 85, 86, 87, 88, 89, 90, 91, 92, 93, 94, 95, 96, 97,\n",
       "                    98, 99],\n",
       "              'y': array([0.75371287, 0.75371287, 0.75371287, 0.75371287, 0.75371287, 0.75371287,\n",
       "                          0.75371287, 0.75371287, 0.75371287, 0.75371287, 0.75371287, 0.75371287,\n",
       "                          0.75371287, 0.75371287, 0.75371287, 0.75371287, 0.75371287, 0.75371287,\n",
       "                          0.75371287, 0.75371287, 0.75371287, 0.75371287, 0.75371287, 0.75371287,\n",
       "                          0.75371287, 0.75371287, 0.75371287, 0.75371287, 0.75371287, 0.75371287,\n",
       "                          0.75371287, 0.75371287, 0.75371287, 0.75371287, 0.75371287, 0.75371287,\n",
       "                          0.75371287, 0.75371287, 0.75371287, 0.75371287, 0.75371287, 0.75371287,\n",
       "                          0.75371287, 0.75371287, 0.75371287, 0.75371287, 0.75371287, 0.75371287,\n",
       "                          0.75371287, 0.75371287, 0.75371287, 0.75371287, 0.75371287, 0.75371287,\n",
       "                          0.75371287, 0.75371287, 0.75371287, 0.75371287, 0.75371287, 0.75371287,\n",
       "                          0.75371287, 0.75371287, 0.75371287, 0.75371287, 0.75371287, 0.75371287,\n",
       "                          0.75371287, 0.75371287, 0.75371287, 0.75371287, 0.75371287, 0.75371287,\n",
       "                          0.75371287, 0.75371287, 0.75371287, 0.75371287, 0.75371287, 0.75371287,\n",
       "                          0.75371287, 0.75371287, 0.75371287, 0.75371287, 0.75371287, 0.75371287,\n",
       "                          0.75371287, 0.75371287, 0.75371287, 0.75371287, 0.75371287, 0.75371287,\n",
       "                          0.75371287, 0.75371287, 0.75371287, 0.75371287, 0.75371287, 0.75371287,\n",
       "                          0.75371287, 0.75371287, 0.75371287, 0.75371287])}],\n",
       "    'layout': {'template': '...',\n",
       "               'title': {'text': 'Optimization History Plot'},\n",
       "               'xaxis': {'title': {'text': '#Trials'}},\n",
       "               'yaxis': {'title': {'text': 'Objective Value'}}}\n",
       "})"
      ]
     },
     "execution_count": 38,
     "metadata": {},
     "output_type": "execute_result"
    }
   ],
   "source": [
    "optuna.visualization.plot_optimization_history(study)"
   ]
  },
  {
   "cell_type": "code",
   "execution_count": 32,
   "metadata": {},
   "outputs": [
    {
     "ename": "ValueError",
     "evalue": "Mime type rendering requires nbformat>=4.2.0 but it is not installed",
     "output_type": "error",
     "traceback": [
      "\u001b[0;31m---------------------------------------------------------------------------\u001b[0m",
      "\u001b[0;31mValueError\u001b[0m                                Traceback (most recent call last)",
      "File \u001b[0;32m~/miniconda3/envs/challenge/lib/python3.8/site-packages/IPython/core/formatters.py:921\u001b[0m, in \u001b[0;36mIPythonDisplayFormatter.__call__\u001b[0;34m(self, obj)\u001b[0m\n\u001b[1;32m    <a href='file:///home/chainyo/miniconda3/envs/challenge/lib/python3.8/site-packages/IPython/core/formatters.py?line=918'>919</a>\u001b[0m method \u001b[39m=\u001b[39m get_real_method(obj, \u001b[39mself\u001b[39m\u001b[39m.\u001b[39mprint_method)\n\u001b[1;32m    <a href='file:///home/chainyo/miniconda3/envs/challenge/lib/python3.8/site-packages/IPython/core/formatters.py?line=919'>920</a>\u001b[0m \u001b[39mif\u001b[39;00m method \u001b[39mis\u001b[39;00m \u001b[39mnot\u001b[39;00m \u001b[39mNone\u001b[39;00m:\n\u001b[0;32m--> <a href='file:///home/chainyo/miniconda3/envs/challenge/lib/python3.8/site-packages/IPython/core/formatters.py?line=920'>921</a>\u001b[0m     method()\n\u001b[1;32m    <a href='file:///home/chainyo/miniconda3/envs/challenge/lib/python3.8/site-packages/IPython/core/formatters.py?line=921'>922</a>\u001b[0m     \u001b[39mreturn\u001b[39;00m \u001b[39mTrue\u001b[39;00m\n",
      "File \u001b[0;32m~/miniconda3/envs/challenge/lib/python3.8/site-packages/plotly/basedatatypes.py:844\u001b[0m, in \u001b[0;36mBaseFigure._ipython_display_\u001b[0;34m(self)\u001b[0m\n\u001b[1;32m    <a href='file:///home/chainyo/miniconda3/envs/challenge/lib/python3.8/site-packages/plotly/basedatatypes.py?line=840'>841</a>\u001b[0m \u001b[39mimport\u001b[39;00m \u001b[39mplotly\u001b[39;00m\u001b[39m.\u001b[39;00m\u001b[39mio\u001b[39;00m \u001b[39mas\u001b[39;00m \u001b[39mpio\u001b[39;00m\n\u001b[1;32m    <a href='file:///home/chainyo/miniconda3/envs/challenge/lib/python3.8/site-packages/plotly/basedatatypes.py?line=842'>843</a>\u001b[0m \u001b[39mif\u001b[39;00m pio\u001b[39m.\u001b[39mrenderers\u001b[39m.\u001b[39mrender_on_display \u001b[39mand\u001b[39;00m pio\u001b[39m.\u001b[39mrenderers\u001b[39m.\u001b[39mdefault:\n\u001b[0;32m--> <a href='file:///home/chainyo/miniconda3/envs/challenge/lib/python3.8/site-packages/plotly/basedatatypes.py?line=843'>844</a>\u001b[0m     pio\u001b[39m.\u001b[39;49mshow(\u001b[39mself\u001b[39;49m)\n\u001b[1;32m    <a href='file:///home/chainyo/miniconda3/envs/challenge/lib/python3.8/site-packages/plotly/basedatatypes.py?line=844'>845</a>\u001b[0m \u001b[39melse\u001b[39;00m:\n\u001b[1;32m    <a href='file:///home/chainyo/miniconda3/envs/challenge/lib/python3.8/site-packages/plotly/basedatatypes.py?line=845'>846</a>\u001b[0m     \u001b[39mprint\u001b[39m(\u001b[39mrepr\u001b[39m(\u001b[39mself\u001b[39m))\n",
      "File \u001b[0;32m~/miniconda3/envs/challenge/lib/python3.8/site-packages/plotly/io/_renderers.py:397\u001b[0m, in \u001b[0;36mshow\u001b[0;34m(fig, renderer, validate, **kwargs)\u001b[0m\n\u001b[1;32m    <a href='file:///home/chainyo/miniconda3/envs/challenge/lib/python3.8/site-packages/plotly/io/_renderers.py?line=391'>392</a>\u001b[0m         \u001b[39mraise\u001b[39;00m \u001b[39mValueError\u001b[39;00m(\n\u001b[1;32m    <a href='file:///home/chainyo/miniconda3/envs/challenge/lib/python3.8/site-packages/plotly/io/_renderers.py?line=392'>393</a>\u001b[0m             \u001b[39m\"\u001b[39m\u001b[39mMime type rendering requires ipython but it is not installed\u001b[39m\u001b[39m\"\u001b[39m\n\u001b[1;32m    <a href='file:///home/chainyo/miniconda3/envs/challenge/lib/python3.8/site-packages/plotly/io/_renderers.py?line=393'>394</a>\u001b[0m         )\n\u001b[1;32m    <a href='file:///home/chainyo/miniconda3/envs/challenge/lib/python3.8/site-packages/plotly/io/_renderers.py?line=395'>396</a>\u001b[0m     \u001b[39mif\u001b[39;00m \u001b[39mnot\u001b[39;00m nbformat \u001b[39mor\u001b[39;00m LooseVersion(nbformat\u001b[39m.\u001b[39m__version__) \u001b[39m<\u001b[39m LooseVersion(\u001b[39m\"\u001b[39m\u001b[39m4.2.0\u001b[39m\u001b[39m\"\u001b[39m):\n\u001b[0;32m--> <a href='file:///home/chainyo/miniconda3/envs/challenge/lib/python3.8/site-packages/plotly/io/_renderers.py?line=396'>397</a>\u001b[0m         \u001b[39mraise\u001b[39;00m \u001b[39mValueError\u001b[39;00m(\n\u001b[1;32m    <a href='file:///home/chainyo/miniconda3/envs/challenge/lib/python3.8/site-packages/plotly/io/_renderers.py?line=397'>398</a>\u001b[0m             \u001b[39m\"\u001b[39m\u001b[39mMime type rendering requires nbformat>=4.2.0 but it is not installed\u001b[39m\u001b[39m\"\u001b[39m\n\u001b[1;32m    <a href='file:///home/chainyo/miniconda3/envs/challenge/lib/python3.8/site-packages/plotly/io/_renderers.py?line=398'>399</a>\u001b[0m         )\n\u001b[1;32m    <a href='file:///home/chainyo/miniconda3/envs/challenge/lib/python3.8/site-packages/plotly/io/_renderers.py?line=400'>401</a>\u001b[0m     ipython_display\u001b[39m.\u001b[39mdisplay(bundle, raw\u001b[39m=\u001b[39m\u001b[39mTrue\u001b[39;00m)\n\u001b[1;32m    <a href='file:///home/chainyo/miniconda3/envs/challenge/lib/python3.8/site-packages/plotly/io/_renderers.py?line=402'>403</a>\u001b[0m \u001b[39m# external renderers\u001b[39;00m\n",
      "\u001b[0;31mValueError\u001b[0m: Mime type rendering requires nbformat>=4.2.0 but it is not installed"
     ]
    },
    {
     "data": {
      "application/vnd.plotly.v1+json": {
       "config": {
        "plotlyServerURL": "https://plot.ly"
       },
       "data": [
        {
         "dimensions": [
          {
           "label": "Objective Value",
           "range": [
            0.75,
            0.7537128712871287
           ],
           "values": [
            0.7537128712871287,
            0.7537128712871287,
            0.7537128712871287,
            0.7537128712871287,
            0.7537128712871287,
            0.7537128712871287,
            0.7537128712871287,
            0.7537128712871287,
            0.7537128712871287,
            0.7537128712871287,
            0.7537128712871287,
            0.75,
            0.7537128712871287,
            0.7537128712871287,
            0.7537128712871287,
            0.7537128712871287,
            0.7537128712871287,
            0.7537128712871287,
            0.7537128712871287,
            0.7537128712871287,
            0.7537128712871287,
            0.7537128712871287,
            0.7537128712871287,
            0.7537128712871287,
            0.7537128712871287,
            0.7537128712871287,
            0.7537128712871287,
            0.7537128712871287,
            0.7537128712871287,
            0.7537128712871287,
            0.7537128712871287,
            0.7537128712871287,
            0.7537128712871287,
            0.7537128712871287,
            0.7537128712871287,
            0.7537128712871287,
            0.7537128712871287,
            0.7537128712871287,
            0.7537128712871287,
            0.7537128712871287,
            0.7537128712871287,
            0.7537128712871287,
            0.7537128712871287,
            0.7537128712871287,
            0.7537128712871287,
            0.7537128712871287,
            0.7537128712871287,
            0.7537128712871287,
            0.7537128712871287,
            0.7537128712871287,
            0.7537128712871287,
            0.7537128712871287,
            0.7537128712871287,
            0.7537128712871287,
            0.7537128712871287,
            0.7537128712871287,
            0.7537128712871287,
            0.7537128712871287,
            0.7537128712871287,
            0.7537128712871287,
            0.7537128712871287,
            0.7537128712871287,
            0.7537128712871287,
            0.7537128712871287,
            0.7537128712871287,
            0.7537128712871287,
            0.7537128712871287,
            0.7537128712871287,
            0.7537128712871287,
            0.7537128712871287,
            0.7537128712871287,
            0.7537128712871287,
            0.7537128712871287,
            0.7537128712871287,
            0.7537128712871287,
            0.7537128712871287,
            0.7537128712871287,
            0.7537128712871287,
            0.7537128712871287,
            0.7537128712871287,
            0.7537128712871287,
            0.7537128712871287,
            0.7537128712871287,
            0.7537128712871287,
            0.7537128712871287,
            0.7537128712871287,
            0.7537128712871287,
            0.7537128712871287,
            0.7537128712871287,
            0.7537128712871287,
            0.7537128712871287,
            0.7537128712871287,
            0.7537128712871287,
            0.7537128712871287,
            0.7537128712871287,
            0.7537128712871287,
            0.7537128712871287,
            0.7537128712871287,
            0.7537128712871287,
            0.7537128712871287
           ]
          },
          {
           "label": "alpha",
           "range": [
            -2.9945388953987093,
            0.9884051208142772
           ],
           "ticktext": [
            "0.00101",
            "0.01",
            "0.1",
            "1",
            "9.74"
           ],
           "tickvals": [
            -2.9945388953987093,
            -2,
            -1,
            0,
            0.9884051208142772
           ],
           "values": [
            -2.9945388953987093,
            -1.5794369563551398,
            -2.518580112610413,
            -2.685793008719951,
            -2.2343184737732176,
            -2.6434332872500588,
            -2.839559021270624,
            -1.5551940497423844,
            -1.542637593762308,
            -1.6937707981510883,
            -0.661857826904885,
            -0.22995210039195665,
            0.197340054848643,
            -0.09218001429324348,
            0.3290434543791593,
            -0.10301335260446215,
            0.04203149473063553,
            -1.5227873216850754,
            0.3420849842618183,
            0.4646974231409384,
            -0.3097393891955981,
            0.011679904556386867,
            0.33444630083882765,
            0.6990492146502787,
            0.5863115926017527,
            -2.1482670319211974,
            -2.195013294502662,
            -1.7237532227533523,
            -2.70565572626737,
            -1.5952795787055936,
            -1.381845255614034,
            -1.2163049315515684,
            -1.1898385795053574,
            -1.5883496619377937,
            -2.0282957007455757,
            -0.7165808196379739,
            -2.423422897682645,
            -1.4318162829233263,
            -2.37368084113433,
            -1.74044808350771,
            -1.734853338699573,
            -2.0098068594176164,
            -1.9360688279826468,
            -1.9165996231949902,
            -0.09800210086417542,
            -0.15044811966779947,
            -2.9903103749708575,
            -2.963558368172511,
            -0.6130625439713145,
            0.733788911124506,
            0.9397471858225511,
            0.4542098079088641,
            0.5682919599625632,
            -0.7286786587004159,
            -1.0517344607980454,
            -1.0713823193923822,
            -0.7402754539840689,
            -0.8711367188486745,
            -0.5178284568843103,
            0.296650722862231,
            -1.6996601163525602,
            0.7637775500824259,
            0.9884051208142772,
            -0.3621557254917328,
            -0.8219698529486247,
            -0.49190767951081205,
            0.8891286713842758,
            0.5737375437119214,
            0.8219485717049186,
            -0.9307755135161098,
            -1.4491262883471594,
            -2.105017039681627,
            -0.5758487035621014,
            -2.5057254147515056,
            -1.3832807588236649,
            -2.475930087793016,
            -2.3450813986055135,
            -0.9115837120739179,
            -2.2879969123753914,
            -1.2514968061874299,
            0.20324178101051332,
            -1.35402017941859,
            -1.8547304270473748,
            -1.2129309440500176,
            -1.0429817620884196,
            -1.1907364764698802,
            -0.8097719516285315,
            -2.0823810474257782,
            0.09411192800621594,
            0.11822907077508457,
            -0.29172948209604843,
            -0.3374824042500506,
            -0.1171130034847115,
            -0.17094339811802434,
            -0.4989377625163277,
            0.45627541703357355,
            -0.9866837616278696,
            0.97154174893813,
            -2.507625986408778,
            -1.0784613281139364
           ]
          },
          {
           "label": "colsample_bytree",
           "range": [
            0,
            7
           ],
           "ticktext": [
            0.3,
            0.4,
            0.5,
            0.6,
            0.7,
            0.8,
            0.9,
            1
           ],
           "tickvals": [
            0,
            1,
            2,
            3,
            4,
            5,
            6,
            7
           ],
           "values": [
            0,
            0,
            0,
            0,
            0,
            0,
            0,
            0,
            0,
            0,
            0,
            1,
            1,
            1,
            1,
            1,
            1,
            1,
            1,
            1,
            1,
            1,
            1,
            1,
            1,
            1,
            1,
            1,
            1,
            2,
            2,
            2,
            2,
            2,
            2,
            2,
            2,
            2,
            2,
            2,
            2,
            2,
            2,
            2,
            3,
            3,
            3,
            3,
            3,
            3,
            3,
            3,
            3,
            3,
            3,
            3,
            3,
            3,
            4,
            4,
            4,
            4,
            4,
            4,
            4,
            4,
            4,
            4,
            4,
            5,
            5,
            5,
            5,
            5,
            5,
            5,
            5,
            5,
            6,
            6,
            6,
            6,
            6,
            6,
            6,
            6,
            6,
            6,
            7,
            7,
            7,
            7,
            7,
            7,
            7,
            7,
            7,
            7,
            7,
            7
           ]
          },
          {
           "label": "lambda",
           "range": [
            -2.9915898593097063,
            0.9834050257967153
           ],
           "ticktext": [
            "0.00102",
            "0.01",
            "0.1",
            "1",
            "9.63"
           ],
           "tickvals": [
            -2.9915898593097063,
            -2,
            -1,
            0,
            0.9834050257967153
           ],
           "values": [
            -0.846698545125377,
            -2.750911410365914,
            -2.607983313868946,
            -2.641211364238886,
            -2.4829522207343375,
            -2.404029994921568,
            0.9834050257967153,
            -2.678055028308729,
            -2.6850233530639995,
            -2.580386407526961,
            -0.5568515950586135,
            -0.6050946777392084,
            -2.157560409606592,
            -0.8801355569476068,
            0.19092822993712594,
            0.6802298685072724,
            0.136534733471813,
            -0.8695074477564044,
            0.34592028068133945,
            0.2800209838875768,
            -0.5254189241330527,
            -0.7419639776762337,
            -1.5814584397587284,
            -0.7222363157970784,
            -0.7507785189523932,
            -0.27005099158142404,
            -0.5727194076735616,
            -1.539340978708219,
            -1.2691028898728411,
            -1.1169976083348074,
            -2.8472908819902476,
            -2.7911320896060463,
            0.4199018643868324,
            -0.9774243173791255,
            -1.090047713117367,
            -2.337626969322584,
            -2.490586003921996,
            -2.979976126447862,
            -2.3882206596798663,
            -2.9127639174035567,
            -2.83657378202419,
            -1.1422191327775713,
            -1.3743927264249909,
            -1.9413562651303646,
            0.49087244189177004,
            -0.232820532113132,
            0.02886110757041926,
            0.05022082571295977,
            0.19647788190565169,
            -0.3560859293389404,
            0.038098525391791996,
            0.20651393501456122,
            0.26466872593502405,
            -2.317357964675307,
            -0.19696288668038833,
            -2.5091579821307404,
            -2.220802136109203,
            0.5723887324999642,
            -0.42700451604442846,
            -0.22782833969053268,
            -2.831532136992798,
            -0.11500563389159052,
            0.5480526013840518,
            0.6949408695882875,
            -0.45945036419288154,
            -2.869047984498876,
            0.5642783923597872,
            0.9688812265461878,
            0.8148032821182235,
            -1.434961816685132,
            -1.562069852277329,
            -1.0816167587654049,
            -0.3920198354330512,
            -2.2717575585835488,
            -2.9915898593097063,
            -2.5305133918942166,
            -1.6591929396016352,
            -2.915672470372433,
            -1.278574990000869,
            -2.1010190765997963,
            -1.985117488742079,
            -2.12519628493921,
            -2.26549981706842,
            -1.763581223307912,
            -1.8457626865333039,
            -1.7002518259127937,
            -1.8485191799141492,
            -1.0616824536027782,
            0.40695298819461406,
            0.4511110872967098,
            0.7848009271146723,
            0.7274235098444459,
            0.3436555780028457,
            -0.8999869377320524,
            -0.863175180522153,
            0.5408809254711189,
            -2.9714864539092964,
            -1.0141101564724302,
            -0.03292510231107534,
            -0.6129666168442299
           ]
          },
          {
           "label": "learning_rate",
           "range": [
            0,
            7
           ],
           "ticktext": [
            0.008,
            0.009,
            0.01,
            0.012,
            0.014,
            0.016,
            0.018,
            0.02
           ],
           "tickvals": [
            0,
            1,
            2,
            3,
            4,
            5,
            6,
            7
           ],
           "values": [
            2,
            3,
            6,
            6,
            6,
            6,
            6,
            6,
            6,
            7,
            7,
            0,
            0,
            0,
            0,
            0,
            0,
            0,
            1,
            1,
            4,
            4,
            4,
            4,
            4,
            6,
            7,
            7,
            7,
            0,
            0,
            0,
            3,
            3,
            3,
            5,
            6,
            6,
            6,
            6,
            6,
            6,
            7,
            7,
            1,
            1,
            1,
            1,
            1,
            4,
            4,
            4,
            5,
            5,
            5,
            5,
            5,
            7,
            1,
            1,
            3,
            4,
            4,
            4,
            5,
            5,
            5,
            5,
            5,
            0,
            0,
            3,
            3,
            4,
            6,
            6,
            6,
            6,
            1,
            2,
            2,
            2,
            2,
            2,
            2,
            2,
            3,
            5,
            0,
            0,
            0,
            0,
            1,
            1,
            1,
            1,
            2,
            2,
            3,
            4
           ]
          },
          {
           "label": "max_depth",
           "range": [
            0,
            7
           ],
           "ticktext": [
            5,
            7,
            9,
            11,
            13,
            15,
            17,
            20
           ],
           "tickvals": [
            0,
            1,
            2,
            3,
            4,
            5,
            6,
            7
           ],
           "values": [
            3,
            7,
            3,
            3,
            3,
            3,
            3,
            4,
            7,
            4,
            7,
            1,
            3,
            6,
            6,
            6,
            6,
            7,
            0,
            1,
            5,
            5,
            5,
            6,
            6,
            4,
            1,
            5,
            6,
            4,
            4,
            4,
            0,
            4,
            4,
            4,
            3,
            4,
            4,
            4,
            4,
            4,
            4,
            5,
            0,
            0,
            3,
            3,
            7,
            0,
            1,
            1,
            0,
            0,
            0,
            0,
            7,
            1,
            0,
            5,
            1,
            1,
            1,
            6,
            0,
            0,
            2,
            2,
            7,
            7,
            7,
            4,
            7,
            1,
            4,
            4,
            4,
            7,
            0,
            2,
            2,
            2,
            2,
            4,
            4,
            7,
            7,
            6,
            1,
            1,
            2,
            6,
            0,
            1,
            5,
            5,
            4,
            6,
            2,
            0
           ]
          },
          {
           "label": "min_child_weight",
           "range": [
            1,
            300
           ],
           "values": [
            180,
            235,
            298,
            227,
            263,
            279,
            166,
            284,
            248,
            261,
            82,
            1,
            200,
            123,
            66,
            114,
            171,
            256,
            59,
            49,
            195,
            201,
            239,
            131,
            144,
            117,
            154,
            241,
            276,
            244,
            269,
            271,
            134,
            244,
            212,
            290,
            218,
            289,
            225,
            231,
            232,
            218,
            264,
            283,
            26,
            96,
            109,
            146,
            114,
            130,
            162,
            133,
            103,
            99,
            195,
            203,
            195,
            187,
            46,
            129,
            272,
            138,
            182,
            144,
            77,
            44,
            157,
            165,
            80,
            173,
            72,
            206,
            48,
            23,
            253,
            209,
            214,
            289,
            251,
            258,
            296,
            300,
            256,
            269,
            225,
            274,
            287,
            239,
            11,
            18,
            7,
            146,
            37,
            155,
            181,
            61,
            251,
            285,
            240,
            87
           ]
          },
          {
           "label": "random_state",
           "range": [
            0,
            2
           ],
           "ticktext": [
            24,
            48,
            2020
           ],
           "tickvals": [
            0,
            1,
            2
           ],
           "values": [
            2,
            1,
            0,
            0,
            0,
            0,
            2,
            0,
            1,
            0,
            2,
            2,
            0,
            2,
            2,
            2,
            2,
            0,
            2,
            2,
            0,
            0,
            0,
            0,
            2,
            1,
            2,
            2,
            2,
            0,
            0,
            0,
            1,
            0,
            1,
            0,
            0,
            0,
            0,
            0,
            0,
            2,
            2,
            2,
            1,
            2,
            2,
            2,
            2,
            0,
            0,
            2,
            0,
            0,
            0,
            0,
            0,
            2,
            0,
            0,
            1,
            0,
            2,
            2,
            0,
            0,
            0,
            0,
            0,
            0,
            2,
            1,
            1,
            1,
            0,
            0,
            0,
            0,
            2,
            0,
            0,
            1,
            1,
            0,
            0,
            0,
            0,
            0,
            2,
            2,
            2,
            2,
            2,
            2,
            2,
            2,
            0,
            1,
            1,
            0
           ]
          },
          {
           "label": "subsample",
           "range": [
            0,
            5
           ],
           "ticktext": [
            0.4,
            0.5,
            0.6,
            0.7,
            0.8,
            1
           ],
           "tickvals": [
            0,
            1,
            2,
            3,
            4,
            5
           ],
           "values": [
            1,
            1,
            1,
            1,
            1,
            1,
            1,
            2,
            1,
            2,
            0,
            0,
            4,
            0,
            0,
            0,
            0,
            0,
            5,
            5,
            5,
            5,
            5,
            4,
            4,
            3,
            3,
            2,
            0,
            2,
            2,
            2,
            5,
            2,
            2,
            2,
            2,
            2,
            2,
            2,
            2,
            2,
            2,
            2,
            3,
            4,
            1,
            1,
            1,
            3,
            3,
            3,
            4,
            4,
            4,
            4,
            4,
            3,
            5,
            5,
            0,
            3,
            3,
            3,
            4,
            4,
            4,
            4,
            4,
            0,
            0,
            2,
            0,
            3,
            0,
            2,
            2,
            2,
            5,
            2,
            5,
            3,
            5,
            2,
            2,
            0,
            2,
            0,
            0,
            0,
            0,
            0,
            0,
            3,
            5,
            5,
            2,
            1,
            2,
            4
           ]
          }
         ],
         "labelangle": 30,
         "labelside": "bottom",
         "line": {
          "color": [
           0.7537128712871287,
           0.7537128712871287,
           0.7537128712871287,
           0.7537128712871287,
           0.7537128712871287,
           0.7537128712871287,
           0.7537128712871287,
           0.7537128712871287,
           0.7537128712871287,
           0.7537128712871287,
           0.7537128712871287,
           0.75,
           0.7537128712871287,
           0.7537128712871287,
           0.7537128712871287,
           0.7537128712871287,
           0.7537128712871287,
           0.7537128712871287,
           0.7537128712871287,
           0.7537128712871287,
           0.7537128712871287,
           0.7537128712871287,
           0.7537128712871287,
           0.7537128712871287,
           0.7537128712871287,
           0.7537128712871287,
           0.7537128712871287,
           0.7537128712871287,
           0.7537128712871287,
           0.7537128712871287,
           0.7537128712871287,
           0.7537128712871287,
           0.7537128712871287,
           0.7537128712871287,
           0.7537128712871287,
           0.7537128712871287,
           0.7537128712871287,
           0.7537128712871287,
           0.7537128712871287,
           0.7537128712871287,
           0.7537128712871287,
           0.7537128712871287,
           0.7537128712871287,
           0.7537128712871287,
           0.7537128712871287,
           0.7537128712871287,
           0.7537128712871287,
           0.7537128712871287,
           0.7537128712871287,
           0.7537128712871287,
           0.7537128712871287,
           0.7537128712871287,
           0.7537128712871287,
           0.7537128712871287,
           0.7537128712871287,
           0.7537128712871287,
           0.7537128712871287,
           0.7537128712871287,
           0.7537128712871287,
           0.7537128712871287,
           0.7537128712871287,
           0.7537128712871287,
           0.7537128712871287,
           0.7537128712871287,
           0.7537128712871287,
           0.7537128712871287,
           0.7537128712871287,
           0.7537128712871287,
           0.7537128712871287,
           0.7537128712871287,
           0.7537128712871287,
           0.7537128712871287,
           0.7537128712871287,
           0.7537128712871287,
           0.7537128712871287,
           0.7537128712871287,
           0.7537128712871287,
           0.7537128712871287,
           0.7537128712871287,
           0.7537128712871287,
           0.7537128712871287,
           0.7537128712871287,
           0.7537128712871287,
           0.7537128712871287,
           0.7537128712871287,
           0.7537128712871287,
           0.7537128712871287,
           0.7537128712871287,
           0.7537128712871287,
           0.7537128712871287,
           0.7537128712871287,
           0.7537128712871287,
           0.7537128712871287,
           0.7537128712871287,
           0.7537128712871287,
           0.7537128712871287,
           0.7537128712871287,
           0.7537128712871287,
           0.7537128712871287,
           0.7537128712871287
          ],
          "colorbar": {
           "title": {
            "text": "Objective Value"
           }
          },
          "colorscale": [
           [
            0,
            "rgb(247,251,255)"
           ],
           [
            0.125,
            "rgb(222,235,247)"
           ],
           [
            0.25,
            "rgb(198,219,239)"
           ],
           [
            0.375,
            "rgb(158,202,225)"
           ],
           [
            0.5,
            "rgb(107,174,214)"
           ],
           [
            0.625,
            "rgb(66,146,198)"
           ],
           [
            0.75,
            "rgb(33,113,181)"
           ],
           [
            0.875,
            "rgb(8,81,156)"
           ],
           [
            1,
            "rgb(8,48,107)"
           ]
          ],
          "reversescale": false,
          "showscale": true
         },
         "type": "parcoords"
        }
       ],
       "layout": {
        "template": {
         "data": {
          "bar": [
           {
            "error_x": {
             "color": "#2a3f5f"
            },
            "error_y": {
             "color": "#2a3f5f"
            },
            "marker": {
             "line": {
              "color": "#E5ECF6",
              "width": 0.5
             },
             "pattern": {
              "fillmode": "overlay",
              "size": 10,
              "solidity": 0.2
             }
            },
            "type": "bar"
           }
          ],
          "barpolar": [
           {
            "marker": {
             "line": {
              "color": "#E5ECF6",
              "width": 0.5
             },
             "pattern": {
              "fillmode": "overlay",
              "size": 10,
              "solidity": 0.2
             }
            },
            "type": "barpolar"
           }
          ],
          "carpet": [
           {
            "aaxis": {
             "endlinecolor": "#2a3f5f",
             "gridcolor": "white",
             "linecolor": "white",
             "minorgridcolor": "white",
             "startlinecolor": "#2a3f5f"
            },
            "baxis": {
             "endlinecolor": "#2a3f5f",
             "gridcolor": "white",
             "linecolor": "white",
             "minorgridcolor": "white",
             "startlinecolor": "#2a3f5f"
            },
            "type": "carpet"
           }
          ],
          "choropleth": [
           {
            "colorbar": {
             "outlinewidth": 0,
             "ticks": ""
            },
            "type": "choropleth"
           }
          ],
          "contour": [
           {
            "colorbar": {
             "outlinewidth": 0,
             "ticks": ""
            },
            "colorscale": [
             [
              0,
              "#0d0887"
             ],
             [
              0.1111111111111111,
              "#46039f"
             ],
             [
              0.2222222222222222,
              "#7201a8"
             ],
             [
              0.3333333333333333,
              "#9c179e"
             ],
             [
              0.4444444444444444,
              "#bd3786"
             ],
             [
              0.5555555555555556,
              "#d8576b"
             ],
             [
              0.6666666666666666,
              "#ed7953"
             ],
             [
              0.7777777777777778,
              "#fb9f3a"
             ],
             [
              0.8888888888888888,
              "#fdca26"
             ],
             [
              1,
              "#f0f921"
             ]
            ],
            "type": "contour"
           }
          ],
          "contourcarpet": [
           {
            "colorbar": {
             "outlinewidth": 0,
             "ticks": ""
            },
            "type": "contourcarpet"
           }
          ],
          "heatmap": [
           {
            "colorbar": {
             "outlinewidth": 0,
             "ticks": ""
            },
            "colorscale": [
             [
              0,
              "#0d0887"
             ],
             [
              0.1111111111111111,
              "#46039f"
             ],
             [
              0.2222222222222222,
              "#7201a8"
             ],
             [
              0.3333333333333333,
              "#9c179e"
             ],
             [
              0.4444444444444444,
              "#bd3786"
             ],
             [
              0.5555555555555556,
              "#d8576b"
             ],
             [
              0.6666666666666666,
              "#ed7953"
             ],
             [
              0.7777777777777778,
              "#fb9f3a"
             ],
             [
              0.8888888888888888,
              "#fdca26"
             ],
             [
              1,
              "#f0f921"
             ]
            ],
            "type": "heatmap"
           }
          ],
          "heatmapgl": [
           {
            "colorbar": {
             "outlinewidth": 0,
             "ticks": ""
            },
            "colorscale": [
             [
              0,
              "#0d0887"
             ],
             [
              0.1111111111111111,
              "#46039f"
             ],
             [
              0.2222222222222222,
              "#7201a8"
             ],
             [
              0.3333333333333333,
              "#9c179e"
             ],
             [
              0.4444444444444444,
              "#bd3786"
             ],
             [
              0.5555555555555556,
              "#d8576b"
             ],
             [
              0.6666666666666666,
              "#ed7953"
             ],
             [
              0.7777777777777778,
              "#fb9f3a"
             ],
             [
              0.8888888888888888,
              "#fdca26"
             ],
             [
              1,
              "#f0f921"
             ]
            ],
            "type": "heatmapgl"
           }
          ],
          "histogram": [
           {
            "marker": {
             "pattern": {
              "fillmode": "overlay",
              "size": 10,
              "solidity": 0.2
             }
            },
            "type": "histogram"
           }
          ],
          "histogram2d": [
           {
            "colorbar": {
             "outlinewidth": 0,
             "ticks": ""
            },
            "colorscale": [
             [
              0,
              "#0d0887"
             ],
             [
              0.1111111111111111,
              "#46039f"
             ],
             [
              0.2222222222222222,
              "#7201a8"
             ],
             [
              0.3333333333333333,
              "#9c179e"
             ],
             [
              0.4444444444444444,
              "#bd3786"
             ],
             [
              0.5555555555555556,
              "#d8576b"
             ],
             [
              0.6666666666666666,
              "#ed7953"
             ],
             [
              0.7777777777777778,
              "#fb9f3a"
             ],
             [
              0.8888888888888888,
              "#fdca26"
             ],
             [
              1,
              "#f0f921"
             ]
            ],
            "type": "histogram2d"
           }
          ],
          "histogram2dcontour": [
           {
            "colorbar": {
             "outlinewidth": 0,
             "ticks": ""
            },
            "colorscale": [
             [
              0,
              "#0d0887"
             ],
             [
              0.1111111111111111,
              "#46039f"
             ],
             [
              0.2222222222222222,
              "#7201a8"
             ],
             [
              0.3333333333333333,
              "#9c179e"
             ],
             [
              0.4444444444444444,
              "#bd3786"
             ],
             [
              0.5555555555555556,
              "#d8576b"
             ],
             [
              0.6666666666666666,
              "#ed7953"
             ],
             [
              0.7777777777777778,
              "#fb9f3a"
             ],
             [
              0.8888888888888888,
              "#fdca26"
             ],
             [
              1,
              "#f0f921"
             ]
            ],
            "type": "histogram2dcontour"
           }
          ],
          "mesh3d": [
           {
            "colorbar": {
             "outlinewidth": 0,
             "ticks": ""
            },
            "type": "mesh3d"
           }
          ],
          "parcoords": [
           {
            "line": {
             "colorbar": {
              "outlinewidth": 0,
              "ticks": ""
             }
            },
            "type": "parcoords"
           }
          ],
          "pie": [
           {
            "automargin": true,
            "type": "pie"
           }
          ],
          "scatter": [
           {
            "marker": {
             "colorbar": {
              "outlinewidth": 0,
              "ticks": ""
             }
            },
            "type": "scatter"
           }
          ],
          "scatter3d": [
           {
            "line": {
             "colorbar": {
              "outlinewidth": 0,
              "ticks": ""
             }
            },
            "marker": {
             "colorbar": {
              "outlinewidth": 0,
              "ticks": ""
             }
            },
            "type": "scatter3d"
           }
          ],
          "scattercarpet": [
           {
            "marker": {
             "colorbar": {
              "outlinewidth": 0,
              "ticks": ""
             }
            },
            "type": "scattercarpet"
           }
          ],
          "scattergeo": [
           {
            "marker": {
             "colorbar": {
              "outlinewidth": 0,
              "ticks": ""
             }
            },
            "type": "scattergeo"
           }
          ],
          "scattergl": [
           {
            "marker": {
             "colorbar": {
              "outlinewidth": 0,
              "ticks": ""
             }
            },
            "type": "scattergl"
           }
          ],
          "scattermapbox": [
           {
            "marker": {
             "colorbar": {
              "outlinewidth": 0,
              "ticks": ""
             }
            },
            "type": "scattermapbox"
           }
          ],
          "scatterpolar": [
           {
            "marker": {
             "colorbar": {
              "outlinewidth": 0,
              "ticks": ""
             }
            },
            "type": "scatterpolar"
           }
          ],
          "scatterpolargl": [
           {
            "marker": {
             "colorbar": {
              "outlinewidth": 0,
              "ticks": ""
             }
            },
            "type": "scatterpolargl"
           }
          ],
          "scatterternary": [
           {
            "marker": {
             "colorbar": {
              "outlinewidth": 0,
              "ticks": ""
             }
            },
            "type": "scatterternary"
           }
          ],
          "surface": [
           {
            "colorbar": {
             "outlinewidth": 0,
             "ticks": ""
            },
            "colorscale": [
             [
              0,
              "#0d0887"
             ],
             [
              0.1111111111111111,
              "#46039f"
             ],
             [
              0.2222222222222222,
              "#7201a8"
             ],
             [
              0.3333333333333333,
              "#9c179e"
             ],
             [
              0.4444444444444444,
              "#bd3786"
             ],
             [
              0.5555555555555556,
              "#d8576b"
             ],
             [
              0.6666666666666666,
              "#ed7953"
             ],
             [
              0.7777777777777778,
              "#fb9f3a"
             ],
             [
              0.8888888888888888,
              "#fdca26"
             ],
             [
              1,
              "#f0f921"
             ]
            ],
            "type": "surface"
           }
          ],
          "table": [
           {
            "cells": {
             "fill": {
              "color": "#EBF0F8"
             },
             "line": {
              "color": "white"
             }
            },
            "header": {
             "fill": {
              "color": "#C8D4E3"
             },
             "line": {
              "color": "white"
             }
            },
            "type": "table"
           }
          ]
         },
         "layout": {
          "annotationdefaults": {
           "arrowcolor": "#2a3f5f",
           "arrowhead": 0,
           "arrowwidth": 1
          },
          "autotypenumbers": "strict",
          "coloraxis": {
           "colorbar": {
            "outlinewidth": 0,
            "ticks": ""
           }
          },
          "colorscale": {
           "diverging": [
            [
             0,
             "#8e0152"
            ],
            [
             0.1,
             "#c51b7d"
            ],
            [
             0.2,
             "#de77ae"
            ],
            [
             0.3,
             "#f1b6da"
            ],
            [
             0.4,
             "#fde0ef"
            ],
            [
             0.5,
             "#f7f7f7"
            ],
            [
             0.6,
             "#e6f5d0"
            ],
            [
             0.7,
             "#b8e186"
            ],
            [
             0.8,
             "#7fbc41"
            ],
            [
             0.9,
             "#4d9221"
            ],
            [
             1,
             "#276419"
            ]
           ],
           "sequential": [
            [
             0,
             "#0d0887"
            ],
            [
             0.1111111111111111,
             "#46039f"
            ],
            [
             0.2222222222222222,
             "#7201a8"
            ],
            [
             0.3333333333333333,
             "#9c179e"
            ],
            [
             0.4444444444444444,
             "#bd3786"
            ],
            [
             0.5555555555555556,
             "#d8576b"
            ],
            [
             0.6666666666666666,
             "#ed7953"
            ],
            [
             0.7777777777777778,
             "#fb9f3a"
            ],
            [
             0.8888888888888888,
             "#fdca26"
            ],
            [
             1,
             "#f0f921"
            ]
           ],
           "sequentialminus": [
            [
             0,
             "#0d0887"
            ],
            [
             0.1111111111111111,
             "#46039f"
            ],
            [
             0.2222222222222222,
             "#7201a8"
            ],
            [
             0.3333333333333333,
             "#9c179e"
            ],
            [
             0.4444444444444444,
             "#bd3786"
            ],
            [
             0.5555555555555556,
             "#d8576b"
            ],
            [
             0.6666666666666666,
             "#ed7953"
            ],
            [
             0.7777777777777778,
             "#fb9f3a"
            ],
            [
             0.8888888888888888,
             "#fdca26"
            ],
            [
             1,
             "#f0f921"
            ]
           ]
          },
          "colorway": [
           "#636efa",
           "#EF553B",
           "#00cc96",
           "#ab63fa",
           "#FFA15A",
           "#19d3f3",
           "#FF6692",
           "#B6E880",
           "#FF97FF",
           "#FECB52"
          ],
          "font": {
           "color": "#2a3f5f"
          },
          "geo": {
           "bgcolor": "white",
           "lakecolor": "white",
           "landcolor": "#E5ECF6",
           "showlakes": true,
           "showland": true,
           "subunitcolor": "white"
          },
          "hoverlabel": {
           "align": "left"
          },
          "hovermode": "closest",
          "mapbox": {
           "style": "light"
          },
          "paper_bgcolor": "white",
          "plot_bgcolor": "#E5ECF6",
          "polar": {
           "angularaxis": {
            "gridcolor": "white",
            "linecolor": "white",
            "ticks": ""
           },
           "bgcolor": "#E5ECF6",
           "radialaxis": {
            "gridcolor": "white",
            "linecolor": "white",
            "ticks": ""
           }
          },
          "scene": {
           "xaxis": {
            "backgroundcolor": "#E5ECF6",
            "gridcolor": "white",
            "gridwidth": 2,
            "linecolor": "white",
            "showbackground": true,
            "ticks": "",
            "zerolinecolor": "white"
           },
           "yaxis": {
            "backgroundcolor": "#E5ECF6",
            "gridcolor": "white",
            "gridwidth": 2,
            "linecolor": "white",
            "showbackground": true,
            "ticks": "",
            "zerolinecolor": "white"
           },
           "zaxis": {
            "backgroundcolor": "#E5ECF6",
            "gridcolor": "white",
            "gridwidth": 2,
            "linecolor": "white",
            "showbackground": true,
            "ticks": "",
            "zerolinecolor": "white"
           }
          },
          "shapedefaults": {
           "line": {
            "color": "#2a3f5f"
           }
          },
          "ternary": {
           "aaxis": {
            "gridcolor": "white",
            "linecolor": "white",
            "ticks": ""
           },
           "baxis": {
            "gridcolor": "white",
            "linecolor": "white",
            "ticks": ""
           },
           "bgcolor": "#E5ECF6",
           "caxis": {
            "gridcolor": "white",
            "linecolor": "white",
            "ticks": ""
           }
          },
          "title": {
           "x": 0.05
          },
          "xaxis": {
           "automargin": true,
           "gridcolor": "white",
           "linecolor": "white",
           "ticks": "",
           "title": {
            "standoff": 15
           },
           "zerolinecolor": "white",
           "zerolinewidth": 2
          },
          "yaxis": {
           "automargin": true,
           "gridcolor": "white",
           "linecolor": "white",
           "ticks": "",
           "title": {
            "standoff": 15
           },
           "zerolinecolor": "white",
           "zerolinewidth": 2
          }
         }
        },
        "title": {
         "text": "Parallel Coordinate Plot"
        }
       }
      },
      "text/html": [
       "<div>                        <script type=\"text/javascript\">window.PlotlyConfig = {MathJaxConfig: 'local'};</script>\n",
       "        <script src=\"https://cdn.plot.ly/plotly-2.9.0.min.js\"></script>                <div id=\"03cac24f-7c86-4a47-a931-4d6de48a2426\" class=\"plotly-graph-div\" style=\"height:100%; width:100%;\"></div>            <script type=\"text/javascript\">                                    window.PLOTLYENV=window.PLOTLYENV || {};                                    if (document.getElementById(\"03cac24f-7c86-4a47-a931-4d6de48a2426\")) {                    Plotly.newPlot(                        \"03cac24f-7c86-4a47-a931-4d6de48a2426\",                        [{\"dimensions\":[{\"label\":\"Objective Value\",\"range\":[0.75,0.7537128712871287],\"values\":[0.7537128712871287,0.7537128712871287,0.7537128712871287,0.7537128712871287,0.7537128712871287,0.7537128712871287,0.7537128712871287,0.7537128712871287,0.7537128712871287,0.7537128712871287,0.7537128712871287,0.75,0.7537128712871287,0.7537128712871287,0.7537128712871287,0.7537128712871287,0.7537128712871287,0.7537128712871287,0.7537128712871287,0.7537128712871287,0.7537128712871287,0.7537128712871287,0.7537128712871287,0.7537128712871287,0.7537128712871287,0.7537128712871287,0.7537128712871287,0.7537128712871287,0.7537128712871287,0.7537128712871287,0.7537128712871287,0.7537128712871287,0.7537128712871287,0.7537128712871287,0.7537128712871287,0.7537128712871287,0.7537128712871287,0.7537128712871287,0.7537128712871287,0.7537128712871287,0.7537128712871287,0.7537128712871287,0.7537128712871287,0.7537128712871287,0.7537128712871287,0.7537128712871287,0.7537128712871287,0.7537128712871287,0.7537128712871287,0.7537128712871287,0.7537128712871287,0.7537128712871287,0.7537128712871287,0.7537128712871287,0.7537128712871287,0.7537128712871287,0.7537128712871287,0.7537128712871287,0.7537128712871287,0.7537128712871287,0.7537128712871287,0.7537128712871287,0.7537128712871287,0.7537128712871287,0.7537128712871287,0.7537128712871287,0.7537128712871287,0.7537128712871287,0.7537128712871287,0.7537128712871287,0.7537128712871287,0.7537128712871287,0.7537128712871287,0.7537128712871287,0.7537128712871287,0.7537128712871287,0.7537128712871287,0.7537128712871287,0.7537128712871287,0.7537128712871287,0.7537128712871287,0.7537128712871287,0.7537128712871287,0.7537128712871287,0.7537128712871287,0.7537128712871287,0.7537128712871287,0.7537128712871287,0.7537128712871287,0.7537128712871287,0.7537128712871287,0.7537128712871287,0.7537128712871287,0.7537128712871287,0.7537128712871287,0.7537128712871287,0.7537128712871287,0.7537128712871287,0.7537128712871287,0.7537128712871287]},{\"label\":\"alpha\",\"range\":[-2.9945388953987093,0.9884051208142772],\"ticktext\":[\"0.00101\",\"0.01\",\"0.1\",\"1\",\"9.74\"],\"tickvals\":[-2.9945388953987093,-2,-1,0,0.9884051208142772],\"values\":[-2.9945388953987093,-1.5794369563551398,-2.518580112610413,-2.685793008719951,-2.2343184737732176,-2.6434332872500588,-2.839559021270624,-1.5551940497423844,-1.542637593762308,-1.6937707981510883,-0.661857826904885,-0.22995210039195665,0.197340054848643,-0.09218001429324348,0.3290434543791593,-0.10301335260446215,0.04203149473063553,-1.5227873216850754,0.3420849842618183,0.4646974231409384,-0.3097393891955981,0.011679904556386867,0.33444630083882765,0.6990492146502787,0.5863115926017527,-2.1482670319211974,-2.195013294502662,-1.7237532227533523,-2.70565572626737,-1.5952795787055936,-1.381845255614034,-1.2163049315515684,-1.1898385795053574,-1.5883496619377937,-2.0282957007455757,-0.7165808196379739,-2.423422897682645,-1.4318162829233263,-2.37368084113433,-1.74044808350771,-1.734853338699573,-2.0098068594176164,-1.9360688279826468,-1.9165996231949902,-0.09800210086417542,-0.15044811966779947,-2.9903103749708575,-2.963558368172511,-0.6130625439713145,0.733788911124506,0.9397471858225511,0.4542098079088641,0.5682919599625632,-0.7286786587004159,-1.0517344607980454,-1.0713823193923822,-0.7402754539840689,-0.8711367188486745,-0.5178284568843103,0.296650722862231,-1.6996601163525602,0.7637775500824259,0.9884051208142772,-0.3621557254917328,-0.8219698529486247,-0.49190767951081205,0.8891286713842758,0.5737375437119214,0.8219485717049186,-0.9307755135161098,-1.4491262883471594,-2.105017039681627,-0.5758487035621014,-2.5057254147515056,-1.3832807588236649,-2.475930087793016,-2.3450813986055135,-0.9115837120739179,-2.2879969123753914,-1.2514968061874299,0.20324178101051332,-1.35402017941859,-1.8547304270473748,-1.2129309440500176,-1.0429817620884196,-1.1907364764698802,-0.8097719516285315,-2.0823810474257782,0.09411192800621594,0.11822907077508457,-0.29172948209604843,-0.3374824042500506,-0.1171130034847115,-0.17094339811802434,-0.4989377625163277,0.45627541703357355,-0.9866837616278696,0.97154174893813,-2.507625986408778,-1.0784613281139364]},{\"label\":\"colsample_bytree\",\"range\":[0,7],\"ticktext\":[0.3,0.4,0.5,0.6,0.7,0.8,0.9,1.0],\"tickvals\":[0,1,2,3,4,5,6,7],\"values\":[0,0,0,0,0,0,0,0,0,0,0,1,1,1,1,1,1,1,1,1,1,1,1,1,1,1,1,1,1,2,2,2,2,2,2,2,2,2,2,2,2,2,2,2,3,3,3,3,3,3,3,3,3,3,3,3,3,3,4,4,4,4,4,4,4,4,4,4,4,5,5,5,5,5,5,5,5,5,6,6,6,6,6,6,6,6,6,6,7,7,7,7,7,7,7,7,7,7,7,7]},{\"label\":\"lambda\",\"range\":[-2.9915898593097063,0.9834050257967153],\"ticktext\":[\"0.00102\",\"0.01\",\"0.1\",\"1\",\"9.63\"],\"tickvals\":[-2.9915898593097063,-2,-1,0,0.9834050257967153],\"values\":[-0.846698545125377,-2.750911410365914,-2.607983313868946,-2.641211364238886,-2.4829522207343375,-2.404029994921568,0.9834050257967153,-2.678055028308729,-2.6850233530639995,-2.580386407526961,-0.5568515950586135,-0.6050946777392084,-2.157560409606592,-0.8801355569476068,0.19092822993712594,0.6802298685072724,0.136534733471813,-0.8695074477564044,0.34592028068133945,0.2800209838875768,-0.5254189241330527,-0.7419639776762337,-1.5814584397587284,-0.7222363157970784,-0.7507785189523932,-0.27005099158142404,-0.5727194076735616,-1.539340978708219,-1.2691028898728411,-1.1169976083348074,-2.8472908819902476,-2.7911320896060463,0.4199018643868324,-0.9774243173791255,-1.090047713117367,-2.337626969322584,-2.490586003921996,-2.979976126447862,-2.3882206596798663,-2.9127639174035567,-2.83657378202419,-1.1422191327775713,-1.3743927264249909,-1.9413562651303646,0.49087244189177004,-0.232820532113132,0.02886110757041926,0.05022082571295977,0.19647788190565169,-0.3560859293389404,0.038098525391791996,0.20651393501456122,0.26466872593502405,-2.317357964675307,-0.19696288668038833,-2.5091579821307404,-2.220802136109203,0.5723887324999642,-0.42700451604442846,-0.22782833969053268,-2.831532136992798,-0.11500563389159052,0.5480526013840518,0.6949408695882875,-0.45945036419288154,-2.869047984498876,0.5642783923597872,0.9688812265461878,0.8148032821182235,-1.434961816685132,-1.562069852277329,-1.0816167587654049,-0.3920198354330512,-2.2717575585835488,-2.9915898593097063,-2.5305133918942166,-1.6591929396016352,-2.915672470372433,-1.278574990000869,-2.1010190765997963,-1.985117488742079,-2.12519628493921,-2.26549981706842,-1.763581223307912,-1.8457626865333039,-1.7002518259127937,-1.8485191799141492,-1.0616824536027782,0.40695298819461406,0.4511110872967098,0.7848009271146723,0.7274235098444459,0.3436555780028457,-0.8999869377320524,-0.863175180522153,0.5408809254711189,-2.9714864539092964,-1.0141101564724302,-0.03292510231107534,-0.6129666168442299]},{\"label\":\"learning_rate\",\"range\":[0,7],\"ticktext\":[0.008,0.009,0.01,0.012,0.014,0.016,0.018,0.02],\"tickvals\":[0,1,2,3,4,5,6,7],\"values\":[2,3,6,6,6,6,6,6,6,7,7,0,0,0,0,0,0,0,1,1,4,4,4,4,4,6,7,7,7,0,0,0,3,3,3,5,6,6,6,6,6,6,7,7,1,1,1,1,1,4,4,4,5,5,5,5,5,7,1,1,3,4,4,4,5,5,5,5,5,0,0,3,3,4,6,6,6,6,1,2,2,2,2,2,2,2,3,5,0,0,0,0,1,1,1,1,2,2,3,4]},{\"label\":\"max_depth\",\"range\":[0,7],\"ticktext\":[5,7,9,11,13,15,17,20],\"tickvals\":[0,1,2,3,4,5,6,7],\"values\":[3,7,3,3,3,3,3,4,7,4,7,1,3,6,6,6,6,7,0,1,5,5,5,6,6,4,1,5,6,4,4,4,0,4,4,4,3,4,4,4,4,4,4,5,0,0,3,3,7,0,1,1,0,0,0,0,7,1,0,5,1,1,1,6,0,0,2,2,7,7,7,4,7,1,4,4,4,7,0,2,2,2,2,4,4,7,7,6,1,1,2,6,0,1,5,5,4,6,2,0]},{\"label\":\"min_child_weight\",\"range\":[1,300],\"values\":[180,235,298,227,263,279,166,284,248,261,82,1,200,123,66,114,171,256,59,49,195,201,239,131,144,117,154,241,276,244,269,271,134,244,212,290,218,289,225,231,232,218,264,283,26,96,109,146,114,130,162,133,103,99,195,203,195,187,46,129,272,138,182,144,77,44,157,165,80,173,72,206,48,23,253,209,214,289,251,258,296,300,256,269,225,274,287,239,11,18,7,146,37,155,181,61,251,285,240,87]},{\"label\":\"random_state\",\"range\":[0,2],\"ticktext\":[24,48,2020],\"tickvals\":[0,1,2],\"values\":[2,1,0,0,0,0,2,0,1,0,2,2,0,2,2,2,2,0,2,2,0,0,0,0,2,1,2,2,2,0,0,0,1,0,1,0,0,0,0,0,0,2,2,2,1,2,2,2,2,0,0,2,0,0,0,0,0,2,0,0,1,0,2,2,0,0,0,0,0,0,2,1,1,1,0,0,0,0,2,0,0,1,1,0,0,0,0,0,2,2,2,2,2,2,2,2,0,1,1,0]},{\"label\":\"subsample\",\"range\":[0,5],\"ticktext\":[0.4,0.5,0.6,0.7,0.8,1.0],\"tickvals\":[0,1,2,3,4,5],\"values\":[1,1,1,1,1,1,1,2,1,2,0,0,4,0,0,0,0,0,5,5,5,5,5,4,4,3,3,2,0,2,2,2,5,2,2,2,2,2,2,2,2,2,2,2,3,4,1,1,1,3,3,3,4,4,4,4,4,3,5,5,0,3,3,3,4,4,4,4,4,0,0,2,0,3,0,2,2,2,5,2,5,3,5,2,2,0,2,0,0,0,0,0,0,3,5,5,2,1,2,4]}],\"labelangle\":30,\"labelside\":\"bottom\",\"line\":{\"color\":[0.7537128712871287,0.7537128712871287,0.7537128712871287,0.7537128712871287,0.7537128712871287,0.7537128712871287,0.7537128712871287,0.7537128712871287,0.7537128712871287,0.7537128712871287,0.7537128712871287,0.75,0.7537128712871287,0.7537128712871287,0.7537128712871287,0.7537128712871287,0.7537128712871287,0.7537128712871287,0.7537128712871287,0.7537128712871287,0.7537128712871287,0.7537128712871287,0.7537128712871287,0.7537128712871287,0.7537128712871287,0.7537128712871287,0.7537128712871287,0.7537128712871287,0.7537128712871287,0.7537128712871287,0.7537128712871287,0.7537128712871287,0.7537128712871287,0.7537128712871287,0.7537128712871287,0.7537128712871287,0.7537128712871287,0.7537128712871287,0.7537128712871287,0.7537128712871287,0.7537128712871287,0.7537128712871287,0.7537128712871287,0.7537128712871287,0.7537128712871287,0.7537128712871287,0.7537128712871287,0.7537128712871287,0.7537128712871287,0.7537128712871287,0.7537128712871287,0.7537128712871287,0.7537128712871287,0.7537128712871287,0.7537128712871287,0.7537128712871287,0.7537128712871287,0.7537128712871287,0.7537128712871287,0.7537128712871287,0.7537128712871287,0.7537128712871287,0.7537128712871287,0.7537128712871287,0.7537128712871287,0.7537128712871287,0.7537128712871287,0.7537128712871287,0.7537128712871287,0.7537128712871287,0.7537128712871287,0.7537128712871287,0.7537128712871287,0.7537128712871287,0.7537128712871287,0.7537128712871287,0.7537128712871287,0.7537128712871287,0.7537128712871287,0.7537128712871287,0.7537128712871287,0.7537128712871287,0.7537128712871287,0.7537128712871287,0.7537128712871287,0.7537128712871287,0.7537128712871287,0.7537128712871287,0.7537128712871287,0.7537128712871287,0.7537128712871287,0.7537128712871287,0.7537128712871287,0.7537128712871287,0.7537128712871287,0.7537128712871287,0.7537128712871287,0.7537128712871287,0.7537128712871287,0.7537128712871287],\"colorbar\":{\"title\":{\"text\":\"Objective Value\"}},\"colorscale\":[[0.0,\"rgb(247,251,255)\"],[0.125,\"rgb(222,235,247)\"],[0.25,\"rgb(198,219,239)\"],[0.375,\"rgb(158,202,225)\"],[0.5,\"rgb(107,174,214)\"],[0.625,\"rgb(66,146,198)\"],[0.75,\"rgb(33,113,181)\"],[0.875,\"rgb(8,81,156)\"],[1.0,\"rgb(8,48,107)\"]],\"reversescale\":false,\"showscale\":true},\"type\":\"parcoords\"}],                        {\"title\":{\"text\":\"Parallel Coordinate Plot\"},\"template\":{\"data\":{\"bar\":[{\"error_x\":{\"color\":\"#2a3f5f\"},\"error_y\":{\"color\":\"#2a3f5f\"},\"marker\":{\"line\":{\"color\":\"#E5ECF6\",\"width\":0.5},\"pattern\":{\"fillmode\":\"overlay\",\"size\":10,\"solidity\":0.2}},\"type\":\"bar\"}],\"barpolar\":[{\"marker\":{\"line\":{\"color\":\"#E5ECF6\",\"width\":0.5},\"pattern\":{\"fillmode\":\"overlay\",\"size\":10,\"solidity\":0.2}},\"type\":\"barpolar\"}],\"carpet\":[{\"aaxis\":{\"endlinecolor\":\"#2a3f5f\",\"gridcolor\":\"white\",\"linecolor\":\"white\",\"minorgridcolor\":\"white\",\"startlinecolor\":\"#2a3f5f\"},\"baxis\":{\"endlinecolor\":\"#2a3f5f\",\"gridcolor\":\"white\",\"linecolor\":\"white\",\"minorgridcolor\":\"white\",\"startlinecolor\":\"#2a3f5f\"},\"type\":\"carpet\"}],\"choropleth\":[{\"colorbar\":{\"outlinewidth\":0,\"ticks\":\"\"},\"type\":\"choropleth\"}],\"contour\":[{\"colorbar\":{\"outlinewidth\":0,\"ticks\":\"\"},\"colorscale\":[[0.0,\"#0d0887\"],[0.1111111111111111,\"#46039f\"],[0.2222222222222222,\"#7201a8\"],[0.3333333333333333,\"#9c179e\"],[0.4444444444444444,\"#bd3786\"],[0.5555555555555556,\"#d8576b\"],[0.6666666666666666,\"#ed7953\"],[0.7777777777777778,\"#fb9f3a\"],[0.8888888888888888,\"#fdca26\"],[1.0,\"#f0f921\"]],\"type\":\"contour\"}],\"contourcarpet\":[{\"colorbar\":{\"outlinewidth\":0,\"ticks\":\"\"},\"type\":\"contourcarpet\"}],\"heatmap\":[{\"colorbar\":{\"outlinewidth\":0,\"ticks\":\"\"},\"colorscale\":[[0.0,\"#0d0887\"],[0.1111111111111111,\"#46039f\"],[0.2222222222222222,\"#7201a8\"],[0.3333333333333333,\"#9c179e\"],[0.4444444444444444,\"#bd3786\"],[0.5555555555555556,\"#d8576b\"],[0.6666666666666666,\"#ed7953\"],[0.7777777777777778,\"#fb9f3a\"],[0.8888888888888888,\"#fdca26\"],[1.0,\"#f0f921\"]],\"type\":\"heatmap\"}],\"heatmapgl\":[{\"colorbar\":{\"outlinewidth\":0,\"ticks\":\"\"},\"colorscale\":[[0.0,\"#0d0887\"],[0.1111111111111111,\"#46039f\"],[0.2222222222222222,\"#7201a8\"],[0.3333333333333333,\"#9c179e\"],[0.4444444444444444,\"#bd3786\"],[0.5555555555555556,\"#d8576b\"],[0.6666666666666666,\"#ed7953\"],[0.7777777777777778,\"#fb9f3a\"],[0.8888888888888888,\"#fdca26\"],[1.0,\"#f0f921\"]],\"type\":\"heatmapgl\"}],\"histogram\":[{\"marker\":{\"pattern\":{\"fillmode\":\"overlay\",\"size\":10,\"solidity\":0.2}},\"type\":\"histogram\"}],\"histogram2d\":[{\"colorbar\":{\"outlinewidth\":0,\"ticks\":\"\"},\"colorscale\":[[0.0,\"#0d0887\"],[0.1111111111111111,\"#46039f\"],[0.2222222222222222,\"#7201a8\"],[0.3333333333333333,\"#9c179e\"],[0.4444444444444444,\"#bd3786\"],[0.5555555555555556,\"#d8576b\"],[0.6666666666666666,\"#ed7953\"],[0.7777777777777778,\"#fb9f3a\"],[0.8888888888888888,\"#fdca26\"],[1.0,\"#f0f921\"]],\"type\":\"histogram2d\"}],\"histogram2dcontour\":[{\"colorbar\":{\"outlinewidth\":0,\"ticks\":\"\"},\"colorscale\":[[0.0,\"#0d0887\"],[0.1111111111111111,\"#46039f\"],[0.2222222222222222,\"#7201a8\"],[0.3333333333333333,\"#9c179e\"],[0.4444444444444444,\"#bd3786\"],[0.5555555555555556,\"#d8576b\"],[0.6666666666666666,\"#ed7953\"],[0.7777777777777778,\"#fb9f3a\"],[0.8888888888888888,\"#fdca26\"],[1.0,\"#f0f921\"]],\"type\":\"histogram2dcontour\"}],\"mesh3d\":[{\"colorbar\":{\"outlinewidth\":0,\"ticks\":\"\"},\"type\":\"mesh3d\"}],\"parcoords\":[{\"line\":{\"colorbar\":{\"outlinewidth\":0,\"ticks\":\"\"}},\"type\":\"parcoords\"}],\"pie\":[{\"automargin\":true,\"type\":\"pie\"}],\"scatter\":[{\"marker\":{\"colorbar\":{\"outlinewidth\":0,\"ticks\":\"\"}},\"type\":\"scatter\"}],\"scatter3d\":[{\"line\":{\"colorbar\":{\"outlinewidth\":0,\"ticks\":\"\"}},\"marker\":{\"colorbar\":{\"outlinewidth\":0,\"ticks\":\"\"}},\"type\":\"scatter3d\"}],\"scattercarpet\":[{\"marker\":{\"colorbar\":{\"outlinewidth\":0,\"ticks\":\"\"}},\"type\":\"scattercarpet\"}],\"scattergeo\":[{\"marker\":{\"colorbar\":{\"outlinewidth\":0,\"ticks\":\"\"}},\"type\":\"scattergeo\"}],\"scattergl\":[{\"marker\":{\"colorbar\":{\"outlinewidth\":0,\"ticks\":\"\"}},\"type\":\"scattergl\"}],\"scattermapbox\":[{\"marker\":{\"colorbar\":{\"outlinewidth\":0,\"ticks\":\"\"}},\"type\":\"scattermapbox\"}],\"scatterpolar\":[{\"marker\":{\"colorbar\":{\"outlinewidth\":0,\"ticks\":\"\"}},\"type\":\"scatterpolar\"}],\"scatterpolargl\":[{\"marker\":{\"colorbar\":{\"outlinewidth\":0,\"ticks\":\"\"}},\"type\":\"scatterpolargl\"}],\"scatterternary\":[{\"marker\":{\"colorbar\":{\"outlinewidth\":0,\"ticks\":\"\"}},\"type\":\"scatterternary\"}],\"surface\":[{\"colorbar\":{\"outlinewidth\":0,\"ticks\":\"\"},\"colorscale\":[[0.0,\"#0d0887\"],[0.1111111111111111,\"#46039f\"],[0.2222222222222222,\"#7201a8\"],[0.3333333333333333,\"#9c179e\"],[0.4444444444444444,\"#bd3786\"],[0.5555555555555556,\"#d8576b\"],[0.6666666666666666,\"#ed7953\"],[0.7777777777777778,\"#fb9f3a\"],[0.8888888888888888,\"#fdca26\"],[1.0,\"#f0f921\"]],\"type\":\"surface\"}],\"table\":[{\"cells\":{\"fill\":{\"color\":\"#EBF0F8\"},\"line\":{\"color\":\"white\"}},\"header\":{\"fill\":{\"color\":\"#C8D4E3\"},\"line\":{\"color\":\"white\"}},\"type\":\"table\"}]},\"layout\":{\"annotationdefaults\":{\"arrowcolor\":\"#2a3f5f\",\"arrowhead\":0,\"arrowwidth\":1},\"autotypenumbers\":\"strict\",\"coloraxis\":{\"colorbar\":{\"outlinewidth\":0,\"ticks\":\"\"}},\"colorscale\":{\"diverging\":[[0,\"#8e0152\"],[0.1,\"#c51b7d\"],[0.2,\"#de77ae\"],[0.3,\"#f1b6da\"],[0.4,\"#fde0ef\"],[0.5,\"#f7f7f7\"],[0.6,\"#e6f5d0\"],[0.7,\"#b8e186\"],[0.8,\"#7fbc41\"],[0.9,\"#4d9221\"],[1,\"#276419\"]],\"sequential\":[[0.0,\"#0d0887\"],[0.1111111111111111,\"#46039f\"],[0.2222222222222222,\"#7201a8\"],[0.3333333333333333,\"#9c179e\"],[0.4444444444444444,\"#bd3786\"],[0.5555555555555556,\"#d8576b\"],[0.6666666666666666,\"#ed7953\"],[0.7777777777777778,\"#fb9f3a\"],[0.8888888888888888,\"#fdca26\"],[1.0,\"#f0f921\"]],\"sequentialminus\":[[0.0,\"#0d0887\"],[0.1111111111111111,\"#46039f\"],[0.2222222222222222,\"#7201a8\"],[0.3333333333333333,\"#9c179e\"],[0.4444444444444444,\"#bd3786\"],[0.5555555555555556,\"#d8576b\"],[0.6666666666666666,\"#ed7953\"],[0.7777777777777778,\"#fb9f3a\"],[0.8888888888888888,\"#fdca26\"],[1.0,\"#f0f921\"]]},\"colorway\":[\"#636efa\",\"#EF553B\",\"#00cc96\",\"#ab63fa\",\"#FFA15A\",\"#19d3f3\",\"#FF6692\",\"#B6E880\",\"#FF97FF\",\"#FECB52\"],\"font\":{\"color\":\"#2a3f5f\"},\"geo\":{\"bgcolor\":\"white\",\"lakecolor\":\"white\",\"landcolor\":\"#E5ECF6\",\"showlakes\":true,\"showland\":true,\"subunitcolor\":\"white\"},\"hoverlabel\":{\"align\":\"left\"},\"hovermode\":\"closest\",\"mapbox\":{\"style\":\"light\"},\"paper_bgcolor\":\"white\",\"plot_bgcolor\":\"#E5ECF6\",\"polar\":{\"angularaxis\":{\"gridcolor\":\"white\",\"linecolor\":\"white\",\"ticks\":\"\"},\"bgcolor\":\"#E5ECF6\",\"radialaxis\":{\"gridcolor\":\"white\",\"linecolor\":\"white\",\"ticks\":\"\"}},\"scene\":{\"xaxis\":{\"backgroundcolor\":\"#E5ECF6\",\"gridcolor\":\"white\",\"gridwidth\":2,\"linecolor\":\"white\",\"showbackground\":true,\"ticks\":\"\",\"zerolinecolor\":\"white\"},\"yaxis\":{\"backgroundcolor\":\"#E5ECF6\",\"gridcolor\":\"white\",\"gridwidth\":2,\"linecolor\":\"white\",\"showbackground\":true,\"ticks\":\"\",\"zerolinecolor\":\"white\"},\"zaxis\":{\"backgroundcolor\":\"#E5ECF6\",\"gridcolor\":\"white\",\"gridwidth\":2,\"linecolor\":\"white\",\"showbackground\":true,\"ticks\":\"\",\"zerolinecolor\":\"white\"}},\"shapedefaults\":{\"line\":{\"color\":\"#2a3f5f\"}},\"ternary\":{\"aaxis\":{\"gridcolor\":\"white\",\"linecolor\":\"white\",\"ticks\":\"\"},\"baxis\":{\"gridcolor\":\"white\",\"linecolor\":\"white\",\"ticks\":\"\"},\"bgcolor\":\"#E5ECF6\",\"caxis\":{\"gridcolor\":\"white\",\"linecolor\":\"white\",\"ticks\":\"\"}},\"title\":{\"x\":0.05},\"xaxis\":{\"automargin\":true,\"gridcolor\":\"white\",\"linecolor\":\"white\",\"ticks\":\"\",\"title\":{\"standoff\":15},\"zerolinecolor\":\"white\",\"zerolinewidth\":2},\"yaxis\":{\"automargin\":true,\"gridcolor\":\"white\",\"linecolor\":\"white\",\"ticks\":\"\",\"title\":{\"standoff\":15},\"zerolinecolor\":\"white\",\"zerolinewidth\":2}}}},                        {\"responsive\": true}                    )                };                            </script>        </div>"
      ],
      "text/plain": [
       "Figure({\n",
       "    'data': [{'dimensions': [{'label': 'Objective Value',\n",
       "                              'range': [0.75, 0.7537128712871287],\n",
       "                              'values': [0.7537128712871287, 0.7537128712871287,\n",
       "                                         0.7537128712871287, 0.7537128712871287,\n",
       "                                         0.7537128712871287, 0.7537128712871287,\n",
       "                                         0.7537128712871287, 0.7537128712871287,\n",
       "                                         0.7537128712871287, 0.7537128712871287,\n",
       "                                         0.7537128712871287, 0.75,\n",
       "                                         0.7537128712871287, 0.7537128712871287,\n",
       "                                         0.7537128712871287, 0.7537128712871287,\n",
       "                                         0.7537128712871287, 0.7537128712871287,\n",
       "                                         0.7537128712871287, 0.7537128712871287,\n",
       "                                         0.7537128712871287, 0.7537128712871287,\n",
       "                                         0.7537128712871287, 0.7537128712871287,\n",
       "                                         0.7537128712871287, 0.7537128712871287,\n",
       "                                         0.7537128712871287, 0.7537128712871287,\n",
       "                                         0.7537128712871287, 0.7537128712871287,\n",
       "                                         0.7537128712871287, 0.7537128712871287,\n",
       "                                         0.7537128712871287, 0.7537128712871287,\n",
       "                                         0.7537128712871287, 0.7537128712871287,\n",
       "                                         0.7537128712871287, 0.7537128712871287,\n",
       "                                         0.7537128712871287, 0.7537128712871287,\n",
       "                                         0.7537128712871287, 0.7537128712871287,\n",
       "                                         0.7537128712871287, 0.7537128712871287,\n",
       "                                         0.7537128712871287, 0.7537128712871287,\n",
       "                                         0.7537128712871287, 0.7537128712871287,\n",
       "                                         0.7537128712871287, 0.7537128712871287,\n",
       "                                         0.7537128712871287, 0.7537128712871287,\n",
       "                                         0.7537128712871287, 0.7537128712871287,\n",
       "                                         0.7537128712871287, 0.7537128712871287,\n",
       "                                         0.7537128712871287, 0.7537128712871287,\n",
       "                                         0.7537128712871287, 0.7537128712871287,\n",
       "                                         0.7537128712871287, 0.7537128712871287,\n",
       "                                         0.7537128712871287, 0.7537128712871287,\n",
       "                                         0.7537128712871287, 0.7537128712871287,\n",
       "                                         0.7537128712871287, 0.7537128712871287,\n",
       "                                         0.7537128712871287, 0.7537128712871287,\n",
       "                                         0.7537128712871287, 0.7537128712871287,\n",
       "                                         0.7537128712871287, 0.7537128712871287,\n",
       "                                         0.7537128712871287, 0.7537128712871287,\n",
       "                                         0.7537128712871287, 0.7537128712871287,\n",
       "                                         0.7537128712871287, 0.7537128712871287,\n",
       "                                         0.7537128712871287, 0.7537128712871287,\n",
       "                                         0.7537128712871287, 0.7537128712871287,\n",
       "                                         0.7537128712871287, 0.7537128712871287,\n",
       "                                         0.7537128712871287, 0.7537128712871287,\n",
       "                                         0.7537128712871287, 0.7537128712871287,\n",
       "                                         0.7537128712871287, 0.7537128712871287,\n",
       "                                         0.7537128712871287, 0.7537128712871287,\n",
       "                                         0.7537128712871287, 0.7537128712871287,\n",
       "                                         0.7537128712871287, 0.7537128712871287,\n",
       "                                         0.7537128712871287, 0.7537128712871287]},\n",
       "                             {'label': 'alpha',\n",
       "                              'range': [-2.9945388953987093, 0.9884051208142772],\n",
       "                              'ticktext': [0.00101, 0.01, 0.1, 1, 9.74],\n",
       "                              'tickvals': [-2.9945388953987093, -2, -1, 0,\n",
       "                                           0.9884051208142772],\n",
       "                              'values': [-2.9945388953987093, -1.5794369563551398,\n",
       "                                         -2.518580112610413, -2.685793008719951,\n",
       "                                         -2.2343184737732176, -2.6434332872500588,\n",
       "                                         -2.839559021270624, -1.5551940497423844,\n",
       "                                         -1.542637593762308, -1.6937707981510883,\n",
       "                                         -0.661857826904885, -0.22995210039195665,\n",
       "                                         0.197340054848643, -0.09218001429324348,\n",
       "                                         0.3290434543791593, -0.10301335260446215,\n",
       "                                         0.04203149473063553, -1.5227873216850754,\n",
       "                                         0.3420849842618183, 0.4646974231409384,\n",
       "                                         -0.3097393891955981, 0.011679904556386867,\n",
       "                                         0.33444630083882765, 0.6990492146502787,\n",
       "                                         0.5863115926017527, -2.1482670319211974,\n",
       "                                         -2.195013294502662, -1.7237532227533523,\n",
       "                                         -2.70565572626737, -1.5952795787055936,\n",
       "                                         -1.381845255614034, -1.2163049315515684,\n",
       "                                         -1.1898385795053574, -1.5883496619377937,\n",
       "                                         -2.0282957007455757, -0.7165808196379739,\n",
       "                                         -2.423422897682645, -1.4318162829233263,\n",
       "                                         -2.37368084113433, -1.74044808350771,\n",
       "                                         -1.734853338699573, -2.0098068594176164,\n",
       "                                         -1.9360688279826468, -1.9165996231949902,\n",
       "                                         -0.09800210086417542,\n",
       "                                         -0.15044811966779947, -2.9903103749708575,\n",
       "                                         -2.963558368172511, -0.6130625439713145,\n",
       "                                         0.733788911124506, 0.9397471858225511,\n",
       "                                         0.4542098079088641, 0.5682919599625632,\n",
       "                                         -0.7286786587004159, -1.0517344607980454,\n",
       "                                         -1.0713823193923822, -0.7402754539840689,\n",
       "                                         -0.8711367188486745, -0.5178284568843103,\n",
       "                                         0.296650722862231, -1.6996601163525602,\n",
       "                                         0.7637775500824259, 0.9884051208142772,\n",
       "                                         -0.3621557254917328, -0.8219698529486247,\n",
       "                                         -0.49190767951081205, 0.8891286713842758,\n",
       "                                         0.5737375437119214, 0.8219485717049186,\n",
       "                                         -0.9307755135161098, -1.4491262883471594,\n",
       "                                         -2.105017039681627, -0.5758487035621014,\n",
       "                                         -2.5057254147515056, -1.3832807588236649,\n",
       "                                         -2.475930087793016, -2.3450813986055135,\n",
       "                                         -0.9115837120739179, -2.2879969123753914,\n",
       "                                         -1.2514968061874299, 0.20324178101051332,\n",
       "                                         -1.35402017941859, -1.8547304270473748,\n",
       "                                         -1.2129309440500176, -1.0429817620884196,\n",
       "                                         -1.1907364764698802, -0.8097719516285315,\n",
       "                                         -2.0823810474257782, 0.09411192800621594,\n",
       "                                         0.11822907077508457, -0.29172948209604843,\n",
       "                                         -0.3374824042500506, -0.1171130034847115,\n",
       "                                         -0.17094339811802434, -0.4989377625163277,\n",
       "                                         0.45627541703357355, -0.9866837616278696,\n",
       "                                         0.97154174893813, -2.507625986408778,\n",
       "                                         -1.0784613281139364]},\n",
       "                             {'label': 'colsample_bytree',\n",
       "                              'range': [0, 7],\n",
       "                              'ticktext': [0.3, 0.4, 0.5, 0.6, 0.7, 0.8, 0.9, 1.0],\n",
       "                              'tickvals': [0, 1, 2, 3, 4, 5, 6, 7],\n",
       "                              'values': [0, 0, 0, 0, 0, 0, 0, 0, 0, 0, 0, 1, 1, 1,\n",
       "                                         1, 1, 1, 1, 1, 1, 1, 1, 1, 1, 1, 1, 1, 1,\n",
       "                                         1, 2, 2, 2, 2, 2, 2, 2, 2, 2, 2, 2, 2, 2,\n",
       "                                         2, 2, 3, 3, 3, 3, 3, 3, 3, 3, 3, 3, 3, 3,\n",
       "                                         3, 3, 4, 4, 4, 4, 4, 4, 4, 4, 4, 4, 4, 5,\n",
       "                                         5, 5, 5, 5, 5, 5, 5, 5, 6, 6, 6, 6, 6, 6,\n",
       "                                         6, 6, 6, 6, 7, 7, 7, 7, 7, 7, 7, 7, 7, 7,\n",
       "                                         7, 7]},\n",
       "                             {'label': 'lambda',\n",
       "                              'range': [-2.9915898593097063, 0.9834050257967153],\n",
       "                              'ticktext': [0.00102, 0.01, 0.1, 1, 9.63],\n",
       "                              'tickvals': [-2.9915898593097063, -2, -1, 0,\n",
       "                                           0.9834050257967153],\n",
       "                              'values': [-0.846698545125377, -2.750911410365914,\n",
       "                                         -2.607983313868946, -2.641211364238886,\n",
       "                                         -2.4829522207343375, -2.404029994921568,\n",
       "                                         0.9834050257967153, -2.678055028308729,\n",
       "                                         -2.6850233530639995, -2.580386407526961,\n",
       "                                         -0.5568515950586135, -0.6050946777392084,\n",
       "                                         -2.157560409606592, -0.8801355569476068,\n",
       "                                         0.19092822993712594, 0.6802298685072724,\n",
       "                                         0.136534733471813, -0.8695074477564044,\n",
       "                                         0.34592028068133945, 0.2800209838875768,\n",
       "                                         -0.5254189241330527, -0.7419639776762337,\n",
       "                                         -1.5814584397587284, -0.7222363157970784,\n",
       "                                         -0.7507785189523932, -0.27005099158142404,\n",
       "                                         -0.5727194076735616, -1.539340978708219,\n",
       "                                         -1.2691028898728411, -1.1169976083348074,\n",
       "                                         -2.8472908819902476, -2.7911320896060463,\n",
       "                                         0.4199018643868324, -0.9774243173791255,\n",
       "                                         -1.090047713117367, -2.337626969322584,\n",
       "                                         -2.490586003921996, -2.979976126447862,\n",
       "                                         -2.3882206596798663, -2.9127639174035567,\n",
       "                                         -2.83657378202419, -1.1422191327775713,\n",
       "                                         -1.3743927264249909, -1.9413562651303646,\n",
       "                                         0.49087244189177004, -0.232820532113132,\n",
       "                                         0.02886110757041926, 0.05022082571295977,\n",
       "                                         0.19647788190565169, -0.3560859293389404,\n",
       "                                         0.038098525391791996, 0.20651393501456122,\n",
       "                                         0.26466872593502405, -2.317357964675307,\n",
       "                                         -0.19696288668038833, -2.5091579821307404,\n",
       "                                         -2.220802136109203, 0.5723887324999642,\n",
       "                                         -0.42700451604442846,\n",
       "                                         -0.22782833969053268, -2.831532136992798,\n",
       "                                         -0.11500563389159052, 0.5480526013840518,\n",
       "                                         0.6949408695882875, -0.45945036419288154,\n",
       "                                         -2.869047984498876, 0.5642783923597872,\n",
       "                                         0.9688812265461878, 0.8148032821182235,\n",
       "                                         -1.434961816685132, -1.562069852277329,\n",
       "                                         -1.0816167587654049, -0.3920198354330512,\n",
       "                                         -2.2717575585835488, -2.9915898593097063,\n",
       "                                         -2.5305133918942166, -1.6591929396016352,\n",
       "                                         -2.915672470372433, -1.278574990000869,\n",
       "                                         -2.1010190765997963, -1.985117488742079,\n",
       "                                         -2.12519628493921, -2.26549981706842,\n",
       "                                         -1.763581223307912, -1.8457626865333039,\n",
       "                                         -1.7002518259127937, -1.8485191799141492,\n",
       "                                         -1.0616824536027782, 0.40695298819461406,\n",
       "                                         0.4511110872967098, 0.7848009271146723,\n",
       "                                         0.7274235098444459, 0.3436555780028457,\n",
       "                                         -0.8999869377320524, -0.863175180522153,\n",
       "                                         0.5408809254711189, -2.9714864539092964,\n",
       "                                         -1.0141101564724302, -0.03292510231107534,\n",
       "                                         -0.6129666168442299]},\n",
       "                             {'label': 'learning_rate',\n",
       "                              'range': [0, 7],\n",
       "                              'ticktext': [0.008, 0.009, 0.01, 0.012, 0.014,\n",
       "                                           0.016, 0.018, 0.02],\n",
       "                              'tickvals': [0, 1, 2, 3, 4, 5, 6, 7],\n",
       "                              'values': [2, 3, 6, 6, 6, 6, 6, 6, 6, 7, 7, 0, 0, 0,\n",
       "                                         0, 0, 0, 0, 1, 1, 4, 4, 4, 4, 4, 6, 7, 7,\n",
       "                                         7, 0, 0, 0, 3, 3, 3, 5, 6, 6, 6, 6, 6, 6,\n",
       "                                         7, 7, 1, 1, 1, 1, 1, 4, 4, 4, 5, 5, 5, 5,\n",
       "                                         5, 7, 1, 1, 3, 4, 4, 4, 5, 5, 5, 5, 5, 0,\n",
       "                                         0, 3, 3, 4, 6, 6, 6, 6, 1, 2, 2, 2, 2, 2,\n",
       "                                         2, 2, 3, 5, 0, 0, 0, 0, 1, 1, 1, 1, 2, 2,\n",
       "                                         3, 4]},\n",
       "                             {'label': 'max_depth',\n",
       "                              'range': [0, 7],\n",
       "                              'ticktext': [5, 7, 9, 11, 13, 15, 17, 20],\n",
       "                              'tickvals': [0, 1, 2, 3, 4, 5, 6, 7],\n",
       "                              'values': [3, 7, 3, 3, 3, 3, 3, 4, 7, 4, 7, 1, 3, 6,\n",
       "                                         6, 6, 6, 7, 0, 1, 5, 5, 5, 6, 6, 4, 1, 5,\n",
       "                                         6, 4, 4, 4, 0, 4, 4, 4, 3, 4, 4, 4, 4, 4,\n",
       "                                         4, 5, 0, 0, 3, 3, 7, 0, 1, 1, 0, 0, 0, 0,\n",
       "                                         7, 1, 0, 5, 1, 1, 1, 6, 0, 0, 2, 2, 7, 7,\n",
       "                                         7, 4, 7, 1, 4, 4, 4, 7, 0, 2, 2, 2, 2, 4,\n",
       "                                         4, 7, 7, 6, 1, 1, 2, 6, 0, 1, 5, 5, 4, 6,\n",
       "                                         2, 0]},\n",
       "                             {'label': 'min_child_weight',\n",
       "                              'range': [1, 300],\n",
       "                              'values': [180, 235, 298, 227, 263, 279, 166, 284,\n",
       "                                         248, 261, 82, 1, 200, 123, 66, 114, 171,\n",
       "                                         256, 59, 49, 195, 201, 239, 131, 144, 117,\n",
       "                                         154, 241, 276, 244, 269, 271, 134, 244,\n",
       "                                         212, 290, 218, 289, 225, 231, 232, 218,\n",
       "                                         264, 283, 26, 96, 109, 146, 114, 130, 162,\n",
       "                                         133, 103, 99, 195, 203, 195, 187, 46, 129,\n",
       "                                         272, 138, 182, 144, 77, 44, 157, 165, 80,\n",
       "                                         173, 72, 206, 48, 23, 253, 209, 214, 289,\n",
       "                                         251, 258, 296, 300, 256, 269, 225, 274,\n",
       "                                         287, 239, 11, 18, 7, 146, 37, 155, 181,\n",
       "                                         61, 251, 285, 240, 87]},\n",
       "                             {'label': 'random_state',\n",
       "                              'range': [0, 2],\n",
       "                              'ticktext': [24, 48, 2020],\n",
       "                              'tickvals': [0, 1, 2],\n",
       "                              'values': [2, 1, 0, 0, 0, 0, 2, 0, 1, 0, 2, 2, 0, 2,\n",
       "                                         2, 2, 2, 0, 2, 2, 0, 0, 0, 0, 2, 1, 2, 2,\n",
       "                                         2, 0, 0, 0, 1, 0, 1, 0, 0, 0, 0, 0, 0, 2,\n",
       "                                         2, 2, 1, 2, 2, 2, 2, 0, 0, 2, 0, 0, 0, 0,\n",
       "                                         0, 2, 0, 0, 1, 0, 2, 2, 0, 0, 0, 0, 0, 0,\n",
       "                                         2, 1, 1, 1, 0, 0, 0, 0, 2, 0, 0, 1, 1, 0,\n",
       "                                         0, 0, 0, 0, 2, 2, 2, 2, 2, 2, 2, 2, 0, 1,\n",
       "                                         1, 0]},\n",
       "                             {'label': 'subsample',\n",
       "                              'range': [0, 5],\n",
       "                              'ticktext': [0.4, 0.5, 0.6, 0.7, 0.8, 1.0],\n",
       "                              'tickvals': [0, 1, 2, 3, 4, 5],\n",
       "                              'values': [1, 1, 1, 1, 1, 1, 1, 2, 1, 2, 0, 0, 4, 0,\n",
       "                                         0, 0, 0, 0, 5, 5, 5, 5, 5, 4, 4, 3, 3, 2,\n",
       "                                         0, 2, 2, 2, 5, 2, 2, 2, 2, 2, 2, 2, 2, 2,\n",
       "                                         2, 2, 3, 4, 1, 1, 1, 3, 3, 3, 4, 4, 4, 4,\n",
       "                                         4, 3, 5, 5, 0, 3, 3, 3, 4, 4, 4, 4, 4, 0,\n",
       "                                         0, 2, 0, 3, 0, 2, 2, 2, 5, 2, 5, 3, 5, 2,\n",
       "                                         2, 0, 2, 0, 0, 0, 0, 0, 0, 3, 5, 5, 2, 1,\n",
       "                                         2, 4]}],\n",
       "              'labelangle': 30,\n",
       "              'labelside': 'bottom',\n",
       "              'line': {'color': [0.7537128712871287, 0.7537128712871287,\n",
       "                                 0.7537128712871287, 0.7537128712871287,\n",
       "                                 0.7537128712871287, 0.7537128712871287,\n",
       "                                 0.7537128712871287, 0.7537128712871287,\n",
       "                                 0.7537128712871287, 0.7537128712871287,\n",
       "                                 0.7537128712871287, 0.75, 0.7537128712871287,\n",
       "                                 0.7537128712871287, 0.7537128712871287,\n",
       "                                 0.7537128712871287, 0.7537128712871287,\n",
       "                                 0.7537128712871287, 0.7537128712871287,\n",
       "                                 0.7537128712871287, 0.7537128712871287,\n",
       "                                 0.7537128712871287, 0.7537128712871287,\n",
       "                                 0.7537128712871287, 0.7537128712871287,\n",
       "                                 0.7537128712871287, 0.7537128712871287,\n",
       "                                 0.7537128712871287, 0.7537128712871287,\n",
       "                                 0.7537128712871287, 0.7537128712871287,\n",
       "                                 0.7537128712871287, 0.7537128712871287,\n",
       "                                 0.7537128712871287, 0.7537128712871287,\n",
       "                                 0.7537128712871287, 0.7537128712871287,\n",
       "                                 0.7537128712871287, 0.7537128712871287,\n",
       "                                 0.7537128712871287, 0.7537128712871287,\n",
       "                                 0.7537128712871287, 0.7537128712871287,\n",
       "                                 0.7537128712871287, 0.7537128712871287,\n",
       "                                 0.7537128712871287, 0.7537128712871287,\n",
       "                                 0.7537128712871287, 0.7537128712871287,\n",
       "                                 0.7537128712871287, 0.7537128712871287,\n",
       "                                 0.7537128712871287, 0.7537128712871287,\n",
       "                                 0.7537128712871287, 0.7537128712871287,\n",
       "                                 0.7537128712871287, 0.7537128712871287,\n",
       "                                 0.7537128712871287, 0.7537128712871287,\n",
       "                                 0.7537128712871287, 0.7537128712871287,\n",
       "                                 0.7537128712871287, 0.7537128712871287,\n",
       "                                 0.7537128712871287, 0.7537128712871287,\n",
       "                                 0.7537128712871287, 0.7537128712871287,\n",
       "                                 0.7537128712871287, 0.7537128712871287,\n",
       "                                 0.7537128712871287, 0.7537128712871287,\n",
       "                                 0.7537128712871287, 0.7537128712871287,\n",
       "                                 0.7537128712871287, 0.7537128712871287,\n",
       "                                 0.7537128712871287, 0.7537128712871287,\n",
       "                                 0.7537128712871287, 0.7537128712871287,\n",
       "                                 0.7537128712871287, 0.7537128712871287,\n",
       "                                 0.7537128712871287, 0.7537128712871287,\n",
       "                                 0.7537128712871287, 0.7537128712871287,\n",
       "                                 0.7537128712871287, 0.7537128712871287,\n",
       "                                 0.7537128712871287, 0.7537128712871287,\n",
       "                                 0.7537128712871287, 0.7537128712871287,\n",
       "                                 0.7537128712871287, 0.7537128712871287,\n",
       "                                 0.7537128712871287, 0.7537128712871287,\n",
       "                                 0.7537128712871287, 0.7537128712871287,\n",
       "                                 0.7537128712871287, 0.7537128712871287,\n",
       "                                 0.7537128712871287],\n",
       "                       'colorbar': {'title': {'text': 'Objective Value'}},\n",
       "                       'colorscale': [[0.0, 'rgb(247,251,255)'], [0.125,\n",
       "                                      'rgb(222,235,247)'], [0.25,\n",
       "                                      'rgb(198,219,239)'], [0.375,\n",
       "                                      'rgb(158,202,225)'], [0.5,\n",
       "                                      'rgb(107,174,214)'], [0.625,\n",
       "                                      'rgb(66,146,198)'], [0.75,\n",
       "                                      'rgb(33,113,181)'], [0.875, 'rgb(8,81,156)'],\n",
       "                                      [1.0, 'rgb(8,48,107)']],\n",
       "                       'reversescale': False,\n",
       "                       'showscale': True},\n",
       "              'type': 'parcoords'}],\n",
       "    'layout': {'template': '...', 'title': {'text': 'Parallel Coordinate Plot'}}\n",
       "})"
      ]
     },
     "execution_count": 32,
     "metadata": {},
     "output_type": "execute_result"
    }
   ],
   "source": [
    "optuna.visualization.plot_parallel_coordinate(study)"
   ]
  },
  {
   "cell_type": "code",
   "execution_count": 33,
   "metadata": {},
   "outputs": [
    {
     "ename": "ValueError",
     "evalue": "Mime type rendering requires nbformat>=4.2.0 but it is not installed",
     "output_type": "error",
     "traceback": [
      "\u001b[0;31m---------------------------------------------------------------------------\u001b[0m",
      "\u001b[0;31mValueError\u001b[0m                                Traceback (most recent call last)",
      "File \u001b[0;32m~/miniconda3/envs/challenge/lib/python3.8/site-packages/IPython/core/formatters.py:921\u001b[0m, in \u001b[0;36mIPythonDisplayFormatter.__call__\u001b[0;34m(self, obj)\u001b[0m\n\u001b[1;32m    <a href='file:///home/chainyo/miniconda3/envs/challenge/lib/python3.8/site-packages/IPython/core/formatters.py?line=918'>919</a>\u001b[0m method \u001b[39m=\u001b[39m get_real_method(obj, \u001b[39mself\u001b[39m\u001b[39m.\u001b[39mprint_method)\n\u001b[1;32m    <a href='file:///home/chainyo/miniconda3/envs/challenge/lib/python3.8/site-packages/IPython/core/formatters.py?line=919'>920</a>\u001b[0m \u001b[39mif\u001b[39;00m method \u001b[39mis\u001b[39;00m \u001b[39mnot\u001b[39;00m \u001b[39mNone\u001b[39;00m:\n\u001b[0;32m--> <a href='file:///home/chainyo/miniconda3/envs/challenge/lib/python3.8/site-packages/IPython/core/formatters.py?line=920'>921</a>\u001b[0m     method()\n\u001b[1;32m    <a href='file:///home/chainyo/miniconda3/envs/challenge/lib/python3.8/site-packages/IPython/core/formatters.py?line=921'>922</a>\u001b[0m     \u001b[39mreturn\u001b[39;00m \u001b[39mTrue\u001b[39;00m\n",
      "File \u001b[0;32m~/miniconda3/envs/challenge/lib/python3.8/site-packages/plotly/basedatatypes.py:844\u001b[0m, in \u001b[0;36mBaseFigure._ipython_display_\u001b[0;34m(self)\u001b[0m\n\u001b[1;32m    <a href='file:///home/chainyo/miniconda3/envs/challenge/lib/python3.8/site-packages/plotly/basedatatypes.py?line=840'>841</a>\u001b[0m \u001b[39mimport\u001b[39;00m \u001b[39mplotly\u001b[39;00m\u001b[39m.\u001b[39;00m\u001b[39mio\u001b[39;00m \u001b[39mas\u001b[39;00m \u001b[39mpio\u001b[39;00m\n\u001b[1;32m    <a href='file:///home/chainyo/miniconda3/envs/challenge/lib/python3.8/site-packages/plotly/basedatatypes.py?line=842'>843</a>\u001b[0m \u001b[39mif\u001b[39;00m pio\u001b[39m.\u001b[39mrenderers\u001b[39m.\u001b[39mrender_on_display \u001b[39mand\u001b[39;00m pio\u001b[39m.\u001b[39mrenderers\u001b[39m.\u001b[39mdefault:\n\u001b[0;32m--> <a href='file:///home/chainyo/miniconda3/envs/challenge/lib/python3.8/site-packages/plotly/basedatatypes.py?line=843'>844</a>\u001b[0m     pio\u001b[39m.\u001b[39;49mshow(\u001b[39mself\u001b[39;49m)\n\u001b[1;32m    <a href='file:///home/chainyo/miniconda3/envs/challenge/lib/python3.8/site-packages/plotly/basedatatypes.py?line=844'>845</a>\u001b[0m \u001b[39melse\u001b[39;00m:\n\u001b[1;32m    <a href='file:///home/chainyo/miniconda3/envs/challenge/lib/python3.8/site-packages/plotly/basedatatypes.py?line=845'>846</a>\u001b[0m     \u001b[39mprint\u001b[39m(\u001b[39mrepr\u001b[39m(\u001b[39mself\u001b[39m))\n",
      "File \u001b[0;32m~/miniconda3/envs/challenge/lib/python3.8/site-packages/plotly/io/_renderers.py:397\u001b[0m, in \u001b[0;36mshow\u001b[0;34m(fig, renderer, validate, **kwargs)\u001b[0m\n\u001b[1;32m    <a href='file:///home/chainyo/miniconda3/envs/challenge/lib/python3.8/site-packages/plotly/io/_renderers.py?line=391'>392</a>\u001b[0m         \u001b[39mraise\u001b[39;00m \u001b[39mValueError\u001b[39;00m(\n\u001b[1;32m    <a href='file:///home/chainyo/miniconda3/envs/challenge/lib/python3.8/site-packages/plotly/io/_renderers.py?line=392'>393</a>\u001b[0m             \u001b[39m\"\u001b[39m\u001b[39mMime type rendering requires ipython but it is not installed\u001b[39m\u001b[39m\"\u001b[39m\n\u001b[1;32m    <a href='file:///home/chainyo/miniconda3/envs/challenge/lib/python3.8/site-packages/plotly/io/_renderers.py?line=393'>394</a>\u001b[0m         )\n\u001b[1;32m    <a href='file:///home/chainyo/miniconda3/envs/challenge/lib/python3.8/site-packages/plotly/io/_renderers.py?line=395'>396</a>\u001b[0m     \u001b[39mif\u001b[39;00m \u001b[39mnot\u001b[39;00m nbformat \u001b[39mor\u001b[39;00m LooseVersion(nbformat\u001b[39m.\u001b[39m__version__) \u001b[39m<\u001b[39m LooseVersion(\u001b[39m\"\u001b[39m\u001b[39m4.2.0\u001b[39m\u001b[39m\"\u001b[39m):\n\u001b[0;32m--> <a href='file:///home/chainyo/miniconda3/envs/challenge/lib/python3.8/site-packages/plotly/io/_renderers.py?line=396'>397</a>\u001b[0m         \u001b[39mraise\u001b[39;00m \u001b[39mValueError\u001b[39;00m(\n\u001b[1;32m    <a href='file:///home/chainyo/miniconda3/envs/challenge/lib/python3.8/site-packages/plotly/io/_renderers.py?line=397'>398</a>\u001b[0m             \u001b[39m\"\u001b[39m\u001b[39mMime type rendering requires nbformat>=4.2.0 but it is not installed\u001b[39m\u001b[39m\"\u001b[39m\n\u001b[1;32m    <a href='file:///home/chainyo/miniconda3/envs/challenge/lib/python3.8/site-packages/plotly/io/_renderers.py?line=398'>399</a>\u001b[0m         )\n\u001b[1;32m    <a href='file:///home/chainyo/miniconda3/envs/challenge/lib/python3.8/site-packages/plotly/io/_renderers.py?line=400'>401</a>\u001b[0m     ipython_display\u001b[39m.\u001b[39mdisplay(bundle, raw\u001b[39m=\u001b[39m\u001b[39mTrue\u001b[39;00m)\n\u001b[1;32m    <a href='file:///home/chainyo/miniconda3/envs/challenge/lib/python3.8/site-packages/plotly/io/_renderers.py?line=402'>403</a>\u001b[0m \u001b[39m# external renderers\u001b[39;00m\n",
      "\u001b[0;31mValueError\u001b[0m: Mime type rendering requires nbformat>=4.2.0 but it is not installed"
     ]
    },
    {
     "data": {
      "application/vnd.plotly.v1+json": {
       "config": {
        "plotlyServerURL": "https://plot.ly"
       },
       "data": [
        {
         "marker": {
          "color": [
           0,
           1,
           2,
           3,
           4,
           5,
           6,
           7,
           8,
           9,
           10,
           11,
           12,
           13,
           14,
           15,
           16,
           17,
           18,
           19,
           20,
           21,
           22,
           23,
           24,
           25,
           26,
           27,
           28,
           29,
           30,
           31,
           32,
           33,
           34,
           35,
           36,
           37,
           38,
           39,
           40,
           41,
           42,
           43,
           44,
           45,
           46,
           47,
           48,
           49,
           50,
           51,
           52,
           53,
           54,
           55,
           56,
           57,
           58,
           59,
           60,
           61,
           62,
           63,
           64,
           65,
           66,
           67,
           68,
           69,
           70,
           71,
           72,
           73,
           74,
           75,
           76,
           77,
           78,
           79,
           80,
           81,
           82,
           83,
           84,
           85,
           86,
           87,
           88,
           89,
           90,
           91,
           92,
           93,
           94,
           95,
           96,
           97,
           98,
           99
          ],
          "colorbar": {
           "title": {
            "text": "#Trials"
           },
           "x": 1,
           "xpad": 40
          },
          "colorscale": [
           [
            0,
            "rgb(247,251,255)"
           ],
           [
            0.125,
            "rgb(222,235,247)"
           ],
           [
            0.25,
            "rgb(198,219,239)"
           ],
           [
            0.375,
            "rgb(158,202,225)"
           ],
           [
            0.5,
            "rgb(107,174,214)"
           ],
           [
            0.625,
            "rgb(66,146,198)"
           ],
           [
            0.75,
            "rgb(33,113,181)"
           ],
           [
            0.875,
            "rgb(8,81,156)"
           ],
           [
            1,
            "rgb(8,48,107)"
           ]
          ],
          "line": {
           "color": "Grey",
           "width": 0.5
          },
          "showscale": true
         },
         "mode": "markers",
         "showlegend": false,
         "type": "scatter",
         "x": [
          0.030006315982995347,
          0.26555305157784004,
          0.0645894253259178,
          0.00827216050714491,
          0.7979908270430242,
          0.003120862143950332,
          9.365732488053753,
          0.003107234380606034,
          0.007107763486780402,
          0.019968244404328296,
          1.5752157839017953,
          0.21784227964304967,
          0.11728014290550008,
          0.03555279196911771,
          0.49007281333471925,
          6.636644759115918,
          0.24374597676464185,
          1.0272588809615906,
          7.746912868689329,
          0.0010225619420774204,
          2.159962945566247,
          3.7474646404337286,
          0.0010875309661656125,
          0.018890644589866022,
          1.596767854589165,
          0.001446908202740603,
          0.011585937250213285,
          0.05604065385928456,
          0.003029841343212095,
          0.009776719171112344,
          0.06124477675881267,
          0.02024087122509124,
          0.0037720470597143833,
          0.03699846591458693,
          0.09057706373426617,
          3.7007688504350584,
          1.9799340425110414,
          3.8575502547542233,
          0.13454367347702806,
          0.5108230877431722,
          0.005152323076223047,
          0.0010126540514915012,
          0.012117147005862026,
          0.001969446890147256,
          0.044256780804760185,
          0.01397235376428202,
          0.0020616122745554097,
          0.005830174132505967,
          0.009369238606100916,
          0.025393374712171096,
          0.06445602566016048,
          0.027848765630663557,
          0.004229793435542233,
          0.0033424884267492854,
          0.018178243497225084,
          0.04151019221315457,
          0.10311366855703968,
          0.15496301172937424,
          0.18677611654686455,
          0.08876986086913032,
          0.30350897855286796,
          5.000912025613089,
          2.8458356001937077,
          9.736550502056042,
          0.459745615074255,
          1.2419723521317692,
          2.1982899997679404,
          0.7072156788279573,
          0.3170021717119763,
          0.8087605998570587,
          0.006382439481441425,
          0.0286656904143704,
          0.02633680229790936,
          0.002272828741733395,
          0.007852048262454954,
          0.004517712622095141,
          0.018413937353761588,
          0.02580181981595112,
          0.060770816080284853,
          0.041373212249370066,
          0.12257906036501441,
          0.19205215307816031,
          0.08484332509368335,
          0.18185470679281315,
          0.15067116526804425,
          0.3221753585283935,
          0.08347158725004297,
          5.4173751482776975,
          5.80467020429278,
          8.7045672681265,
          0.43435444925074446,
          1.3128922079187177,
          2.915395124345372,
          2.1332583507646086,
          0.7636370592555303,
          2.859403319617271,
          0.7888358640863529,
          1.1016191952946517,
          0.674615945103036,
          0.5889086042254222
         ],
         "xaxis": "x",
         "y": [
          0.7537128712871287,
          0.7537128712871287,
          0.7537128712871287,
          0.7537128712871287,
          0.7537128712871287,
          0.7537128712871287,
          0.7537128712871287,
          0.7537128712871287,
          0.7537128712871287,
          0.7537128712871287,
          0.7537128712871287,
          0.7537128712871287,
          0.7537128712871287,
          0.7537128712871287,
          0.7537128712871287,
          0.7537128712871287,
          0.7537128712871287,
          0.7537128712871287,
          0.7537128712871287,
          0.7537128712871287,
          0.7537128712871287,
          0.7537128712871287,
          0.7537128712871287,
          0.7537128712871287,
          0.7537128712871287,
          0.7537128712871287,
          0.7537128712871287,
          0.7537128712871287,
          0.7537128712871287,
          0.7537128712871287,
          0.7537128712871287,
          0.7537128712871287,
          0.7537128712871287,
          0.7537128712871287,
          0.7537128712871287,
          0.7537128712871287,
          0.7537128712871287,
          0.7537128712871287,
          0.7537128712871287,
          0.7537128712871287,
          0.7537128712871287,
          0.7537128712871287,
          0.7537128712871287,
          0.7537128712871287,
          0.7537128712871287,
          0.7537128712871287,
          0.7537128712871287,
          0.7537128712871287,
          0.7537128712871287,
          0.7537128712871287,
          0.7537128712871287,
          0.7537128712871287,
          0.7537128712871287,
          0.7537128712871287,
          0.7537128712871287,
          0.7537128712871287,
          0.7537128712871287,
          0.7537128712871287,
          0.7537128712871287,
          0.7537128712871287,
          0.7537128712871287,
          0.7537128712871287,
          0.7537128712871287,
          0.7537128712871287,
          0.7537128712871287,
          0.7537128712871287,
          0.7537128712871287,
          0.7537128712871287,
          0.7537128712871287,
          0.7537128712871287,
          0.7537128712871287,
          0.7537128712871287,
          0.7537128712871287,
          0.7537128712871287,
          0.7537128712871287,
          0.7537128712871287,
          0.7537128712871287,
          0.7537128712871287,
          0.7537128712871287,
          0.7537128712871287,
          0.7537128712871287,
          0.7537128712871287,
          0.7537128712871287,
          0.7537128712871287,
          0.7537128712871287,
          0.7537128712871287,
          0.7537128712871287,
          0.7537128712871287,
          0.7537128712871287,
          0.7537128712871287,
          0.7537128712871287,
          0.7537128712871287,
          0.7537128712871287,
          0.7537128712871287,
          0.7537128712871287,
          0.7537128712871287,
          0.7537128712871287,
          0.7537128712871287,
          0.7537128712871287,
          0.75
         ],
         "yaxis": "y"
        },
        {
         "marker": {
          "color": [
           0,
           1,
           2,
           3,
           4,
           5,
           6,
           7,
           8,
           9,
           10,
           11,
           12,
           13,
           14,
           15,
           16,
           17,
           18,
           19,
           20,
           21,
           22,
           23,
           24,
           25,
           26,
           27,
           28,
           29,
           30,
           31,
           32,
           33,
           34,
           35,
           36,
           37,
           38,
           39,
           40,
           41,
           42,
           43,
           44,
           45,
           46,
           47,
           48,
           49,
           50,
           51,
           52,
           53,
           54,
           55,
           56,
           57,
           58,
           59,
           60,
           61,
           62,
           63,
           64,
           65,
           66,
           67,
           68,
           69,
           70,
           71,
           72,
           73,
           74,
           75,
           76,
           77,
           78,
           79,
           80,
           81,
           82,
           83,
           84,
           85,
           86,
           87,
           88,
           89,
           90,
           91,
           92,
           93,
           94,
           95,
           96,
           97,
           98,
           99
          ],
          "colorbar": {
           "title": {
            "text": "#Trials"
           },
           "x": 1,
           "xpad": 40
          },
          "colorscale": [
           [
            0,
            "rgb(247,251,255)"
           ],
           [
            0.125,
            "rgb(222,235,247)"
           ],
           [
            0.25,
            "rgb(198,219,239)"
           ],
           [
            0.375,
            "rgb(158,202,225)"
           ],
           [
            0.5,
            "rgb(107,174,214)"
           ],
           [
            0.625,
            "rgb(66,146,198)"
           ],
           [
            0.75,
            "rgb(33,113,181)"
           ],
           [
            0.875,
            "rgb(8,81,156)"
           ],
           [
            1,
            "rgb(8,48,107)"
           ]
          ],
          "line": {
           "color": "Grey",
           "width": 0.5
          },
          "showscale": false
         },
         "mode": "markers",
         "showlegend": false,
         "type": "scatter",
         "x": [
          0.4,
          0.8,
          0.5,
          0.9,
          0.6,
          0.8,
          1,
          1,
          0.4,
          0.7,
          0.4,
          0.3,
          0.8,
          0.8,
          0.4,
          0.7,
          0.6,
          0.4,
          0.7,
          0.6,
          0.4,
          0.7,
          0.6,
          0.4,
          0.9,
          0.3,
          0.5,
          0.9,
          0.3,
          0.5,
          0.9,
          0.3,
          0.5,
          0.5,
          0.9,
          0.6,
          0.7,
          0.4,
          0.6,
          1,
          0.9,
          0.3,
          0.5,
          0.4,
          0.9,
          0.9,
          0.3,
          0.3,
          0.5,
          0.5,
          0.9,
          0.3,
          0.5,
          0.8,
          0.5,
          0.5,
          1,
          0.9,
          0.6,
          0.6,
          0.7,
          0.4,
          0.6,
          0.7,
          1,
          1,
          0.4,
          0.6,
          1,
          0.4,
          0.4,
          0.3,
          0.3,
          0.3,
          0.8,
          0.8,
          0.5,
          0.5,
          0.5,
          0.8,
          0.8,
          0.5,
          0.6,
          0.6,
          0.7,
          0.7,
          1,
          0.6,
          0.7,
          0.6,
          0.7,
          1,
          0.4,
          0.4,
          1,
          1,
          0.4,
          0.4,
          1,
          0.4
         ],
         "xaxis": "x2",
         "y": [
          0.7537128712871287,
          0.7537128712871287,
          0.7537128712871287,
          0.7537128712871287,
          0.7537128712871287,
          0.7537128712871287,
          0.7537128712871287,
          0.7537128712871287,
          0.7537128712871287,
          0.7537128712871287,
          0.7537128712871287,
          0.7537128712871287,
          0.7537128712871287,
          0.7537128712871287,
          0.7537128712871287,
          0.7537128712871287,
          0.7537128712871287,
          0.7537128712871287,
          0.7537128712871287,
          0.7537128712871287,
          0.7537128712871287,
          0.7537128712871287,
          0.7537128712871287,
          0.7537128712871287,
          0.7537128712871287,
          0.7537128712871287,
          0.7537128712871287,
          0.7537128712871287,
          0.7537128712871287,
          0.7537128712871287,
          0.7537128712871287,
          0.7537128712871287,
          0.7537128712871287,
          0.7537128712871287,
          0.7537128712871287,
          0.7537128712871287,
          0.7537128712871287,
          0.7537128712871287,
          0.7537128712871287,
          0.7537128712871287,
          0.7537128712871287,
          0.7537128712871287,
          0.7537128712871287,
          0.7537128712871287,
          0.7537128712871287,
          0.7537128712871287,
          0.7537128712871287,
          0.7537128712871287,
          0.7537128712871287,
          0.7537128712871287,
          0.7537128712871287,
          0.7537128712871287,
          0.7537128712871287,
          0.7537128712871287,
          0.7537128712871287,
          0.7537128712871287,
          0.7537128712871287,
          0.7537128712871287,
          0.7537128712871287,
          0.7537128712871287,
          0.7537128712871287,
          0.7537128712871287,
          0.7537128712871287,
          0.7537128712871287,
          0.7537128712871287,
          0.7537128712871287,
          0.7537128712871287,
          0.7537128712871287,
          0.7537128712871287,
          0.7537128712871287,
          0.7537128712871287,
          0.7537128712871287,
          0.7537128712871287,
          0.7537128712871287,
          0.7537128712871287,
          0.7537128712871287,
          0.7537128712871287,
          0.7537128712871287,
          0.7537128712871287,
          0.7537128712871287,
          0.7537128712871287,
          0.7537128712871287,
          0.7537128712871287,
          0.7537128712871287,
          0.7537128712871287,
          0.7537128712871287,
          0.7537128712871287,
          0.7537128712871287,
          0.7537128712871287,
          0.7537128712871287,
          0.7537128712871287,
          0.7537128712871287,
          0.7537128712871287,
          0.7537128712871287,
          0.7537128712871287,
          0.7537128712871287,
          0.7537128712871287,
          0.7537128712871287,
          0.7537128712871287,
          0.75
         ],
         "yaxis": "y2"
        },
        {
         "marker": {
          "color": [
           0,
           1,
           2,
           3,
           4,
           5,
           6,
           7,
           8,
           9,
           10,
           11,
           12,
           13,
           14,
           15,
           16,
           17,
           18,
           19,
           20,
           21,
           22,
           23,
           24,
           25,
           26,
           27,
           28,
           29,
           30,
           31,
           32,
           33,
           34,
           35,
           36,
           37,
           38,
           39,
           40,
           41,
           42,
           43,
           44,
           45,
           46,
           47,
           48,
           49,
           50,
           51,
           52,
           53,
           54,
           55,
           56,
           57,
           58,
           59,
           60,
           61,
           62,
           63,
           64,
           65,
           66,
           67,
           68,
           69,
           70,
           71,
           72,
           73,
           74,
           75,
           76,
           77,
           78,
           79,
           80,
           81,
           82,
           83,
           84,
           85,
           86,
           87,
           88,
           89,
           90,
           91,
           92,
           93,
           94,
           95,
           96,
           97,
           98,
           99
          ],
          "colorbar": {
           "title": {
            "text": "#Trials"
           },
           "x": 1,
           "xpad": 40
          },
          "colorscale": [
           [
            0,
            "rgb(247,251,255)"
           ],
           [
            0.125,
            "rgb(222,235,247)"
           ],
           [
            0.25,
            "rgb(198,219,239)"
           ],
           [
            0.375,
            "rgb(158,202,225)"
           ],
           [
            0.5,
            "rgb(107,174,214)"
           ],
           [
            0.625,
            "rgb(66,146,198)"
           ],
           [
            0.75,
            "rgb(33,113,181)"
           ],
           [
            0.875,
            "rgb(8,81,156)"
           ],
           [
            1,
            "rgb(8,48,107)"
           ]
          ],
          "line": {
           "color": "Grey",
           "width": 0.5
          },
          "showscale": false
         },
         "mode": "markers",
         "showlegend": false,
         "type": "scatter",
         "x": [
          0.13504936679151183,
          0.4054900151722544,
          2.6296737089567865,
          0.08675960106666937,
          3.096509679257949,
          0.0053486285897926585,
          0.09680322889067616,
          0.9269896766605651,
          0.5369687458500214,
          0.0014738994710886784,
          0.006957281733916239,
          0.27742679516849383,
          0.03673145934993262,
          0.027411332503706098,
          0.29825042820331277,
          6.528347778451198,
          1.5720917256879356,
          0.18114903394868076,
          3.6667254453299,
          1.0687130376961105,
          0.02621449888879999,
          9.308532653318585,
          1.122589112088486,
          0.028884112063921316,
          0.010348621697944637,
          9.625095024254593,
          0.04222865737130896,
          0.007924665202323187,
          0.0024661340873354375,
          0.07207437204147428,
          0.017235297201873646,
          0.00262792878800882,
          0.00323157318722977,
          0.0010471861112163114,
          0.014263868075799198,
          1.8393684204094143,
          0.5917955025045832,
          0.17750945109475172,
          3.735843997183287,
          6.092575603671957,
          0.05265322902617164,
          0.14233164045296412,
          0.011445736272495396,
          0.053814227468026166,
          0.007495553616436855,
          0.005426254798912445,
          0.0022844867093157347,
          0.0032888781174961095,
          0.08127412206535402,
          0.07638399900425727,
          0.01994105696298115,
          0.0020986739493332645,
          0.0040905277224402015,
          0.0029477225793023915,
          0.0012224640113410862,
          0.0014213764579488278,
          0.0010678580996099619,
          0.014173621145526677,
          0.004815507186517771,
          0.6353852273780394,
          0.374106698074678,
          0.18956741336445082,
          1.6088439993249817,
          3.5322594963247003,
          5.338552399903572,
          2.5524249910644414,
          2.217789283891718,
          0.5850317927846144,
          0.1370328907758072,
          0.13178453334356327,
          0.2674733963263331,
          0.002065269098313385,
          0.001774551426149005,
          0.003944300594835432,
          0.08286731000518344,
          0.02191830976518955,
          0.001456888173862838,
          0.10533572351453953,
          0.001617587977384513,
          0.0010195537836639535,
          0.0012143042908238349,
          0.004595926034651314,
          0.0030962927642743166,
          0.006014476937057609,
          0.3471759525923892,
          0.0013519231831236977,
          0.2437998214132617,
          0.44046770411386604,
          0.7673515348181154,
          1.0916879720738561,
          4.953827384638132,
          2.825602637603427,
          1.9055527866887916,
          1.5521304888360563,
          2.206254344847714,
          3.474408873059638,
          4.78883494360768,
          1.3694139053187433,
          0.12589632770423845,
          0.2482591832463003
         ],
         "xaxis": "x3",
         "y": [
          0.7537128712871287,
          0.7537128712871287,
          0.7537128712871287,
          0.7537128712871287,
          0.7537128712871287,
          0.7537128712871287,
          0.7537128712871287,
          0.7537128712871287,
          0.7537128712871287,
          0.7537128712871287,
          0.7537128712871287,
          0.7537128712871287,
          0.7537128712871287,
          0.7537128712871287,
          0.7537128712871287,
          0.7537128712871287,
          0.7537128712871287,
          0.7537128712871287,
          0.7537128712871287,
          0.7537128712871287,
          0.7537128712871287,
          0.7537128712871287,
          0.7537128712871287,
          0.7537128712871287,
          0.7537128712871287,
          0.7537128712871287,
          0.7537128712871287,
          0.7537128712871287,
          0.7537128712871287,
          0.7537128712871287,
          0.7537128712871287,
          0.7537128712871287,
          0.7537128712871287,
          0.7537128712871287,
          0.7537128712871287,
          0.7537128712871287,
          0.7537128712871287,
          0.7537128712871287,
          0.7537128712871287,
          0.7537128712871287,
          0.7537128712871287,
          0.7537128712871287,
          0.7537128712871287,
          0.7537128712871287,
          0.7537128712871287,
          0.7537128712871287,
          0.7537128712871287,
          0.7537128712871287,
          0.7537128712871287,
          0.7537128712871287,
          0.7537128712871287,
          0.7537128712871287,
          0.7537128712871287,
          0.7537128712871287,
          0.7537128712871287,
          0.7537128712871287,
          0.7537128712871287,
          0.7537128712871287,
          0.7537128712871287,
          0.7537128712871287,
          0.7537128712871287,
          0.7537128712871287,
          0.7537128712871287,
          0.7537128712871287,
          0.7537128712871287,
          0.7537128712871287,
          0.7537128712871287,
          0.7537128712871287,
          0.7537128712871287,
          0.7537128712871287,
          0.7537128712871287,
          0.7537128712871287,
          0.7537128712871287,
          0.7537128712871287,
          0.7537128712871287,
          0.7537128712871287,
          0.7537128712871287,
          0.7537128712871287,
          0.7537128712871287,
          0.7537128712871287,
          0.7537128712871287,
          0.7537128712871287,
          0.7537128712871287,
          0.7537128712871287,
          0.7537128712871287,
          0.7537128712871287,
          0.7537128712871287,
          0.7537128712871287,
          0.7537128712871287,
          0.7537128712871287,
          0.7537128712871287,
          0.7537128712871287,
          0.7537128712871287,
          0.7537128712871287,
          0.7537128712871287,
          0.7537128712871287,
          0.7537128712871287,
          0.7537128712871287,
          0.7537128712871287,
          0.75
         ],
         "yaxis": "y3"
        },
        {
         "marker": {
          "color": [
           0,
           1,
           2,
           3,
           4,
           5,
           6,
           7,
           8,
           9,
           10,
           11,
           12,
           13,
           14,
           15,
           16,
           17,
           18,
           19,
           20,
           21,
           22,
           23,
           24,
           25,
           26,
           27,
           28,
           29,
           30,
           31,
           32,
           33,
           34,
           35,
           36,
           37,
           38,
           39,
           40,
           41,
           42,
           43,
           44,
           45,
           46,
           47,
           48,
           49,
           50,
           51,
           52,
           53,
           54,
           55,
           56,
           57,
           58,
           59,
           60,
           61,
           62,
           63,
           64,
           65,
           66,
           67,
           68,
           69,
           70,
           71,
           72,
           73,
           74,
           75,
           76,
           77,
           78,
           79,
           80,
           81,
           82,
           83,
           84,
           85,
           86,
           87,
           88,
           89,
           90,
           91,
           92,
           93,
           94,
           95,
           96,
           97,
           98,
           99
          ],
          "colorbar": {
           "title": {
            "text": "#Trials"
           },
           "x": 1,
           "xpad": 40
          },
          "colorscale": [
           [
            0,
            "rgb(247,251,255)"
           ],
           [
            0.125,
            "rgb(222,235,247)"
           ],
           [
            0.25,
            "rgb(198,219,239)"
           ],
           [
            0.375,
            "rgb(158,202,225)"
           ],
           [
            0.5,
            "rgb(107,174,214)"
           ],
           [
            0.625,
            "rgb(66,146,198)"
           ],
           [
            0.75,
            "rgb(33,113,181)"
           ],
           [
            0.875,
            "rgb(8,81,156)"
           ],
           [
            1,
            "rgb(8,48,107)"
           ]
          ],
          "line": {
           "color": "Grey",
           "width": 0.5
          },
          "showscale": false
         },
         "mode": "markers",
         "showlegend": false,
         "type": "scatter",
         "x": [
          0.008,
          0.012,
          0.012,
          0.016,
          0.009,
          0.014,
          0.01,
          0.012,
          0.018,
          0.012,
          0.008,
          0.02,
          0.008,
          0.008,
          0.014,
          0.016,
          0.009,
          0.014,
          0.016,
          0.009,
          0.014,
          0.016,
          0.009,
          0.02,
          0.01,
          0.018,
          0.02,
          0.01,
          0.018,
          0.018,
          0.01,
          0.02,
          0.018,
          0.018,
          0.01,
          0.016,
          0.009,
          0.014,
          0.02,
          0.008,
          0.009,
          0.01,
          0.02,
          0.02,
          0.01,
          0.01,
          0.018,
          0.018,
          0.012,
          0.008,
          0.01,
          0.018,
          0.018,
          0.018,
          0.018,
          0.008,
          0.01,
          0.012,
          0.016,
          0.016,
          0.009,
          0.014,
          0.014,
          0.014,
          0.008,
          0.008,
          0.009,
          0.009,
          0.009,
          0.008,
          0.02,
          0.018,
          0.012,
          0.018,
          0.012,
          0.018,
          0.018,
          0.012,
          0.008,
          0.018,
          0.018,
          0.016,
          0.016,
          0.016,
          0.016,
          0.016,
          0.014,
          0.014,
          0.014,
          0.014,
          0.014,
          0.008,
          0.009,
          0.008,
          0.009,
          0.009,
          0.008,
          0.008,
          0.009,
          0.008
         ],
         "xaxis": "x4",
         "y": [
          0.7537128712871287,
          0.7537128712871287,
          0.7537128712871287,
          0.7537128712871287,
          0.7537128712871287,
          0.7537128712871287,
          0.7537128712871287,
          0.7537128712871287,
          0.7537128712871287,
          0.7537128712871287,
          0.7537128712871287,
          0.7537128712871287,
          0.7537128712871287,
          0.7537128712871287,
          0.7537128712871287,
          0.7537128712871287,
          0.7537128712871287,
          0.7537128712871287,
          0.7537128712871287,
          0.7537128712871287,
          0.7537128712871287,
          0.7537128712871287,
          0.7537128712871287,
          0.7537128712871287,
          0.7537128712871287,
          0.7537128712871287,
          0.7537128712871287,
          0.7537128712871287,
          0.7537128712871287,
          0.7537128712871287,
          0.7537128712871287,
          0.7537128712871287,
          0.7537128712871287,
          0.7537128712871287,
          0.7537128712871287,
          0.7537128712871287,
          0.7537128712871287,
          0.7537128712871287,
          0.7537128712871287,
          0.7537128712871287,
          0.7537128712871287,
          0.7537128712871287,
          0.7537128712871287,
          0.7537128712871287,
          0.7537128712871287,
          0.7537128712871287,
          0.7537128712871287,
          0.7537128712871287,
          0.7537128712871287,
          0.7537128712871287,
          0.7537128712871287,
          0.7537128712871287,
          0.7537128712871287,
          0.7537128712871287,
          0.7537128712871287,
          0.7537128712871287,
          0.7537128712871287,
          0.7537128712871287,
          0.7537128712871287,
          0.7537128712871287,
          0.7537128712871287,
          0.7537128712871287,
          0.7537128712871287,
          0.7537128712871287,
          0.7537128712871287,
          0.7537128712871287,
          0.7537128712871287,
          0.7537128712871287,
          0.7537128712871287,
          0.7537128712871287,
          0.7537128712871287,
          0.7537128712871287,
          0.7537128712871287,
          0.7537128712871287,
          0.7537128712871287,
          0.7537128712871287,
          0.7537128712871287,
          0.7537128712871287,
          0.7537128712871287,
          0.7537128712871287,
          0.7537128712871287,
          0.7537128712871287,
          0.7537128712871287,
          0.7537128712871287,
          0.7537128712871287,
          0.7537128712871287,
          0.7537128712871287,
          0.7537128712871287,
          0.7537128712871287,
          0.7537128712871287,
          0.7537128712871287,
          0.7537128712871287,
          0.7537128712871287,
          0.7537128712871287,
          0.7537128712871287,
          0.7537128712871287,
          0.7537128712871287,
          0.7537128712871287,
          0.7537128712871287,
          0.75
         ],
         "yaxis": "y4"
        },
        {
         "marker": {
          "color": [
           0,
           1,
           2,
           3,
           4,
           5,
           6,
           7,
           8,
           9,
           10,
           11,
           12,
           13,
           14,
           15,
           16,
           17,
           18,
           19,
           20,
           21,
           22,
           23,
           24,
           25,
           26,
           27,
           28,
           29,
           30,
           31,
           32,
           33,
           34,
           35,
           36,
           37,
           38,
           39,
           40,
           41,
           42,
           43,
           44,
           45,
           46,
           47,
           48,
           49,
           50,
           51,
           52,
           53,
           54,
           55,
           56,
           57,
           58,
           59,
           60,
           61,
           62,
           63,
           64,
           65,
           66,
           67,
           68,
           69,
           70,
           71,
           72,
           73,
           74,
           75,
           76,
           77,
           78,
           79,
           80,
           81,
           82,
           83,
           84,
           85,
           86,
           87,
           88,
           89,
           90,
           91,
           92,
           93,
           94,
           95,
           96,
           97,
           98,
           99
          ],
          "colorbar": {
           "title": {
            "text": "#Trials"
           },
           "x": 1,
           "xpad": 40
          },
          "colorscale": [
           [
            0,
            "rgb(247,251,255)"
           ],
           [
            0.125,
            "rgb(222,235,247)"
           ],
           [
            0.25,
            "rgb(198,219,239)"
           ],
           [
            0.375,
            "rgb(158,202,225)"
           ],
           [
            0.5,
            "rgb(107,174,214)"
           ],
           [
            0.625,
            "rgb(66,146,198)"
           ],
           [
            0.75,
            "rgb(33,113,181)"
           ],
           [
            0.875,
            "rgb(8,81,156)"
           ],
           [
            1,
            "rgb(8,48,107)"
           ]
          ],
          "line": {
           "color": "Grey",
           "width": 0.5
          },
          "showscale": false
         },
         "mode": "markers",
         "showlegend": false,
         "type": "scatter",
         "x": [
          20,
          20,
          5,
          17,
          5,
          7,
          17,
          9,
          13,
          7,
          11,
          20,
          20,
          20,
          15,
          20,
          20,
          15,
          9,
          11,
          15,
          9,
          11,
          15,
          9,
          11,
          13,
          9,
          11,
          13,
          13,
          13,
          11,
          13,
          13,
          5,
          15,
          17,
          7,
          9,
          5,
          11,
          15,
          17,
          9,
          9,
          11,
          11,
          13,
          13,
          20,
          13,
          13,
          13,
          13,
          13,
          13,
          20,
          5,
          5,
          5,
          17,
          7,
          7,
          17,
          7,
          5,
          5,
          15,
          17,
          7,
          20,
          20,
          11,
          13,
          13,
          13,
          13,
          13,
          13,
          20,
          13,
          5,
          20,
          5,
          5,
          5,
          5,
          7,
          7,
          17,
          7,
          7,
          17,
          5,
          15,
          17,
          17,
          7,
          7
         ],
         "xaxis": "x5",
         "y": [
          0.7537128712871287,
          0.7537128712871287,
          0.7537128712871287,
          0.7537128712871287,
          0.7537128712871287,
          0.7537128712871287,
          0.7537128712871287,
          0.7537128712871287,
          0.7537128712871287,
          0.7537128712871287,
          0.7537128712871287,
          0.7537128712871287,
          0.7537128712871287,
          0.7537128712871287,
          0.7537128712871287,
          0.7537128712871287,
          0.7537128712871287,
          0.7537128712871287,
          0.7537128712871287,
          0.7537128712871287,
          0.7537128712871287,
          0.7537128712871287,
          0.7537128712871287,
          0.7537128712871287,
          0.7537128712871287,
          0.7537128712871287,
          0.7537128712871287,
          0.7537128712871287,
          0.7537128712871287,
          0.7537128712871287,
          0.7537128712871287,
          0.7537128712871287,
          0.7537128712871287,
          0.7537128712871287,
          0.7537128712871287,
          0.7537128712871287,
          0.7537128712871287,
          0.7537128712871287,
          0.7537128712871287,
          0.7537128712871287,
          0.7537128712871287,
          0.7537128712871287,
          0.7537128712871287,
          0.7537128712871287,
          0.7537128712871287,
          0.7537128712871287,
          0.7537128712871287,
          0.7537128712871287,
          0.7537128712871287,
          0.7537128712871287,
          0.7537128712871287,
          0.7537128712871287,
          0.7537128712871287,
          0.7537128712871287,
          0.7537128712871287,
          0.7537128712871287,
          0.7537128712871287,
          0.7537128712871287,
          0.7537128712871287,
          0.7537128712871287,
          0.7537128712871287,
          0.7537128712871287,
          0.7537128712871287,
          0.7537128712871287,
          0.7537128712871287,
          0.7537128712871287,
          0.7537128712871287,
          0.7537128712871287,
          0.7537128712871287,
          0.7537128712871287,
          0.7537128712871287,
          0.7537128712871287,
          0.7537128712871287,
          0.7537128712871287,
          0.7537128712871287,
          0.7537128712871287,
          0.7537128712871287,
          0.7537128712871287,
          0.7537128712871287,
          0.7537128712871287,
          0.7537128712871287,
          0.7537128712871287,
          0.7537128712871287,
          0.7537128712871287,
          0.7537128712871287,
          0.7537128712871287,
          0.7537128712871287,
          0.7537128712871287,
          0.7537128712871287,
          0.7537128712871287,
          0.7537128712871287,
          0.7537128712871287,
          0.7537128712871287,
          0.7537128712871287,
          0.7537128712871287,
          0.7537128712871287,
          0.7537128712871287,
          0.7537128712871287,
          0.7537128712871287,
          0.75
         ],
         "yaxis": "y5"
        },
        {
         "marker": {
          "color": [
           0,
           1,
           2,
           3,
           4,
           5,
           6,
           7,
           8,
           9,
           10,
           11,
           12,
           13,
           14,
           15,
           16,
           17,
           18,
           19,
           20,
           21,
           22,
           23,
           24,
           25,
           26,
           27,
           28,
           29,
           30,
           31,
           32,
           33,
           34,
           35,
           36,
           37,
           38,
           39,
           40,
           41,
           42,
           43,
           44,
           45,
           46,
           47,
           48,
           49,
           50,
           51,
           52,
           53,
           54,
           55,
           56,
           57,
           58,
           59,
           60,
           61,
           62,
           63,
           64,
           65,
           66,
           67,
           68,
           69,
           70,
           71,
           72,
           73,
           74,
           75,
           76,
           77,
           78,
           79,
           80,
           81,
           82,
           83,
           84,
           85,
           86,
           87,
           88,
           89,
           90,
           91,
           92,
           93,
           94,
           95,
           96,
           97,
           98,
           99
          ],
          "colorbar": {
           "title": {
            "text": "#Trials"
           },
           "x": 1,
           "xpad": 40
          },
          "colorscale": [
           [
            0,
            "rgb(247,251,255)"
           ],
           [
            0.125,
            "rgb(222,235,247)"
           ],
           [
            0.25,
            "rgb(198,219,239)"
           ],
           [
            0.375,
            "rgb(158,202,225)"
           ],
           [
            0.5,
            "rgb(107,174,214)"
           ],
           [
            0.625,
            "rgb(66,146,198)"
           ],
           [
            0.75,
            "rgb(33,113,181)"
           ],
           [
            0.875,
            "rgb(8,81,156)"
           ],
           [
            1,
            "rgb(8,48,107)"
           ]
          ],
          "line": {
           "color": "Grey",
           "width": 0.5
          },
          "showscale": false
         },
         "mode": "markers",
         "showlegend": false,
         "type": "scatter",
         "x": [
          256,
          48,
          134,
          239,
          26,
          23,
          285,
          240,
          117,
          272,
          200,
          82,
          173,
          72,
          195,
          80,
          114,
          201,
          157,
          109,
          239,
          165,
          146,
          241,
          296,
          166,
          264,
          258,
          298,
          218,
          269,
          261,
          218,
          289,
          225,
          103,
          129,
          144,
          187,
          7,
          251,
          180,
          283,
          276,
          300,
          256,
          227,
          263,
          212,
          244,
          274,
          284,
          225,
          209,
          231,
          269,
          251,
          287,
          99,
          195,
          46,
          131,
          133,
          182,
          146,
          11,
          59,
          96,
          181,
          123,
          154,
          248,
          235,
          279,
          206,
          214,
          232,
          244,
          271,
          253,
          289,
          290,
          203,
          195,
          77,
          44,
          87,
          130,
          138,
          162,
          144,
          18,
          49,
          66,
          37,
          61,
          114,
          171,
          155,
          1
         ],
         "xaxis": "x6",
         "y": [
          0.7537128712871287,
          0.7537128712871287,
          0.7537128712871287,
          0.7537128712871287,
          0.7537128712871287,
          0.7537128712871287,
          0.7537128712871287,
          0.7537128712871287,
          0.7537128712871287,
          0.7537128712871287,
          0.7537128712871287,
          0.7537128712871287,
          0.7537128712871287,
          0.7537128712871287,
          0.7537128712871287,
          0.7537128712871287,
          0.7537128712871287,
          0.7537128712871287,
          0.7537128712871287,
          0.7537128712871287,
          0.7537128712871287,
          0.7537128712871287,
          0.7537128712871287,
          0.7537128712871287,
          0.7537128712871287,
          0.7537128712871287,
          0.7537128712871287,
          0.7537128712871287,
          0.7537128712871287,
          0.7537128712871287,
          0.7537128712871287,
          0.7537128712871287,
          0.7537128712871287,
          0.7537128712871287,
          0.7537128712871287,
          0.7537128712871287,
          0.7537128712871287,
          0.7537128712871287,
          0.7537128712871287,
          0.7537128712871287,
          0.7537128712871287,
          0.7537128712871287,
          0.7537128712871287,
          0.7537128712871287,
          0.7537128712871287,
          0.7537128712871287,
          0.7537128712871287,
          0.7537128712871287,
          0.7537128712871287,
          0.7537128712871287,
          0.7537128712871287,
          0.7537128712871287,
          0.7537128712871287,
          0.7537128712871287,
          0.7537128712871287,
          0.7537128712871287,
          0.7537128712871287,
          0.7537128712871287,
          0.7537128712871287,
          0.7537128712871287,
          0.7537128712871287,
          0.7537128712871287,
          0.7537128712871287,
          0.7537128712871287,
          0.7537128712871287,
          0.7537128712871287,
          0.7537128712871287,
          0.7537128712871287,
          0.7537128712871287,
          0.7537128712871287,
          0.7537128712871287,
          0.7537128712871287,
          0.7537128712871287,
          0.7537128712871287,
          0.7537128712871287,
          0.7537128712871287,
          0.7537128712871287,
          0.7537128712871287,
          0.7537128712871287,
          0.7537128712871287,
          0.7537128712871287,
          0.7537128712871287,
          0.7537128712871287,
          0.7537128712871287,
          0.7537128712871287,
          0.7537128712871287,
          0.7537128712871287,
          0.7537128712871287,
          0.7537128712871287,
          0.7537128712871287,
          0.7537128712871287,
          0.7537128712871287,
          0.7537128712871287,
          0.7537128712871287,
          0.7537128712871287,
          0.7537128712871287,
          0.7537128712871287,
          0.7537128712871287,
          0.7537128712871287,
          0.75
         ],
         "yaxis": "y6"
        },
        {
         "marker": {
          "color": [
           0,
           1,
           2,
           3,
           4,
           5,
           6,
           7,
           8,
           9,
           10,
           11,
           12,
           13,
           14,
           15,
           16,
           17,
           18,
           19,
           20,
           21,
           22,
           23,
           24,
           25,
           26,
           27,
           28,
           29,
           30,
           31,
           32,
           33,
           34,
           35,
           36,
           37,
           38,
           39,
           40,
           41,
           42,
           43,
           44,
           45,
           46,
           47,
           48,
           49,
           50,
           51,
           52,
           53,
           54,
           55,
           56,
           57,
           58,
           59,
           60,
           61,
           62,
           63,
           64,
           65,
           66,
           67,
           68,
           69,
           70,
           71,
           72,
           73,
           74,
           75,
           76,
           77,
           78,
           79,
           80,
           81,
           82,
           83,
           84,
           85,
           86,
           87,
           88,
           89,
           90,
           91,
           92,
           93,
           94,
           95,
           96,
           97,
           98,
           99
          ],
          "colorbar": {
           "title": {
            "text": "#Trials"
           },
           "x": 1,
           "xpad": 40
          },
          "colorscale": [
           [
            0,
            "rgb(247,251,255)"
           ],
           [
            0.125,
            "rgb(222,235,247)"
           ],
           [
            0.25,
            "rgb(198,219,239)"
           ],
           [
            0.375,
            "rgb(158,202,225)"
           ],
           [
            0.5,
            "rgb(107,174,214)"
           ],
           [
            0.625,
            "rgb(66,146,198)"
           ],
           [
            0.75,
            "rgb(33,113,181)"
           ],
           [
            0.875,
            "rgb(8,81,156)"
           ],
           [
            1,
            "rgb(8,48,107)"
           ]
          ],
          "line": {
           "color": "Grey",
           "width": 0.5
          },
          "showscale": false
         },
         "mode": "markers",
         "showlegend": false,
         "type": "scatter",
         "x": [
          24,
          48,
          48,
          24,
          48,
          48,
          48,
          48,
          48,
          48,
          24,
          2020,
          24,
          2020,
          24,
          24,
          2020,
          24,
          24,
          2020,
          24,
          24,
          2020,
          2020,
          24,
          2020,
          2020,
          24,
          24,
          2020,
          24,
          24,
          24,
          24,
          24,
          24,
          24,
          2020,
          2020,
          2020,
          2020,
          2020,
          2020,
          2020,
          48,
          48,
          24,
          24,
          48,
          24,
          24,
          24,
          24,
          24,
          24,
          24,
          24,
          24,
          24,
          24,
          24,
          24,
          2020,
          2020,
          2020,
          2020,
          2020,
          2020,
          2020,
          2020,
          2020,
          48,
          48,
          24,
          48,
          24,
          24,
          24,
          24,
          24,
          24,
          24,
          24,
          24,
          24,
          24,
          24,
          24,
          24,
          24,
          2020,
          2020,
          2020,
          2020,
          2020,
          2020,
          2020,
          2020,
          2020,
          2020
         ],
         "xaxis": "x7",
         "y": [
          0.7537128712871287,
          0.7537128712871287,
          0.7537128712871287,
          0.7537128712871287,
          0.7537128712871287,
          0.7537128712871287,
          0.7537128712871287,
          0.7537128712871287,
          0.7537128712871287,
          0.7537128712871287,
          0.7537128712871287,
          0.7537128712871287,
          0.7537128712871287,
          0.7537128712871287,
          0.7537128712871287,
          0.7537128712871287,
          0.7537128712871287,
          0.7537128712871287,
          0.7537128712871287,
          0.7537128712871287,
          0.7537128712871287,
          0.7537128712871287,
          0.7537128712871287,
          0.7537128712871287,
          0.7537128712871287,
          0.7537128712871287,
          0.7537128712871287,
          0.7537128712871287,
          0.7537128712871287,
          0.7537128712871287,
          0.7537128712871287,
          0.7537128712871287,
          0.7537128712871287,
          0.7537128712871287,
          0.7537128712871287,
          0.7537128712871287,
          0.7537128712871287,
          0.7537128712871287,
          0.7537128712871287,
          0.7537128712871287,
          0.7537128712871287,
          0.7537128712871287,
          0.7537128712871287,
          0.7537128712871287,
          0.7537128712871287,
          0.7537128712871287,
          0.7537128712871287,
          0.7537128712871287,
          0.7537128712871287,
          0.7537128712871287,
          0.7537128712871287,
          0.7537128712871287,
          0.7537128712871287,
          0.7537128712871287,
          0.7537128712871287,
          0.7537128712871287,
          0.7537128712871287,
          0.7537128712871287,
          0.7537128712871287,
          0.7537128712871287,
          0.7537128712871287,
          0.7537128712871287,
          0.7537128712871287,
          0.7537128712871287,
          0.7537128712871287,
          0.7537128712871287,
          0.7537128712871287,
          0.7537128712871287,
          0.7537128712871287,
          0.7537128712871287,
          0.7537128712871287,
          0.7537128712871287,
          0.7537128712871287,
          0.7537128712871287,
          0.7537128712871287,
          0.7537128712871287,
          0.7537128712871287,
          0.7537128712871287,
          0.7537128712871287,
          0.7537128712871287,
          0.7537128712871287,
          0.7537128712871287,
          0.7537128712871287,
          0.7537128712871287,
          0.7537128712871287,
          0.7537128712871287,
          0.7537128712871287,
          0.7537128712871287,
          0.7537128712871287,
          0.7537128712871287,
          0.7537128712871287,
          0.7537128712871287,
          0.7537128712871287,
          0.7537128712871287,
          0.7537128712871287,
          0.7537128712871287,
          0.7537128712871287,
          0.7537128712871287,
          0.7537128712871287,
          0.75
         ],
         "yaxis": "y7"
        },
        {
         "marker": {
          "color": [
           0,
           1,
           2,
           3,
           4,
           5,
           6,
           7,
           8,
           9,
           10,
           11,
           12,
           13,
           14,
           15,
           16,
           17,
           18,
           19,
           20,
           21,
           22,
           23,
           24,
           25,
           26,
           27,
           28,
           29,
           30,
           31,
           32,
           33,
           34,
           35,
           36,
           37,
           38,
           39,
           40,
           41,
           42,
           43,
           44,
           45,
           46,
           47,
           48,
           49,
           50,
           51,
           52,
           53,
           54,
           55,
           56,
           57,
           58,
           59,
           60,
           61,
           62,
           63,
           64,
           65,
           66,
           67,
           68,
           69,
           70,
           71,
           72,
           73,
           74,
           75,
           76,
           77,
           78,
           79,
           80,
           81,
           82,
           83,
           84,
           85,
           86,
           87,
           88,
           89,
           90,
           91,
           92,
           93,
           94,
           95,
           96,
           97,
           98,
           99
          ],
          "colorbar": {
           "title": {
            "text": "#Trials"
           },
           "x": 1,
           "xpad": 40
          },
          "colorscale": [
           [
            0,
            "rgb(247,251,255)"
           ],
           [
            0.125,
            "rgb(222,235,247)"
           ],
           [
            0.25,
            "rgb(198,219,239)"
           ],
           [
            0.375,
            "rgb(158,202,225)"
           ],
           [
            0.5,
            "rgb(107,174,214)"
           ],
           [
            0.625,
            "rgb(66,146,198)"
           ],
           [
            0.75,
            "rgb(33,113,181)"
           ],
           [
            0.875,
            "rgb(8,81,156)"
           ],
           [
            1,
            "rgb(8,48,107)"
           ]
          ],
          "line": {
           "color": "Grey",
           "width": 0.5
          },
          "showscale": false
         },
         "mode": "markers",
         "showlegend": false,
         "type": "scatter",
         "x": [
          0.4,
          0.4,
          1,
          0.4,
          0.7,
          0.7,
          0.5,
          0.6,
          0.7,
          0.4,
          0.8,
          0.4,
          0.4,
          0.4,
          1,
          0.8,
          0.5,
          1,
          0.8,
          0.5,
          1,
          0.8,
          0.5,
          0.6,
          1,
          0.5,
          0.6,
          0.6,
          0.5,
          0.6,
          0.6,
          0.6,
          0.6,
          0.6,
          0.6,
          0.8,
          1,
          0.8,
          0.7,
          0.4,
          1,
          0.5,
          0.6,
          0.4,
          0.7,
          1,
          0.5,
          0.5,
          0.6,
          0.6,
          0.4,
          0.6,
          0.6,
          0.6,
          0.6,
          0.6,
          0.6,
          0.6,
          0.8,
          0.8,
          1,
          0.8,
          0.7,
          0.7,
          0.4,
          0.4,
          1,
          0.8,
          1,
          0.4,
          0.7,
          0.5,
          0.5,
          0.5,
          0.6,
          0.6,
          0.6,
          0.6,
          0.6,
          0.4,
          0.6,
          0.6,
          0.8,
          0.8,
          0.8,
          0.8,
          0.8,
          0.7,
          0.7,
          0.7,
          0.7,
          0.4,
          1,
          0.4,
          0.4,
          1,
          0.4,
          0.4,
          0.7,
          0.4
         ],
         "xaxis": "x8",
         "y": [
          0.7537128712871287,
          0.7537128712871287,
          0.7537128712871287,
          0.7537128712871287,
          0.7537128712871287,
          0.7537128712871287,
          0.7537128712871287,
          0.7537128712871287,
          0.7537128712871287,
          0.7537128712871287,
          0.7537128712871287,
          0.7537128712871287,
          0.7537128712871287,
          0.7537128712871287,
          0.7537128712871287,
          0.7537128712871287,
          0.7537128712871287,
          0.7537128712871287,
          0.7537128712871287,
          0.7537128712871287,
          0.7537128712871287,
          0.7537128712871287,
          0.7537128712871287,
          0.7537128712871287,
          0.7537128712871287,
          0.7537128712871287,
          0.7537128712871287,
          0.7537128712871287,
          0.7537128712871287,
          0.7537128712871287,
          0.7537128712871287,
          0.7537128712871287,
          0.7537128712871287,
          0.7537128712871287,
          0.7537128712871287,
          0.7537128712871287,
          0.7537128712871287,
          0.7537128712871287,
          0.7537128712871287,
          0.7537128712871287,
          0.7537128712871287,
          0.7537128712871287,
          0.7537128712871287,
          0.7537128712871287,
          0.7537128712871287,
          0.7537128712871287,
          0.7537128712871287,
          0.7537128712871287,
          0.7537128712871287,
          0.7537128712871287,
          0.7537128712871287,
          0.7537128712871287,
          0.7537128712871287,
          0.7537128712871287,
          0.7537128712871287,
          0.7537128712871287,
          0.7537128712871287,
          0.7537128712871287,
          0.7537128712871287,
          0.7537128712871287,
          0.7537128712871287,
          0.7537128712871287,
          0.7537128712871287,
          0.7537128712871287,
          0.7537128712871287,
          0.7537128712871287,
          0.7537128712871287,
          0.7537128712871287,
          0.7537128712871287,
          0.7537128712871287,
          0.7537128712871287,
          0.7537128712871287,
          0.7537128712871287,
          0.7537128712871287,
          0.7537128712871287,
          0.7537128712871287,
          0.7537128712871287,
          0.7537128712871287,
          0.7537128712871287,
          0.7537128712871287,
          0.7537128712871287,
          0.7537128712871287,
          0.7537128712871287,
          0.7537128712871287,
          0.7537128712871287,
          0.7537128712871287,
          0.7537128712871287,
          0.7537128712871287,
          0.7537128712871287,
          0.7537128712871287,
          0.7537128712871287,
          0.7537128712871287,
          0.7537128712871287,
          0.7537128712871287,
          0.7537128712871287,
          0.7537128712871287,
          0.7537128712871287,
          0.7537128712871287,
          0.7537128712871287,
          0.75
         ],
         "yaxis": "y8"
        }
       ],
       "layout": {
        "template": {
         "data": {
          "bar": [
           {
            "error_x": {
             "color": "#2a3f5f"
            },
            "error_y": {
             "color": "#2a3f5f"
            },
            "marker": {
             "line": {
              "color": "#E5ECF6",
              "width": 0.5
             },
             "pattern": {
              "fillmode": "overlay",
              "size": 10,
              "solidity": 0.2
             }
            },
            "type": "bar"
           }
          ],
          "barpolar": [
           {
            "marker": {
             "line": {
              "color": "#E5ECF6",
              "width": 0.5
             },
             "pattern": {
              "fillmode": "overlay",
              "size": 10,
              "solidity": 0.2
             }
            },
            "type": "barpolar"
           }
          ],
          "carpet": [
           {
            "aaxis": {
             "endlinecolor": "#2a3f5f",
             "gridcolor": "white",
             "linecolor": "white",
             "minorgridcolor": "white",
             "startlinecolor": "#2a3f5f"
            },
            "baxis": {
             "endlinecolor": "#2a3f5f",
             "gridcolor": "white",
             "linecolor": "white",
             "minorgridcolor": "white",
             "startlinecolor": "#2a3f5f"
            },
            "type": "carpet"
           }
          ],
          "choropleth": [
           {
            "colorbar": {
             "outlinewidth": 0,
             "ticks": ""
            },
            "type": "choropleth"
           }
          ],
          "contour": [
           {
            "colorbar": {
             "outlinewidth": 0,
             "ticks": ""
            },
            "colorscale": [
             [
              0,
              "#0d0887"
             ],
             [
              0.1111111111111111,
              "#46039f"
             ],
             [
              0.2222222222222222,
              "#7201a8"
             ],
             [
              0.3333333333333333,
              "#9c179e"
             ],
             [
              0.4444444444444444,
              "#bd3786"
             ],
             [
              0.5555555555555556,
              "#d8576b"
             ],
             [
              0.6666666666666666,
              "#ed7953"
             ],
             [
              0.7777777777777778,
              "#fb9f3a"
             ],
             [
              0.8888888888888888,
              "#fdca26"
             ],
             [
              1,
              "#f0f921"
             ]
            ],
            "type": "contour"
           }
          ],
          "contourcarpet": [
           {
            "colorbar": {
             "outlinewidth": 0,
             "ticks": ""
            },
            "type": "contourcarpet"
           }
          ],
          "heatmap": [
           {
            "colorbar": {
             "outlinewidth": 0,
             "ticks": ""
            },
            "colorscale": [
             [
              0,
              "#0d0887"
             ],
             [
              0.1111111111111111,
              "#46039f"
             ],
             [
              0.2222222222222222,
              "#7201a8"
             ],
             [
              0.3333333333333333,
              "#9c179e"
             ],
             [
              0.4444444444444444,
              "#bd3786"
             ],
             [
              0.5555555555555556,
              "#d8576b"
             ],
             [
              0.6666666666666666,
              "#ed7953"
             ],
             [
              0.7777777777777778,
              "#fb9f3a"
             ],
             [
              0.8888888888888888,
              "#fdca26"
             ],
             [
              1,
              "#f0f921"
             ]
            ],
            "type": "heatmap"
           }
          ],
          "heatmapgl": [
           {
            "colorbar": {
             "outlinewidth": 0,
             "ticks": ""
            },
            "colorscale": [
             [
              0,
              "#0d0887"
             ],
             [
              0.1111111111111111,
              "#46039f"
             ],
             [
              0.2222222222222222,
              "#7201a8"
             ],
             [
              0.3333333333333333,
              "#9c179e"
             ],
             [
              0.4444444444444444,
              "#bd3786"
             ],
             [
              0.5555555555555556,
              "#d8576b"
             ],
             [
              0.6666666666666666,
              "#ed7953"
             ],
             [
              0.7777777777777778,
              "#fb9f3a"
             ],
             [
              0.8888888888888888,
              "#fdca26"
             ],
             [
              1,
              "#f0f921"
             ]
            ],
            "type": "heatmapgl"
           }
          ],
          "histogram": [
           {
            "marker": {
             "pattern": {
              "fillmode": "overlay",
              "size": 10,
              "solidity": 0.2
             }
            },
            "type": "histogram"
           }
          ],
          "histogram2d": [
           {
            "colorbar": {
             "outlinewidth": 0,
             "ticks": ""
            },
            "colorscale": [
             [
              0,
              "#0d0887"
             ],
             [
              0.1111111111111111,
              "#46039f"
             ],
             [
              0.2222222222222222,
              "#7201a8"
             ],
             [
              0.3333333333333333,
              "#9c179e"
             ],
             [
              0.4444444444444444,
              "#bd3786"
             ],
             [
              0.5555555555555556,
              "#d8576b"
             ],
             [
              0.6666666666666666,
              "#ed7953"
             ],
             [
              0.7777777777777778,
              "#fb9f3a"
             ],
             [
              0.8888888888888888,
              "#fdca26"
             ],
             [
              1,
              "#f0f921"
             ]
            ],
            "type": "histogram2d"
           }
          ],
          "histogram2dcontour": [
           {
            "colorbar": {
             "outlinewidth": 0,
             "ticks": ""
            },
            "colorscale": [
             [
              0,
              "#0d0887"
             ],
             [
              0.1111111111111111,
              "#46039f"
             ],
             [
              0.2222222222222222,
              "#7201a8"
             ],
             [
              0.3333333333333333,
              "#9c179e"
             ],
             [
              0.4444444444444444,
              "#bd3786"
             ],
             [
              0.5555555555555556,
              "#d8576b"
             ],
             [
              0.6666666666666666,
              "#ed7953"
             ],
             [
              0.7777777777777778,
              "#fb9f3a"
             ],
             [
              0.8888888888888888,
              "#fdca26"
             ],
             [
              1,
              "#f0f921"
             ]
            ],
            "type": "histogram2dcontour"
           }
          ],
          "mesh3d": [
           {
            "colorbar": {
             "outlinewidth": 0,
             "ticks": ""
            },
            "type": "mesh3d"
           }
          ],
          "parcoords": [
           {
            "line": {
             "colorbar": {
              "outlinewidth": 0,
              "ticks": ""
             }
            },
            "type": "parcoords"
           }
          ],
          "pie": [
           {
            "automargin": true,
            "type": "pie"
           }
          ],
          "scatter": [
           {
            "marker": {
             "colorbar": {
              "outlinewidth": 0,
              "ticks": ""
             }
            },
            "type": "scatter"
           }
          ],
          "scatter3d": [
           {
            "line": {
             "colorbar": {
              "outlinewidth": 0,
              "ticks": ""
             }
            },
            "marker": {
             "colorbar": {
              "outlinewidth": 0,
              "ticks": ""
             }
            },
            "type": "scatter3d"
           }
          ],
          "scattercarpet": [
           {
            "marker": {
             "colorbar": {
              "outlinewidth": 0,
              "ticks": ""
             }
            },
            "type": "scattercarpet"
           }
          ],
          "scattergeo": [
           {
            "marker": {
             "colorbar": {
              "outlinewidth": 0,
              "ticks": ""
             }
            },
            "type": "scattergeo"
           }
          ],
          "scattergl": [
           {
            "marker": {
             "colorbar": {
              "outlinewidth": 0,
              "ticks": ""
             }
            },
            "type": "scattergl"
           }
          ],
          "scattermapbox": [
           {
            "marker": {
             "colorbar": {
              "outlinewidth": 0,
              "ticks": ""
             }
            },
            "type": "scattermapbox"
           }
          ],
          "scatterpolar": [
           {
            "marker": {
             "colorbar": {
              "outlinewidth": 0,
              "ticks": ""
             }
            },
            "type": "scatterpolar"
           }
          ],
          "scatterpolargl": [
           {
            "marker": {
             "colorbar": {
              "outlinewidth": 0,
              "ticks": ""
             }
            },
            "type": "scatterpolargl"
           }
          ],
          "scatterternary": [
           {
            "marker": {
             "colorbar": {
              "outlinewidth": 0,
              "ticks": ""
             }
            },
            "type": "scatterternary"
           }
          ],
          "surface": [
           {
            "colorbar": {
             "outlinewidth": 0,
             "ticks": ""
            },
            "colorscale": [
             [
              0,
              "#0d0887"
             ],
             [
              0.1111111111111111,
              "#46039f"
             ],
             [
              0.2222222222222222,
              "#7201a8"
             ],
             [
              0.3333333333333333,
              "#9c179e"
             ],
             [
              0.4444444444444444,
              "#bd3786"
             ],
             [
              0.5555555555555556,
              "#d8576b"
             ],
             [
              0.6666666666666666,
              "#ed7953"
             ],
             [
              0.7777777777777778,
              "#fb9f3a"
             ],
             [
              0.8888888888888888,
              "#fdca26"
             ],
             [
              1,
              "#f0f921"
             ]
            ],
            "type": "surface"
           }
          ],
          "table": [
           {
            "cells": {
             "fill": {
              "color": "#EBF0F8"
             },
             "line": {
              "color": "white"
             }
            },
            "header": {
             "fill": {
              "color": "#C8D4E3"
             },
             "line": {
              "color": "white"
             }
            },
            "type": "table"
           }
          ]
         },
         "layout": {
          "annotationdefaults": {
           "arrowcolor": "#2a3f5f",
           "arrowhead": 0,
           "arrowwidth": 1
          },
          "autotypenumbers": "strict",
          "coloraxis": {
           "colorbar": {
            "outlinewidth": 0,
            "ticks": ""
           }
          },
          "colorscale": {
           "diverging": [
            [
             0,
             "#8e0152"
            ],
            [
             0.1,
             "#c51b7d"
            ],
            [
             0.2,
             "#de77ae"
            ],
            [
             0.3,
             "#f1b6da"
            ],
            [
             0.4,
             "#fde0ef"
            ],
            [
             0.5,
             "#f7f7f7"
            ],
            [
             0.6,
             "#e6f5d0"
            ],
            [
             0.7,
             "#b8e186"
            ],
            [
             0.8,
             "#7fbc41"
            ],
            [
             0.9,
             "#4d9221"
            ],
            [
             1,
             "#276419"
            ]
           ],
           "sequential": [
            [
             0,
             "#0d0887"
            ],
            [
             0.1111111111111111,
             "#46039f"
            ],
            [
             0.2222222222222222,
             "#7201a8"
            ],
            [
             0.3333333333333333,
             "#9c179e"
            ],
            [
             0.4444444444444444,
             "#bd3786"
            ],
            [
             0.5555555555555556,
             "#d8576b"
            ],
            [
             0.6666666666666666,
             "#ed7953"
            ],
            [
             0.7777777777777778,
             "#fb9f3a"
            ],
            [
             0.8888888888888888,
             "#fdca26"
            ],
            [
             1,
             "#f0f921"
            ]
           ],
           "sequentialminus": [
            [
             0,
             "#0d0887"
            ],
            [
             0.1111111111111111,
             "#46039f"
            ],
            [
             0.2222222222222222,
             "#7201a8"
            ],
            [
             0.3333333333333333,
             "#9c179e"
            ],
            [
             0.4444444444444444,
             "#bd3786"
            ],
            [
             0.5555555555555556,
             "#d8576b"
            ],
            [
             0.6666666666666666,
             "#ed7953"
            ],
            [
             0.7777777777777778,
             "#fb9f3a"
            ],
            [
             0.8888888888888888,
             "#fdca26"
            ],
            [
             1,
             "#f0f921"
            ]
           ]
          },
          "colorway": [
           "#636efa",
           "#EF553B",
           "#00cc96",
           "#ab63fa",
           "#FFA15A",
           "#19d3f3",
           "#FF6692",
           "#B6E880",
           "#FF97FF",
           "#FECB52"
          ],
          "font": {
           "color": "#2a3f5f"
          },
          "geo": {
           "bgcolor": "white",
           "lakecolor": "white",
           "landcolor": "#E5ECF6",
           "showlakes": true,
           "showland": true,
           "subunitcolor": "white"
          },
          "hoverlabel": {
           "align": "left"
          },
          "hovermode": "closest",
          "mapbox": {
           "style": "light"
          },
          "paper_bgcolor": "white",
          "plot_bgcolor": "#E5ECF6",
          "polar": {
           "angularaxis": {
            "gridcolor": "white",
            "linecolor": "white",
            "ticks": ""
           },
           "bgcolor": "#E5ECF6",
           "radialaxis": {
            "gridcolor": "white",
            "linecolor": "white",
            "ticks": ""
           }
          },
          "scene": {
           "xaxis": {
            "backgroundcolor": "#E5ECF6",
            "gridcolor": "white",
            "gridwidth": 2,
            "linecolor": "white",
            "showbackground": true,
            "ticks": "",
            "zerolinecolor": "white"
           },
           "yaxis": {
            "backgroundcolor": "#E5ECF6",
            "gridcolor": "white",
            "gridwidth": 2,
            "linecolor": "white",
            "showbackground": true,
            "ticks": "",
            "zerolinecolor": "white"
           },
           "zaxis": {
            "backgroundcolor": "#E5ECF6",
            "gridcolor": "white",
            "gridwidth": 2,
            "linecolor": "white",
            "showbackground": true,
            "ticks": "",
            "zerolinecolor": "white"
           }
          },
          "shapedefaults": {
           "line": {
            "color": "#2a3f5f"
           }
          },
          "ternary": {
           "aaxis": {
            "gridcolor": "white",
            "linecolor": "white",
            "ticks": ""
           },
           "baxis": {
            "gridcolor": "white",
            "linecolor": "white",
            "ticks": ""
           },
           "bgcolor": "#E5ECF6",
           "caxis": {
            "gridcolor": "white",
            "linecolor": "white",
            "ticks": ""
           }
          },
          "title": {
           "x": 0.05
          },
          "xaxis": {
           "automargin": true,
           "gridcolor": "white",
           "linecolor": "white",
           "ticks": "",
           "title": {
            "standoff": 15
           },
           "zerolinecolor": "white",
           "zerolinewidth": 2
          },
          "yaxis": {
           "automargin": true,
           "gridcolor": "white",
           "linecolor": "white",
           "ticks": "",
           "title": {
            "standoff": 15
           },
           "zerolinecolor": "white",
           "zerolinewidth": 2
          }
         }
        },
        "title": {
         "text": "Slice Plot"
        },
        "width": 2400,
        "xaxis": {
         "anchor": "y",
         "domain": [
          0,
          0.103125
         ],
         "title": {
          "text": "alpha"
         },
         "type": "log"
        },
        "xaxis2": {
         "anchor": "y2",
         "domain": [
          0.128125,
          0.23124999999999998
         ],
         "title": {
          "text": "colsample_bytree"
         }
        },
        "xaxis3": {
         "anchor": "y3",
         "domain": [
          0.25625,
          0.359375
         ],
         "title": {
          "text": "lambda"
         },
         "type": "log"
        },
        "xaxis4": {
         "anchor": "y4",
         "domain": [
          0.38437499999999997,
          0.48749999999999993
         ],
         "title": {
          "text": "learning_rate"
         }
        },
        "xaxis5": {
         "anchor": "y5",
         "domain": [
          0.5125,
          0.615625
         ],
         "title": {
          "text": "max_depth"
         }
        },
        "xaxis6": {
         "anchor": "y6",
         "domain": [
          0.640625,
          0.74375
         ],
         "title": {
          "text": "min_child_weight"
         }
        },
        "xaxis7": {
         "anchor": "y7",
         "domain": [
          0.76875,
          0.8718750000000001
         ],
         "title": {
          "text": "random_state"
         }
        },
        "xaxis8": {
         "anchor": "y8",
         "domain": [
          0.8968750000000001,
          1
         ],
         "title": {
          "text": "subsample"
         }
        },
        "yaxis": {
         "anchor": "x",
         "domain": [
          0,
          1
         ],
         "title": {
          "text": "Objective Value"
         }
        },
        "yaxis2": {
         "anchor": "x2",
         "domain": [
          0,
          1
         ],
         "matches": "y",
         "showticklabels": false
        },
        "yaxis3": {
         "anchor": "x3",
         "domain": [
          0,
          1
         ],
         "matches": "y",
         "showticklabels": false
        },
        "yaxis4": {
         "anchor": "x4",
         "domain": [
          0,
          1
         ],
         "matches": "y",
         "showticklabels": false
        },
        "yaxis5": {
         "anchor": "x5",
         "domain": [
          0,
          1
         ],
         "matches": "y",
         "showticklabels": false
        },
        "yaxis6": {
         "anchor": "x6",
         "domain": [
          0,
          1
         ],
         "matches": "y",
         "showticklabels": false
        },
        "yaxis7": {
         "anchor": "x7",
         "domain": [
          0,
          1
         ],
         "matches": "y",
         "showticklabels": false
        },
        "yaxis8": {
         "anchor": "x8",
         "domain": [
          0,
          1
         ],
         "matches": "y",
         "showticklabels": false
        }
       }
      },
      "text/html": [
       "<div>                        <script type=\"text/javascript\">window.PlotlyConfig = {MathJaxConfig: 'local'};</script>\n",
       "        <script src=\"https://cdn.plot.ly/plotly-2.9.0.min.js\"></script>                <div id=\"edd07d82-fd6d-4a7c-94ef-96ccb032c7ae\" class=\"plotly-graph-div\" style=\"height:100%; width:2400px;\"></div>            <script type=\"text/javascript\">                                    window.PLOTLYENV=window.PLOTLYENV || {};                                    if (document.getElementById(\"edd07d82-fd6d-4a7c-94ef-96ccb032c7ae\")) {                    Plotly.newPlot(                        \"edd07d82-fd6d-4a7c-94ef-96ccb032c7ae\",                        [{\"marker\":{\"color\":[0,1,2,3,4,5,6,7,8,9,10,11,12,13,14,15,16,17,18,19,20,21,22,23,24,25,26,27,28,29,30,31,32,33,34,35,36,37,38,39,40,41,42,43,44,45,46,47,48,49,50,51,52,53,54,55,56,57,58,59,60,61,62,63,64,65,66,67,68,69,70,71,72,73,74,75,76,77,78,79,80,81,82,83,84,85,86,87,88,89,90,91,92,93,94,95,96,97,98,99],\"colorbar\":{\"title\":{\"text\":\"#Trials\"},\"x\":1.0,\"xpad\":40},\"colorscale\":[[0.0,\"rgb(247,251,255)\"],[0.125,\"rgb(222,235,247)\"],[0.25,\"rgb(198,219,239)\"],[0.375,\"rgb(158,202,225)\"],[0.5,\"rgb(107,174,214)\"],[0.625,\"rgb(66,146,198)\"],[0.75,\"rgb(33,113,181)\"],[0.875,\"rgb(8,81,156)\"],[1.0,\"rgb(8,48,107)\"]],\"line\":{\"color\":\"Grey\",\"width\":0.5},\"showscale\":true},\"mode\":\"markers\",\"showlegend\":false,\"x\":[0.030006315982995347,0.26555305157784004,0.0645894253259178,0.00827216050714491,0.7979908270430242,0.003120862143950332,9.365732488053753,0.003107234380606034,0.007107763486780402,0.019968244404328296,1.5752157839017953,0.21784227964304967,0.11728014290550008,0.03555279196911771,0.49007281333471925,6.636644759115918,0.24374597676464185,1.0272588809615906,7.746912868689329,0.0010225619420774204,2.159962945566247,3.7474646404337286,0.0010875309661656125,0.018890644589866022,1.596767854589165,0.001446908202740603,0.011585937250213285,0.05604065385928456,0.003029841343212095,0.009776719171112344,0.06124477675881267,0.02024087122509124,0.0037720470597143833,0.03699846591458693,0.09057706373426617,3.7007688504350584,1.9799340425110414,3.8575502547542233,0.13454367347702806,0.5108230877431722,0.005152323076223047,0.0010126540514915012,0.012117147005862026,0.001969446890147256,0.044256780804760185,0.01397235376428202,0.0020616122745554097,0.005830174132505967,0.009369238606100916,0.025393374712171096,0.06445602566016048,0.027848765630663557,0.004229793435542233,0.0033424884267492854,0.018178243497225084,0.04151019221315457,0.10311366855703968,0.15496301172937424,0.18677611654686455,0.08876986086913032,0.30350897855286796,5.000912025613089,2.8458356001937077,9.736550502056042,0.459745615074255,1.2419723521317692,2.1982899997679404,0.7072156788279573,0.3170021717119763,0.8087605998570587,0.006382439481441425,0.0286656904143704,0.02633680229790936,0.002272828741733395,0.007852048262454954,0.004517712622095141,0.018413937353761588,0.02580181981595112,0.060770816080284853,0.041373212249370066,0.12257906036501441,0.19205215307816031,0.08484332509368335,0.18185470679281315,0.15067116526804425,0.3221753585283935,0.08347158725004297,5.4173751482776975,5.80467020429278,8.7045672681265,0.43435444925074446,1.3128922079187177,2.915395124345372,2.1332583507646086,0.7636370592555303,2.859403319617271,0.7888358640863529,1.1016191952946517,0.674615945103036,0.5889086042254222],\"y\":[0.7537128712871287,0.7537128712871287,0.7537128712871287,0.7537128712871287,0.7537128712871287,0.7537128712871287,0.7537128712871287,0.7537128712871287,0.7537128712871287,0.7537128712871287,0.7537128712871287,0.7537128712871287,0.7537128712871287,0.7537128712871287,0.7537128712871287,0.7537128712871287,0.7537128712871287,0.7537128712871287,0.7537128712871287,0.7537128712871287,0.7537128712871287,0.7537128712871287,0.7537128712871287,0.7537128712871287,0.7537128712871287,0.7537128712871287,0.7537128712871287,0.7537128712871287,0.7537128712871287,0.7537128712871287,0.7537128712871287,0.7537128712871287,0.7537128712871287,0.7537128712871287,0.7537128712871287,0.7537128712871287,0.7537128712871287,0.7537128712871287,0.7537128712871287,0.7537128712871287,0.7537128712871287,0.7537128712871287,0.7537128712871287,0.7537128712871287,0.7537128712871287,0.7537128712871287,0.7537128712871287,0.7537128712871287,0.7537128712871287,0.7537128712871287,0.7537128712871287,0.7537128712871287,0.7537128712871287,0.7537128712871287,0.7537128712871287,0.7537128712871287,0.7537128712871287,0.7537128712871287,0.7537128712871287,0.7537128712871287,0.7537128712871287,0.7537128712871287,0.7537128712871287,0.7537128712871287,0.7537128712871287,0.7537128712871287,0.7537128712871287,0.7537128712871287,0.7537128712871287,0.7537128712871287,0.7537128712871287,0.7537128712871287,0.7537128712871287,0.7537128712871287,0.7537128712871287,0.7537128712871287,0.7537128712871287,0.7537128712871287,0.7537128712871287,0.7537128712871287,0.7537128712871287,0.7537128712871287,0.7537128712871287,0.7537128712871287,0.7537128712871287,0.7537128712871287,0.7537128712871287,0.7537128712871287,0.7537128712871287,0.7537128712871287,0.7537128712871287,0.7537128712871287,0.7537128712871287,0.7537128712871287,0.7537128712871287,0.7537128712871287,0.7537128712871287,0.7537128712871287,0.7537128712871287,0.75],\"type\":\"scatter\",\"xaxis\":\"x\",\"yaxis\":\"y\"},{\"marker\":{\"color\":[0,1,2,3,4,5,6,7,8,9,10,11,12,13,14,15,16,17,18,19,20,21,22,23,24,25,26,27,28,29,30,31,32,33,34,35,36,37,38,39,40,41,42,43,44,45,46,47,48,49,50,51,52,53,54,55,56,57,58,59,60,61,62,63,64,65,66,67,68,69,70,71,72,73,74,75,76,77,78,79,80,81,82,83,84,85,86,87,88,89,90,91,92,93,94,95,96,97,98,99],\"colorbar\":{\"title\":{\"text\":\"#Trials\"},\"x\":1.0,\"xpad\":40},\"colorscale\":[[0.0,\"rgb(247,251,255)\"],[0.125,\"rgb(222,235,247)\"],[0.25,\"rgb(198,219,239)\"],[0.375,\"rgb(158,202,225)\"],[0.5,\"rgb(107,174,214)\"],[0.625,\"rgb(66,146,198)\"],[0.75,\"rgb(33,113,181)\"],[0.875,\"rgb(8,81,156)\"],[1.0,\"rgb(8,48,107)\"]],\"line\":{\"color\":\"Grey\",\"width\":0.5},\"showscale\":false},\"mode\":\"markers\",\"showlegend\":false,\"x\":[0.4,0.8,0.5,0.9,0.6,0.8,1.0,1.0,0.4,0.7,0.4,0.3,0.8,0.8,0.4,0.7,0.6,0.4,0.7,0.6,0.4,0.7,0.6,0.4,0.9,0.3,0.5,0.9,0.3,0.5,0.9,0.3,0.5,0.5,0.9,0.6,0.7,0.4,0.6,1.0,0.9,0.3,0.5,0.4,0.9,0.9,0.3,0.3,0.5,0.5,0.9,0.3,0.5,0.8,0.5,0.5,1.0,0.9,0.6,0.6,0.7,0.4,0.6,0.7,1.0,1.0,0.4,0.6,1.0,0.4,0.4,0.3,0.3,0.3,0.8,0.8,0.5,0.5,0.5,0.8,0.8,0.5,0.6,0.6,0.7,0.7,1.0,0.6,0.7,0.6,0.7,1.0,0.4,0.4,1.0,1.0,0.4,0.4,1.0,0.4],\"y\":[0.7537128712871287,0.7537128712871287,0.7537128712871287,0.7537128712871287,0.7537128712871287,0.7537128712871287,0.7537128712871287,0.7537128712871287,0.7537128712871287,0.7537128712871287,0.7537128712871287,0.7537128712871287,0.7537128712871287,0.7537128712871287,0.7537128712871287,0.7537128712871287,0.7537128712871287,0.7537128712871287,0.7537128712871287,0.7537128712871287,0.7537128712871287,0.7537128712871287,0.7537128712871287,0.7537128712871287,0.7537128712871287,0.7537128712871287,0.7537128712871287,0.7537128712871287,0.7537128712871287,0.7537128712871287,0.7537128712871287,0.7537128712871287,0.7537128712871287,0.7537128712871287,0.7537128712871287,0.7537128712871287,0.7537128712871287,0.7537128712871287,0.7537128712871287,0.7537128712871287,0.7537128712871287,0.7537128712871287,0.7537128712871287,0.7537128712871287,0.7537128712871287,0.7537128712871287,0.7537128712871287,0.7537128712871287,0.7537128712871287,0.7537128712871287,0.7537128712871287,0.7537128712871287,0.7537128712871287,0.7537128712871287,0.7537128712871287,0.7537128712871287,0.7537128712871287,0.7537128712871287,0.7537128712871287,0.7537128712871287,0.7537128712871287,0.7537128712871287,0.7537128712871287,0.7537128712871287,0.7537128712871287,0.7537128712871287,0.7537128712871287,0.7537128712871287,0.7537128712871287,0.7537128712871287,0.7537128712871287,0.7537128712871287,0.7537128712871287,0.7537128712871287,0.7537128712871287,0.7537128712871287,0.7537128712871287,0.7537128712871287,0.7537128712871287,0.7537128712871287,0.7537128712871287,0.7537128712871287,0.7537128712871287,0.7537128712871287,0.7537128712871287,0.7537128712871287,0.7537128712871287,0.7537128712871287,0.7537128712871287,0.7537128712871287,0.7537128712871287,0.7537128712871287,0.7537128712871287,0.7537128712871287,0.7537128712871287,0.7537128712871287,0.7537128712871287,0.7537128712871287,0.7537128712871287,0.75],\"type\":\"scatter\",\"xaxis\":\"x2\",\"yaxis\":\"y2\"},{\"marker\":{\"color\":[0,1,2,3,4,5,6,7,8,9,10,11,12,13,14,15,16,17,18,19,20,21,22,23,24,25,26,27,28,29,30,31,32,33,34,35,36,37,38,39,40,41,42,43,44,45,46,47,48,49,50,51,52,53,54,55,56,57,58,59,60,61,62,63,64,65,66,67,68,69,70,71,72,73,74,75,76,77,78,79,80,81,82,83,84,85,86,87,88,89,90,91,92,93,94,95,96,97,98,99],\"colorbar\":{\"title\":{\"text\":\"#Trials\"},\"x\":1.0,\"xpad\":40},\"colorscale\":[[0.0,\"rgb(247,251,255)\"],[0.125,\"rgb(222,235,247)\"],[0.25,\"rgb(198,219,239)\"],[0.375,\"rgb(158,202,225)\"],[0.5,\"rgb(107,174,214)\"],[0.625,\"rgb(66,146,198)\"],[0.75,\"rgb(33,113,181)\"],[0.875,\"rgb(8,81,156)\"],[1.0,\"rgb(8,48,107)\"]],\"line\":{\"color\":\"Grey\",\"width\":0.5},\"showscale\":false},\"mode\":\"markers\",\"showlegend\":false,\"x\":[0.13504936679151183,0.4054900151722544,2.6296737089567865,0.08675960106666937,3.096509679257949,0.0053486285897926585,0.09680322889067616,0.9269896766605651,0.5369687458500214,0.0014738994710886784,0.006957281733916239,0.27742679516849383,0.03673145934993262,0.027411332503706098,0.29825042820331277,6.528347778451198,1.5720917256879356,0.18114903394868076,3.6667254453299,1.0687130376961105,0.02621449888879999,9.308532653318585,1.122589112088486,0.028884112063921316,0.010348621697944637,9.625095024254593,0.04222865737130896,0.007924665202323187,0.0024661340873354375,0.07207437204147428,0.017235297201873646,0.00262792878800882,0.00323157318722977,0.0010471861112163114,0.014263868075799198,1.8393684204094143,0.5917955025045832,0.17750945109475172,3.735843997183287,6.092575603671957,0.05265322902617164,0.14233164045296412,0.011445736272495396,0.053814227468026166,0.007495553616436855,0.005426254798912445,0.0022844867093157347,0.0032888781174961095,0.08127412206535402,0.07638399900425727,0.01994105696298115,0.0020986739493332645,0.0040905277224402015,0.0029477225793023915,0.0012224640113410862,0.0014213764579488278,0.0010678580996099619,0.014173621145526677,0.004815507186517771,0.6353852273780394,0.374106698074678,0.18956741336445082,1.6088439993249817,3.5322594963247003,5.338552399903572,2.5524249910644414,2.217789283891718,0.5850317927846144,0.1370328907758072,0.13178453334356327,0.2674733963263331,0.002065269098313385,0.001774551426149005,0.003944300594835432,0.08286731000518344,0.02191830976518955,0.001456888173862838,0.10533572351453953,0.001617587977384513,0.0010195537836639535,0.0012143042908238349,0.004595926034651314,0.0030962927642743166,0.006014476937057609,0.3471759525923892,0.0013519231831236977,0.2437998214132617,0.44046770411386604,0.7673515348181154,1.0916879720738561,4.953827384638132,2.825602637603427,1.9055527866887916,1.5521304888360563,2.206254344847714,3.474408873059638,4.78883494360768,1.3694139053187433,0.12589632770423845,0.2482591832463003],\"y\":[0.7537128712871287,0.7537128712871287,0.7537128712871287,0.7537128712871287,0.7537128712871287,0.7537128712871287,0.7537128712871287,0.7537128712871287,0.7537128712871287,0.7537128712871287,0.7537128712871287,0.7537128712871287,0.7537128712871287,0.7537128712871287,0.7537128712871287,0.7537128712871287,0.7537128712871287,0.7537128712871287,0.7537128712871287,0.7537128712871287,0.7537128712871287,0.7537128712871287,0.7537128712871287,0.7537128712871287,0.7537128712871287,0.7537128712871287,0.7537128712871287,0.7537128712871287,0.7537128712871287,0.7537128712871287,0.7537128712871287,0.7537128712871287,0.7537128712871287,0.7537128712871287,0.7537128712871287,0.7537128712871287,0.7537128712871287,0.7537128712871287,0.7537128712871287,0.7537128712871287,0.7537128712871287,0.7537128712871287,0.7537128712871287,0.7537128712871287,0.7537128712871287,0.7537128712871287,0.7537128712871287,0.7537128712871287,0.7537128712871287,0.7537128712871287,0.7537128712871287,0.7537128712871287,0.7537128712871287,0.7537128712871287,0.7537128712871287,0.7537128712871287,0.7537128712871287,0.7537128712871287,0.7537128712871287,0.7537128712871287,0.7537128712871287,0.7537128712871287,0.7537128712871287,0.7537128712871287,0.7537128712871287,0.7537128712871287,0.7537128712871287,0.7537128712871287,0.7537128712871287,0.7537128712871287,0.7537128712871287,0.7537128712871287,0.7537128712871287,0.7537128712871287,0.7537128712871287,0.7537128712871287,0.7537128712871287,0.7537128712871287,0.7537128712871287,0.7537128712871287,0.7537128712871287,0.7537128712871287,0.7537128712871287,0.7537128712871287,0.7537128712871287,0.7537128712871287,0.7537128712871287,0.7537128712871287,0.7537128712871287,0.7537128712871287,0.7537128712871287,0.7537128712871287,0.7537128712871287,0.7537128712871287,0.7537128712871287,0.7537128712871287,0.7537128712871287,0.7537128712871287,0.7537128712871287,0.75],\"type\":\"scatter\",\"xaxis\":\"x3\",\"yaxis\":\"y3\"},{\"marker\":{\"color\":[0,1,2,3,4,5,6,7,8,9,10,11,12,13,14,15,16,17,18,19,20,21,22,23,24,25,26,27,28,29,30,31,32,33,34,35,36,37,38,39,40,41,42,43,44,45,46,47,48,49,50,51,52,53,54,55,56,57,58,59,60,61,62,63,64,65,66,67,68,69,70,71,72,73,74,75,76,77,78,79,80,81,82,83,84,85,86,87,88,89,90,91,92,93,94,95,96,97,98,99],\"colorbar\":{\"title\":{\"text\":\"#Trials\"},\"x\":1.0,\"xpad\":40},\"colorscale\":[[0.0,\"rgb(247,251,255)\"],[0.125,\"rgb(222,235,247)\"],[0.25,\"rgb(198,219,239)\"],[0.375,\"rgb(158,202,225)\"],[0.5,\"rgb(107,174,214)\"],[0.625,\"rgb(66,146,198)\"],[0.75,\"rgb(33,113,181)\"],[0.875,\"rgb(8,81,156)\"],[1.0,\"rgb(8,48,107)\"]],\"line\":{\"color\":\"Grey\",\"width\":0.5},\"showscale\":false},\"mode\":\"markers\",\"showlegend\":false,\"x\":[0.008,0.012,0.012,0.016,0.009,0.014,0.01,0.012,0.018,0.012,0.008,0.02,0.008,0.008,0.014,0.016,0.009,0.014,0.016,0.009,0.014,0.016,0.009,0.02,0.01,0.018,0.02,0.01,0.018,0.018,0.01,0.02,0.018,0.018,0.01,0.016,0.009,0.014,0.02,0.008,0.009,0.01,0.02,0.02,0.01,0.01,0.018,0.018,0.012,0.008,0.01,0.018,0.018,0.018,0.018,0.008,0.01,0.012,0.016,0.016,0.009,0.014,0.014,0.014,0.008,0.008,0.009,0.009,0.009,0.008,0.02,0.018,0.012,0.018,0.012,0.018,0.018,0.012,0.008,0.018,0.018,0.016,0.016,0.016,0.016,0.016,0.014,0.014,0.014,0.014,0.014,0.008,0.009,0.008,0.009,0.009,0.008,0.008,0.009,0.008],\"y\":[0.7537128712871287,0.7537128712871287,0.7537128712871287,0.7537128712871287,0.7537128712871287,0.7537128712871287,0.7537128712871287,0.7537128712871287,0.7537128712871287,0.7537128712871287,0.7537128712871287,0.7537128712871287,0.7537128712871287,0.7537128712871287,0.7537128712871287,0.7537128712871287,0.7537128712871287,0.7537128712871287,0.7537128712871287,0.7537128712871287,0.7537128712871287,0.7537128712871287,0.7537128712871287,0.7537128712871287,0.7537128712871287,0.7537128712871287,0.7537128712871287,0.7537128712871287,0.7537128712871287,0.7537128712871287,0.7537128712871287,0.7537128712871287,0.7537128712871287,0.7537128712871287,0.7537128712871287,0.7537128712871287,0.7537128712871287,0.7537128712871287,0.7537128712871287,0.7537128712871287,0.7537128712871287,0.7537128712871287,0.7537128712871287,0.7537128712871287,0.7537128712871287,0.7537128712871287,0.7537128712871287,0.7537128712871287,0.7537128712871287,0.7537128712871287,0.7537128712871287,0.7537128712871287,0.7537128712871287,0.7537128712871287,0.7537128712871287,0.7537128712871287,0.7537128712871287,0.7537128712871287,0.7537128712871287,0.7537128712871287,0.7537128712871287,0.7537128712871287,0.7537128712871287,0.7537128712871287,0.7537128712871287,0.7537128712871287,0.7537128712871287,0.7537128712871287,0.7537128712871287,0.7537128712871287,0.7537128712871287,0.7537128712871287,0.7537128712871287,0.7537128712871287,0.7537128712871287,0.7537128712871287,0.7537128712871287,0.7537128712871287,0.7537128712871287,0.7537128712871287,0.7537128712871287,0.7537128712871287,0.7537128712871287,0.7537128712871287,0.7537128712871287,0.7537128712871287,0.7537128712871287,0.7537128712871287,0.7537128712871287,0.7537128712871287,0.7537128712871287,0.7537128712871287,0.7537128712871287,0.7537128712871287,0.7537128712871287,0.7537128712871287,0.7537128712871287,0.7537128712871287,0.7537128712871287,0.75],\"type\":\"scatter\",\"xaxis\":\"x4\",\"yaxis\":\"y4\"},{\"marker\":{\"color\":[0,1,2,3,4,5,6,7,8,9,10,11,12,13,14,15,16,17,18,19,20,21,22,23,24,25,26,27,28,29,30,31,32,33,34,35,36,37,38,39,40,41,42,43,44,45,46,47,48,49,50,51,52,53,54,55,56,57,58,59,60,61,62,63,64,65,66,67,68,69,70,71,72,73,74,75,76,77,78,79,80,81,82,83,84,85,86,87,88,89,90,91,92,93,94,95,96,97,98,99],\"colorbar\":{\"title\":{\"text\":\"#Trials\"},\"x\":1.0,\"xpad\":40},\"colorscale\":[[0.0,\"rgb(247,251,255)\"],[0.125,\"rgb(222,235,247)\"],[0.25,\"rgb(198,219,239)\"],[0.375,\"rgb(158,202,225)\"],[0.5,\"rgb(107,174,214)\"],[0.625,\"rgb(66,146,198)\"],[0.75,\"rgb(33,113,181)\"],[0.875,\"rgb(8,81,156)\"],[1.0,\"rgb(8,48,107)\"]],\"line\":{\"color\":\"Grey\",\"width\":0.5},\"showscale\":false},\"mode\":\"markers\",\"showlegend\":false,\"x\":[20,20,5,17,5,7,17,9,13,7,11,20,20,20,15,20,20,15,9,11,15,9,11,15,9,11,13,9,11,13,13,13,11,13,13,5,15,17,7,9,5,11,15,17,9,9,11,11,13,13,20,13,13,13,13,13,13,20,5,5,5,17,7,7,17,7,5,5,15,17,7,20,20,11,13,13,13,13,13,13,20,13,5,20,5,5,5,5,7,7,17,7,7,17,5,15,17,17,7,7],\"y\":[0.7537128712871287,0.7537128712871287,0.7537128712871287,0.7537128712871287,0.7537128712871287,0.7537128712871287,0.7537128712871287,0.7537128712871287,0.7537128712871287,0.7537128712871287,0.7537128712871287,0.7537128712871287,0.7537128712871287,0.7537128712871287,0.7537128712871287,0.7537128712871287,0.7537128712871287,0.7537128712871287,0.7537128712871287,0.7537128712871287,0.7537128712871287,0.7537128712871287,0.7537128712871287,0.7537128712871287,0.7537128712871287,0.7537128712871287,0.7537128712871287,0.7537128712871287,0.7537128712871287,0.7537128712871287,0.7537128712871287,0.7537128712871287,0.7537128712871287,0.7537128712871287,0.7537128712871287,0.7537128712871287,0.7537128712871287,0.7537128712871287,0.7537128712871287,0.7537128712871287,0.7537128712871287,0.7537128712871287,0.7537128712871287,0.7537128712871287,0.7537128712871287,0.7537128712871287,0.7537128712871287,0.7537128712871287,0.7537128712871287,0.7537128712871287,0.7537128712871287,0.7537128712871287,0.7537128712871287,0.7537128712871287,0.7537128712871287,0.7537128712871287,0.7537128712871287,0.7537128712871287,0.7537128712871287,0.7537128712871287,0.7537128712871287,0.7537128712871287,0.7537128712871287,0.7537128712871287,0.7537128712871287,0.7537128712871287,0.7537128712871287,0.7537128712871287,0.7537128712871287,0.7537128712871287,0.7537128712871287,0.7537128712871287,0.7537128712871287,0.7537128712871287,0.7537128712871287,0.7537128712871287,0.7537128712871287,0.7537128712871287,0.7537128712871287,0.7537128712871287,0.7537128712871287,0.7537128712871287,0.7537128712871287,0.7537128712871287,0.7537128712871287,0.7537128712871287,0.7537128712871287,0.7537128712871287,0.7537128712871287,0.7537128712871287,0.7537128712871287,0.7537128712871287,0.7537128712871287,0.7537128712871287,0.7537128712871287,0.7537128712871287,0.7537128712871287,0.7537128712871287,0.7537128712871287,0.75],\"type\":\"scatter\",\"xaxis\":\"x5\",\"yaxis\":\"y5\"},{\"marker\":{\"color\":[0,1,2,3,4,5,6,7,8,9,10,11,12,13,14,15,16,17,18,19,20,21,22,23,24,25,26,27,28,29,30,31,32,33,34,35,36,37,38,39,40,41,42,43,44,45,46,47,48,49,50,51,52,53,54,55,56,57,58,59,60,61,62,63,64,65,66,67,68,69,70,71,72,73,74,75,76,77,78,79,80,81,82,83,84,85,86,87,88,89,90,91,92,93,94,95,96,97,98,99],\"colorbar\":{\"title\":{\"text\":\"#Trials\"},\"x\":1.0,\"xpad\":40},\"colorscale\":[[0.0,\"rgb(247,251,255)\"],[0.125,\"rgb(222,235,247)\"],[0.25,\"rgb(198,219,239)\"],[0.375,\"rgb(158,202,225)\"],[0.5,\"rgb(107,174,214)\"],[0.625,\"rgb(66,146,198)\"],[0.75,\"rgb(33,113,181)\"],[0.875,\"rgb(8,81,156)\"],[1.0,\"rgb(8,48,107)\"]],\"line\":{\"color\":\"Grey\",\"width\":0.5},\"showscale\":false},\"mode\":\"markers\",\"showlegend\":false,\"x\":[256,48,134,239,26,23,285,240,117,272,200,82,173,72,195,80,114,201,157,109,239,165,146,241,296,166,264,258,298,218,269,261,218,289,225,103,129,144,187,7,251,180,283,276,300,256,227,263,212,244,274,284,225,209,231,269,251,287,99,195,46,131,133,182,146,11,59,96,181,123,154,248,235,279,206,214,232,244,271,253,289,290,203,195,77,44,87,130,138,162,144,18,49,66,37,61,114,171,155,1],\"y\":[0.7537128712871287,0.7537128712871287,0.7537128712871287,0.7537128712871287,0.7537128712871287,0.7537128712871287,0.7537128712871287,0.7537128712871287,0.7537128712871287,0.7537128712871287,0.7537128712871287,0.7537128712871287,0.7537128712871287,0.7537128712871287,0.7537128712871287,0.7537128712871287,0.7537128712871287,0.7537128712871287,0.7537128712871287,0.7537128712871287,0.7537128712871287,0.7537128712871287,0.7537128712871287,0.7537128712871287,0.7537128712871287,0.7537128712871287,0.7537128712871287,0.7537128712871287,0.7537128712871287,0.7537128712871287,0.7537128712871287,0.7537128712871287,0.7537128712871287,0.7537128712871287,0.7537128712871287,0.7537128712871287,0.7537128712871287,0.7537128712871287,0.7537128712871287,0.7537128712871287,0.7537128712871287,0.7537128712871287,0.7537128712871287,0.7537128712871287,0.7537128712871287,0.7537128712871287,0.7537128712871287,0.7537128712871287,0.7537128712871287,0.7537128712871287,0.7537128712871287,0.7537128712871287,0.7537128712871287,0.7537128712871287,0.7537128712871287,0.7537128712871287,0.7537128712871287,0.7537128712871287,0.7537128712871287,0.7537128712871287,0.7537128712871287,0.7537128712871287,0.7537128712871287,0.7537128712871287,0.7537128712871287,0.7537128712871287,0.7537128712871287,0.7537128712871287,0.7537128712871287,0.7537128712871287,0.7537128712871287,0.7537128712871287,0.7537128712871287,0.7537128712871287,0.7537128712871287,0.7537128712871287,0.7537128712871287,0.7537128712871287,0.7537128712871287,0.7537128712871287,0.7537128712871287,0.7537128712871287,0.7537128712871287,0.7537128712871287,0.7537128712871287,0.7537128712871287,0.7537128712871287,0.7537128712871287,0.7537128712871287,0.7537128712871287,0.7537128712871287,0.7537128712871287,0.7537128712871287,0.7537128712871287,0.7537128712871287,0.7537128712871287,0.7537128712871287,0.7537128712871287,0.7537128712871287,0.75],\"type\":\"scatter\",\"xaxis\":\"x6\",\"yaxis\":\"y6\"},{\"marker\":{\"color\":[0,1,2,3,4,5,6,7,8,9,10,11,12,13,14,15,16,17,18,19,20,21,22,23,24,25,26,27,28,29,30,31,32,33,34,35,36,37,38,39,40,41,42,43,44,45,46,47,48,49,50,51,52,53,54,55,56,57,58,59,60,61,62,63,64,65,66,67,68,69,70,71,72,73,74,75,76,77,78,79,80,81,82,83,84,85,86,87,88,89,90,91,92,93,94,95,96,97,98,99],\"colorbar\":{\"title\":{\"text\":\"#Trials\"},\"x\":1.0,\"xpad\":40},\"colorscale\":[[0.0,\"rgb(247,251,255)\"],[0.125,\"rgb(222,235,247)\"],[0.25,\"rgb(198,219,239)\"],[0.375,\"rgb(158,202,225)\"],[0.5,\"rgb(107,174,214)\"],[0.625,\"rgb(66,146,198)\"],[0.75,\"rgb(33,113,181)\"],[0.875,\"rgb(8,81,156)\"],[1.0,\"rgb(8,48,107)\"]],\"line\":{\"color\":\"Grey\",\"width\":0.5},\"showscale\":false},\"mode\":\"markers\",\"showlegend\":false,\"x\":[24,48,48,24,48,48,48,48,48,48,24,2020,24,2020,24,24,2020,24,24,2020,24,24,2020,2020,24,2020,2020,24,24,2020,24,24,24,24,24,24,24,2020,2020,2020,2020,2020,2020,2020,48,48,24,24,48,24,24,24,24,24,24,24,24,24,24,24,24,24,2020,2020,2020,2020,2020,2020,2020,2020,2020,48,48,24,48,24,24,24,24,24,24,24,24,24,24,24,24,24,24,24,2020,2020,2020,2020,2020,2020,2020,2020,2020,2020],\"y\":[0.7537128712871287,0.7537128712871287,0.7537128712871287,0.7537128712871287,0.7537128712871287,0.7537128712871287,0.7537128712871287,0.7537128712871287,0.7537128712871287,0.7537128712871287,0.7537128712871287,0.7537128712871287,0.7537128712871287,0.7537128712871287,0.7537128712871287,0.7537128712871287,0.7537128712871287,0.7537128712871287,0.7537128712871287,0.7537128712871287,0.7537128712871287,0.7537128712871287,0.7537128712871287,0.7537128712871287,0.7537128712871287,0.7537128712871287,0.7537128712871287,0.7537128712871287,0.7537128712871287,0.7537128712871287,0.7537128712871287,0.7537128712871287,0.7537128712871287,0.7537128712871287,0.7537128712871287,0.7537128712871287,0.7537128712871287,0.7537128712871287,0.7537128712871287,0.7537128712871287,0.7537128712871287,0.7537128712871287,0.7537128712871287,0.7537128712871287,0.7537128712871287,0.7537128712871287,0.7537128712871287,0.7537128712871287,0.7537128712871287,0.7537128712871287,0.7537128712871287,0.7537128712871287,0.7537128712871287,0.7537128712871287,0.7537128712871287,0.7537128712871287,0.7537128712871287,0.7537128712871287,0.7537128712871287,0.7537128712871287,0.7537128712871287,0.7537128712871287,0.7537128712871287,0.7537128712871287,0.7537128712871287,0.7537128712871287,0.7537128712871287,0.7537128712871287,0.7537128712871287,0.7537128712871287,0.7537128712871287,0.7537128712871287,0.7537128712871287,0.7537128712871287,0.7537128712871287,0.7537128712871287,0.7537128712871287,0.7537128712871287,0.7537128712871287,0.7537128712871287,0.7537128712871287,0.7537128712871287,0.7537128712871287,0.7537128712871287,0.7537128712871287,0.7537128712871287,0.7537128712871287,0.7537128712871287,0.7537128712871287,0.7537128712871287,0.7537128712871287,0.7537128712871287,0.7537128712871287,0.7537128712871287,0.7537128712871287,0.7537128712871287,0.7537128712871287,0.7537128712871287,0.7537128712871287,0.75],\"type\":\"scatter\",\"xaxis\":\"x7\",\"yaxis\":\"y7\"},{\"marker\":{\"color\":[0,1,2,3,4,5,6,7,8,9,10,11,12,13,14,15,16,17,18,19,20,21,22,23,24,25,26,27,28,29,30,31,32,33,34,35,36,37,38,39,40,41,42,43,44,45,46,47,48,49,50,51,52,53,54,55,56,57,58,59,60,61,62,63,64,65,66,67,68,69,70,71,72,73,74,75,76,77,78,79,80,81,82,83,84,85,86,87,88,89,90,91,92,93,94,95,96,97,98,99],\"colorbar\":{\"title\":{\"text\":\"#Trials\"},\"x\":1.0,\"xpad\":40},\"colorscale\":[[0.0,\"rgb(247,251,255)\"],[0.125,\"rgb(222,235,247)\"],[0.25,\"rgb(198,219,239)\"],[0.375,\"rgb(158,202,225)\"],[0.5,\"rgb(107,174,214)\"],[0.625,\"rgb(66,146,198)\"],[0.75,\"rgb(33,113,181)\"],[0.875,\"rgb(8,81,156)\"],[1.0,\"rgb(8,48,107)\"]],\"line\":{\"color\":\"Grey\",\"width\":0.5},\"showscale\":false},\"mode\":\"markers\",\"showlegend\":false,\"x\":[0.4,0.4,1.0,0.4,0.7,0.7,0.5,0.6,0.7,0.4,0.8,0.4,0.4,0.4,1.0,0.8,0.5,1.0,0.8,0.5,1.0,0.8,0.5,0.6,1.0,0.5,0.6,0.6,0.5,0.6,0.6,0.6,0.6,0.6,0.6,0.8,1.0,0.8,0.7,0.4,1.0,0.5,0.6,0.4,0.7,1.0,0.5,0.5,0.6,0.6,0.4,0.6,0.6,0.6,0.6,0.6,0.6,0.6,0.8,0.8,1.0,0.8,0.7,0.7,0.4,0.4,1.0,0.8,1.0,0.4,0.7,0.5,0.5,0.5,0.6,0.6,0.6,0.6,0.6,0.4,0.6,0.6,0.8,0.8,0.8,0.8,0.8,0.7,0.7,0.7,0.7,0.4,1.0,0.4,0.4,1.0,0.4,0.4,0.7,0.4],\"y\":[0.7537128712871287,0.7537128712871287,0.7537128712871287,0.7537128712871287,0.7537128712871287,0.7537128712871287,0.7537128712871287,0.7537128712871287,0.7537128712871287,0.7537128712871287,0.7537128712871287,0.7537128712871287,0.7537128712871287,0.7537128712871287,0.7537128712871287,0.7537128712871287,0.7537128712871287,0.7537128712871287,0.7537128712871287,0.7537128712871287,0.7537128712871287,0.7537128712871287,0.7537128712871287,0.7537128712871287,0.7537128712871287,0.7537128712871287,0.7537128712871287,0.7537128712871287,0.7537128712871287,0.7537128712871287,0.7537128712871287,0.7537128712871287,0.7537128712871287,0.7537128712871287,0.7537128712871287,0.7537128712871287,0.7537128712871287,0.7537128712871287,0.7537128712871287,0.7537128712871287,0.7537128712871287,0.7537128712871287,0.7537128712871287,0.7537128712871287,0.7537128712871287,0.7537128712871287,0.7537128712871287,0.7537128712871287,0.7537128712871287,0.7537128712871287,0.7537128712871287,0.7537128712871287,0.7537128712871287,0.7537128712871287,0.7537128712871287,0.7537128712871287,0.7537128712871287,0.7537128712871287,0.7537128712871287,0.7537128712871287,0.7537128712871287,0.7537128712871287,0.7537128712871287,0.7537128712871287,0.7537128712871287,0.7537128712871287,0.7537128712871287,0.7537128712871287,0.7537128712871287,0.7537128712871287,0.7537128712871287,0.7537128712871287,0.7537128712871287,0.7537128712871287,0.7537128712871287,0.7537128712871287,0.7537128712871287,0.7537128712871287,0.7537128712871287,0.7537128712871287,0.7537128712871287,0.7537128712871287,0.7537128712871287,0.7537128712871287,0.7537128712871287,0.7537128712871287,0.7537128712871287,0.7537128712871287,0.7537128712871287,0.7537128712871287,0.7537128712871287,0.7537128712871287,0.7537128712871287,0.7537128712871287,0.7537128712871287,0.7537128712871287,0.7537128712871287,0.7537128712871287,0.7537128712871287,0.75],\"type\":\"scatter\",\"xaxis\":\"x8\",\"yaxis\":\"y8\"}],                        {\"template\":{\"data\":{\"bar\":[{\"error_x\":{\"color\":\"#2a3f5f\"},\"error_y\":{\"color\":\"#2a3f5f\"},\"marker\":{\"line\":{\"color\":\"#E5ECF6\",\"width\":0.5},\"pattern\":{\"fillmode\":\"overlay\",\"size\":10,\"solidity\":0.2}},\"type\":\"bar\"}],\"barpolar\":[{\"marker\":{\"line\":{\"color\":\"#E5ECF6\",\"width\":0.5},\"pattern\":{\"fillmode\":\"overlay\",\"size\":10,\"solidity\":0.2}},\"type\":\"barpolar\"}],\"carpet\":[{\"aaxis\":{\"endlinecolor\":\"#2a3f5f\",\"gridcolor\":\"white\",\"linecolor\":\"white\",\"minorgridcolor\":\"white\",\"startlinecolor\":\"#2a3f5f\"},\"baxis\":{\"endlinecolor\":\"#2a3f5f\",\"gridcolor\":\"white\",\"linecolor\":\"white\",\"minorgridcolor\":\"white\",\"startlinecolor\":\"#2a3f5f\"},\"type\":\"carpet\"}],\"choropleth\":[{\"colorbar\":{\"outlinewidth\":0,\"ticks\":\"\"},\"type\":\"choropleth\"}],\"contour\":[{\"colorbar\":{\"outlinewidth\":0,\"ticks\":\"\"},\"colorscale\":[[0.0,\"#0d0887\"],[0.1111111111111111,\"#46039f\"],[0.2222222222222222,\"#7201a8\"],[0.3333333333333333,\"#9c179e\"],[0.4444444444444444,\"#bd3786\"],[0.5555555555555556,\"#d8576b\"],[0.6666666666666666,\"#ed7953\"],[0.7777777777777778,\"#fb9f3a\"],[0.8888888888888888,\"#fdca26\"],[1.0,\"#f0f921\"]],\"type\":\"contour\"}],\"contourcarpet\":[{\"colorbar\":{\"outlinewidth\":0,\"ticks\":\"\"},\"type\":\"contourcarpet\"}],\"heatmap\":[{\"colorbar\":{\"outlinewidth\":0,\"ticks\":\"\"},\"colorscale\":[[0.0,\"#0d0887\"],[0.1111111111111111,\"#46039f\"],[0.2222222222222222,\"#7201a8\"],[0.3333333333333333,\"#9c179e\"],[0.4444444444444444,\"#bd3786\"],[0.5555555555555556,\"#d8576b\"],[0.6666666666666666,\"#ed7953\"],[0.7777777777777778,\"#fb9f3a\"],[0.8888888888888888,\"#fdca26\"],[1.0,\"#f0f921\"]],\"type\":\"heatmap\"}],\"heatmapgl\":[{\"colorbar\":{\"outlinewidth\":0,\"ticks\":\"\"},\"colorscale\":[[0.0,\"#0d0887\"],[0.1111111111111111,\"#46039f\"],[0.2222222222222222,\"#7201a8\"],[0.3333333333333333,\"#9c179e\"],[0.4444444444444444,\"#bd3786\"],[0.5555555555555556,\"#d8576b\"],[0.6666666666666666,\"#ed7953\"],[0.7777777777777778,\"#fb9f3a\"],[0.8888888888888888,\"#fdca26\"],[1.0,\"#f0f921\"]],\"type\":\"heatmapgl\"}],\"histogram\":[{\"marker\":{\"pattern\":{\"fillmode\":\"overlay\",\"size\":10,\"solidity\":0.2}},\"type\":\"histogram\"}],\"histogram2d\":[{\"colorbar\":{\"outlinewidth\":0,\"ticks\":\"\"},\"colorscale\":[[0.0,\"#0d0887\"],[0.1111111111111111,\"#46039f\"],[0.2222222222222222,\"#7201a8\"],[0.3333333333333333,\"#9c179e\"],[0.4444444444444444,\"#bd3786\"],[0.5555555555555556,\"#d8576b\"],[0.6666666666666666,\"#ed7953\"],[0.7777777777777778,\"#fb9f3a\"],[0.8888888888888888,\"#fdca26\"],[1.0,\"#f0f921\"]],\"type\":\"histogram2d\"}],\"histogram2dcontour\":[{\"colorbar\":{\"outlinewidth\":0,\"ticks\":\"\"},\"colorscale\":[[0.0,\"#0d0887\"],[0.1111111111111111,\"#46039f\"],[0.2222222222222222,\"#7201a8\"],[0.3333333333333333,\"#9c179e\"],[0.4444444444444444,\"#bd3786\"],[0.5555555555555556,\"#d8576b\"],[0.6666666666666666,\"#ed7953\"],[0.7777777777777778,\"#fb9f3a\"],[0.8888888888888888,\"#fdca26\"],[1.0,\"#f0f921\"]],\"type\":\"histogram2dcontour\"}],\"mesh3d\":[{\"colorbar\":{\"outlinewidth\":0,\"ticks\":\"\"},\"type\":\"mesh3d\"}],\"parcoords\":[{\"line\":{\"colorbar\":{\"outlinewidth\":0,\"ticks\":\"\"}},\"type\":\"parcoords\"}],\"pie\":[{\"automargin\":true,\"type\":\"pie\"}],\"scatter\":[{\"marker\":{\"colorbar\":{\"outlinewidth\":0,\"ticks\":\"\"}},\"type\":\"scatter\"}],\"scatter3d\":[{\"line\":{\"colorbar\":{\"outlinewidth\":0,\"ticks\":\"\"}},\"marker\":{\"colorbar\":{\"outlinewidth\":0,\"ticks\":\"\"}},\"type\":\"scatter3d\"}],\"scattercarpet\":[{\"marker\":{\"colorbar\":{\"outlinewidth\":0,\"ticks\":\"\"}},\"type\":\"scattercarpet\"}],\"scattergeo\":[{\"marker\":{\"colorbar\":{\"outlinewidth\":0,\"ticks\":\"\"}},\"type\":\"scattergeo\"}],\"scattergl\":[{\"marker\":{\"colorbar\":{\"outlinewidth\":0,\"ticks\":\"\"}},\"type\":\"scattergl\"}],\"scattermapbox\":[{\"marker\":{\"colorbar\":{\"outlinewidth\":0,\"ticks\":\"\"}},\"type\":\"scattermapbox\"}],\"scatterpolar\":[{\"marker\":{\"colorbar\":{\"outlinewidth\":0,\"ticks\":\"\"}},\"type\":\"scatterpolar\"}],\"scatterpolargl\":[{\"marker\":{\"colorbar\":{\"outlinewidth\":0,\"ticks\":\"\"}},\"type\":\"scatterpolargl\"}],\"scatterternary\":[{\"marker\":{\"colorbar\":{\"outlinewidth\":0,\"ticks\":\"\"}},\"type\":\"scatterternary\"}],\"surface\":[{\"colorbar\":{\"outlinewidth\":0,\"ticks\":\"\"},\"colorscale\":[[0.0,\"#0d0887\"],[0.1111111111111111,\"#46039f\"],[0.2222222222222222,\"#7201a8\"],[0.3333333333333333,\"#9c179e\"],[0.4444444444444444,\"#bd3786\"],[0.5555555555555556,\"#d8576b\"],[0.6666666666666666,\"#ed7953\"],[0.7777777777777778,\"#fb9f3a\"],[0.8888888888888888,\"#fdca26\"],[1.0,\"#f0f921\"]],\"type\":\"surface\"}],\"table\":[{\"cells\":{\"fill\":{\"color\":\"#EBF0F8\"},\"line\":{\"color\":\"white\"}},\"header\":{\"fill\":{\"color\":\"#C8D4E3\"},\"line\":{\"color\":\"white\"}},\"type\":\"table\"}]},\"layout\":{\"annotationdefaults\":{\"arrowcolor\":\"#2a3f5f\",\"arrowhead\":0,\"arrowwidth\":1},\"autotypenumbers\":\"strict\",\"coloraxis\":{\"colorbar\":{\"outlinewidth\":0,\"ticks\":\"\"}},\"colorscale\":{\"diverging\":[[0,\"#8e0152\"],[0.1,\"#c51b7d\"],[0.2,\"#de77ae\"],[0.3,\"#f1b6da\"],[0.4,\"#fde0ef\"],[0.5,\"#f7f7f7\"],[0.6,\"#e6f5d0\"],[0.7,\"#b8e186\"],[0.8,\"#7fbc41\"],[0.9,\"#4d9221\"],[1,\"#276419\"]],\"sequential\":[[0.0,\"#0d0887\"],[0.1111111111111111,\"#46039f\"],[0.2222222222222222,\"#7201a8\"],[0.3333333333333333,\"#9c179e\"],[0.4444444444444444,\"#bd3786\"],[0.5555555555555556,\"#d8576b\"],[0.6666666666666666,\"#ed7953\"],[0.7777777777777778,\"#fb9f3a\"],[0.8888888888888888,\"#fdca26\"],[1.0,\"#f0f921\"]],\"sequentialminus\":[[0.0,\"#0d0887\"],[0.1111111111111111,\"#46039f\"],[0.2222222222222222,\"#7201a8\"],[0.3333333333333333,\"#9c179e\"],[0.4444444444444444,\"#bd3786\"],[0.5555555555555556,\"#d8576b\"],[0.6666666666666666,\"#ed7953\"],[0.7777777777777778,\"#fb9f3a\"],[0.8888888888888888,\"#fdca26\"],[1.0,\"#f0f921\"]]},\"colorway\":[\"#636efa\",\"#EF553B\",\"#00cc96\",\"#ab63fa\",\"#FFA15A\",\"#19d3f3\",\"#FF6692\",\"#B6E880\",\"#FF97FF\",\"#FECB52\"],\"font\":{\"color\":\"#2a3f5f\"},\"geo\":{\"bgcolor\":\"white\",\"lakecolor\":\"white\",\"landcolor\":\"#E5ECF6\",\"showlakes\":true,\"showland\":true,\"subunitcolor\":\"white\"},\"hoverlabel\":{\"align\":\"left\"},\"hovermode\":\"closest\",\"mapbox\":{\"style\":\"light\"},\"paper_bgcolor\":\"white\",\"plot_bgcolor\":\"#E5ECF6\",\"polar\":{\"angularaxis\":{\"gridcolor\":\"white\",\"linecolor\":\"white\",\"ticks\":\"\"},\"bgcolor\":\"#E5ECF6\",\"radialaxis\":{\"gridcolor\":\"white\",\"linecolor\":\"white\",\"ticks\":\"\"}},\"scene\":{\"xaxis\":{\"backgroundcolor\":\"#E5ECF6\",\"gridcolor\":\"white\",\"gridwidth\":2,\"linecolor\":\"white\",\"showbackground\":true,\"ticks\":\"\",\"zerolinecolor\":\"white\"},\"yaxis\":{\"backgroundcolor\":\"#E5ECF6\",\"gridcolor\":\"white\",\"gridwidth\":2,\"linecolor\":\"white\",\"showbackground\":true,\"ticks\":\"\",\"zerolinecolor\":\"white\"},\"zaxis\":{\"backgroundcolor\":\"#E5ECF6\",\"gridcolor\":\"white\",\"gridwidth\":2,\"linecolor\":\"white\",\"showbackground\":true,\"ticks\":\"\",\"zerolinecolor\":\"white\"}},\"shapedefaults\":{\"line\":{\"color\":\"#2a3f5f\"}},\"ternary\":{\"aaxis\":{\"gridcolor\":\"white\",\"linecolor\":\"white\",\"ticks\":\"\"},\"baxis\":{\"gridcolor\":\"white\",\"linecolor\":\"white\",\"ticks\":\"\"},\"bgcolor\":\"#E5ECF6\",\"caxis\":{\"gridcolor\":\"white\",\"linecolor\":\"white\",\"ticks\":\"\"}},\"title\":{\"x\":0.05},\"xaxis\":{\"automargin\":true,\"gridcolor\":\"white\",\"linecolor\":\"white\",\"ticks\":\"\",\"title\":{\"standoff\":15},\"zerolinecolor\":\"white\",\"zerolinewidth\":2},\"yaxis\":{\"automargin\":true,\"gridcolor\":\"white\",\"linecolor\":\"white\",\"ticks\":\"\",\"title\":{\"standoff\":15},\"zerolinecolor\":\"white\",\"zerolinewidth\":2}}},\"xaxis\":{\"anchor\":\"y\",\"domain\":[0.0,0.103125],\"title\":{\"text\":\"alpha\"},\"type\":\"log\"},\"yaxis\":{\"anchor\":\"x\",\"domain\":[0.0,1.0],\"title\":{\"text\":\"Objective Value\"}},\"xaxis2\":{\"anchor\":\"y2\",\"domain\":[0.128125,0.23124999999999998],\"title\":{\"text\":\"colsample_bytree\"}},\"yaxis2\":{\"anchor\":\"x2\",\"domain\":[0.0,1.0],\"matches\":\"y\",\"showticklabels\":false},\"xaxis3\":{\"anchor\":\"y3\",\"domain\":[0.25625,0.359375],\"title\":{\"text\":\"lambda\"},\"type\":\"log\"},\"yaxis3\":{\"anchor\":\"x3\",\"domain\":[0.0,1.0],\"matches\":\"y\",\"showticklabels\":false},\"xaxis4\":{\"anchor\":\"y4\",\"domain\":[0.38437499999999997,0.48749999999999993],\"title\":{\"text\":\"learning_rate\"}},\"yaxis4\":{\"anchor\":\"x4\",\"domain\":[0.0,1.0],\"matches\":\"y\",\"showticklabels\":false},\"xaxis5\":{\"anchor\":\"y5\",\"domain\":[0.5125,0.615625],\"title\":{\"text\":\"max_depth\"}},\"yaxis5\":{\"anchor\":\"x5\",\"domain\":[0.0,1.0],\"matches\":\"y\",\"showticklabels\":false},\"xaxis6\":{\"anchor\":\"y6\",\"domain\":[0.640625,0.74375],\"title\":{\"text\":\"min_child_weight\"}},\"yaxis6\":{\"anchor\":\"x6\",\"domain\":[0.0,1.0],\"matches\":\"y\",\"showticklabels\":false},\"xaxis7\":{\"anchor\":\"y7\",\"domain\":[0.76875,0.8718750000000001],\"title\":{\"text\":\"random_state\"}},\"yaxis7\":{\"anchor\":\"x7\",\"domain\":[0.0,1.0],\"matches\":\"y\",\"showticklabels\":false},\"xaxis8\":{\"anchor\":\"y8\",\"domain\":[0.8968750000000001,1.0],\"title\":{\"text\":\"subsample\"}},\"yaxis8\":{\"anchor\":\"x8\",\"domain\":[0.0,1.0],\"matches\":\"y\",\"showticklabels\":false},\"title\":{\"text\":\"Slice Plot\"},\"width\":2400},                        {\"responsive\": true}                    )                };                            </script>        </div>"
      ],
      "text/plain": [
       "Figure({\n",
       "    'data': [{'marker': {'color': [0, 1, 2, 3, 4, 5, 6, 7, 8, 9, 10, 11, 12, 13,\n",
       "                                   14, 15, 16, 17, 18, 19, 20, 21, 22, 23, 24, 25,\n",
       "                                   26, 27, 28, 29, 30, 31, 32, 33, 34, 35, 36, 37,\n",
       "                                   38, 39, 40, 41, 42, 43, 44, 45, 46, 47, 48, 49,\n",
       "                                   50, 51, 52, 53, 54, 55, 56, 57, 58, 59, 60, 61,\n",
       "                                   62, 63, 64, 65, 66, 67, 68, 69, 70, 71, 72, 73,\n",
       "                                   74, 75, 76, 77, 78, 79, 80, 81, 82, 83, 84, 85,\n",
       "                                   86, 87, 88, 89, 90, 91, 92, 93, 94, 95, 96, 97,\n",
       "                                   98, 99],\n",
       "                         'colorbar': {'title': {'text': '#Trials'}, 'x': 1.0, 'xpad': 40},\n",
       "                         'colorscale': [[0.0, 'rgb(247,251,255)'], [0.125,\n",
       "                                        'rgb(222,235,247)'], [0.25,\n",
       "                                        'rgb(198,219,239)'], [0.375,\n",
       "                                        'rgb(158,202,225)'], [0.5,\n",
       "                                        'rgb(107,174,214)'], [0.625,\n",
       "                                        'rgb(66,146,198)'], [0.75,\n",
       "                                        'rgb(33,113,181)'], [0.875,\n",
       "                                        'rgb(8,81,156)'], [1.0, 'rgb(8,48,107)']],\n",
       "                         'line': {'color': 'Grey', 'width': 0.5},\n",
       "                         'showscale': True},\n",
       "              'mode': 'markers',\n",
       "              'showlegend': False,\n",
       "              'type': 'scatter',\n",
       "              'x': [0.030006315982995347, 0.26555305157784004, 0.0645894253259178,\n",
       "                    0.00827216050714491, 0.7979908270430242, 0.003120862143950332,\n",
       "                    9.365732488053753, 0.003107234380606034, 0.007107763486780402,\n",
       "                    0.019968244404328296, 1.5752157839017953, 0.21784227964304967,\n",
       "                    0.11728014290550008, 0.03555279196911771, 0.49007281333471925,\n",
       "                    6.636644759115918, 0.24374597676464185, 1.0272588809615906,\n",
       "                    7.746912868689329, 0.0010225619420774204, 2.159962945566247,\n",
       "                    3.7474646404337286, 0.0010875309661656125,\n",
       "                    0.018890644589866022, 1.596767854589165, 0.001446908202740603,\n",
       "                    0.011585937250213285, 0.05604065385928456,\n",
       "                    0.003029841343212095, 0.009776719171112344,\n",
       "                    0.06124477675881267, 0.02024087122509124,\n",
       "                    0.0037720470597143833, 0.03699846591458693,\n",
       "                    0.09057706373426617, 3.7007688504350584, 1.9799340425110414,\n",
       "                    3.8575502547542233, 0.13454367347702806, 0.5108230877431722,\n",
       "                    0.005152323076223047, 0.0010126540514915012,\n",
       "                    0.012117147005862026, 0.001969446890147256,\n",
       "                    0.044256780804760185, 0.01397235376428202,\n",
       "                    0.0020616122745554097, 0.005830174132505967,\n",
       "                    0.009369238606100916, 0.025393374712171096,\n",
       "                    0.06445602566016048, 0.027848765630663557,\n",
       "                    0.004229793435542233, 0.0033424884267492854,\n",
       "                    0.018178243497225084, 0.04151019221315457, 0.10311366855703968,\n",
       "                    0.15496301172937424, 0.18677611654686455, 0.08876986086913032,\n",
       "                    0.30350897855286796, 5.000912025613089, 2.8458356001937077,\n",
       "                    9.736550502056042, 0.459745615074255, 1.2419723521317692,\n",
       "                    2.1982899997679404, 0.7072156788279573, 0.3170021717119763,\n",
       "                    0.8087605998570587, 0.006382439481441425, 0.0286656904143704,\n",
       "                    0.02633680229790936, 0.002272828741733395,\n",
       "                    0.007852048262454954, 0.004517712622095141,\n",
       "                    0.018413937353761588, 0.02580181981595112,\n",
       "                    0.060770816080284853, 0.041373212249370066,\n",
       "                    0.12257906036501441, 0.19205215307816031, 0.08484332509368335,\n",
       "                    0.18185470679281315, 0.15067116526804425, 0.3221753585283935,\n",
       "                    0.08347158725004297, 5.4173751482776975, 5.80467020429278,\n",
       "                    8.7045672681265, 0.43435444925074446, 1.3128922079187177,\n",
       "                    2.915395124345372, 2.1332583507646086, 0.7636370592555303,\n",
       "                    2.859403319617271, 0.7888358640863529, 1.1016191952946517,\n",
       "                    0.674615945103036, 0.5889086042254222],\n",
       "              'xaxis': 'x',\n",
       "              'y': [0.7537128712871287, 0.7537128712871287, 0.7537128712871287,\n",
       "                    0.7537128712871287, 0.7537128712871287, 0.7537128712871287,\n",
       "                    0.7537128712871287, 0.7537128712871287, 0.7537128712871287,\n",
       "                    0.7537128712871287, 0.7537128712871287, 0.7537128712871287,\n",
       "                    0.7537128712871287, 0.7537128712871287, 0.7537128712871287,\n",
       "                    0.7537128712871287, 0.7537128712871287, 0.7537128712871287,\n",
       "                    0.7537128712871287, 0.7537128712871287, 0.7537128712871287,\n",
       "                    0.7537128712871287, 0.7537128712871287, 0.7537128712871287,\n",
       "                    0.7537128712871287, 0.7537128712871287, 0.7537128712871287,\n",
       "                    0.7537128712871287, 0.7537128712871287, 0.7537128712871287,\n",
       "                    0.7537128712871287, 0.7537128712871287, 0.7537128712871287,\n",
       "                    0.7537128712871287, 0.7537128712871287, 0.7537128712871287,\n",
       "                    0.7537128712871287, 0.7537128712871287, 0.7537128712871287,\n",
       "                    0.7537128712871287, 0.7537128712871287, 0.7537128712871287,\n",
       "                    0.7537128712871287, 0.7537128712871287, 0.7537128712871287,\n",
       "                    0.7537128712871287, 0.7537128712871287, 0.7537128712871287,\n",
       "                    0.7537128712871287, 0.7537128712871287, 0.7537128712871287,\n",
       "                    0.7537128712871287, 0.7537128712871287, 0.7537128712871287,\n",
       "                    0.7537128712871287, 0.7537128712871287, 0.7537128712871287,\n",
       "                    0.7537128712871287, 0.7537128712871287, 0.7537128712871287,\n",
       "                    0.7537128712871287, 0.7537128712871287, 0.7537128712871287,\n",
       "                    0.7537128712871287, 0.7537128712871287, 0.7537128712871287,\n",
       "                    0.7537128712871287, 0.7537128712871287, 0.7537128712871287,\n",
       "                    0.7537128712871287, 0.7537128712871287, 0.7537128712871287,\n",
       "                    0.7537128712871287, 0.7537128712871287, 0.7537128712871287,\n",
       "                    0.7537128712871287, 0.7537128712871287, 0.7537128712871287,\n",
       "                    0.7537128712871287, 0.7537128712871287, 0.7537128712871287,\n",
       "                    0.7537128712871287, 0.7537128712871287, 0.7537128712871287,\n",
       "                    0.7537128712871287, 0.7537128712871287, 0.7537128712871287,\n",
       "                    0.7537128712871287, 0.7537128712871287, 0.7537128712871287,\n",
       "                    0.7537128712871287, 0.7537128712871287, 0.7537128712871287,\n",
       "                    0.7537128712871287, 0.7537128712871287, 0.7537128712871287,\n",
       "                    0.7537128712871287, 0.7537128712871287, 0.7537128712871287,\n",
       "                    0.75],\n",
       "              'yaxis': 'y'},\n",
       "             {'marker': {'color': [0, 1, 2, 3, 4, 5, 6, 7, 8, 9, 10, 11, 12, 13,\n",
       "                                   14, 15, 16, 17, 18, 19, 20, 21, 22, 23, 24, 25,\n",
       "                                   26, 27, 28, 29, 30, 31, 32, 33, 34, 35, 36, 37,\n",
       "                                   38, 39, 40, 41, 42, 43, 44, 45, 46, 47, 48, 49,\n",
       "                                   50, 51, 52, 53, 54, 55, 56, 57, 58, 59, 60, 61,\n",
       "                                   62, 63, 64, 65, 66, 67, 68, 69, 70, 71, 72, 73,\n",
       "                                   74, 75, 76, 77, 78, 79, 80, 81, 82, 83, 84, 85,\n",
       "                                   86, 87, 88, 89, 90, 91, 92, 93, 94, 95, 96, 97,\n",
       "                                   98, 99],\n",
       "                         'colorbar': {'title': {'text': '#Trials'}, 'x': 1.0, 'xpad': 40},\n",
       "                         'colorscale': [[0.0, 'rgb(247,251,255)'], [0.125,\n",
       "                                        'rgb(222,235,247)'], [0.25,\n",
       "                                        'rgb(198,219,239)'], [0.375,\n",
       "                                        'rgb(158,202,225)'], [0.5,\n",
       "                                        'rgb(107,174,214)'], [0.625,\n",
       "                                        'rgb(66,146,198)'], [0.75,\n",
       "                                        'rgb(33,113,181)'], [0.875,\n",
       "                                        'rgb(8,81,156)'], [1.0, 'rgb(8,48,107)']],\n",
       "                         'line': {'color': 'Grey', 'width': 0.5},\n",
       "                         'showscale': False},\n",
       "              'mode': 'markers',\n",
       "              'showlegend': False,\n",
       "              'type': 'scatter',\n",
       "              'x': [0.4, 0.8, 0.5, 0.9, 0.6, 0.8, 1.0, 1.0, 0.4, 0.7, 0.4, 0.3,\n",
       "                    0.8, 0.8, 0.4, 0.7, 0.6, 0.4, 0.7, 0.6, 0.4, 0.7, 0.6, 0.4,\n",
       "                    0.9, 0.3, 0.5, 0.9, 0.3, 0.5, 0.9, 0.3, 0.5, 0.5, 0.9, 0.6,\n",
       "                    0.7, 0.4, 0.6, 1.0, 0.9, 0.3, 0.5, 0.4, 0.9, 0.9, 0.3, 0.3,\n",
       "                    0.5, 0.5, 0.9, 0.3, 0.5, 0.8, 0.5, 0.5, 1.0, 0.9, 0.6, 0.6,\n",
       "                    0.7, 0.4, 0.6, 0.7, 1.0, 1.0, 0.4, 0.6, 1.0, 0.4, 0.4, 0.3,\n",
       "                    0.3, 0.3, 0.8, 0.8, 0.5, 0.5, 0.5, 0.8, 0.8, 0.5, 0.6, 0.6,\n",
       "                    0.7, 0.7, 1.0, 0.6, 0.7, 0.6, 0.7, 1.0, 0.4, 0.4, 1.0, 1.0,\n",
       "                    0.4, 0.4, 1.0, 0.4],\n",
       "              'xaxis': 'x2',\n",
       "              'y': [0.7537128712871287, 0.7537128712871287, 0.7537128712871287,\n",
       "                    0.7537128712871287, 0.7537128712871287, 0.7537128712871287,\n",
       "                    0.7537128712871287, 0.7537128712871287, 0.7537128712871287,\n",
       "                    0.7537128712871287, 0.7537128712871287, 0.7537128712871287,\n",
       "                    0.7537128712871287, 0.7537128712871287, 0.7537128712871287,\n",
       "                    0.7537128712871287, 0.7537128712871287, 0.7537128712871287,\n",
       "                    0.7537128712871287, 0.7537128712871287, 0.7537128712871287,\n",
       "                    0.7537128712871287, 0.7537128712871287, 0.7537128712871287,\n",
       "                    0.7537128712871287, 0.7537128712871287, 0.7537128712871287,\n",
       "                    0.7537128712871287, 0.7537128712871287, 0.7537128712871287,\n",
       "                    0.7537128712871287, 0.7537128712871287, 0.7537128712871287,\n",
       "                    0.7537128712871287, 0.7537128712871287, 0.7537128712871287,\n",
       "                    0.7537128712871287, 0.7537128712871287, 0.7537128712871287,\n",
       "                    0.7537128712871287, 0.7537128712871287, 0.7537128712871287,\n",
       "                    0.7537128712871287, 0.7537128712871287, 0.7537128712871287,\n",
       "                    0.7537128712871287, 0.7537128712871287, 0.7537128712871287,\n",
       "                    0.7537128712871287, 0.7537128712871287, 0.7537128712871287,\n",
       "                    0.7537128712871287, 0.7537128712871287, 0.7537128712871287,\n",
       "                    0.7537128712871287, 0.7537128712871287, 0.7537128712871287,\n",
       "                    0.7537128712871287, 0.7537128712871287, 0.7537128712871287,\n",
       "                    0.7537128712871287, 0.7537128712871287, 0.7537128712871287,\n",
       "                    0.7537128712871287, 0.7537128712871287, 0.7537128712871287,\n",
       "                    0.7537128712871287, 0.7537128712871287, 0.7537128712871287,\n",
       "                    0.7537128712871287, 0.7537128712871287, 0.7537128712871287,\n",
       "                    0.7537128712871287, 0.7537128712871287, 0.7537128712871287,\n",
       "                    0.7537128712871287, 0.7537128712871287, 0.7537128712871287,\n",
       "                    0.7537128712871287, 0.7537128712871287, 0.7537128712871287,\n",
       "                    0.7537128712871287, 0.7537128712871287, 0.7537128712871287,\n",
       "                    0.7537128712871287, 0.7537128712871287, 0.7537128712871287,\n",
       "                    0.7537128712871287, 0.7537128712871287, 0.7537128712871287,\n",
       "                    0.7537128712871287, 0.7537128712871287, 0.7537128712871287,\n",
       "                    0.7537128712871287, 0.7537128712871287, 0.7537128712871287,\n",
       "                    0.7537128712871287, 0.7537128712871287, 0.7537128712871287,\n",
       "                    0.75],\n",
       "              'yaxis': 'y2'},\n",
       "             {'marker': {'color': [0, 1, 2, 3, 4, 5, 6, 7, 8, 9, 10, 11, 12, 13,\n",
       "                                   14, 15, 16, 17, 18, 19, 20, 21, 22, 23, 24, 25,\n",
       "                                   26, 27, 28, 29, 30, 31, 32, 33, 34, 35, 36, 37,\n",
       "                                   38, 39, 40, 41, 42, 43, 44, 45, 46, 47, 48, 49,\n",
       "                                   50, 51, 52, 53, 54, 55, 56, 57, 58, 59, 60, 61,\n",
       "                                   62, 63, 64, 65, 66, 67, 68, 69, 70, 71, 72, 73,\n",
       "                                   74, 75, 76, 77, 78, 79, 80, 81, 82, 83, 84, 85,\n",
       "                                   86, 87, 88, 89, 90, 91, 92, 93, 94, 95, 96, 97,\n",
       "                                   98, 99],\n",
       "                         'colorbar': {'title': {'text': '#Trials'}, 'x': 1.0, 'xpad': 40},\n",
       "                         'colorscale': [[0.0, 'rgb(247,251,255)'], [0.125,\n",
       "                                        'rgb(222,235,247)'], [0.25,\n",
       "                                        'rgb(198,219,239)'], [0.375,\n",
       "                                        'rgb(158,202,225)'], [0.5,\n",
       "                                        'rgb(107,174,214)'], [0.625,\n",
       "                                        'rgb(66,146,198)'], [0.75,\n",
       "                                        'rgb(33,113,181)'], [0.875,\n",
       "                                        'rgb(8,81,156)'], [1.0, 'rgb(8,48,107)']],\n",
       "                         'line': {'color': 'Grey', 'width': 0.5},\n",
       "                         'showscale': False},\n",
       "              'mode': 'markers',\n",
       "              'showlegend': False,\n",
       "              'type': 'scatter',\n",
       "              'x': [0.13504936679151183, 0.4054900151722544, 2.6296737089567865,\n",
       "                    0.08675960106666937, 3.096509679257949, 0.0053486285897926585,\n",
       "                    0.09680322889067616, 0.9269896766605651, 0.5369687458500214,\n",
       "                    0.0014738994710886784, 0.006957281733916239,\n",
       "                    0.27742679516849383, 0.03673145934993262, 0.027411332503706098,\n",
       "                    0.29825042820331277, 6.528347778451198, 1.5720917256879356,\n",
       "                    0.18114903394868076, 3.6667254453299, 1.0687130376961105,\n",
       "                    0.02621449888879999, 9.308532653318585, 1.122589112088486,\n",
       "                    0.028884112063921316, 0.010348621697944637, 9.625095024254593,\n",
       "                    0.04222865737130896, 0.007924665202323187,\n",
       "                    0.0024661340873354375, 0.07207437204147428,\n",
       "                    0.017235297201873646, 0.00262792878800882, 0.00323157318722977,\n",
       "                    0.0010471861112163114, 0.014263868075799198,\n",
       "                    1.8393684204094143, 0.5917955025045832, 0.17750945109475172,\n",
       "                    3.735843997183287, 6.092575603671957, 0.05265322902617164,\n",
       "                    0.14233164045296412, 0.011445736272495396,\n",
       "                    0.053814227468026166, 0.007495553616436855,\n",
       "                    0.005426254798912445, 0.0022844867093157347,\n",
       "                    0.0032888781174961095, 0.08127412206535402,\n",
       "                    0.07638399900425727, 0.01994105696298115,\n",
       "                    0.0020986739493332645, 0.0040905277224402015,\n",
       "                    0.0029477225793023915, 0.0012224640113410862,\n",
       "                    0.0014213764579488278, 0.0010678580996099619,\n",
       "                    0.014173621145526677, 0.004815507186517771, 0.6353852273780394,\n",
       "                    0.374106698074678, 0.18956741336445082, 1.6088439993249817,\n",
       "                    3.5322594963247003, 5.338552399903572, 2.5524249910644414,\n",
       "                    2.217789283891718, 0.5850317927846144, 0.1370328907758072,\n",
       "                    0.13178453334356327, 0.2674733963263331, 0.002065269098313385,\n",
       "                    0.001774551426149005, 0.003944300594835432,\n",
       "                    0.08286731000518344, 0.02191830976518955, 0.001456888173862838,\n",
       "                    0.10533572351453953, 0.001617587977384513,\n",
       "                    0.0010195537836639535, 0.0012143042908238349,\n",
       "                    0.004595926034651314, 0.0030962927642743166,\n",
       "                    0.006014476937057609, 0.3471759525923892,\n",
       "                    0.0013519231831236977, 0.2437998214132617, 0.44046770411386604,\n",
       "                    0.7673515348181154, 1.0916879720738561, 4.953827384638132,\n",
       "                    2.825602637603427, 1.9055527866887916, 1.5521304888360563,\n",
       "                    2.206254344847714, 3.474408873059638, 4.78883494360768,\n",
       "                    1.3694139053187433, 0.12589632770423845, 0.2482591832463003],\n",
       "              'xaxis': 'x3',\n",
       "              'y': [0.7537128712871287, 0.7537128712871287, 0.7537128712871287,\n",
       "                    0.7537128712871287, 0.7537128712871287, 0.7537128712871287,\n",
       "                    0.7537128712871287, 0.7537128712871287, 0.7537128712871287,\n",
       "                    0.7537128712871287, 0.7537128712871287, 0.7537128712871287,\n",
       "                    0.7537128712871287, 0.7537128712871287, 0.7537128712871287,\n",
       "                    0.7537128712871287, 0.7537128712871287, 0.7537128712871287,\n",
       "                    0.7537128712871287, 0.7537128712871287, 0.7537128712871287,\n",
       "                    0.7537128712871287, 0.7537128712871287, 0.7537128712871287,\n",
       "                    0.7537128712871287, 0.7537128712871287, 0.7537128712871287,\n",
       "                    0.7537128712871287, 0.7537128712871287, 0.7537128712871287,\n",
       "                    0.7537128712871287, 0.7537128712871287, 0.7537128712871287,\n",
       "                    0.7537128712871287, 0.7537128712871287, 0.7537128712871287,\n",
       "                    0.7537128712871287, 0.7537128712871287, 0.7537128712871287,\n",
       "                    0.7537128712871287, 0.7537128712871287, 0.7537128712871287,\n",
       "                    0.7537128712871287, 0.7537128712871287, 0.7537128712871287,\n",
       "                    0.7537128712871287, 0.7537128712871287, 0.7537128712871287,\n",
       "                    0.7537128712871287, 0.7537128712871287, 0.7537128712871287,\n",
       "                    0.7537128712871287, 0.7537128712871287, 0.7537128712871287,\n",
       "                    0.7537128712871287, 0.7537128712871287, 0.7537128712871287,\n",
       "                    0.7537128712871287, 0.7537128712871287, 0.7537128712871287,\n",
       "                    0.7537128712871287, 0.7537128712871287, 0.7537128712871287,\n",
       "                    0.7537128712871287, 0.7537128712871287, 0.7537128712871287,\n",
       "                    0.7537128712871287, 0.7537128712871287, 0.7537128712871287,\n",
       "                    0.7537128712871287, 0.7537128712871287, 0.7537128712871287,\n",
       "                    0.7537128712871287, 0.7537128712871287, 0.7537128712871287,\n",
       "                    0.7537128712871287, 0.7537128712871287, 0.7537128712871287,\n",
       "                    0.7537128712871287, 0.7537128712871287, 0.7537128712871287,\n",
       "                    0.7537128712871287, 0.7537128712871287, 0.7537128712871287,\n",
       "                    0.7537128712871287, 0.7537128712871287, 0.7537128712871287,\n",
       "                    0.7537128712871287, 0.7537128712871287, 0.7537128712871287,\n",
       "                    0.7537128712871287, 0.7537128712871287, 0.7537128712871287,\n",
       "                    0.7537128712871287, 0.7537128712871287, 0.7537128712871287,\n",
       "                    0.7537128712871287, 0.7537128712871287, 0.7537128712871287,\n",
       "                    0.75],\n",
       "              'yaxis': 'y3'},\n",
       "             {'marker': {'color': [0, 1, 2, 3, 4, 5, 6, 7, 8, 9, 10, 11, 12, 13,\n",
       "                                   14, 15, 16, 17, 18, 19, 20, 21, 22, 23, 24, 25,\n",
       "                                   26, 27, 28, 29, 30, 31, 32, 33, 34, 35, 36, 37,\n",
       "                                   38, 39, 40, 41, 42, 43, 44, 45, 46, 47, 48, 49,\n",
       "                                   50, 51, 52, 53, 54, 55, 56, 57, 58, 59, 60, 61,\n",
       "                                   62, 63, 64, 65, 66, 67, 68, 69, 70, 71, 72, 73,\n",
       "                                   74, 75, 76, 77, 78, 79, 80, 81, 82, 83, 84, 85,\n",
       "                                   86, 87, 88, 89, 90, 91, 92, 93, 94, 95, 96, 97,\n",
       "                                   98, 99],\n",
       "                         'colorbar': {'title': {'text': '#Trials'}, 'x': 1.0, 'xpad': 40},\n",
       "                         'colorscale': [[0.0, 'rgb(247,251,255)'], [0.125,\n",
       "                                        'rgb(222,235,247)'], [0.25,\n",
       "                                        'rgb(198,219,239)'], [0.375,\n",
       "                                        'rgb(158,202,225)'], [0.5,\n",
       "                                        'rgb(107,174,214)'], [0.625,\n",
       "                                        'rgb(66,146,198)'], [0.75,\n",
       "                                        'rgb(33,113,181)'], [0.875,\n",
       "                                        'rgb(8,81,156)'], [1.0, 'rgb(8,48,107)']],\n",
       "                         'line': {'color': 'Grey', 'width': 0.5},\n",
       "                         'showscale': False},\n",
       "              'mode': 'markers',\n",
       "              'showlegend': False,\n",
       "              'type': 'scatter',\n",
       "              'x': [0.008, 0.012, 0.012, 0.016, 0.009, 0.014, 0.01, 0.012, 0.018,\n",
       "                    0.012, 0.008, 0.02, 0.008, 0.008, 0.014, 0.016, 0.009, 0.014,\n",
       "                    0.016, 0.009, 0.014, 0.016, 0.009, 0.02, 0.01, 0.018, 0.02,\n",
       "                    0.01, 0.018, 0.018, 0.01, 0.02, 0.018, 0.018, 0.01, 0.016,\n",
       "                    0.009, 0.014, 0.02, 0.008, 0.009, 0.01, 0.02, 0.02, 0.01, 0.01,\n",
       "                    0.018, 0.018, 0.012, 0.008, 0.01, 0.018, 0.018, 0.018, 0.018,\n",
       "                    0.008, 0.01, 0.012, 0.016, 0.016, 0.009, 0.014, 0.014, 0.014,\n",
       "                    0.008, 0.008, 0.009, 0.009, 0.009, 0.008, 0.02, 0.018, 0.012,\n",
       "                    0.018, 0.012, 0.018, 0.018, 0.012, 0.008, 0.018, 0.018, 0.016,\n",
       "                    0.016, 0.016, 0.016, 0.016, 0.014, 0.014, 0.014, 0.014, 0.014,\n",
       "                    0.008, 0.009, 0.008, 0.009, 0.009, 0.008, 0.008, 0.009, 0.008],\n",
       "              'xaxis': 'x4',\n",
       "              'y': [0.7537128712871287, 0.7537128712871287, 0.7537128712871287,\n",
       "                    0.7537128712871287, 0.7537128712871287, 0.7537128712871287,\n",
       "                    0.7537128712871287, 0.7537128712871287, 0.7537128712871287,\n",
       "                    0.7537128712871287, 0.7537128712871287, 0.7537128712871287,\n",
       "                    0.7537128712871287, 0.7537128712871287, 0.7537128712871287,\n",
       "                    0.7537128712871287, 0.7537128712871287, 0.7537128712871287,\n",
       "                    0.7537128712871287, 0.7537128712871287, 0.7537128712871287,\n",
       "                    0.7537128712871287, 0.7537128712871287, 0.7537128712871287,\n",
       "                    0.7537128712871287, 0.7537128712871287, 0.7537128712871287,\n",
       "                    0.7537128712871287, 0.7537128712871287, 0.7537128712871287,\n",
       "                    0.7537128712871287, 0.7537128712871287, 0.7537128712871287,\n",
       "                    0.7537128712871287, 0.7537128712871287, 0.7537128712871287,\n",
       "                    0.7537128712871287, 0.7537128712871287, 0.7537128712871287,\n",
       "                    0.7537128712871287, 0.7537128712871287, 0.7537128712871287,\n",
       "                    0.7537128712871287, 0.7537128712871287, 0.7537128712871287,\n",
       "                    0.7537128712871287, 0.7537128712871287, 0.7537128712871287,\n",
       "                    0.7537128712871287, 0.7537128712871287, 0.7537128712871287,\n",
       "                    0.7537128712871287, 0.7537128712871287, 0.7537128712871287,\n",
       "                    0.7537128712871287, 0.7537128712871287, 0.7537128712871287,\n",
       "                    0.7537128712871287, 0.7537128712871287, 0.7537128712871287,\n",
       "                    0.7537128712871287, 0.7537128712871287, 0.7537128712871287,\n",
       "                    0.7537128712871287, 0.7537128712871287, 0.7537128712871287,\n",
       "                    0.7537128712871287, 0.7537128712871287, 0.7537128712871287,\n",
       "                    0.7537128712871287, 0.7537128712871287, 0.7537128712871287,\n",
       "                    0.7537128712871287, 0.7537128712871287, 0.7537128712871287,\n",
       "                    0.7537128712871287, 0.7537128712871287, 0.7537128712871287,\n",
       "                    0.7537128712871287, 0.7537128712871287, 0.7537128712871287,\n",
       "                    0.7537128712871287, 0.7537128712871287, 0.7537128712871287,\n",
       "                    0.7537128712871287, 0.7537128712871287, 0.7537128712871287,\n",
       "                    0.7537128712871287, 0.7537128712871287, 0.7537128712871287,\n",
       "                    0.7537128712871287, 0.7537128712871287, 0.7537128712871287,\n",
       "                    0.7537128712871287, 0.7537128712871287, 0.7537128712871287,\n",
       "                    0.7537128712871287, 0.7537128712871287, 0.7537128712871287,\n",
       "                    0.75],\n",
       "              'yaxis': 'y4'},\n",
       "             {'marker': {'color': [0, 1, 2, 3, 4, 5, 6, 7, 8, 9, 10, 11, 12, 13,\n",
       "                                   14, 15, 16, 17, 18, 19, 20, 21, 22, 23, 24, 25,\n",
       "                                   26, 27, 28, 29, 30, 31, 32, 33, 34, 35, 36, 37,\n",
       "                                   38, 39, 40, 41, 42, 43, 44, 45, 46, 47, 48, 49,\n",
       "                                   50, 51, 52, 53, 54, 55, 56, 57, 58, 59, 60, 61,\n",
       "                                   62, 63, 64, 65, 66, 67, 68, 69, 70, 71, 72, 73,\n",
       "                                   74, 75, 76, 77, 78, 79, 80, 81, 82, 83, 84, 85,\n",
       "                                   86, 87, 88, 89, 90, 91, 92, 93, 94, 95, 96, 97,\n",
       "                                   98, 99],\n",
       "                         'colorbar': {'title': {'text': '#Trials'}, 'x': 1.0, 'xpad': 40},\n",
       "                         'colorscale': [[0.0, 'rgb(247,251,255)'], [0.125,\n",
       "                                        'rgb(222,235,247)'], [0.25,\n",
       "                                        'rgb(198,219,239)'], [0.375,\n",
       "                                        'rgb(158,202,225)'], [0.5,\n",
       "                                        'rgb(107,174,214)'], [0.625,\n",
       "                                        'rgb(66,146,198)'], [0.75,\n",
       "                                        'rgb(33,113,181)'], [0.875,\n",
       "                                        'rgb(8,81,156)'], [1.0, 'rgb(8,48,107)']],\n",
       "                         'line': {'color': 'Grey', 'width': 0.5},\n",
       "                         'showscale': False},\n",
       "              'mode': 'markers',\n",
       "              'showlegend': False,\n",
       "              'type': 'scatter',\n",
       "              'x': [20, 20, 5, 17, 5, 7, 17, 9, 13, 7, 11, 20, 20, 20, 15, 20, 20,\n",
       "                    15, 9, 11, 15, 9, 11, 15, 9, 11, 13, 9, 11, 13, 13, 13, 11, 13,\n",
       "                    13, 5, 15, 17, 7, 9, 5, 11, 15, 17, 9, 9, 11, 11, 13, 13, 20,\n",
       "                    13, 13, 13, 13, 13, 13, 20, 5, 5, 5, 17, 7, 7, 17, 7, 5, 5, 15,\n",
       "                    17, 7, 20, 20, 11, 13, 13, 13, 13, 13, 13, 20, 13, 5, 20, 5, 5,\n",
       "                    5, 5, 7, 7, 17, 7, 7, 17, 5, 15, 17, 17, 7, 7],\n",
       "              'xaxis': 'x5',\n",
       "              'y': [0.7537128712871287, 0.7537128712871287, 0.7537128712871287,\n",
       "                    0.7537128712871287, 0.7537128712871287, 0.7537128712871287,\n",
       "                    0.7537128712871287, 0.7537128712871287, 0.7537128712871287,\n",
       "                    0.7537128712871287, 0.7537128712871287, 0.7537128712871287,\n",
       "                    0.7537128712871287, 0.7537128712871287, 0.7537128712871287,\n",
       "                    0.7537128712871287, 0.7537128712871287, 0.7537128712871287,\n",
       "                    0.7537128712871287, 0.7537128712871287, 0.7537128712871287,\n",
       "                    0.7537128712871287, 0.7537128712871287, 0.7537128712871287,\n",
       "                    0.7537128712871287, 0.7537128712871287, 0.7537128712871287,\n",
       "                    0.7537128712871287, 0.7537128712871287, 0.7537128712871287,\n",
       "                    0.7537128712871287, 0.7537128712871287, 0.7537128712871287,\n",
       "                    0.7537128712871287, 0.7537128712871287, 0.7537128712871287,\n",
       "                    0.7537128712871287, 0.7537128712871287, 0.7537128712871287,\n",
       "                    0.7537128712871287, 0.7537128712871287, 0.7537128712871287,\n",
       "                    0.7537128712871287, 0.7537128712871287, 0.7537128712871287,\n",
       "                    0.7537128712871287, 0.7537128712871287, 0.7537128712871287,\n",
       "                    0.7537128712871287, 0.7537128712871287, 0.7537128712871287,\n",
       "                    0.7537128712871287, 0.7537128712871287, 0.7537128712871287,\n",
       "                    0.7537128712871287, 0.7537128712871287, 0.7537128712871287,\n",
       "                    0.7537128712871287, 0.7537128712871287, 0.7537128712871287,\n",
       "                    0.7537128712871287, 0.7537128712871287, 0.7537128712871287,\n",
       "                    0.7537128712871287, 0.7537128712871287, 0.7537128712871287,\n",
       "                    0.7537128712871287, 0.7537128712871287, 0.7537128712871287,\n",
       "                    0.7537128712871287, 0.7537128712871287, 0.7537128712871287,\n",
       "                    0.7537128712871287, 0.7537128712871287, 0.7537128712871287,\n",
       "                    0.7537128712871287, 0.7537128712871287, 0.7537128712871287,\n",
       "                    0.7537128712871287, 0.7537128712871287, 0.7537128712871287,\n",
       "                    0.7537128712871287, 0.7537128712871287, 0.7537128712871287,\n",
       "                    0.7537128712871287, 0.7537128712871287, 0.7537128712871287,\n",
       "                    0.7537128712871287, 0.7537128712871287, 0.7537128712871287,\n",
       "                    0.7537128712871287, 0.7537128712871287, 0.7537128712871287,\n",
       "                    0.7537128712871287, 0.7537128712871287, 0.7537128712871287,\n",
       "                    0.7537128712871287, 0.7537128712871287, 0.7537128712871287,\n",
       "                    0.75],\n",
       "              'yaxis': 'y5'},\n",
       "             {'marker': {'color': [0, 1, 2, 3, 4, 5, 6, 7, 8, 9, 10, 11, 12, 13,\n",
       "                                   14, 15, 16, 17, 18, 19, 20, 21, 22, 23, 24, 25,\n",
       "                                   26, 27, 28, 29, 30, 31, 32, 33, 34, 35, 36, 37,\n",
       "                                   38, 39, 40, 41, 42, 43, 44, 45, 46, 47, 48, 49,\n",
       "                                   50, 51, 52, 53, 54, 55, 56, 57, 58, 59, 60, 61,\n",
       "                                   62, 63, 64, 65, 66, 67, 68, 69, 70, 71, 72, 73,\n",
       "                                   74, 75, 76, 77, 78, 79, 80, 81, 82, 83, 84, 85,\n",
       "                                   86, 87, 88, 89, 90, 91, 92, 93, 94, 95, 96, 97,\n",
       "                                   98, 99],\n",
       "                         'colorbar': {'title': {'text': '#Trials'}, 'x': 1.0, 'xpad': 40},\n",
       "                         'colorscale': [[0.0, 'rgb(247,251,255)'], [0.125,\n",
       "                                        'rgb(222,235,247)'], [0.25,\n",
       "                                        'rgb(198,219,239)'], [0.375,\n",
       "                                        'rgb(158,202,225)'], [0.5,\n",
       "                                        'rgb(107,174,214)'], [0.625,\n",
       "                                        'rgb(66,146,198)'], [0.75,\n",
       "                                        'rgb(33,113,181)'], [0.875,\n",
       "                                        'rgb(8,81,156)'], [1.0, 'rgb(8,48,107)']],\n",
       "                         'line': {'color': 'Grey', 'width': 0.5},\n",
       "                         'showscale': False},\n",
       "              'mode': 'markers',\n",
       "              'showlegend': False,\n",
       "              'type': 'scatter',\n",
       "              'x': [256, 48, 134, 239, 26, 23, 285, 240, 117, 272, 200, 82, 173,\n",
       "                    72, 195, 80, 114, 201, 157, 109, 239, 165, 146, 241, 296, 166,\n",
       "                    264, 258, 298, 218, 269, 261, 218, 289, 225, 103, 129, 144,\n",
       "                    187, 7, 251, 180, 283, 276, 300, 256, 227, 263, 212, 244, 274,\n",
       "                    284, 225, 209, 231, 269, 251, 287, 99, 195, 46, 131, 133, 182,\n",
       "                    146, 11, 59, 96, 181, 123, 154, 248, 235, 279, 206, 214, 232,\n",
       "                    244, 271, 253, 289, 290, 203, 195, 77, 44, 87, 130, 138, 162,\n",
       "                    144, 18, 49, 66, 37, 61, 114, 171, 155, 1],\n",
       "              'xaxis': 'x6',\n",
       "              'y': [0.7537128712871287, 0.7537128712871287, 0.7537128712871287,\n",
       "                    0.7537128712871287, 0.7537128712871287, 0.7537128712871287,\n",
       "                    0.7537128712871287, 0.7537128712871287, 0.7537128712871287,\n",
       "                    0.7537128712871287, 0.7537128712871287, 0.7537128712871287,\n",
       "                    0.7537128712871287, 0.7537128712871287, 0.7537128712871287,\n",
       "                    0.7537128712871287, 0.7537128712871287, 0.7537128712871287,\n",
       "                    0.7537128712871287, 0.7537128712871287, 0.7537128712871287,\n",
       "                    0.7537128712871287, 0.7537128712871287, 0.7537128712871287,\n",
       "                    0.7537128712871287, 0.7537128712871287, 0.7537128712871287,\n",
       "                    0.7537128712871287, 0.7537128712871287, 0.7537128712871287,\n",
       "                    0.7537128712871287, 0.7537128712871287, 0.7537128712871287,\n",
       "                    0.7537128712871287, 0.7537128712871287, 0.7537128712871287,\n",
       "                    0.7537128712871287, 0.7537128712871287, 0.7537128712871287,\n",
       "                    0.7537128712871287, 0.7537128712871287, 0.7537128712871287,\n",
       "                    0.7537128712871287, 0.7537128712871287, 0.7537128712871287,\n",
       "                    0.7537128712871287, 0.7537128712871287, 0.7537128712871287,\n",
       "                    0.7537128712871287, 0.7537128712871287, 0.7537128712871287,\n",
       "                    0.7537128712871287, 0.7537128712871287, 0.7537128712871287,\n",
       "                    0.7537128712871287, 0.7537128712871287, 0.7537128712871287,\n",
       "                    0.7537128712871287, 0.7537128712871287, 0.7537128712871287,\n",
       "                    0.7537128712871287, 0.7537128712871287, 0.7537128712871287,\n",
       "                    0.7537128712871287, 0.7537128712871287, 0.7537128712871287,\n",
       "                    0.7537128712871287, 0.7537128712871287, 0.7537128712871287,\n",
       "                    0.7537128712871287, 0.7537128712871287, 0.7537128712871287,\n",
       "                    0.7537128712871287, 0.7537128712871287, 0.7537128712871287,\n",
       "                    0.7537128712871287, 0.7537128712871287, 0.7537128712871287,\n",
       "                    0.7537128712871287, 0.7537128712871287, 0.7537128712871287,\n",
       "                    0.7537128712871287, 0.7537128712871287, 0.7537128712871287,\n",
       "                    0.7537128712871287, 0.7537128712871287, 0.7537128712871287,\n",
       "                    0.7537128712871287, 0.7537128712871287, 0.7537128712871287,\n",
       "                    0.7537128712871287, 0.7537128712871287, 0.7537128712871287,\n",
       "                    0.7537128712871287, 0.7537128712871287, 0.7537128712871287,\n",
       "                    0.7537128712871287, 0.7537128712871287, 0.7537128712871287,\n",
       "                    0.75],\n",
       "              'yaxis': 'y6'},\n",
       "             {'marker': {'color': [0, 1, 2, 3, 4, 5, 6, 7, 8, 9, 10, 11, 12, 13,\n",
       "                                   14, 15, 16, 17, 18, 19, 20, 21, 22, 23, 24, 25,\n",
       "                                   26, 27, 28, 29, 30, 31, 32, 33, 34, 35, 36, 37,\n",
       "                                   38, 39, 40, 41, 42, 43, 44, 45, 46, 47, 48, 49,\n",
       "                                   50, 51, 52, 53, 54, 55, 56, 57, 58, 59, 60, 61,\n",
       "                                   62, 63, 64, 65, 66, 67, 68, 69, 70, 71, 72, 73,\n",
       "                                   74, 75, 76, 77, 78, 79, 80, 81, 82, 83, 84, 85,\n",
       "                                   86, 87, 88, 89, 90, 91, 92, 93, 94, 95, 96, 97,\n",
       "                                   98, 99],\n",
       "                         'colorbar': {'title': {'text': '#Trials'}, 'x': 1.0, 'xpad': 40},\n",
       "                         'colorscale': [[0.0, 'rgb(247,251,255)'], [0.125,\n",
       "                                        'rgb(222,235,247)'], [0.25,\n",
       "                                        'rgb(198,219,239)'], [0.375,\n",
       "                                        'rgb(158,202,225)'], [0.5,\n",
       "                                        'rgb(107,174,214)'], [0.625,\n",
       "                                        'rgb(66,146,198)'], [0.75,\n",
       "                                        'rgb(33,113,181)'], [0.875,\n",
       "                                        'rgb(8,81,156)'], [1.0, 'rgb(8,48,107)']],\n",
       "                         'line': {'color': 'Grey', 'width': 0.5},\n",
       "                         'showscale': False},\n",
       "              'mode': 'markers',\n",
       "              'showlegend': False,\n",
       "              'type': 'scatter',\n",
       "              'x': [24, 48, 48, 24, 48, 48, 48, 48, 48, 48, 24, 2020, 24, 2020,\n",
       "                    24, 24, 2020, 24, 24, 2020, 24, 24, 2020, 2020, 24, 2020, 2020,\n",
       "                    24, 24, 2020, 24, 24, 24, 24, 24, 24, 24, 2020, 2020, 2020,\n",
       "                    2020, 2020, 2020, 2020, 48, 48, 24, 24, 48, 24, 24, 24, 24, 24,\n",
       "                    24, 24, 24, 24, 24, 24, 24, 24, 2020, 2020, 2020, 2020, 2020,\n",
       "                    2020, 2020, 2020, 2020, 48, 48, 24, 48, 24, 24, 24, 24, 24, 24,\n",
       "                    24, 24, 24, 24, 24, 24, 24, 24, 24, 2020, 2020, 2020, 2020,\n",
       "                    2020, 2020, 2020, 2020, 2020, 2020],\n",
       "              'xaxis': 'x7',\n",
       "              'y': [0.7537128712871287, 0.7537128712871287, 0.7537128712871287,\n",
       "                    0.7537128712871287, 0.7537128712871287, 0.7537128712871287,\n",
       "                    0.7537128712871287, 0.7537128712871287, 0.7537128712871287,\n",
       "                    0.7537128712871287, 0.7537128712871287, 0.7537128712871287,\n",
       "                    0.7537128712871287, 0.7537128712871287, 0.7537128712871287,\n",
       "                    0.7537128712871287, 0.7537128712871287, 0.7537128712871287,\n",
       "                    0.7537128712871287, 0.7537128712871287, 0.7537128712871287,\n",
       "                    0.7537128712871287, 0.7537128712871287, 0.7537128712871287,\n",
       "                    0.7537128712871287, 0.7537128712871287, 0.7537128712871287,\n",
       "                    0.7537128712871287, 0.7537128712871287, 0.7537128712871287,\n",
       "                    0.7537128712871287, 0.7537128712871287, 0.7537128712871287,\n",
       "                    0.7537128712871287, 0.7537128712871287, 0.7537128712871287,\n",
       "                    0.7537128712871287, 0.7537128712871287, 0.7537128712871287,\n",
       "                    0.7537128712871287, 0.7537128712871287, 0.7537128712871287,\n",
       "                    0.7537128712871287, 0.7537128712871287, 0.7537128712871287,\n",
       "                    0.7537128712871287, 0.7537128712871287, 0.7537128712871287,\n",
       "                    0.7537128712871287, 0.7537128712871287, 0.7537128712871287,\n",
       "                    0.7537128712871287, 0.7537128712871287, 0.7537128712871287,\n",
       "                    0.7537128712871287, 0.7537128712871287, 0.7537128712871287,\n",
       "                    0.7537128712871287, 0.7537128712871287, 0.7537128712871287,\n",
       "                    0.7537128712871287, 0.7537128712871287, 0.7537128712871287,\n",
       "                    0.7537128712871287, 0.7537128712871287, 0.7537128712871287,\n",
       "                    0.7537128712871287, 0.7537128712871287, 0.7537128712871287,\n",
       "                    0.7537128712871287, 0.7537128712871287, 0.7537128712871287,\n",
       "                    0.7537128712871287, 0.7537128712871287, 0.7537128712871287,\n",
       "                    0.7537128712871287, 0.7537128712871287, 0.7537128712871287,\n",
       "                    0.7537128712871287, 0.7537128712871287, 0.7537128712871287,\n",
       "                    0.7537128712871287, 0.7537128712871287, 0.7537128712871287,\n",
       "                    0.7537128712871287, 0.7537128712871287, 0.7537128712871287,\n",
       "                    0.7537128712871287, 0.7537128712871287, 0.7537128712871287,\n",
       "                    0.7537128712871287, 0.7537128712871287, 0.7537128712871287,\n",
       "                    0.7537128712871287, 0.7537128712871287, 0.7537128712871287,\n",
       "                    0.7537128712871287, 0.7537128712871287, 0.7537128712871287,\n",
       "                    0.75],\n",
       "              'yaxis': 'y7'},\n",
       "             {'marker': {'color': [0, 1, 2, 3, 4, 5, 6, 7, 8, 9, 10, 11, 12, 13,\n",
       "                                   14, 15, 16, 17, 18, 19, 20, 21, 22, 23, 24, 25,\n",
       "                                   26, 27, 28, 29, 30, 31, 32, 33, 34, 35, 36, 37,\n",
       "                                   38, 39, 40, 41, 42, 43, 44, 45, 46, 47, 48, 49,\n",
       "                                   50, 51, 52, 53, 54, 55, 56, 57, 58, 59, 60, 61,\n",
       "                                   62, 63, 64, 65, 66, 67, 68, 69, 70, 71, 72, 73,\n",
       "                                   74, 75, 76, 77, 78, 79, 80, 81, 82, 83, 84, 85,\n",
       "                                   86, 87, 88, 89, 90, 91, 92, 93, 94, 95, 96, 97,\n",
       "                                   98, 99],\n",
       "                         'colorbar': {'title': {'text': '#Trials'}, 'x': 1.0, 'xpad': 40},\n",
       "                         'colorscale': [[0.0, 'rgb(247,251,255)'], [0.125,\n",
       "                                        'rgb(222,235,247)'], [0.25,\n",
       "                                        'rgb(198,219,239)'], [0.375,\n",
       "                                        'rgb(158,202,225)'], [0.5,\n",
       "                                        'rgb(107,174,214)'], [0.625,\n",
       "                                        'rgb(66,146,198)'], [0.75,\n",
       "                                        'rgb(33,113,181)'], [0.875,\n",
       "                                        'rgb(8,81,156)'], [1.0, 'rgb(8,48,107)']],\n",
       "                         'line': {'color': 'Grey', 'width': 0.5},\n",
       "                         'showscale': False},\n",
       "              'mode': 'markers',\n",
       "              'showlegend': False,\n",
       "              'type': 'scatter',\n",
       "              'x': [0.4, 0.4, 1.0, 0.4, 0.7, 0.7, 0.5, 0.6, 0.7, 0.4, 0.8, 0.4,\n",
       "                    0.4, 0.4, 1.0, 0.8, 0.5, 1.0, 0.8, 0.5, 1.0, 0.8, 0.5, 0.6,\n",
       "                    1.0, 0.5, 0.6, 0.6, 0.5, 0.6, 0.6, 0.6, 0.6, 0.6, 0.6, 0.8,\n",
       "                    1.0, 0.8, 0.7, 0.4, 1.0, 0.5, 0.6, 0.4, 0.7, 1.0, 0.5, 0.5,\n",
       "                    0.6, 0.6, 0.4, 0.6, 0.6, 0.6, 0.6, 0.6, 0.6, 0.6, 0.8, 0.8,\n",
       "                    1.0, 0.8, 0.7, 0.7, 0.4, 0.4, 1.0, 0.8, 1.0, 0.4, 0.7, 0.5,\n",
       "                    0.5, 0.5, 0.6, 0.6, 0.6, 0.6, 0.6, 0.4, 0.6, 0.6, 0.8, 0.8,\n",
       "                    0.8, 0.8, 0.8, 0.7, 0.7, 0.7, 0.7, 0.4, 1.0, 0.4, 0.4, 1.0,\n",
       "                    0.4, 0.4, 0.7, 0.4],\n",
       "              'xaxis': 'x8',\n",
       "              'y': [0.7537128712871287, 0.7537128712871287, 0.7537128712871287,\n",
       "                    0.7537128712871287, 0.7537128712871287, 0.7537128712871287,\n",
       "                    0.7537128712871287, 0.7537128712871287, 0.7537128712871287,\n",
       "                    0.7537128712871287, 0.7537128712871287, 0.7537128712871287,\n",
       "                    0.7537128712871287, 0.7537128712871287, 0.7537128712871287,\n",
       "                    0.7537128712871287, 0.7537128712871287, 0.7537128712871287,\n",
       "                    0.7537128712871287, 0.7537128712871287, 0.7537128712871287,\n",
       "                    0.7537128712871287, 0.7537128712871287, 0.7537128712871287,\n",
       "                    0.7537128712871287, 0.7537128712871287, 0.7537128712871287,\n",
       "                    0.7537128712871287, 0.7537128712871287, 0.7537128712871287,\n",
       "                    0.7537128712871287, 0.7537128712871287, 0.7537128712871287,\n",
       "                    0.7537128712871287, 0.7537128712871287, 0.7537128712871287,\n",
       "                    0.7537128712871287, 0.7537128712871287, 0.7537128712871287,\n",
       "                    0.7537128712871287, 0.7537128712871287, 0.7537128712871287,\n",
       "                    0.7537128712871287, 0.7537128712871287, 0.7537128712871287,\n",
       "                    0.7537128712871287, 0.7537128712871287, 0.7537128712871287,\n",
       "                    0.7537128712871287, 0.7537128712871287, 0.7537128712871287,\n",
       "                    0.7537128712871287, 0.7537128712871287, 0.7537128712871287,\n",
       "                    0.7537128712871287, 0.7537128712871287, 0.7537128712871287,\n",
       "                    0.7537128712871287, 0.7537128712871287, 0.7537128712871287,\n",
       "                    0.7537128712871287, 0.7537128712871287, 0.7537128712871287,\n",
       "                    0.7537128712871287, 0.7537128712871287, 0.7537128712871287,\n",
       "                    0.7537128712871287, 0.7537128712871287, 0.7537128712871287,\n",
       "                    0.7537128712871287, 0.7537128712871287, 0.7537128712871287,\n",
       "                    0.7537128712871287, 0.7537128712871287, 0.7537128712871287,\n",
       "                    0.7537128712871287, 0.7537128712871287, 0.7537128712871287,\n",
       "                    0.7537128712871287, 0.7537128712871287, 0.7537128712871287,\n",
       "                    0.7537128712871287, 0.7537128712871287, 0.7537128712871287,\n",
       "                    0.7537128712871287, 0.7537128712871287, 0.7537128712871287,\n",
       "                    0.7537128712871287, 0.7537128712871287, 0.7537128712871287,\n",
       "                    0.7537128712871287, 0.7537128712871287, 0.7537128712871287,\n",
       "                    0.7537128712871287, 0.7537128712871287, 0.7537128712871287,\n",
       "                    0.7537128712871287, 0.7537128712871287, 0.7537128712871287,\n",
       "                    0.75],\n",
       "              'yaxis': 'y8'}],\n",
       "    'layout': {'template': '...',\n",
       "               'title': {'text': 'Slice Plot'},\n",
       "               'width': 2400,\n",
       "               'xaxis': {'anchor': 'y', 'domain': [0.0, 0.103125], 'title': {'text': 'alpha'}, 'type': 'log'},\n",
       "               'xaxis2': {'anchor': 'y2',\n",
       "                          'domain': [0.128125, 0.23124999999999998],\n",
       "                          'title': {'text': 'colsample_bytree'}},\n",
       "               'xaxis3': {'anchor': 'y3', 'domain': [0.25625, 0.359375], 'title': {'text': 'lambda'}, 'type': 'log'},\n",
       "               'xaxis4': {'anchor': 'y4',\n",
       "                          'domain': [0.38437499999999997, 0.48749999999999993],\n",
       "                          'title': {'text': 'learning_rate'}},\n",
       "               'xaxis5': {'anchor': 'y5', 'domain': [0.5125, 0.615625], 'title': {'text': 'max_depth'}},\n",
       "               'xaxis6': {'anchor': 'y6', 'domain': [0.640625, 0.74375], 'title': {'text': 'min_child_weight'}},\n",
       "               'xaxis7': {'anchor': 'y7', 'domain': [0.76875, 0.8718750000000001], 'title': {'text': 'random_state'}},\n",
       "               'xaxis8': {'anchor': 'y8', 'domain': [0.8968750000000001, 1.0], 'title': {'text': 'subsample'}},\n",
       "               'yaxis': {'anchor': 'x', 'domain': [0.0, 1.0], 'title': {'text': 'Objective Value'}},\n",
       "               'yaxis2': {'anchor': 'x2', 'domain': [0.0, 1.0], 'matches': 'y', 'showticklabels': False},\n",
       "               'yaxis3': {'anchor': 'x3', 'domain': [0.0, 1.0], 'matches': 'y', 'showticklabels': False},\n",
       "               'yaxis4': {'anchor': 'x4', 'domain': [0.0, 1.0], 'matches': 'y', 'showticklabels': False},\n",
       "               'yaxis5': {'anchor': 'x5', 'domain': [0.0, 1.0], 'matches': 'y', 'showticklabels': False},\n",
       "               'yaxis6': {'anchor': 'x6', 'domain': [0.0, 1.0], 'matches': 'y', 'showticklabels': False},\n",
       "               'yaxis7': {'anchor': 'x7', 'domain': [0.0, 1.0], 'matches': 'y', 'showticklabels': False},\n",
       "               'yaxis8': {'anchor': 'x8', 'domain': [0.0, 1.0], 'matches': 'y', 'showticklabels': False}}\n",
       "})"
      ]
     },
     "execution_count": 33,
     "metadata": {},
     "output_type": "execute_result"
    }
   ],
   "source": [
    "optuna.visualization.plot_slice(study)"
   ]
  },
  {
   "cell_type": "code",
   "execution_count": 34,
   "metadata": {},
   "outputs": [
    {
     "ename": "ValueError",
     "evalue": "Mime type rendering requires nbformat>=4.2.0 but it is not installed",
     "output_type": "error",
     "traceback": [
      "\u001b[0;31m---------------------------------------------------------------------------\u001b[0m",
      "\u001b[0;31mValueError\u001b[0m                                Traceback (most recent call last)",
      "File \u001b[0;32m~/miniconda3/envs/challenge/lib/python3.8/site-packages/IPython/core/formatters.py:921\u001b[0m, in \u001b[0;36mIPythonDisplayFormatter.__call__\u001b[0;34m(self, obj)\u001b[0m\n\u001b[1;32m    <a href='file:///home/chainyo/miniconda3/envs/challenge/lib/python3.8/site-packages/IPython/core/formatters.py?line=918'>919</a>\u001b[0m method \u001b[39m=\u001b[39m get_real_method(obj, \u001b[39mself\u001b[39m\u001b[39m.\u001b[39mprint_method)\n\u001b[1;32m    <a href='file:///home/chainyo/miniconda3/envs/challenge/lib/python3.8/site-packages/IPython/core/formatters.py?line=919'>920</a>\u001b[0m \u001b[39mif\u001b[39;00m method \u001b[39mis\u001b[39;00m \u001b[39mnot\u001b[39;00m \u001b[39mNone\u001b[39;00m:\n\u001b[0;32m--> <a href='file:///home/chainyo/miniconda3/envs/challenge/lib/python3.8/site-packages/IPython/core/formatters.py?line=920'>921</a>\u001b[0m     method()\n\u001b[1;32m    <a href='file:///home/chainyo/miniconda3/envs/challenge/lib/python3.8/site-packages/IPython/core/formatters.py?line=921'>922</a>\u001b[0m     \u001b[39mreturn\u001b[39;00m \u001b[39mTrue\u001b[39;00m\n",
      "File \u001b[0;32m~/miniconda3/envs/challenge/lib/python3.8/site-packages/plotly/basedatatypes.py:844\u001b[0m, in \u001b[0;36mBaseFigure._ipython_display_\u001b[0;34m(self)\u001b[0m\n\u001b[1;32m    <a href='file:///home/chainyo/miniconda3/envs/challenge/lib/python3.8/site-packages/plotly/basedatatypes.py?line=840'>841</a>\u001b[0m \u001b[39mimport\u001b[39;00m \u001b[39mplotly\u001b[39;00m\u001b[39m.\u001b[39;00m\u001b[39mio\u001b[39;00m \u001b[39mas\u001b[39;00m \u001b[39mpio\u001b[39;00m\n\u001b[1;32m    <a href='file:///home/chainyo/miniconda3/envs/challenge/lib/python3.8/site-packages/plotly/basedatatypes.py?line=842'>843</a>\u001b[0m \u001b[39mif\u001b[39;00m pio\u001b[39m.\u001b[39mrenderers\u001b[39m.\u001b[39mrender_on_display \u001b[39mand\u001b[39;00m pio\u001b[39m.\u001b[39mrenderers\u001b[39m.\u001b[39mdefault:\n\u001b[0;32m--> <a href='file:///home/chainyo/miniconda3/envs/challenge/lib/python3.8/site-packages/plotly/basedatatypes.py?line=843'>844</a>\u001b[0m     pio\u001b[39m.\u001b[39;49mshow(\u001b[39mself\u001b[39;49m)\n\u001b[1;32m    <a href='file:///home/chainyo/miniconda3/envs/challenge/lib/python3.8/site-packages/plotly/basedatatypes.py?line=844'>845</a>\u001b[0m \u001b[39melse\u001b[39;00m:\n\u001b[1;32m    <a href='file:///home/chainyo/miniconda3/envs/challenge/lib/python3.8/site-packages/plotly/basedatatypes.py?line=845'>846</a>\u001b[0m     \u001b[39mprint\u001b[39m(\u001b[39mrepr\u001b[39m(\u001b[39mself\u001b[39m))\n",
      "File \u001b[0;32m~/miniconda3/envs/challenge/lib/python3.8/site-packages/plotly/io/_renderers.py:397\u001b[0m, in \u001b[0;36mshow\u001b[0;34m(fig, renderer, validate, **kwargs)\u001b[0m\n\u001b[1;32m    <a href='file:///home/chainyo/miniconda3/envs/challenge/lib/python3.8/site-packages/plotly/io/_renderers.py?line=391'>392</a>\u001b[0m         \u001b[39mraise\u001b[39;00m \u001b[39mValueError\u001b[39;00m(\n\u001b[1;32m    <a href='file:///home/chainyo/miniconda3/envs/challenge/lib/python3.8/site-packages/plotly/io/_renderers.py?line=392'>393</a>\u001b[0m             \u001b[39m\"\u001b[39m\u001b[39mMime type rendering requires ipython but it is not installed\u001b[39m\u001b[39m\"\u001b[39m\n\u001b[1;32m    <a href='file:///home/chainyo/miniconda3/envs/challenge/lib/python3.8/site-packages/plotly/io/_renderers.py?line=393'>394</a>\u001b[0m         )\n\u001b[1;32m    <a href='file:///home/chainyo/miniconda3/envs/challenge/lib/python3.8/site-packages/plotly/io/_renderers.py?line=395'>396</a>\u001b[0m     \u001b[39mif\u001b[39;00m \u001b[39mnot\u001b[39;00m nbformat \u001b[39mor\u001b[39;00m LooseVersion(nbformat\u001b[39m.\u001b[39m__version__) \u001b[39m<\u001b[39m LooseVersion(\u001b[39m\"\u001b[39m\u001b[39m4.2.0\u001b[39m\u001b[39m\"\u001b[39m):\n\u001b[0;32m--> <a href='file:///home/chainyo/miniconda3/envs/challenge/lib/python3.8/site-packages/plotly/io/_renderers.py?line=396'>397</a>\u001b[0m         \u001b[39mraise\u001b[39;00m \u001b[39mValueError\u001b[39;00m(\n\u001b[1;32m    <a href='file:///home/chainyo/miniconda3/envs/challenge/lib/python3.8/site-packages/plotly/io/_renderers.py?line=397'>398</a>\u001b[0m             \u001b[39m\"\u001b[39m\u001b[39mMime type rendering requires nbformat>=4.2.0 but it is not installed\u001b[39m\u001b[39m\"\u001b[39m\n\u001b[1;32m    <a href='file:///home/chainyo/miniconda3/envs/challenge/lib/python3.8/site-packages/plotly/io/_renderers.py?line=398'>399</a>\u001b[0m         )\n\u001b[1;32m    <a href='file:///home/chainyo/miniconda3/envs/challenge/lib/python3.8/site-packages/plotly/io/_renderers.py?line=400'>401</a>\u001b[0m     ipython_display\u001b[39m.\u001b[39mdisplay(bundle, raw\u001b[39m=\u001b[39m\u001b[39mTrue\u001b[39;00m)\n\u001b[1;32m    <a href='file:///home/chainyo/miniconda3/envs/challenge/lib/python3.8/site-packages/plotly/io/_renderers.py?line=402'>403</a>\u001b[0m \u001b[39m# external renderers\u001b[39;00m\n",
      "\u001b[0;31mValueError\u001b[0m: Mime type rendering requires nbformat>=4.2.0 but it is not installed"
     ]
    },
    {
     "data": {
      "application/vnd.plotly.v1+json": {
       "config": {
        "plotlyServerURL": "https://plot.ly"
       },
       "data": [
        {
         "cliponaxis": false,
         "hovertemplate": [
          "learning_rate (CategoricalDistribution): 3.138179765264914e-29<extra></extra>",
          "random_state (CategoricalDistribution): 9.414539295795023e-29<extra></extra>",
          "max_depth (CategoricalDistribution): 0.00028847390151815426<extra></extra>",
          "colsample_bytree (CategoricalDistribution): 0.0005769478030363085<extra></extra>",
          "subsample (CategoricalDistribution): 0.0005769478030363085<extra></extra>",
          "min_child_weight (IntUniformDistribution): 0.010593688680710058<extra></extra>",
          "lambda (LogUniformDistribution): 0.22976282774807988<extra></extra>",
          "alpha (LogUniformDistribution): 0.7582011140636193<extra></extra>"
         ],
         "marker": {
          "color": "rgb(66,146,198)"
         },
         "orientation": "h",
         "text": [
          "3.138179765264914e-29",
          "9.414539295795023e-29",
          "0.00028847390151815426",
          "0.0005769478030363085",
          "0.0005769478030363085",
          "0.010593688680710058",
          "0.22976282774807988",
          "0.7582011140636193"
         ],
         "textposition": "outside",
         "texttemplate": "%{text:.2f}",
         "type": "bar",
         "x": [
          3.138179765264914e-29,
          9.414539295795023e-29,
          0.00028847390151815426,
          0.0005769478030363085,
          0.0005769478030363085,
          0.010593688680710058,
          0.22976282774807988,
          0.7582011140636193
         ],
         "y": [
          "learning_rate",
          "random_state",
          "max_depth",
          "colsample_bytree",
          "subsample",
          "min_child_weight",
          "lambda",
          "alpha"
         ]
        }
       ],
       "layout": {
        "showlegend": false,
        "template": {
         "data": {
          "bar": [
           {
            "error_x": {
             "color": "#2a3f5f"
            },
            "error_y": {
             "color": "#2a3f5f"
            },
            "marker": {
             "line": {
              "color": "#E5ECF6",
              "width": 0.5
             },
             "pattern": {
              "fillmode": "overlay",
              "size": 10,
              "solidity": 0.2
             }
            },
            "type": "bar"
           }
          ],
          "barpolar": [
           {
            "marker": {
             "line": {
              "color": "#E5ECF6",
              "width": 0.5
             },
             "pattern": {
              "fillmode": "overlay",
              "size": 10,
              "solidity": 0.2
             }
            },
            "type": "barpolar"
           }
          ],
          "carpet": [
           {
            "aaxis": {
             "endlinecolor": "#2a3f5f",
             "gridcolor": "white",
             "linecolor": "white",
             "minorgridcolor": "white",
             "startlinecolor": "#2a3f5f"
            },
            "baxis": {
             "endlinecolor": "#2a3f5f",
             "gridcolor": "white",
             "linecolor": "white",
             "minorgridcolor": "white",
             "startlinecolor": "#2a3f5f"
            },
            "type": "carpet"
           }
          ],
          "choropleth": [
           {
            "colorbar": {
             "outlinewidth": 0,
             "ticks": ""
            },
            "type": "choropleth"
           }
          ],
          "contour": [
           {
            "colorbar": {
             "outlinewidth": 0,
             "ticks": ""
            },
            "colorscale": [
             [
              0,
              "#0d0887"
             ],
             [
              0.1111111111111111,
              "#46039f"
             ],
             [
              0.2222222222222222,
              "#7201a8"
             ],
             [
              0.3333333333333333,
              "#9c179e"
             ],
             [
              0.4444444444444444,
              "#bd3786"
             ],
             [
              0.5555555555555556,
              "#d8576b"
             ],
             [
              0.6666666666666666,
              "#ed7953"
             ],
             [
              0.7777777777777778,
              "#fb9f3a"
             ],
             [
              0.8888888888888888,
              "#fdca26"
             ],
             [
              1,
              "#f0f921"
             ]
            ],
            "type": "contour"
           }
          ],
          "contourcarpet": [
           {
            "colorbar": {
             "outlinewidth": 0,
             "ticks": ""
            },
            "type": "contourcarpet"
           }
          ],
          "heatmap": [
           {
            "colorbar": {
             "outlinewidth": 0,
             "ticks": ""
            },
            "colorscale": [
             [
              0,
              "#0d0887"
             ],
             [
              0.1111111111111111,
              "#46039f"
             ],
             [
              0.2222222222222222,
              "#7201a8"
             ],
             [
              0.3333333333333333,
              "#9c179e"
             ],
             [
              0.4444444444444444,
              "#bd3786"
             ],
             [
              0.5555555555555556,
              "#d8576b"
             ],
             [
              0.6666666666666666,
              "#ed7953"
             ],
             [
              0.7777777777777778,
              "#fb9f3a"
             ],
             [
              0.8888888888888888,
              "#fdca26"
             ],
             [
              1,
              "#f0f921"
             ]
            ],
            "type": "heatmap"
           }
          ],
          "heatmapgl": [
           {
            "colorbar": {
             "outlinewidth": 0,
             "ticks": ""
            },
            "colorscale": [
             [
              0,
              "#0d0887"
             ],
             [
              0.1111111111111111,
              "#46039f"
             ],
             [
              0.2222222222222222,
              "#7201a8"
             ],
             [
              0.3333333333333333,
              "#9c179e"
             ],
             [
              0.4444444444444444,
              "#bd3786"
             ],
             [
              0.5555555555555556,
              "#d8576b"
             ],
             [
              0.6666666666666666,
              "#ed7953"
             ],
             [
              0.7777777777777778,
              "#fb9f3a"
             ],
             [
              0.8888888888888888,
              "#fdca26"
             ],
             [
              1,
              "#f0f921"
             ]
            ],
            "type": "heatmapgl"
           }
          ],
          "histogram": [
           {
            "marker": {
             "pattern": {
              "fillmode": "overlay",
              "size": 10,
              "solidity": 0.2
             }
            },
            "type": "histogram"
           }
          ],
          "histogram2d": [
           {
            "colorbar": {
             "outlinewidth": 0,
             "ticks": ""
            },
            "colorscale": [
             [
              0,
              "#0d0887"
             ],
             [
              0.1111111111111111,
              "#46039f"
             ],
             [
              0.2222222222222222,
              "#7201a8"
             ],
             [
              0.3333333333333333,
              "#9c179e"
             ],
             [
              0.4444444444444444,
              "#bd3786"
             ],
             [
              0.5555555555555556,
              "#d8576b"
             ],
             [
              0.6666666666666666,
              "#ed7953"
             ],
             [
              0.7777777777777778,
              "#fb9f3a"
             ],
             [
              0.8888888888888888,
              "#fdca26"
             ],
             [
              1,
              "#f0f921"
             ]
            ],
            "type": "histogram2d"
           }
          ],
          "histogram2dcontour": [
           {
            "colorbar": {
             "outlinewidth": 0,
             "ticks": ""
            },
            "colorscale": [
             [
              0,
              "#0d0887"
             ],
             [
              0.1111111111111111,
              "#46039f"
             ],
             [
              0.2222222222222222,
              "#7201a8"
             ],
             [
              0.3333333333333333,
              "#9c179e"
             ],
             [
              0.4444444444444444,
              "#bd3786"
             ],
             [
              0.5555555555555556,
              "#d8576b"
             ],
             [
              0.6666666666666666,
              "#ed7953"
             ],
             [
              0.7777777777777778,
              "#fb9f3a"
             ],
             [
              0.8888888888888888,
              "#fdca26"
             ],
             [
              1,
              "#f0f921"
             ]
            ],
            "type": "histogram2dcontour"
           }
          ],
          "mesh3d": [
           {
            "colorbar": {
             "outlinewidth": 0,
             "ticks": ""
            },
            "type": "mesh3d"
           }
          ],
          "parcoords": [
           {
            "line": {
             "colorbar": {
              "outlinewidth": 0,
              "ticks": ""
             }
            },
            "type": "parcoords"
           }
          ],
          "pie": [
           {
            "automargin": true,
            "type": "pie"
           }
          ],
          "scatter": [
           {
            "marker": {
             "colorbar": {
              "outlinewidth": 0,
              "ticks": ""
             }
            },
            "type": "scatter"
           }
          ],
          "scatter3d": [
           {
            "line": {
             "colorbar": {
              "outlinewidth": 0,
              "ticks": ""
             }
            },
            "marker": {
             "colorbar": {
              "outlinewidth": 0,
              "ticks": ""
             }
            },
            "type": "scatter3d"
           }
          ],
          "scattercarpet": [
           {
            "marker": {
             "colorbar": {
              "outlinewidth": 0,
              "ticks": ""
             }
            },
            "type": "scattercarpet"
           }
          ],
          "scattergeo": [
           {
            "marker": {
             "colorbar": {
              "outlinewidth": 0,
              "ticks": ""
             }
            },
            "type": "scattergeo"
           }
          ],
          "scattergl": [
           {
            "marker": {
             "colorbar": {
              "outlinewidth": 0,
              "ticks": ""
             }
            },
            "type": "scattergl"
           }
          ],
          "scattermapbox": [
           {
            "marker": {
             "colorbar": {
              "outlinewidth": 0,
              "ticks": ""
             }
            },
            "type": "scattermapbox"
           }
          ],
          "scatterpolar": [
           {
            "marker": {
             "colorbar": {
              "outlinewidth": 0,
              "ticks": ""
             }
            },
            "type": "scatterpolar"
           }
          ],
          "scatterpolargl": [
           {
            "marker": {
             "colorbar": {
              "outlinewidth": 0,
              "ticks": ""
             }
            },
            "type": "scatterpolargl"
           }
          ],
          "scatterternary": [
           {
            "marker": {
             "colorbar": {
              "outlinewidth": 0,
              "ticks": ""
             }
            },
            "type": "scatterternary"
           }
          ],
          "surface": [
           {
            "colorbar": {
             "outlinewidth": 0,
             "ticks": ""
            },
            "colorscale": [
             [
              0,
              "#0d0887"
             ],
             [
              0.1111111111111111,
              "#46039f"
             ],
             [
              0.2222222222222222,
              "#7201a8"
             ],
             [
              0.3333333333333333,
              "#9c179e"
             ],
             [
              0.4444444444444444,
              "#bd3786"
             ],
             [
              0.5555555555555556,
              "#d8576b"
             ],
             [
              0.6666666666666666,
              "#ed7953"
             ],
             [
              0.7777777777777778,
              "#fb9f3a"
             ],
             [
              0.8888888888888888,
              "#fdca26"
             ],
             [
              1,
              "#f0f921"
             ]
            ],
            "type": "surface"
           }
          ],
          "table": [
           {
            "cells": {
             "fill": {
              "color": "#EBF0F8"
             },
             "line": {
              "color": "white"
             }
            },
            "header": {
             "fill": {
              "color": "#C8D4E3"
             },
             "line": {
              "color": "white"
             }
            },
            "type": "table"
           }
          ]
         },
         "layout": {
          "annotationdefaults": {
           "arrowcolor": "#2a3f5f",
           "arrowhead": 0,
           "arrowwidth": 1
          },
          "autotypenumbers": "strict",
          "coloraxis": {
           "colorbar": {
            "outlinewidth": 0,
            "ticks": ""
           }
          },
          "colorscale": {
           "diverging": [
            [
             0,
             "#8e0152"
            ],
            [
             0.1,
             "#c51b7d"
            ],
            [
             0.2,
             "#de77ae"
            ],
            [
             0.3,
             "#f1b6da"
            ],
            [
             0.4,
             "#fde0ef"
            ],
            [
             0.5,
             "#f7f7f7"
            ],
            [
             0.6,
             "#e6f5d0"
            ],
            [
             0.7,
             "#b8e186"
            ],
            [
             0.8,
             "#7fbc41"
            ],
            [
             0.9,
             "#4d9221"
            ],
            [
             1,
             "#276419"
            ]
           ],
           "sequential": [
            [
             0,
             "#0d0887"
            ],
            [
             0.1111111111111111,
             "#46039f"
            ],
            [
             0.2222222222222222,
             "#7201a8"
            ],
            [
             0.3333333333333333,
             "#9c179e"
            ],
            [
             0.4444444444444444,
             "#bd3786"
            ],
            [
             0.5555555555555556,
             "#d8576b"
            ],
            [
             0.6666666666666666,
             "#ed7953"
            ],
            [
             0.7777777777777778,
             "#fb9f3a"
            ],
            [
             0.8888888888888888,
             "#fdca26"
            ],
            [
             1,
             "#f0f921"
            ]
           ],
           "sequentialminus": [
            [
             0,
             "#0d0887"
            ],
            [
             0.1111111111111111,
             "#46039f"
            ],
            [
             0.2222222222222222,
             "#7201a8"
            ],
            [
             0.3333333333333333,
             "#9c179e"
            ],
            [
             0.4444444444444444,
             "#bd3786"
            ],
            [
             0.5555555555555556,
             "#d8576b"
            ],
            [
             0.6666666666666666,
             "#ed7953"
            ],
            [
             0.7777777777777778,
             "#fb9f3a"
            ],
            [
             0.8888888888888888,
             "#fdca26"
            ],
            [
             1,
             "#f0f921"
            ]
           ]
          },
          "colorway": [
           "#636efa",
           "#EF553B",
           "#00cc96",
           "#ab63fa",
           "#FFA15A",
           "#19d3f3",
           "#FF6692",
           "#B6E880",
           "#FF97FF",
           "#FECB52"
          ],
          "font": {
           "color": "#2a3f5f"
          },
          "geo": {
           "bgcolor": "white",
           "lakecolor": "white",
           "landcolor": "#E5ECF6",
           "showlakes": true,
           "showland": true,
           "subunitcolor": "white"
          },
          "hoverlabel": {
           "align": "left"
          },
          "hovermode": "closest",
          "mapbox": {
           "style": "light"
          },
          "paper_bgcolor": "white",
          "plot_bgcolor": "#E5ECF6",
          "polar": {
           "angularaxis": {
            "gridcolor": "white",
            "linecolor": "white",
            "ticks": ""
           },
           "bgcolor": "#E5ECF6",
           "radialaxis": {
            "gridcolor": "white",
            "linecolor": "white",
            "ticks": ""
           }
          },
          "scene": {
           "xaxis": {
            "backgroundcolor": "#E5ECF6",
            "gridcolor": "white",
            "gridwidth": 2,
            "linecolor": "white",
            "showbackground": true,
            "ticks": "",
            "zerolinecolor": "white"
           },
           "yaxis": {
            "backgroundcolor": "#E5ECF6",
            "gridcolor": "white",
            "gridwidth": 2,
            "linecolor": "white",
            "showbackground": true,
            "ticks": "",
            "zerolinecolor": "white"
           },
           "zaxis": {
            "backgroundcolor": "#E5ECF6",
            "gridcolor": "white",
            "gridwidth": 2,
            "linecolor": "white",
            "showbackground": true,
            "ticks": "",
            "zerolinecolor": "white"
           }
          },
          "shapedefaults": {
           "line": {
            "color": "#2a3f5f"
           }
          },
          "ternary": {
           "aaxis": {
            "gridcolor": "white",
            "linecolor": "white",
            "ticks": ""
           },
           "baxis": {
            "gridcolor": "white",
            "linecolor": "white",
            "ticks": ""
           },
           "bgcolor": "#E5ECF6",
           "caxis": {
            "gridcolor": "white",
            "linecolor": "white",
            "ticks": ""
           }
          },
          "title": {
           "x": 0.05
          },
          "xaxis": {
           "automargin": true,
           "gridcolor": "white",
           "linecolor": "white",
           "ticks": "",
           "title": {
            "standoff": 15
           },
           "zerolinecolor": "white",
           "zerolinewidth": 2
          },
          "yaxis": {
           "automargin": true,
           "gridcolor": "white",
           "linecolor": "white",
           "ticks": "",
           "title": {
            "standoff": 15
           },
           "zerolinecolor": "white",
           "zerolinewidth": 2
          }
         }
        },
        "title": {
         "text": "Hyperparameter Importances"
        },
        "xaxis": {
         "title": {
          "text": "Importance for Objective Value"
         }
        },
        "yaxis": {
         "title": {
          "text": "Hyperparameter"
         }
        }
       }
      },
      "text/html": [
       "<div>                        <script type=\"text/javascript\">window.PlotlyConfig = {MathJaxConfig: 'local'};</script>\n",
       "        <script src=\"https://cdn.plot.ly/plotly-2.9.0.min.js\"></script>                <div id=\"eff8a944-8b02-4811-a886-7f28e9de48a7\" class=\"plotly-graph-div\" style=\"height:100%; width:100%;\"></div>            <script type=\"text/javascript\">                                    window.PLOTLYENV=window.PLOTLYENV || {};                                    if (document.getElementById(\"eff8a944-8b02-4811-a886-7f28e9de48a7\")) {                    Plotly.newPlot(                        \"eff8a944-8b02-4811-a886-7f28e9de48a7\",                        [{\"cliponaxis\":false,\"hovertemplate\":[\"learning_rate (CategoricalDistribution): 3.138179765264914e-29<extra></extra>\",\"random_state (CategoricalDistribution): 9.414539295795023e-29<extra></extra>\",\"max_depth (CategoricalDistribution): 0.00028847390151815426<extra></extra>\",\"colsample_bytree (CategoricalDistribution): 0.0005769478030363085<extra></extra>\",\"subsample (CategoricalDistribution): 0.0005769478030363085<extra></extra>\",\"min_child_weight (IntUniformDistribution): 0.010593688680710058<extra></extra>\",\"lambda (LogUniformDistribution): 0.22976282774807988<extra></extra>\",\"alpha (LogUniformDistribution): 0.7582011140636193<extra></extra>\"],\"marker\":{\"color\":\"rgb(66,146,198)\"},\"orientation\":\"h\",\"text\":[\"3.138179765264914e-29\",\"9.414539295795023e-29\",\"0.00028847390151815426\",\"0.0005769478030363085\",\"0.0005769478030363085\",\"0.010593688680710058\",\"0.22976282774807988\",\"0.7582011140636193\"],\"textposition\":\"outside\",\"texttemplate\":\"%{text:.2f}\",\"x\":[3.138179765264914e-29,9.414539295795023e-29,0.00028847390151815426,0.0005769478030363085,0.0005769478030363085,0.010593688680710058,0.22976282774807988,0.7582011140636193],\"y\":[\"learning_rate\",\"random_state\",\"max_depth\",\"colsample_bytree\",\"subsample\",\"min_child_weight\",\"lambda\",\"alpha\"],\"type\":\"bar\"}],                        {\"showlegend\":false,\"title\":{\"text\":\"Hyperparameter Importances\"},\"xaxis\":{\"title\":{\"text\":\"Importance for Objective Value\"}},\"yaxis\":{\"title\":{\"text\":\"Hyperparameter\"}},\"template\":{\"data\":{\"bar\":[{\"error_x\":{\"color\":\"#2a3f5f\"},\"error_y\":{\"color\":\"#2a3f5f\"},\"marker\":{\"line\":{\"color\":\"#E5ECF6\",\"width\":0.5},\"pattern\":{\"fillmode\":\"overlay\",\"size\":10,\"solidity\":0.2}},\"type\":\"bar\"}],\"barpolar\":[{\"marker\":{\"line\":{\"color\":\"#E5ECF6\",\"width\":0.5},\"pattern\":{\"fillmode\":\"overlay\",\"size\":10,\"solidity\":0.2}},\"type\":\"barpolar\"}],\"carpet\":[{\"aaxis\":{\"endlinecolor\":\"#2a3f5f\",\"gridcolor\":\"white\",\"linecolor\":\"white\",\"minorgridcolor\":\"white\",\"startlinecolor\":\"#2a3f5f\"},\"baxis\":{\"endlinecolor\":\"#2a3f5f\",\"gridcolor\":\"white\",\"linecolor\":\"white\",\"minorgridcolor\":\"white\",\"startlinecolor\":\"#2a3f5f\"},\"type\":\"carpet\"}],\"choropleth\":[{\"colorbar\":{\"outlinewidth\":0,\"ticks\":\"\"},\"type\":\"choropleth\"}],\"contour\":[{\"colorbar\":{\"outlinewidth\":0,\"ticks\":\"\"},\"colorscale\":[[0.0,\"#0d0887\"],[0.1111111111111111,\"#46039f\"],[0.2222222222222222,\"#7201a8\"],[0.3333333333333333,\"#9c179e\"],[0.4444444444444444,\"#bd3786\"],[0.5555555555555556,\"#d8576b\"],[0.6666666666666666,\"#ed7953\"],[0.7777777777777778,\"#fb9f3a\"],[0.8888888888888888,\"#fdca26\"],[1.0,\"#f0f921\"]],\"type\":\"contour\"}],\"contourcarpet\":[{\"colorbar\":{\"outlinewidth\":0,\"ticks\":\"\"},\"type\":\"contourcarpet\"}],\"heatmap\":[{\"colorbar\":{\"outlinewidth\":0,\"ticks\":\"\"},\"colorscale\":[[0.0,\"#0d0887\"],[0.1111111111111111,\"#46039f\"],[0.2222222222222222,\"#7201a8\"],[0.3333333333333333,\"#9c179e\"],[0.4444444444444444,\"#bd3786\"],[0.5555555555555556,\"#d8576b\"],[0.6666666666666666,\"#ed7953\"],[0.7777777777777778,\"#fb9f3a\"],[0.8888888888888888,\"#fdca26\"],[1.0,\"#f0f921\"]],\"type\":\"heatmap\"}],\"heatmapgl\":[{\"colorbar\":{\"outlinewidth\":0,\"ticks\":\"\"},\"colorscale\":[[0.0,\"#0d0887\"],[0.1111111111111111,\"#46039f\"],[0.2222222222222222,\"#7201a8\"],[0.3333333333333333,\"#9c179e\"],[0.4444444444444444,\"#bd3786\"],[0.5555555555555556,\"#d8576b\"],[0.6666666666666666,\"#ed7953\"],[0.7777777777777778,\"#fb9f3a\"],[0.8888888888888888,\"#fdca26\"],[1.0,\"#f0f921\"]],\"type\":\"heatmapgl\"}],\"histogram\":[{\"marker\":{\"pattern\":{\"fillmode\":\"overlay\",\"size\":10,\"solidity\":0.2}},\"type\":\"histogram\"}],\"histogram2d\":[{\"colorbar\":{\"outlinewidth\":0,\"ticks\":\"\"},\"colorscale\":[[0.0,\"#0d0887\"],[0.1111111111111111,\"#46039f\"],[0.2222222222222222,\"#7201a8\"],[0.3333333333333333,\"#9c179e\"],[0.4444444444444444,\"#bd3786\"],[0.5555555555555556,\"#d8576b\"],[0.6666666666666666,\"#ed7953\"],[0.7777777777777778,\"#fb9f3a\"],[0.8888888888888888,\"#fdca26\"],[1.0,\"#f0f921\"]],\"type\":\"histogram2d\"}],\"histogram2dcontour\":[{\"colorbar\":{\"outlinewidth\":0,\"ticks\":\"\"},\"colorscale\":[[0.0,\"#0d0887\"],[0.1111111111111111,\"#46039f\"],[0.2222222222222222,\"#7201a8\"],[0.3333333333333333,\"#9c179e\"],[0.4444444444444444,\"#bd3786\"],[0.5555555555555556,\"#d8576b\"],[0.6666666666666666,\"#ed7953\"],[0.7777777777777778,\"#fb9f3a\"],[0.8888888888888888,\"#fdca26\"],[1.0,\"#f0f921\"]],\"type\":\"histogram2dcontour\"}],\"mesh3d\":[{\"colorbar\":{\"outlinewidth\":0,\"ticks\":\"\"},\"type\":\"mesh3d\"}],\"parcoords\":[{\"line\":{\"colorbar\":{\"outlinewidth\":0,\"ticks\":\"\"}},\"type\":\"parcoords\"}],\"pie\":[{\"automargin\":true,\"type\":\"pie\"}],\"scatter\":[{\"marker\":{\"colorbar\":{\"outlinewidth\":0,\"ticks\":\"\"}},\"type\":\"scatter\"}],\"scatter3d\":[{\"line\":{\"colorbar\":{\"outlinewidth\":0,\"ticks\":\"\"}},\"marker\":{\"colorbar\":{\"outlinewidth\":0,\"ticks\":\"\"}},\"type\":\"scatter3d\"}],\"scattercarpet\":[{\"marker\":{\"colorbar\":{\"outlinewidth\":0,\"ticks\":\"\"}},\"type\":\"scattercarpet\"}],\"scattergeo\":[{\"marker\":{\"colorbar\":{\"outlinewidth\":0,\"ticks\":\"\"}},\"type\":\"scattergeo\"}],\"scattergl\":[{\"marker\":{\"colorbar\":{\"outlinewidth\":0,\"ticks\":\"\"}},\"type\":\"scattergl\"}],\"scattermapbox\":[{\"marker\":{\"colorbar\":{\"outlinewidth\":0,\"ticks\":\"\"}},\"type\":\"scattermapbox\"}],\"scatterpolar\":[{\"marker\":{\"colorbar\":{\"outlinewidth\":0,\"ticks\":\"\"}},\"type\":\"scatterpolar\"}],\"scatterpolargl\":[{\"marker\":{\"colorbar\":{\"outlinewidth\":0,\"ticks\":\"\"}},\"type\":\"scatterpolargl\"}],\"scatterternary\":[{\"marker\":{\"colorbar\":{\"outlinewidth\":0,\"ticks\":\"\"}},\"type\":\"scatterternary\"}],\"surface\":[{\"colorbar\":{\"outlinewidth\":0,\"ticks\":\"\"},\"colorscale\":[[0.0,\"#0d0887\"],[0.1111111111111111,\"#46039f\"],[0.2222222222222222,\"#7201a8\"],[0.3333333333333333,\"#9c179e\"],[0.4444444444444444,\"#bd3786\"],[0.5555555555555556,\"#d8576b\"],[0.6666666666666666,\"#ed7953\"],[0.7777777777777778,\"#fb9f3a\"],[0.8888888888888888,\"#fdca26\"],[1.0,\"#f0f921\"]],\"type\":\"surface\"}],\"table\":[{\"cells\":{\"fill\":{\"color\":\"#EBF0F8\"},\"line\":{\"color\":\"white\"}},\"header\":{\"fill\":{\"color\":\"#C8D4E3\"},\"line\":{\"color\":\"white\"}},\"type\":\"table\"}]},\"layout\":{\"annotationdefaults\":{\"arrowcolor\":\"#2a3f5f\",\"arrowhead\":0,\"arrowwidth\":1},\"autotypenumbers\":\"strict\",\"coloraxis\":{\"colorbar\":{\"outlinewidth\":0,\"ticks\":\"\"}},\"colorscale\":{\"diverging\":[[0,\"#8e0152\"],[0.1,\"#c51b7d\"],[0.2,\"#de77ae\"],[0.3,\"#f1b6da\"],[0.4,\"#fde0ef\"],[0.5,\"#f7f7f7\"],[0.6,\"#e6f5d0\"],[0.7,\"#b8e186\"],[0.8,\"#7fbc41\"],[0.9,\"#4d9221\"],[1,\"#276419\"]],\"sequential\":[[0.0,\"#0d0887\"],[0.1111111111111111,\"#46039f\"],[0.2222222222222222,\"#7201a8\"],[0.3333333333333333,\"#9c179e\"],[0.4444444444444444,\"#bd3786\"],[0.5555555555555556,\"#d8576b\"],[0.6666666666666666,\"#ed7953\"],[0.7777777777777778,\"#fb9f3a\"],[0.8888888888888888,\"#fdca26\"],[1.0,\"#f0f921\"]],\"sequentialminus\":[[0.0,\"#0d0887\"],[0.1111111111111111,\"#46039f\"],[0.2222222222222222,\"#7201a8\"],[0.3333333333333333,\"#9c179e\"],[0.4444444444444444,\"#bd3786\"],[0.5555555555555556,\"#d8576b\"],[0.6666666666666666,\"#ed7953\"],[0.7777777777777778,\"#fb9f3a\"],[0.8888888888888888,\"#fdca26\"],[1.0,\"#f0f921\"]]},\"colorway\":[\"#636efa\",\"#EF553B\",\"#00cc96\",\"#ab63fa\",\"#FFA15A\",\"#19d3f3\",\"#FF6692\",\"#B6E880\",\"#FF97FF\",\"#FECB52\"],\"font\":{\"color\":\"#2a3f5f\"},\"geo\":{\"bgcolor\":\"white\",\"lakecolor\":\"white\",\"landcolor\":\"#E5ECF6\",\"showlakes\":true,\"showland\":true,\"subunitcolor\":\"white\"},\"hoverlabel\":{\"align\":\"left\"},\"hovermode\":\"closest\",\"mapbox\":{\"style\":\"light\"},\"paper_bgcolor\":\"white\",\"plot_bgcolor\":\"#E5ECF6\",\"polar\":{\"angularaxis\":{\"gridcolor\":\"white\",\"linecolor\":\"white\",\"ticks\":\"\"},\"bgcolor\":\"#E5ECF6\",\"radialaxis\":{\"gridcolor\":\"white\",\"linecolor\":\"white\",\"ticks\":\"\"}},\"scene\":{\"xaxis\":{\"backgroundcolor\":\"#E5ECF6\",\"gridcolor\":\"white\",\"gridwidth\":2,\"linecolor\":\"white\",\"showbackground\":true,\"ticks\":\"\",\"zerolinecolor\":\"white\"},\"yaxis\":{\"backgroundcolor\":\"#E5ECF6\",\"gridcolor\":\"white\",\"gridwidth\":2,\"linecolor\":\"white\",\"showbackground\":true,\"ticks\":\"\",\"zerolinecolor\":\"white\"},\"zaxis\":{\"backgroundcolor\":\"#E5ECF6\",\"gridcolor\":\"white\",\"gridwidth\":2,\"linecolor\":\"white\",\"showbackground\":true,\"ticks\":\"\",\"zerolinecolor\":\"white\"}},\"shapedefaults\":{\"line\":{\"color\":\"#2a3f5f\"}},\"ternary\":{\"aaxis\":{\"gridcolor\":\"white\",\"linecolor\":\"white\",\"ticks\":\"\"},\"baxis\":{\"gridcolor\":\"white\",\"linecolor\":\"white\",\"ticks\":\"\"},\"bgcolor\":\"#E5ECF6\",\"caxis\":{\"gridcolor\":\"white\",\"linecolor\":\"white\",\"ticks\":\"\"}},\"title\":{\"x\":0.05},\"xaxis\":{\"automargin\":true,\"gridcolor\":\"white\",\"linecolor\":\"white\",\"ticks\":\"\",\"title\":{\"standoff\":15},\"zerolinecolor\":\"white\",\"zerolinewidth\":2},\"yaxis\":{\"automargin\":true,\"gridcolor\":\"white\",\"linecolor\":\"white\",\"ticks\":\"\",\"title\":{\"standoff\":15},\"zerolinecolor\":\"white\",\"zerolinewidth\":2}}}},                        {\"responsive\": true}                    )                };                            </script>        </div>"
      ],
      "text/plain": [
       "Figure({\n",
       "    'data': [{'cliponaxis': False,\n",
       "              'hovertemplate': [learning_rate (CategoricalDistribution):\n",
       "                                3.138179765264914e-29<extra></extra>, random_state\n",
       "                                (CategoricalDistribution):\n",
       "                                9.414539295795023e-29<extra></extra>, max_depth\n",
       "                                (CategoricalDistribution):\n",
       "                                0.00028847390151815426<extra></extra>,\n",
       "                                colsample_bytree (CategoricalDistribution):\n",
       "                                0.0005769478030363085<extra></extra>, subsample\n",
       "                                (CategoricalDistribution):\n",
       "                                0.0005769478030363085<extra></extra>,\n",
       "                                min_child_weight (IntUniformDistribution):\n",
       "                                0.010593688680710058<extra></extra>, lambda\n",
       "                                (LogUniformDistribution):\n",
       "                                0.22976282774807988<extra></extra>, alpha\n",
       "                                (LogUniformDistribution):\n",
       "                                0.7582011140636193<extra></extra>],\n",
       "              'marker': {'color': 'rgb(66,146,198)'},\n",
       "              'orientation': 'h',\n",
       "              'text': [3.138179765264914e-29, 9.414539295795023e-29,\n",
       "                       0.00028847390151815426, 0.0005769478030363085,\n",
       "                       0.0005769478030363085, 0.010593688680710058,\n",
       "                       0.22976282774807988, 0.7582011140636193],\n",
       "              'textposition': 'outside',\n",
       "              'texttemplate': '%{text:.2f}',\n",
       "              'type': 'bar',\n",
       "              'x': [3.138179765264914e-29, 9.414539295795023e-29,\n",
       "                    0.00028847390151815426, 0.0005769478030363085,\n",
       "                    0.0005769478030363085, 0.010593688680710058,\n",
       "                    0.22976282774807988, 0.7582011140636193],\n",
       "              'y': [learning_rate, random_state, max_depth, colsample_bytree,\n",
       "                    subsample, min_child_weight, lambda, alpha]}],\n",
       "    'layout': {'showlegend': False,\n",
       "               'template': '...',\n",
       "               'title': {'text': 'Hyperparameter Importances'},\n",
       "               'xaxis': {'title': {'text': 'Importance for Objective Value'}},\n",
       "               'yaxis': {'title': {'text': 'Hyperparameter'}}}\n",
       "})"
      ]
     },
     "execution_count": 34,
     "metadata": {},
     "output_type": "execute_result"
    }
   ],
   "source": [
    "optuna.visualization.plot_param_importances(study)"
   ]
  },
  {
   "cell_type": "code",
   "execution_count": 35,
   "metadata": {},
   "outputs": [
    {
     "ename": "ValueError",
     "evalue": "Mime type rendering requires nbformat>=4.2.0 but it is not installed",
     "output_type": "error",
     "traceback": [
      "\u001b[0;31m---------------------------------------------------------------------------\u001b[0m",
      "\u001b[0;31mValueError\u001b[0m                                Traceback (most recent call last)",
      "File \u001b[0;32m~/miniconda3/envs/challenge/lib/python3.8/site-packages/IPython/core/formatters.py:921\u001b[0m, in \u001b[0;36mIPythonDisplayFormatter.__call__\u001b[0;34m(self, obj)\u001b[0m\n\u001b[1;32m    <a href='file:///home/chainyo/miniconda3/envs/challenge/lib/python3.8/site-packages/IPython/core/formatters.py?line=918'>919</a>\u001b[0m method \u001b[39m=\u001b[39m get_real_method(obj, \u001b[39mself\u001b[39m\u001b[39m.\u001b[39mprint_method)\n\u001b[1;32m    <a href='file:///home/chainyo/miniconda3/envs/challenge/lib/python3.8/site-packages/IPython/core/formatters.py?line=919'>920</a>\u001b[0m \u001b[39mif\u001b[39;00m method \u001b[39mis\u001b[39;00m \u001b[39mnot\u001b[39;00m \u001b[39mNone\u001b[39;00m:\n\u001b[0;32m--> <a href='file:///home/chainyo/miniconda3/envs/challenge/lib/python3.8/site-packages/IPython/core/formatters.py?line=920'>921</a>\u001b[0m     method()\n\u001b[1;32m    <a href='file:///home/chainyo/miniconda3/envs/challenge/lib/python3.8/site-packages/IPython/core/formatters.py?line=921'>922</a>\u001b[0m     \u001b[39mreturn\u001b[39;00m \u001b[39mTrue\u001b[39;00m\n",
      "File \u001b[0;32m~/miniconda3/envs/challenge/lib/python3.8/site-packages/plotly/basedatatypes.py:844\u001b[0m, in \u001b[0;36mBaseFigure._ipython_display_\u001b[0;34m(self)\u001b[0m\n\u001b[1;32m    <a href='file:///home/chainyo/miniconda3/envs/challenge/lib/python3.8/site-packages/plotly/basedatatypes.py?line=840'>841</a>\u001b[0m \u001b[39mimport\u001b[39;00m \u001b[39mplotly\u001b[39;00m\u001b[39m.\u001b[39;00m\u001b[39mio\u001b[39;00m \u001b[39mas\u001b[39;00m \u001b[39mpio\u001b[39;00m\n\u001b[1;32m    <a href='file:///home/chainyo/miniconda3/envs/challenge/lib/python3.8/site-packages/plotly/basedatatypes.py?line=842'>843</a>\u001b[0m \u001b[39mif\u001b[39;00m pio\u001b[39m.\u001b[39mrenderers\u001b[39m.\u001b[39mrender_on_display \u001b[39mand\u001b[39;00m pio\u001b[39m.\u001b[39mrenderers\u001b[39m.\u001b[39mdefault:\n\u001b[0;32m--> <a href='file:///home/chainyo/miniconda3/envs/challenge/lib/python3.8/site-packages/plotly/basedatatypes.py?line=843'>844</a>\u001b[0m     pio\u001b[39m.\u001b[39;49mshow(\u001b[39mself\u001b[39;49m)\n\u001b[1;32m    <a href='file:///home/chainyo/miniconda3/envs/challenge/lib/python3.8/site-packages/plotly/basedatatypes.py?line=844'>845</a>\u001b[0m \u001b[39melse\u001b[39;00m:\n\u001b[1;32m    <a href='file:///home/chainyo/miniconda3/envs/challenge/lib/python3.8/site-packages/plotly/basedatatypes.py?line=845'>846</a>\u001b[0m     \u001b[39mprint\u001b[39m(\u001b[39mrepr\u001b[39m(\u001b[39mself\u001b[39m))\n",
      "File \u001b[0;32m~/miniconda3/envs/challenge/lib/python3.8/site-packages/plotly/io/_renderers.py:397\u001b[0m, in \u001b[0;36mshow\u001b[0;34m(fig, renderer, validate, **kwargs)\u001b[0m\n\u001b[1;32m    <a href='file:///home/chainyo/miniconda3/envs/challenge/lib/python3.8/site-packages/plotly/io/_renderers.py?line=391'>392</a>\u001b[0m         \u001b[39mraise\u001b[39;00m \u001b[39mValueError\u001b[39;00m(\n\u001b[1;32m    <a href='file:///home/chainyo/miniconda3/envs/challenge/lib/python3.8/site-packages/plotly/io/_renderers.py?line=392'>393</a>\u001b[0m             \u001b[39m\"\u001b[39m\u001b[39mMime type rendering requires ipython but it is not installed\u001b[39m\u001b[39m\"\u001b[39m\n\u001b[1;32m    <a href='file:///home/chainyo/miniconda3/envs/challenge/lib/python3.8/site-packages/plotly/io/_renderers.py?line=393'>394</a>\u001b[0m         )\n\u001b[1;32m    <a href='file:///home/chainyo/miniconda3/envs/challenge/lib/python3.8/site-packages/plotly/io/_renderers.py?line=395'>396</a>\u001b[0m     \u001b[39mif\u001b[39;00m \u001b[39mnot\u001b[39;00m nbformat \u001b[39mor\u001b[39;00m LooseVersion(nbformat\u001b[39m.\u001b[39m__version__) \u001b[39m<\u001b[39m LooseVersion(\u001b[39m\"\u001b[39m\u001b[39m4.2.0\u001b[39m\u001b[39m\"\u001b[39m):\n\u001b[0;32m--> <a href='file:///home/chainyo/miniconda3/envs/challenge/lib/python3.8/site-packages/plotly/io/_renderers.py?line=396'>397</a>\u001b[0m         \u001b[39mraise\u001b[39;00m \u001b[39mValueError\u001b[39;00m(\n\u001b[1;32m    <a href='file:///home/chainyo/miniconda3/envs/challenge/lib/python3.8/site-packages/plotly/io/_renderers.py?line=397'>398</a>\u001b[0m             \u001b[39m\"\u001b[39m\u001b[39mMime type rendering requires nbformat>=4.2.0 but it is not installed\u001b[39m\u001b[39m\"\u001b[39m\n\u001b[1;32m    <a href='file:///home/chainyo/miniconda3/envs/challenge/lib/python3.8/site-packages/plotly/io/_renderers.py?line=398'>399</a>\u001b[0m         )\n\u001b[1;32m    <a href='file:///home/chainyo/miniconda3/envs/challenge/lib/python3.8/site-packages/plotly/io/_renderers.py?line=400'>401</a>\u001b[0m     ipython_display\u001b[39m.\u001b[39mdisplay(bundle, raw\u001b[39m=\u001b[39m\u001b[39mTrue\u001b[39;00m)\n\u001b[1;32m    <a href='file:///home/chainyo/miniconda3/envs/challenge/lib/python3.8/site-packages/plotly/io/_renderers.py?line=402'>403</a>\u001b[0m \u001b[39m# external renderers\u001b[39;00m\n",
      "\u001b[0;31mValueError\u001b[0m: Mime type rendering requires nbformat>=4.2.0 but it is not installed"
     ]
    },
    {
     "data": {
      "application/vnd.plotly.v1+json": {
       "config": {
        "plotlyServerURL": "https://plot.ly"
       },
       "data": [
        {
         "mode": "lines",
         "name": "no-name-dd0d6c43-f952-4d68-b3ee-427b950fef2b",
         "type": "scatter",
         "x": [
          0.75,
          0.750037503750375,
          0.7500750075007501,
          0.7501125112511251,
          0.7501500150015001,
          0.7501875187518752,
          0.7502250225022502,
          0.7502625262526252,
          0.7503000300030003,
          0.7503375337533753,
          0.7503750375037503,
          0.7504125412541254,
          0.7504500450045004,
          0.7504875487548754,
          0.7505250525052505,
          0.7505625562556255,
          0.7506000600060005,
          0.7506375637563757,
          0.7506750675067507,
          0.7507125712571258,
          0.7507500750075008,
          0.7507875787578758,
          0.7508250825082509,
          0.7508625862586259,
          0.7509000900090009,
          0.750937593759376,
          0.750975097509751,
          0.751012601260126,
          0.7510501050105011,
          0.7510876087608761,
          0.7511251125112511,
          0.7511626162616262,
          0.7512001200120012,
          0.7512376237623762,
          0.7512751275127513,
          0.7513126312631263,
          0.7513501350135013,
          0.7513876387638764,
          0.7514251425142514,
          0.7514626462646264,
          0.7515001500150015,
          0.7515376537653765,
          0.7515751575157515,
          0.7516126612661266,
          0.7516501650165016,
          0.7516876687668766,
          0.7517251725172517,
          0.7517626762676267,
          0.7518001800180018,
          0.7518376837683768,
          0.7518751875187519,
          0.751912691269127,
          0.751950195019502,
          0.751987698769877,
          0.7520252025202521,
          0.7520627062706271,
          0.7521002100210021,
          0.7521377137713772,
          0.7521752175217522,
          0.7522127212721272,
          0.7522502250225023,
          0.7522877287728773,
          0.7523252325232523,
          0.7523627362736274,
          0.7524002400240024,
          0.7524377437743774,
          0.7524752475247525,
          0.7525127512751275,
          0.7525502550255025,
          0.7525877587758776,
          0.7526252625262526,
          0.7526627662766276,
          0.7527002700270027,
          0.7527377737773777,
          0.7527752775277528,
          0.7528127812781278,
          0.7528502850285028,
          0.7528877887788779,
          0.7529252925292529,
          0.7529627962796279,
          0.753000300030003,
          0.753037803780378,
          0.753075307530753,
          0.7531128112811282,
          0.7531503150315032,
          0.7531878187818782,
          0.7532253225322533,
          0.7532628262826283,
          0.7533003300330033,
          0.7533378337833784,
          0.7533753375337534,
          0.7534128412841284,
          0.7534503450345035,
          0.7534878487848785,
          0.7535253525352535,
          0.7535628562856286,
          0.7536003600360036,
          0.7536378637863786,
          0.7536753675367537,
          0.7537128712871287
         ],
         "y": [
          0.01,
          0.01,
          0.01,
          0.01,
          0.01,
          0.01,
          0.01,
          0.01,
          0.01,
          0.01,
          0.01,
          0.01,
          0.01,
          0.01,
          0.01,
          0.01,
          0.01,
          0.01,
          0.01,
          0.01,
          0.01,
          0.01,
          0.01,
          0.01,
          0.01,
          0.01,
          0.01,
          0.01,
          0.01,
          0.01,
          0.01,
          0.01,
          0.01,
          0.01,
          0.01,
          0.01,
          0.01,
          0.01,
          0.01,
          0.01,
          0.01,
          0.01,
          0.01,
          0.01,
          0.01,
          0.01,
          0.01,
          0.01,
          0.01,
          0.01,
          0.01,
          0.01,
          0.01,
          0.01,
          0.01,
          0.01,
          0.01,
          0.01,
          0.01,
          0.01,
          0.01,
          0.01,
          0.01,
          0.01,
          0.01,
          0.01,
          0.01,
          0.01,
          0.01,
          0.01,
          0.01,
          0.01,
          0.01,
          0.01,
          0.01,
          0.01,
          0.01,
          0.01,
          0.01,
          0.01,
          0.01,
          0.01,
          0.01,
          0.01,
          0.01,
          0.01,
          0.01,
          0.01,
          0.01,
          0.01,
          0.01,
          0.01,
          0.01,
          0.01,
          0.01,
          0.01,
          0.01,
          0.01,
          0.01,
          1
         ]
        }
       ],
       "layout": {
        "template": {
         "data": {
          "bar": [
           {
            "error_x": {
             "color": "#2a3f5f"
            },
            "error_y": {
             "color": "#2a3f5f"
            },
            "marker": {
             "line": {
              "color": "#E5ECF6",
              "width": 0.5
             },
             "pattern": {
              "fillmode": "overlay",
              "size": 10,
              "solidity": 0.2
             }
            },
            "type": "bar"
           }
          ],
          "barpolar": [
           {
            "marker": {
             "line": {
              "color": "#E5ECF6",
              "width": 0.5
             },
             "pattern": {
              "fillmode": "overlay",
              "size": 10,
              "solidity": 0.2
             }
            },
            "type": "barpolar"
           }
          ],
          "carpet": [
           {
            "aaxis": {
             "endlinecolor": "#2a3f5f",
             "gridcolor": "white",
             "linecolor": "white",
             "minorgridcolor": "white",
             "startlinecolor": "#2a3f5f"
            },
            "baxis": {
             "endlinecolor": "#2a3f5f",
             "gridcolor": "white",
             "linecolor": "white",
             "minorgridcolor": "white",
             "startlinecolor": "#2a3f5f"
            },
            "type": "carpet"
           }
          ],
          "choropleth": [
           {
            "colorbar": {
             "outlinewidth": 0,
             "ticks": ""
            },
            "type": "choropleth"
           }
          ],
          "contour": [
           {
            "colorbar": {
             "outlinewidth": 0,
             "ticks": ""
            },
            "colorscale": [
             [
              0,
              "#0d0887"
             ],
             [
              0.1111111111111111,
              "#46039f"
             ],
             [
              0.2222222222222222,
              "#7201a8"
             ],
             [
              0.3333333333333333,
              "#9c179e"
             ],
             [
              0.4444444444444444,
              "#bd3786"
             ],
             [
              0.5555555555555556,
              "#d8576b"
             ],
             [
              0.6666666666666666,
              "#ed7953"
             ],
             [
              0.7777777777777778,
              "#fb9f3a"
             ],
             [
              0.8888888888888888,
              "#fdca26"
             ],
             [
              1,
              "#f0f921"
             ]
            ],
            "type": "contour"
           }
          ],
          "contourcarpet": [
           {
            "colorbar": {
             "outlinewidth": 0,
             "ticks": ""
            },
            "type": "contourcarpet"
           }
          ],
          "heatmap": [
           {
            "colorbar": {
             "outlinewidth": 0,
             "ticks": ""
            },
            "colorscale": [
             [
              0,
              "#0d0887"
             ],
             [
              0.1111111111111111,
              "#46039f"
             ],
             [
              0.2222222222222222,
              "#7201a8"
             ],
             [
              0.3333333333333333,
              "#9c179e"
             ],
             [
              0.4444444444444444,
              "#bd3786"
             ],
             [
              0.5555555555555556,
              "#d8576b"
             ],
             [
              0.6666666666666666,
              "#ed7953"
             ],
             [
              0.7777777777777778,
              "#fb9f3a"
             ],
             [
              0.8888888888888888,
              "#fdca26"
             ],
             [
              1,
              "#f0f921"
             ]
            ],
            "type": "heatmap"
           }
          ],
          "heatmapgl": [
           {
            "colorbar": {
             "outlinewidth": 0,
             "ticks": ""
            },
            "colorscale": [
             [
              0,
              "#0d0887"
             ],
             [
              0.1111111111111111,
              "#46039f"
             ],
             [
              0.2222222222222222,
              "#7201a8"
             ],
             [
              0.3333333333333333,
              "#9c179e"
             ],
             [
              0.4444444444444444,
              "#bd3786"
             ],
             [
              0.5555555555555556,
              "#d8576b"
             ],
             [
              0.6666666666666666,
              "#ed7953"
             ],
             [
              0.7777777777777778,
              "#fb9f3a"
             ],
             [
              0.8888888888888888,
              "#fdca26"
             ],
             [
              1,
              "#f0f921"
             ]
            ],
            "type": "heatmapgl"
           }
          ],
          "histogram": [
           {
            "marker": {
             "pattern": {
              "fillmode": "overlay",
              "size": 10,
              "solidity": 0.2
             }
            },
            "type": "histogram"
           }
          ],
          "histogram2d": [
           {
            "colorbar": {
             "outlinewidth": 0,
             "ticks": ""
            },
            "colorscale": [
             [
              0,
              "#0d0887"
             ],
             [
              0.1111111111111111,
              "#46039f"
             ],
             [
              0.2222222222222222,
              "#7201a8"
             ],
             [
              0.3333333333333333,
              "#9c179e"
             ],
             [
              0.4444444444444444,
              "#bd3786"
             ],
             [
              0.5555555555555556,
              "#d8576b"
             ],
             [
              0.6666666666666666,
              "#ed7953"
             ],
             [
              0.7777777777777778,
              "#fb9f3a"
             ],
             [
              0.8888888888888888,
              "#fdca26"
             ],
             [
              1,
              "#f0f921"
             ]
            ],
            "type": "histogram2d"
           }
          ],
          "histogram2dcontour": [
           {
            "colorbar": {
             "outlinewidth": 0,
             "ticks": ""
            },
            "colorscale": [
             [
              0,
              "#0d0887"
             ],
             [
              0.1111111111111111,
              "#46039f"
             ],
             [
              0.2222222222222222,
              "#7201a8"
             ],
             [
              0.3333333333333333,
              "#9c179e"
             ],
             [
              0.4444444444444444,
              "#bd3786"
             ],
             [
              0.5555555555555556,
              "#d8576b"
             ],
             [
              0.6666666666666666,
              "#ed7953"
             ],
             [
              0.7777777777777778,
              "#fb9f3a"
             ],
             [
              0.8888888888888888,
              "#fdca26"
             ],
             [
              1,
              "#f0f921"
             ]
            ],
            "type": "histogram2dcontour"
           }
          ],
          "mesh3d": [
           {
            "colorbar": {
             "outlinewidth": 0,
             "ticks": ""
            },
            "type": "mesh3d"
           }
          ],
          "parcoords": [
           {
            "line": {
             "colorbar": {
              "outlinewidth": 0,
              "ticks": ""
             }
            },
            "type": "parcoords"
           }
          ],
          "pie": [
           {
            "automargin": true,
            "type": "pie"
           }
          ],
          "scatter": [
           {
            "marker": {
             "colorbar": {
              "outlinewidth": 0,
              "ticks": ""
             }
            },
            "type": "scatter"
           }
          ],
          "scatter3d": [
           {
            "line": {
             "colorbar": {
              "outlinewidth": 0,
              "ticks": ""
             }
            },
            "marker": {
             "colorbar": {
              "outlinewidth": 0,
              "ticks": ""
             }
            },
            "type": "scatter3d"
           }
          ],
          "scattercarpet": [
           {
            "marker": {
             "colorbar": {
              "outlinewidth": 0,
              "ticks": ""
             }
            },
            "type": "scattercarpet"
           }
          ],
          "scattergeo": [
           {
            "marker": {
             "colorbar": {
              "outlinewidth": 0,
              "ticks": ""
             }
            },
            "type": "scattergeo"
           }
          ],
          "scattergl": [
           {
            "marker": {
             "colorbar": {
              "outlinewidth": 0,
              "ticks": ""
             }
            },
            "type": "scattergl"
           }
          ],
          "scattermapbox": [
           {
            "marker": {
             "colorbar": {
              "outlinewidth": 0,
              "ticks": ""
             }
            },
            "type": "scattermapbox"
           }
          ],
          "scatterpolar": [
           {
            "marker": {
             "colorbar": {
              "outlinewidth": 0,
              "ticks": ""
             }
            },
            "type": "scatterpolar"
           }
          ],
          "scatterpolargl": [
           {
            "marker": {
             "colorbar": {
              "outlinewidth": 0,
              "ticks": ""
             }
            },
            "type": "scatterpolargl"
           }
          ],
          "scatterternary": [
           {
            "marker": {
             "colorbar": {
              "outlinewidth": 0,
              "ticks": ""
             }
            },
            "type": "scatterternary"
           }
          ],
          "surface": [
           {
            "colorbar": {
             "outlinewidth": 0,
             "ticks": ""
            },
            "colorscale": [
             [
              0,
              "#0d0887"
             ],
             [
              0.1111111111111111,
              "#46039f"
             ],
             [
              0.2222222222222222,
              "#7201a8"
             ],
             [
              0.3333333333333333,
              "#9c179e"
             ],
             [
              0.4444444444444444,
              "#bd3786"
             ],
             [
              0.5555555555555556,
              "#d8576b"
             ],
             [
              0.6666666666666666,
              "#ed7953"
             ],
             [
              0.7777777777777778,
              "#fb9f3a"
             ],
             [
              0.8888888888888888,
              "#fdca26"
             ],
             [
              1,
              "#f0f921"
             ]
            ],
            "type": "surface"
           }
          ],
          "table": [
           {
            "cells": {
             "fill": {
              "color": "#EBF0F8"
             },
             "line": {
              "color": "white"
             }
            },
            "header": {
             "fill": {
              "color": "#C8D4E3"
             },
             "line": {
              "color": "white"
             }
            },
            "type": "table"
           }
          ]
         },
         "layout": {
          "annotationdefaults": {
           "arrowcolor": "#2a3f5f",
           "arrowhead": 0,
           "arrowwidth": 1
          },
          "autotypenumbers": "strict",
          "coloraxis": {
           "colorbar": {
            "outlinewidth": 0,
            "ticks": ""
           }
          },
          "colorscale": {
           "diverging": [
            [
             0,
             "#8e0152"
            ],
            [
             0.1,
             "#c51b7d"
            ],
            [
             0.2,
             "#de77ae"
            ],
            [
             0.3,
             "#f1b6da"
            ],
            [
             0.4,
             "#fde0ef"
            ],
            [
             0.5,
             "#f7f7f7"
            ],
            [
             0.6,
             "#e6f5d0"
            ],
            [
             0.7,
             "#b8e186"
            ],
            [
             0.8,
             "#7fbc41"
            ],
            [
             0.9,
             "#4d9221"
            ],
            [
             1,
             "#276419"
            ]
           ],
           "sequential": [
            [
             0,
             "#0d0887"
            ],
            [
             0.1111111111111111,
             "#46039f"
            ],
            [
             0.2222222222222222,
             "#7201a8"
            ],
            [
             0.3333333333333333,
             "#9c179e"
            ],
            [
             0.4444444444444444,
             "#bd3786"
            ],
            [
             0.5555555555555556,
             "#d8576b"
            ],
            [
             0.6666666666666666,
             "#ed7953"
            ],
            [
             0.7777777777777778,
             "#fb9f3a"
            ],
            [
             0.8888888888888888,
             "#fdca26"
            ],
            [
             1,
             "#f0f921"
            ]
           ],
           "sequentialminus": [
            [
             0,
             "#0d0887"
            ],
            [
             0.1111111111111111,
             "#46039f"
            ],
            [
             0.2222222222222222,
             "#7201a8"
            ],
            [
             0.3333333333333333,
             "#9c179e"
            ],
            [
             0.4444444444444444,
             "#bd3786"
            ],
            [
             0.5555555555555556,
             "#d8576b"
            ],
            [
             0.6666666666666666,
             "#ed7953"
            ],
            [
             0.7777777777777778,
             "#fb9f3a"
            ],
            [
             0.8888888888888888,
             "#fdca26"
            ],
            [
             1,
             "#f0f921"
            ]
           ]
          },
          "colorway": [
           "#636efa",
           "#EF553B",
           "#00cc96",
           "#ab63fa",
           "#FFA15A",
           "#19d3f3",
           "#FF6692",
           "#B6E880",
           "#FF97FF",
           "#FECB52"
          ],
          "font": {
           "color": "#2a3f5f"
          },
          "geo": {
           "bgcolor": "white",
           "lakecolor": "white",
           "landcolor": "#E5ECF6",
           "showlakes": true,
           "showland": true,
           "subunitcolor": "white"
          },
          "hoverlabel": {
           "align": "left"
          },
          "hovermode": "closest",
          "mapbox": {
           "style": "light"
          },
          "paper_bgcolor": "white",
          "plot_bgcolor": "#E5ECF6",
          "polar": {
           "angularaxis": {
            "gridcolor": "white",
            "linecolor": "white",
            "ticks": ""
           },
           "bgcolor": "#E5ECF6",
           "radialaxis": {
            "gridcolor": "white",
            "linecolor": "white",
            "ticks": ""
           }
          },
          "scene": {
           "xaxis": {
            "backgroundcolor": "#E5ECF6",
            "gridcolor": "white",
            "gridwidth": 2,
            "linecolor": "white",
            "showbackground": true,
            "ticks": "",
            "zerolinecolor": "white"
           },
           "yaxis": {
            "backgroundcolor": "#E5ECF6",
            "gridcolor": "white",
            "gridwidth": 2,
            "linecolor": "white",
            "showbackground": true,
            "ticks": "",
            "zerolinecolor": "white"
           },
           "zaxis": {
            "backgroundcolor": "#E5ECF6",
            "gridcolor": "white",
            "gridwidth": 2,
            "linecolor": "white",
            "showbackground": true,
            "ticks": "",
            "zerolinecolor": "white"
           }
          },
          "shapedefaults": {
           "line": {
            "color": "#2a3f5f"
           }
          },
          "ternary": {
           "aaxis": {
            "gridcolor": "white",
            "linecolor": "white",
            "ticks": ""
           },
           "baxis": {
            "gridcolor": "white",
            "linecolor": "white",
            "ticks": ""
           },
           "bgcolor": "#E5ECF6",
           "caxis": {
            "gridcolor": "white",
            "linecolor": "white",
            "ticks": ""
           }
          },
          "title": {
           "x": 0.05
          },
          "xaxis": {
           "automargin": true,
           "gridcolor": "white",
           "linecolor": "white",
           "ticks": "",
           "title": {
            "standoff": 15
           },
           "zerolinecolor": "white",
           "zerolinewidth": 2
          },
          "yaxis": {
           "automargin": true,
           "gridcolor": "white",
           "linecolor": "white",
           "ticks": "",
           "title": {
            "standoff": 15
           },
           "zerolinecolor": "white",
           "zerolinewidth": 2
          }
         }
        },
        "title": {
         "text": "Empirical Distribution Function Plot"
        },
        "xaxis": {
         "title": {
          "text": "Objective Value"
         }
        },
        "yaxis": {
         "range": [
          0,
          1
         ],
         "title": {
          "text": "Cumulative Probability"
         }
        }
       }
      },
      "text/html": [
       "<div>                        <script type=\"text/javascript\">window.PlotlyConfig = {MathJaxConfig: 'local'};</script>\n",
       "        <script src=\"https://cdn.plot.ly/plotly-2.9.0.min.js\"></script>                <div id=\"5e9f7e63-e363-483b-a64d-fd101c9f8f9b\" class=\"plotly-graph-div\" style=\"height:100%; width:100%;\"></div>            <script type=\"text/javascript\">                                    window.PLOTLYENV=window.PLOTLYENV || {};                                    if (document.getElementById(\"5e9f7e63-e363-483b-a64d-fd101c9f8f9b\")) {                    Plotly.newPlot(                        \"5e9f7e63-e363-483b-a64d-fd101c9f8f9b\",                        [{\"mode\":\"lines\",\"name\":\"no-name-dd0d6c43-f952-4d68-b3ee-427b950fef2b\",\"x\":[0.75,0.750037503750375,0.7500750075007501,0.7501125112511251,0.7501500150015001,0.7501875187518752,0.7502250225022502,0.7502625262526252,0.7503000300030003,0.7503375337533753,0.7503750375037503,0.7504125412541254,0.7504500450045004,0.7504875487548754,0.7505250525052505,0.7505625562556255,0.7506000600060005,0.7506375637563757,0.7506750675067507,0.7507125712571258,0.7507500750075008,0.7507875787578758,0.7508250825082509,0.7508625862586259,0.7509000900090009,0.750937593759376,0.750975097509751,0.751012601260126,0.7510501050105011,0.7510876087608761,0.7511251125112511,0.7511626162616262,0.7512001200120012,0.7512376237623762,0.7512751275127513,0.7513126312631263,0.7513501350135013,0.7513876387638764,0.7514251425142514,0.7514626462646264,0.7515001500150015,0.7515376537653765,0.7515751575157515,0.7516126612661266,0.7516501650165016,0.7516876687668766,0.7517251725172517,0.7517626762676267,0.7518001800180018,0.7518376837683768,0.7518751875187519,0.751912691269127,0.751950195019502,0.751987698769877,0.7520252025202521,0.7520627062706271,0.7521002100210021,0.7521377137713772,0.7521752175217522,0.7522127212721272,0.7522502250225023,0.7522877287728773,0.7523252325232523,0.7523627362736274,0.7524002400240024,0.7524377437743774,0.7524752475247525,0.7525127512751275,0.7525502550255025,0.7525877587758776,0.7526252625262526,0.7526627662766276,0.7527002700270027,0.7527377737773777,0.7527752775277528,0.7528127812781278,0.7528502850285028,0.7528877887788779,0.7529252925292529,0.7529627962796279,0.753000300030003,0.753037803780378,0.753075307530753,0.7531128112811282,0.7531503150315032,0.7531878187818782,0.7532253225322533,0.7532628262826283,0.7533003300330033,0.7533378337833784,0.7533753375337534,0.7534128412841284,0.7534503450345035,0.7534878487848785,0.7535253525352535,0.7535628562856286,0.7536003600360036,0.7536378637863786,0.7536753675367537,0.7537128712871287],\"y\":[0.01,0.01,0.01,0.01,0.01,0.01,0.01,0.01,0.01,0.01,0.01,0.01,0.01,0.01,0.01,0.01,0.01,0.01,0.01,0.01,0.01,0.01,0.01,0.01,0.01,0.01,0.01,0.01,0.01,0.01,0.01,0.01,0.01,0.01,0.01,0.01,0.01,0.01,0.01,0.01,0.01,0.01,0.01,0.01,0.01,0.01,0.01,0.01,0.01,0.01,0.01,0.01,0.01,0.01,0.01,0.01,0.01,0.01,0.01,0.01,0.01,0.01,0.01,0.01,0.01,0.01,0.01,0.01,0.01,0.01,0.01,0.01,0.01,0.01,0.01,0.01,0.01,0.01,0.01,0.01,0.01,0.01,0.01,0.01,0.01,0.01,0.01,0.01,0.01,0.01,0.01,0.01,0.01,0.01,0.01,0.01,0.01,0.01,0.01,1.0],\"type\":\"scatter\"}],                        {\"title\":{\"text\":\"Empirical Distribution Function Plot\"},\"xaxis\":{\"title\":{\"text\":\"Objective Value\"}},\"yaxis\":{\"title\":{\"text\":\"Cumulative Probability\"},\"range\":[0,1]},\"template\":{\"data\":{\"bar\":[{\"error_x\":{\"color\":\"#2a3f5f\"},\"error_y\":{\"color\":\"#2a3f5f\"},\"marker\":{\"line\":{\"color\":\"#E5ECF6\",\"width\":0.5},\"pattern\":{\"fillmode\":\"overlay\",\"size\":10,\"solidity\":0.2}},\"type\":\"bar\"}],\"barpolar\":[{\"marker\":{\"line\":{\"color\":\"#E5ECF6\",\"width\":0.5},\"pattern\":{\"fillmode\":\"overlay\",\"size\":10,\"solidity\":0.2}},\"type\":\"barpolar\"}],\"carpet\":[{\"aaxis\":{\"endlinecolor\":\"#2a3f5f\",\"gridcolor\":\"white\",\"linecolor\":\"white\",\"minorgridcolor\":\"white\",\"startlinecolor\":\"#2a3f5f\"},\"baxis\":{\"endlinecolor\":\"#2a3f5f\",\"gridcolor\":\"white\",\"linecolor\":\"white\",\"minorgridcolor\":\"white\",\"startlinecolor\":\"#2a3f5f\"},\"type\":\"carpet\"}],\"choropleth\":[{\"colorbar\":{\"outlinewidth\":0,\"ticks\":\"\"},\"type\":\"choropleth\"}],\"contour\":[{\"colorbar\":{\"outlinewidth\":0,\"ticks\":\"\"},\"colorscale\":[[0.0,\"#0d0887\"],[0.1111111111111111,\"#46039f\"],[0.2222222222222222,\"#7201a8\"],[0.3333333333333333,\"#9c179e\"],[0.4444444444444444,\"#bd3786\"],[0.5555555555555556,\"#d8576b\"],[0.6666666666666666,\"#ed7953\"],[0.7777777777777778,\"#fb9f3a\"],[0.8888888888888888,\"#fdca26\"],[1.0,\"#f0f921\"]],\"type\":\"contour\"}],\"contourcarpet\":[{\"colorbar\":{\"outlinewidth\":0,\"ticks\":\"\"},\"type\":\"contourcarpet\"}],\"heatmap\":[{\"colorbar\":{\"outlinewidth\":0,\"ticks\":\"\"},\"colorscale\":[[0.0,\"#0d0887\"],[0.1111111111111111,\"#46039f\"],[0.2222222222222222,\"#7201a8\"],[0.3333333333333333,\"#9c179e\"],[0.4444444444444444,\"#bd3786\"],[0.5555555555555556,\"#d8576b\"],[0.6666666666666666,\"#ed7953\"],[0.7777777777777778,\"#fb9f3a\"],[0.8888888888888888,\"#fdca26\"],[1.0,\"#f0f921\"]],\"type\":\"heatmap\"}],\"heatmapgl\":[{\"colorbar\":{\"outlinewidth\":0,\"ticks\":\"\"},\"colorscale\":[[0.0,\"#0d0887\"],[0.1111111111111111,\"#46039f\"],[0.2222222222222222,\"#7201a8\"],[0.3333333333333333,\"#9c179e\"],[0.4444444444444444,\"#bd3786\"],[0.5555555555555556,\"#d8576b\"],[0.6666666666666666,\"#ed7953\"],[0.7777777777777778,\"#fb9f3a\"],[0.8888888888888888,\"#fdca26\"],[1.0,\"#f0f921\"]],\"type\":\"heatmapgl\"}],\"histogram\":[{\"marker\":{\"pattern\":{\"fillmode\":\"overlay\",\"size\":10,\"solidity\":0.2}},\"type\":\"histogram\"}],\"histogram2d\":[{\"colorbar\":{\"outlinewidth\":0,\"ticks\":\"\"},\"colorscale\":[[0.0,\"#0d0887\"],[0.1111111111111111,\"#46039f\"],[0.2222222222222222,\"#7201a8\"],[0.3333333333333333,\"#9c179e\"],[0.4444444444444444,\"#bd3786\"],[0.5555555555555556,\"#d8576b\"],[0.6666666666666666,\"#ed7953\"],[0.7777777777777778,\"#fb9f3a\"],[0.8888888888888888,\"#fdca26\"],[1.0,\"#f0f921\"]],\"type\":\"histogram2d\"}],\"histogram2dcontour\":[{\"colorbar\":{\"outlinewidth\":0,\"ticks\":\"\"},\"colorscale\":[[0.0,\"#0d0887\"],[0.1111111111111111,\"#46039f\"],[0.2222222222222222,\"#7201a8\"],[0.3333333333333333,\"#9c179e\"],[0.4444444444444444,\"#bd3786\"],[0.5555555555555556,\"#d8576b\"],[0.6666666666666666,\"#ed7953\"],[0.7777777777777778,\"#fb9f3a\"],[0.8888888888888888,\"#fdca26\"],[1.0,\"#f0f921\"]],\"type\":\"histogram2dcontour\"}],\"mesh3d\":[{\"colorbar\":{\"outlinewidth\":0,\"ticks\":\"\"},\"type\":\"mesh3d\"}],\"parcoords\":[{\"line\":{\"colorbar\":{\"outlinewidth\":0,\"ticks\":\"\"}},\"type\":\"parcoords\"}],\"pie\":[{\"automargin\":true,\"type\":\"pie\"}],\"scatter\":[{\"marker\":{\"colorbar\":{\"outlinewidth\":0,\"ticks\":\"\"}},\"type\":\"scatter\"}],\"scatter3d\":[{\"line\":{\"colorbar\":{\"outlinewidth\":0,\"ticks\":\"\"}},\"marker\":{\"colorbar\":{\"outlinewidth\":0,\"ticks\":\"\"}},\"type\":\"scatter3d\"}],\"scattercarpet\":[{\"marker\":{\"colorbar\":{\"outlinewidth\":0,\"ticks\":\"\"}},\"type\":\"scattercarpet\"}],\"scattergeo\":[{\"marker\":{\"colorbar\":{\"outlinewidth\":0,\"ticks\":\"\"}},\"type\":\"scattergeo\"}],\"scattergl\":[{\"marker\":{\"colorbar\":{\"outlinewidth\":0,\"ticks\":\"\"}},\"type\":\"scattergl\"}],\"scattermapbox\":[{\"marker\":{\"colorbar\":{\"outlinewidth\":0,\"ticks\":\"\"}},\"type\":\"scattermapbox\"}],\"scatterpolar\":[{\"marker\":{\"colorbar\":{\"outlinewidth\":0,\"ticks\":\"\"}},\"type\":\"scatterpolar\"}],\"scatterpolargl\":[{\"marker\":{\"colorbar\":{\"outlinewidth\":0,\"ticks\":\"\"}},\"type\":\"scatterpolargl\"}],\"scatterternary\":[{\"marker\":{\"colorbar\":{\"outlinewidth\":0,\"ticks\":\"\"}},\"type\":\"scatterternary\"}],\"surface\":[{\"colorbar\":{\"outlinewidth\":0,\"ticks\":\"\"},\"colorscale\":[[0.0,\"#0d0887\"],[0.1111111111111111,\"#46039f\"],[0.2222222222222222,\"#7201a8\"],[0.3333333333333333,\"#9c179e\"],[0.4444444444444444,\"#bd3786\"],[0.5555555555555556,\"#d8576b\"],[0.6666666666666666,\"#ed7953\"],[0.7777777777777778,\"#fb9f3a\"],[0.8888888888888888,\"#fdca26\"],[1.0,\"#f0f921\"]],\"type\":\"surface\"}],\"table\":[{\"cells\":{\"fill\":{\"color\":\"#EBF0F8\"},\"line\":{\"color\":\"white\"}},\"header\":{\"fill\":{\"color\":\"#C8D4E3\"},\"line\":{\"color\":\"white\"}},\"type\":\"table\"}]},\"layout\":{\"annotationdefaults\":{\"arrowcolor\":\"#2a3f5f\",\"arrowhead\":0,\"arrowwidth\":1},\"autotypenumbers\":\"strict\",\"coloraxis\":{\"colorbar\":{\"outlinewidth\":0,\"ticks\":\"\"}},\"colorscale\":{\"diverging\":[[0,\"#8e0152\"],[0.1,\"#c51b7d\"],[0.2,\"#de77ae\"],[0.3,\"#f1b6da\"],[0.4,\"#fde0ef\"],[0.5,\"#f7f7f7\"],[0.6,\"#e6f5d0\"],[0.7,\"#b8e186\"],[0.8,\"#7fbc41\"],[0.9,\"#4d9221\"],[1,\"#276419\"]],\"sequential\":[[0.0,\"#0d0887\"],[0.1111111111111111,\"#46039f\"],[0.2222222222222222,\"#7201a8\"],[0.3333333333333333,\"#9c179e\"],[0.4444444444444444,\"#bd3786\"],[0.5555555555555556,\"#d8576b\"],[0.6666666666666666,\"#ed7953\"],[0.7777777777777778,\"#fb9f3a\"],[0.8888888888888888,\"#fdca26\"],[1.0,\"#f0f921\"]],\"sequentialminus\":[[0.0,\"#0d0887\"],[0.1111111111111111,\"#46039f\"],[0.2222222222222222,\"#7201a8\"],[0.3333333333333333,\"#9c179e\"],[0.4444444444444444,\"#bd3786\"],[0.5555555555555556,\"#d8576b\"],[0.6666666666666666,\"#ed7953\"],[0.7777777777777778,\"#fb9f3a\"],[0.8888888888888888,\"#fdca26\"],[1.0,\"#f0f921\"]]},\"colorway\":[\"#636efa\",\"#EF553B\",\"#00cc96\",\"#ab63fa\",\"#FFA15A\",\"#19d3f3\",\"#FF6692\",\"#B6E880\",\"#FF97FF\",\"#FECB52\"],\"font\":{\"color\":\"#2a3f5f\"},\"geo\":{\"bgcolor\":\"white\",\"lakecolor\":\"white\",\"landcolor\":\"#E5ECF6\",\"showlakes\":true,\"showland\":true,\"subunitcolor\":\"white\"},\"hoverlabel\":{\"align\":\"left\"},\"hovermode\":\"closest\",\"mapbox\":{\"style\":\"light\"},\"paper_bgcolor\":\"white\",\"plot_bgcolor\":\"#E5ECF6\",\"polar\":{\"angularaxis\":{\"gridcolor\":\"white\",\"linecolor\":\"white\",\"ticks\":\"\"},\"bgcolor\":\"#E5ECF6\",\"radialaxis\":{\"gridcolor\":\"white\",\"linecolor\":\"white\",\"ticks\":\"\"}},\"scene\":{\"xaxis\":{\"backgroundcolor\":\"#E5ECF6\",\"gridcolor\":\"white\",\"gridwidth\":2,\"linecolor\":\"white\",\"showbackground\":true,\"ticks\":\"\",\"zerolinecolor\":\"white\"},\"yaxis\":{\"backgroundcolor\":\"#E5ECF6\",\"gridcolor\":\"white\",\"gridwidth\":2,\"linecolor\":\"white\",\"showbackground\":true,\"ticks\":\"\",\"zerolinecolor\":\"white\"},\"zaxis\":{\"backgroundcolor\":\"#E5ECF6\",\"gridcolor\":\"white\",\"gridwidth\":2,\"linecolor\":\"white\",\"showbackground\":true,\"ticks\":\"\",\"zerolinecolor\":\"white\"}},\"shapedefaults\":{\"line\":{\"color\":\"#2a3f5f\"}},\"ternary\":{\"aaxis\":{\"gridcolor\":\"white\",\"linecolor\":\"white\",\"ticks\":\"\"},\"baxis\":{\"gridcolor\":\"white\",\"linecolor\":\"white\",\"ticks\":\"\"},\"bgcolor\":\"#E5ECF6\",\"caxis\":{\"gridcolor\":\"white\",\"linecolor\":\"white\",\"ticks\":\"\"}},\"title\":{\"x\":0.05},\"xaxis\":{\"automargin\":true,\"gridcolor\":\"white\",\"linecolor\":\"white\",\"ticks\":\"\",\"title\":{\"standoff\":15},\"zerolinecolor\":\"white\",\"zerolinewidth\":2},\"yaxis\":{\"automargin\":true,\"gridcolor\":\"white\",\"linecolor\":\"white\",\"ticks\":\"\",\"title\":{\"standoff\":15},\"zerolinecolor\":\"white\",\"zerolinewidth\":2}}}},                        {\"responsive\": true}                    )                };                            </script>        </div>"
      ],
      "text/plain": [
       "Figure({\n",
       "    'data': [{'mode': 'lines',\n",
       "              'name': 'no-name-dd0d6c43-f952-4d68-b3ee-427b950fef2b',\n",
       "              'type': 'scatter',\n",
       "              'x': array([0.75      , 0.7500375 , 0.75007501, 0.75011251, 0.75015002, 0.75018752,\n",
       "                          0.75022502, 0.75026253, 0.75030003, 0.75033753, 0.75037504, 0.75041254,\n",
       "                          0.75045005, 0.75048755, 0.75052505, 0.75056256, 0.75060006, 0.75063756,\n",
       "                          0.75067507, 0.75071257, 0.75075008, 0.75078758, 0.75082508, 0.75086259,\n",
       "                          0.75090009, 0.75093759, 0.7509751 , 0.7510126 , 0.75105011, 0.75108761,\n",
       "                          0.75112511, 0.75116262, 0.75120012, 0.75123762, 0.75127513, 0.75131263,\n",
       "                          0.75135014, 0.75138764, 0.75142514, 0.75146265, 0.75150015, 0.75153765,\n",
       "                          0.75157516, 0.75161266, 0.75165017, 0.75168767, 0.75172517, 0.75176268,\n",
       "                          0.75180018, 0.75183768, 0.75187519, 0.75191269, 0.7519502 , 0.7519877 ,\n",
       "                          0.7520252 , 0.75206271, 0.75210021, 0.75213771, 0.75217522, 0.75221272,\n",
       "                          0.75225023, 0.75228773, 0.75232523, 0.75236274, 0.75240024, 0.75243774,\n",
       "                          0.75247525, 0.75251275, 0.75255026, 0.75258776, 0.75262526, 0.75266277,\n",
       "                          0.75270027, 0.75273777, 0.75277528, 0.75281278, 0.75285029, 0.75288779,\n",
       "                          0.75292529, 0.7529628 , 0.7530003 , 0.7530378 , 0.75307531, 0.75311281,\n",
       "                          0.75315032, 0.75318782, 0.75322532, 0.75326283, 0.75330033, 0.75333783,\n",
       "                          0.75337534, 0.75341284, 0.75345035, 0.75348785, 0.75352535, 0.75356286,\n",
       "                          0.75360036, 0.75363786, 0.75367537, 0.75371287]),\n",
       "              'y': array([0.01, 0.01, 0.01, 0.01, 0.01, 0.01, 0.01, 0.01, 0.01, 0.01, 0.01, 0.01,\n",
       "                          0.01, 0.01, 0.01, 0.01, 0.01, 0.01, 0.01, 0.01, 0.01, 0.01, 0.01, 0.01,\n",
       "                          0.01, 0.01, 0.01, 0.01, 0.01, 0.01, 0.01, 0.01, 0.01, 0.01, 0.01, 0.01,\n",
       "                          0.01, 0.01, 0.01, 0.01, 0.01, 0.01, 0.01, 0.01, 0.01, 0.01, 0.01, 0.01,\n",
       "                          0.01, 0.01, 0.01, 0.01, 0.01, 0.01, 0.01, 0.01, 0.01, 0.01, 0.01, 0.01,\n",
       "                          0.01, 0.01, 0.01, 0.01, 0.01, 0.01, 0.01, 0.01, 0.01, 0.01, 0.01, 0.01,\n",
       "                          0.01, 0.01, 0.01, 0.01, 0.01, 0.01, 0.01, 0.01, 0.01, 0.01, 0.01, 0.01,\n",
       "                          0.01, 0.01, 0.01, 0.01, 0.01, 0.01, 0.01, 0.01, 0.01, 0.01, 0.01, 0.01,\n",
       "                          0.01, 0.01, 0.01, 1.  ])}],\n",
       "    'layout': {'template': '...',\n",
       "               'title': {'text': 'Empirical Distribution Function Plot'},\n",
       "               'xaxis': {'title': {'text': 'Objective Value'}},\n",
       "               'yaxis': {'range': [0, 1], 'title': {'text': 'Cumulative Probability'}}}\n",
       "})"
      ]
     },
     "execution_count": 35,
     "metadata": {},
     "output_type": "execute_result"
    }
   ],
   "source": [
    "optuna.visualization.plot_edf(study)"
   ]
  },
  {
   "cell_type": "code",
   "execution_count": 42,
   "metadata": {},
   "outputs": [
    {
     "name": "stderr",
     "output_type": "stream",
     "text": [
      "/home/chainyo/miniconda3/envs/challenge/lib/python3.8/site-packages/xgboost/sklearn.py:1224: UserWarning:\n",
      "\n",
      "The use of label encoder in XGBClassifier is deprecated and will be removed in a future release. To remove this warning, do the following: 1) Pass option use_label_encoder=False when constructing XGBClassifier object; and 2) Encode your labels (y) as integers starting with 0, i.e. 0, 1, 2, ..., [num_class - 1].\n",
      "\n"
     ]
    },
    {
     "name": "stdout",
     "output_type": "stream",
     "text": [
      "[16:22:35] WARNING: ../src/learner.cc:1115: Starting in XGBoost 1.3.0, the default evaluation metric used with the objective 'binary:logistic' was changed from 'error' to 'logloss'. Explicitly set eval_metric if you'd like to restore the old behavior.\n"
     ]
    },
    {
     "data": {
      "text/plain": [
       "XGBClassifier(alpha=0.030006315982995347, base_score=0.5, booster='gbtree',\n",
       "              colsample_bylevel=1, colsample_bynode=1, colsample_bytree=0.4,\n",
       "              enable_categorical=False, gamma=0, gpu_id=-1,\n",
       "              importance_type=None, interaction_constraints='',\n",
       "              lambda=0.13504936679151183, learning_rate=0.008, max_delta_step=0,\n",
       "              max_depth=20, min_child_weight=256, missing=nan,\n",
       "              monotone_constraints='()', n_estimators=100, n_jobs=12,\n",
       "              num_parallel_tree=1, predictor='auto', random_state=24,\n",
       "              reg_alpha=0.0300063156, reg_lambda=0.135049373,\n",
       "              scale_pos_weight=1, subsample=0.4, tree_method='exact',\n",
       "              validate_parameters=1, verbosity=None)"
      ]
     },
     "execution_count": 42,
     "metadata": {},
     "output_type": "execute_result"
    }
   ],
   "source": [
    "best_params = study.best_trial.params\n",
    "model = xgb.XGBClassifier(**best_params)\n",
    "model.fit(\n",
    "    train_bag_of_centroids, y_train, \n",
    "    eval_set=[(val_bag_of_centroids, y_val)], \n",
    "    verbose=False,\n",
    "    early_stopping_rounds=100\n",
    ")"
   ]
  },
  {
   "cell_type": "code",
   "execution_count": 43,
   "metadata": {},
   "outputs": [
    {
     "data": {
      "text/plain": [
       "<AxesSubplot:>"
      ]
     },
     "execution_count": 43,
     "metadata": {},
     "output_type": "execute_result"
    },
    {
     "data": {
      "image/png": "[encoded data removed]",
      "text/plain": [
       "<Figure size 1440x1440 with 2 Axes>"
      ]
     },
     "metadata": {
      "needs_background": "light"
     },
     "output_type": "display_data"
    }
   ],
   "source": [
    "preds = model.predict(test_bag_of_centroids)\n",
    "\n",
    "conf = confusion_matrix(y_test, preds)\n",
    "plt.figure(figsize=(20, 20))\n",
    "sns.heatmap(conf, annot=True, fmt='d', xticklabels=['0', '1'], yticklabels=['0', '1'])"
   ]
  },
  {
   "cell_type": "code",
   "execution_count": null,
   "metadata": {},
   "outputs": [],
   "source": [
    "# save model\n",
    "pickle.dump(classification_model, '../data/06_models/classification_model.pkl')"
   ]
  },
  {
   "cell_type": "code",
   "execution_count": null,
   "metadata": {},
   "outputs": [],
   "source": []
  }
 ],
 "metadata": {
  "interpreter": {
   "hash": "adb55e0d7d06b22fe6d30f2cb3e94f7617271379578af157e6db74b02ef92f76"
  },
  "kernelspec": {
   "display_name": "Python 3.8.12 ('challenge')",
   "language": "python",
   "name": "python3"
  },
  "language_info": {
   "codemirror_mode": {
    "name": "ipython",
    "version": 3
   },
   "file_extension": ".py",
   "mimetype": "text/x-python",
   "name": "python",
   "nbconvert_exporter": "python",
   "pygments_lexer": "ipython3",
   "version": "3.8.12"
  },
  "orig_nbformat": 4
 },
 "nbformat": 4,
 "nbformat_minor": 2
}
