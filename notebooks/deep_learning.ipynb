{
 "cells": [
  {
   "cell_type": "markdown",
   "metadata": {},
   "source": [
    "# Deep Learning with PyTorch Lightning and Transformers"
   ]
  },
  {
   "cell_type": "code",
   "execution_count": 15,
   "metadata": {},
   "outputs": [],
   "source": [
    "import json\n",
    "import matplotlib.pyplot as plt\n",
    "import numpy as np\n",
    "import pandas as pd\n",
    "from typing import Dict, Tuple\n",
    "\n",
    "from sklearn.model_selection import train_test_split\n",
    "\n",
    "import pytorch_lightning as pl\n",
    "from pytorch_lightning import Trainer, callbacks, seed_everything\n",
    "from pytorch_lightning.loggers import WandbLogger\n",
    "\n",
    "import torch\n",
    "import torchmetrics\n",
    "from torch import nn\n",
    "from torch.utils.data import WeightedRandomSampler\n",
    "\n",
    "from transformers import AutoModel, BertTokenizerFast"
   ]
  },
  {
   "cell_type": "code",
   "execution_count": 16,
   "metadata": {},
   "outputs": [],
   "source": [
    "datafile_path = \"../data/04_feature/preprocessed_data.json\"\n",
    "with open(datafile_path) as f:\n",
    "    data = json.load(f)\n",
    "\n",
    "df = pd.DataFrame(data)"
   ]
  },
  {
   "cell_type": "code",
   "execution_count": 17,
   "metadata": {},
   "outputs": [
    {
     "data": {
      "text/plain": [
       "Index(['post_was_edited', 'request_text_edit_aware', 'request_title',\n",
       "       'requester_account_age_in_days_at_request',\n",
       "       'requester_days_since_first_post_on_raop_at_request',\n",
       "       'requester_number_of_comments_at_request',\n",
       "       'requester_number_of_comments_at_retrieval',\n",
       "       'requester_number_of_comments_in_raop_at_request',\n",
       "       'requester_number_of_posts_at_request',\n",
       "       'requester_number_of_posts_on_raop_at_request',\n",
       "       'requester_number_of_subreddits_at_request', 'requester_received_pizza',\n",
       "       'requester_subreddits_at_request',\n",
       "       'requester_upvotes_minus_downvotes_at_request',\n",
       "       'requester_upvotes_plus_downvotes_at_request', 'requester_username',\n",
       "       'unix_timestamp_of_request', 'unix_timestamp_of_request_utc',\n",
       "       'cleaned_text'],\n",
       "      dtype='object')"
      ]
     },
     "execution_count": 17,
     "metadata": {},
     "output_type": "execute_result"
    }
   ],
   "source": [
    "df.columns"
   ]
  },
  {
   "cell_type": "code",
   "execution_count": 18,
   "metadata": {},
   "outputs": [
    {
     "data": {
      "image/png": "[encoded data removed]",
      "text/plain": [
       "<Figure size 432x288 with 1 Axes>"
      ]
     },
     "metadata": {},
     "output_type": "display_data"
    }
   ],
   "source": [
    "accepted = df[df[\"requester_received_pizza\"] == 1].shape[0]\n",
    "refused = df[df[\"requester_received_pizza\"] == 0].shape[0]\n",
    "total = accepted + refused\n",
    "\n",
    "plt.pie([accepted, refused], labels=[\"accepted\", \"refused\"], autopct=\"%1.1f%%\")\n",
    "plt.show()\n"
   ]
  },
  {
   "cell_type": "markdown",
   "metadata": {},
   "source": [
    "The dataset is really unbalanced, but we can still train a model on it and adapt weights when calculating the loss."
   ]
  },
  {
   "cell_type": "code",
   "execution_count": 9,
   "metadata": {},
   "outputs": [
    {
     "data": {
      "text/plain": [
       "<AxesSubplot:>"
      ]
     },
     "execution_count": 9,
     "metadata": {},
     "output_type": "execute_result"
    },
    {
     "data": {
      "image/png": "[encoded data removed]",
      "text/plain": [
       "<Figure size 432x288 with 1 Axes>"
      ]
     },
     "metadata": {
      "needs_background": "light"
     },
     "output_type": "display_data"
    }
   ],
   "source": [
    "seq_len = [len(i.split()) for i in df[\"cleaned_text\"]]\n",
    "\n",
    "pd.Series(seq_len).hist(bins = 30)"
   ]
  },
  {
   "cell_type": "code",
   "execution_count": 10,
   "metadata": {},
   "outputs": [
    {
     "name": "stdout",
     "output_type": "stream",
     "text": [
      "Training set size: 2424, 2424\n",
      "Validation set size: 808, 808\n",
      "Test set size: 808, 808\n"
     ]
    }
   ],
   "source": [
    "X_train, X_test, y_train, y_test = train_test_split(df[\"cleaned_text\"], df[\"requester_received_pizza\"], test_size=0.2, random_state=3)\n",
    "X_train, X_val, y_train, y_val = train_test_split(X_train, y_train, test_size=0.25, random_state=3, stratify=y_train)\n",
    "\n",
    "X_train = X_train.tolist()\n",
    "X_val = X_val.tolist()\n",
    "X_test = X_test.tolist()\n",
    "y_train = y_train.tolist()\n",
    "y_val = y_val.tolist()\n",
    "y_test = y_test.tolist()\n",
    "\n",
    "print(f\"Training set size: {len(X_train)}, {len(y_train)}\")\n",
    "print(f\"Validation set size: {len(X_val)}, {len(y_val)}\")\n",
    "print(f\"Test set size: {len(X_test)}, {len(y_test)}\")"
   ]
  },
  {
   "cell_type": "markdown",
   "metadata": {},
   "source": [
    "## Modeling"
   ]
  },
  {
   "cell_type": "markdown",
   "metadata": {},
   "source": [
    "We will use `DistilBERT` as our base model.\n",
    "\n",
    "Why not `BERT`?\n",
    "\n",
    "The distillation of the original model will give us a faster model with good performances on downstream tasks like classification."
   ]
  },
  {
   "cell_type": "code",
   "execution_count": 11,
   "metadata": {},
   "outputs": [],
   "source": [
    "class RequestClassifier(pl.LightningModule):\n",
    "    \"\"\"\n",
    "    Simple classifier class to say if the request deserve a pizza or not\n",
    "    \"\"\"\n",
    "    def __init__(\n",
    "        self, \n",
    "        max_seq_len: int = 400, \n",
    "        batch_size: int = 256, \n",
    "        learning_rate: float = 1e-3,\n",
    "        n_classes: int = None,\n",
    "    ) -> None:\n",
    "        \"\"\"\n",
    "        Initialize the model with the parameters given and add new layers for our downstream task\n",
    "\n",
    "        Parameters\n",
    "        ----------\n",
    "        max_seq_len: int\n",
    "            Maximum length of the sequence used to pad the input, default 400\n",
    "        batch_size: int\n",
    "            Batch size for training, default is 256\n",
    "        learning_rate: float\n",
    "            Learning rate for the optimizer of the model, default 1e-3\n",
    "        n_classes: int\n",
    "            Number of classes in the dataset, default is None\n",
    "        \"\"\"\n",
    "        super().__init__()\n",
    "        self.max_seq_len = max_seq_len\n",
    "        self.batch_size = batch_size\n",
    "        self.learning_rate = learning_rate\n",
    "        if n_classes is not None:\n",
    "            self.n_classes = n_classes\n",
    "        else:\n",
    "            raise ValueError(\"n_classes must be specified.\")\n",
    "\n",
    "        # Training metrics\n",
    "        self.loss = nn.CrossEntropyLoss(weight=torch.tensor([0.68, 2.0]))\n",
    "        self.train_accuracy = torchmetrics.Accuracy()\n",
    "        self.val_accuracy = torchmetrics.Accuracy()\n",
    "        self.test_accuracy = torchmetrics.Accuracy()\n",
    "        # self.confusion_matrix = torchmetrics.ConfusionMatrix(num_classes=self.n_classes)\n",
    "        # self.precision = torchmetrics.Precision(num_classes=self.n_classes, average=None)\n",
    "        # self.recall = torchmetrics.Recall(num_classes=self.n_classes)\n",
    "        # self.f1_score = torchmetrics.F1Score(num_classes=self.n_classes)\n",
    "\n",
    "        self.model = AutoModel.from_pretrained(\"bert-base-uncased\", num_labels=self.n_classes)\n",
    "        self.model.eval() # Set model to evaluation mode\n",
    "        for param in self.model.parameters():\n",
    "            param.requires_grad = False # Freeze all the weights and prevent the existing layers from training\n",
    "\n",
    "        self.classification_layers = nn.Sequential(\n",
    "            nn.Linear(768, 512),\n",
    "            nn.ReLU(),\n",
    "            nn.Dropout(0.2),\n",
    "            nn.Linear(512, self.n_classes),\n",
    "            nn.LogSoftmax(dim=1)\n",
    "        )\n",
    "\n",
    "    \n",
    "    def forward(self, encode_id: torch.Tensor, mask: torch.Tensor) -> torch.Tensor:\n",
    "        \"\"\"\n",
    "        Forward pass of the model\n",
    "\n",
    "        Parameters\n",
    "        ----------\n",
    "        encode_id: torch.Tensor\n",
    "            Tensor of shape (batch_size, max_seq_len) containing the encoded ids of the input sequence\n",
    "        mask: torch.Tensor\n",
    "            Tensor of shape (batch_size, max_seq_len) containing the mask of the input sequence\n",
    "        \n",
    "        Returns\n",
    "        -------\n",
    "        torch.Tensor\n",
    "            Tensor of shape (batch_size, 2) containing the logits of the model\n",
    "        \"\"\"\n",
    "        output = self.model(encode_id, attention_mask=mask)\n",
    "        logits = self.classification_layers(output[\"last_hidden_state\"])\n",
    "        return logits[:, -1]\n",
    "\n",
    "    \n",
    "    def prepare_data(self) -> None:\n",
    "        \"\"\"\n",
    "        Load the data for the model and prepare it for training, validation and testing.\n",
    "        \"\"\"\n",
    "        self.tokenizer = BertTokenizerFast.from_pretrained(\"bert-base-uncased\")\n",
    "\n",
    "        # Tokenize and encode the input sequences for training, validation and testing\n",
    "        tokens_train = self.tokenizer.batch_encode_plus(\n",
    "            X_train, \n",
    "            max_length=self.max_seq_len, \n",
    "            pad_to_max_length=True, \n",
    "            truncation=True, \n",
    "            return_token_type_ids=False, \n",
    "            return_tensors=\"pt\"\n",
    "        )\n",
    "        tokens_val = self.tokenizer.batch_encode_plus(\n",
    "            X_val, \n",
    "            max_length=self.max_seq_len, \n",
    "            pad_to_max_length=True, \n",
    "            truncation=True, \n",
    "            return_token_type_ids=False, \n",
    "            return_tensors=\"pt\"\n",
    "        )\n",
    "        tokens_test = self.tokenizer.batch_encode_plus(\n",
    "            X_test, \n",
    "            max_length=self.max_seq_len, \n",
    "            pad_to_max_length=True, \n",
    "            truncation=True, \n",
    "            return_token_type_ids=False, \n",
    "            return_tensors=\"pt\"\n",
    "        )\n",
    "\n",
    "        self.train_seq = torch.tensor(tokens_train[\"input_ids\"])\n",
    "        self.val_seq = torch.tensor(tokens_val[\"input_ids\"])\n",
    "        self.test_seq = torch.tensor(tokens_test[\"input_ids\"])\n",
    "\n",
    "        self.train_mask = torch.tensor(tokens_train[\"attention_mask\"])\n",
    "        self.val_mask = torch.tensor(tokens_val[\"attention_mask\"])\n",
    "        self.test_mask = torch.tensor(tokens_test[\"attention_mask\"])\n",
    "\n",
    "        self.train_labels = torch.tensor(y_train)\n",
    "        self.val_labels = torch.tensor(y_val)\n",
    "        self.test_labels = torch.tensor(y_test)\n",
    "\n",
    "    \n",
    "    def train_dataloader(self) -> torch.utils.data.DataLoader:\n",
    "        \"\"\"\n",
    "        Create a dataloader for the training set.\n",
    "\n",
    "        Returns\n",
    "        -------\n",
    "        torch.utils.data.DataLoader\n",
    "            Dataloader for the training set with the batch size specified in the constructor.\n",
    "        \"\"\"\n",
    "        return torch.utils.data.DataLoader(\n",
    "            torch.utils.data.TensorDataset(self.train_seq, self.train_mask, self.train_labels),\n",
    "            batch_size=self.batch_size,\n",
    "            shuffle=False\n",
    "        )\n",
    "\n",
    "\n",
    "    def val_dataloader(self) -> torch.utils.data.DataLoader:\n",
    "        \"\"\"\n",
    "        Create a dataloader for the validation set.\n",
    "\n",
    "        Returns\n",
    "        -------\n",
    "        torch.utils.data.DataLoader\n",
    "            Dataloader for the validation set with the batch size specified in the constructor.\n",
    "        \"\"\"\n",
    "        return torch.utils.data.DataLoader(\n",
    "            torch.utils.data.TensorDataset(self.val_seq, self.val_mask, self.val_labels),\n",
    "            batch_size=self.batch_size,\n",
    "            shuffle=False\n",
    "        )\n",
    "\n",
    "    \n",
    "    def test_dataloader(self) -> torch.utils.data.DataLoader:\n",
    "        \"\"\"\n",
    "        Create a dataloader for the testing set.\n",
    "\n",
    "        Returns\n",
    "        -------\n",
    "        torch.utils.data.DataLoader\n",
    "            Dataloader for the testing set with the batch size specified in the constructor.\n",
    "        \"\"\"\n",
    "        return torch.utils.data.DataLoader(\n",
    "            torch.utils.data.TensorDataset(self.test_seq, self.test_mask, self.test_labels),\n",
    "            batch_size=self.batch_size,\n",
    "            shuffle=False\n",
    "        )\n",
    "\n",
    "    \n",
    "    def training_step(self, batch: Tuple[torch.Tensor, torch.Tensor, torch.Tensor], batch_idx: int) -> Dict:\n",
    "        \"\"\"\n",
    "        Training step of the model.\n",
    "\n",
    "        Parameters\n",
    "        ----------\n",
    "        batch: Tuple[torch.Tensor, torch.Tensor, torch.Tensor]\n",
    "            Tuple containing the encoded ids, mask and labels of the batch\n",
    "        batch_idx: int\n",
    "            Index of the batch\n",
    "\n",
    "        Returns\n",
    "        -------\n",
    "        Dict\n",
    "            Dict containing the loss and the accuracy of the model for the training set\n",
    "        \"\"\"\n",
    "        encode_id, mask, labels = batch\n",
    "        outputs = self(encode_id, mask)\n",
    "        preds = torch.argmax(outputs, dim=1)\n",
    "        self.train_accuracy(preds, labels)\n",
    "        loss = self.loss(outputs, labels)\n",
    "        self.log(\"train_accuracy\", self.train_accuracy, prog_bar=True, on_step=False, on_epoch=True)\n",
    "        self.log(\"train_loss\", loss, prog_bar=True, on_step=False, on_epoch=True)\n",
    "        return {\"loss\": loss, \"train_accuracy\": self.train_accuracy}\n",
    "\n",
    "\n",
    "    def validation_step(self, batch: Tuple[torch.Tensor, torch.Tensor, torch.Tensor], batch_idx: int) -> Dict:\n",
    "        \"\"\"\n",
    "        Validation step of the model.\n",
    "\n",
    "        Parameters\n",
    "        ----------\n",
    "        batch: Tuple[torch.Tensor, torch.Tensor, torch.Tensor]\n",
    "            Tuple containing the encoded ids, mask and labels of the batch\n",
    "        batch_idx: int\n",
    "            Index of the batch\n",
    "\n",
    "        Returns\n",
    "        -------\n",
    "        Dict\n",
    "            Dict containing the loss and the accuracy of the model for the validation set\n",
    "        \"\"\"\n",
    "        encode_id, mask, labels = batch\n",
    "        outputs = self(encode_id, mask)\n",
    "        preds = torch.argmax(outputs, dim=1)\n",
    "        self.val_accuracy(preds, labels)\n",
    "        loss = self.loss(outputs, labels)\n",
    "        self.log(\"val_accuracy\", self.val_accuracy, prog_bar=True, on_step=False, on_epoch=True)\n",
    "        self.log(\"val_loss\", loss, prog_bar=True, on_step=False, on_epoch=True)\n",
    "        return {\"val_loss\": loss, \"val_accuracy\": self.val_accuracy}\n",
    "\n",
    "    \n",
    "    def test_step(self, batch: Tuple[torch.Tensor, torch.Tensor, torch.Tensor], batch_idx: int) -> Dict:\n",
    "        \"\"\"\n",
    "        Test step of the model.\n",
    "\n",
    "        Parameters\n",
    "        ----------\n",
    "        batch: Tuple[torch.Tensor, torch.Tensor, torch.Tensor]\n",
    "            Tuple containing the encoded ids, mask and labels of the batch\n",
    "        batch_idx: int\n",
    "            Index of the batch\n",
    "\n",
    "        Returns\n",
    "        -------\n",
    "        Dict\n",
    "            Dict containing the loss and the accuracy of the model for the test set\n",
    "        \"\"\"\n",
    "        encode_id, mask, labels = batch\n",
    "        outputs = self(encode_id, mask)\n",
    "        preds = torch.argmax(outputs, dim=1)\n",
    "        self.test_accuracy(preds, labels)\n",
    "        loss = self.loss(outputs, labels)\n",
    "        self.log(\"test_accuracy\", self.test_accuracy, prog_bar=True, on_step=True, on_epoch=True)\n",
    "        self.log(\"test_loss\", loss, prog_bar=True, on_step=True, on_epoch=True)\n",
    "        return {\"test_loss\": loss, \"test_accuracy\": self.test_accuracy}  \n",
    "\n",
    "\n",
    "    def train_epoch_end(self, outs) -> None:\n",
    "        \"\"\"\n",
    "        End of the training epoch. Reset the training accuracy.\n",
    "        \"\"\"\n",
    "        self.train_accuracy.reset()\n",
    "\n",
    "    \n",
    "    def val_epoch_end(self, outs) -> None:\n",
    "        \"\"\"\n",
    "        End of the validation epoch. Compute the validation accurac and reset the validation metrics.\n",
    "        \"\"\"\n",
    "        self.val_accuracy.reset()\n",
    "\n",
    "    \n",
    "    def configure_optimizers(self) -> torch.optim.AdamW:\n",
    "        \"\"\"\n",
    "        Configure the optimizer.\n",
    "\n",
    "        Returns\n",
    "        -------\n",
    "        torch.optim.AdamW\n",
    "            Optimizer for the model\n",
    "        \"\"\"\n",
    "        return torch.optim.AdamW(self.parameters(), lr=self.learning_rate)"
   ]
  },
  {
   "cell_type": "code",
   "execution_count": 12,
   "metadata": {},
   "outputs": [
    {
     "name": "stderr",
     "output_type": "stream",
     "text": [
      "Global seed set to 42\n",
      "Some weights of the model checkpoint at bert-base-uncased were not used when initializing BertModel: ['cls.predictions.transform.dense.bias', 'cls.predictions.decoder.weight', 'cls.seq_relationship.bias', 'cls.seq_relationship.weight', 'cls.predictions.transform.LayerNorm.weight', 'cls.predictions.transform.LayerNorm.bias', 'cls.predictions.transform.dense.weight', 'cls.predictions.bias']\n",
      "- This IS expected if you are initializing BertModel from the checkpoint of a model trained on another task or with another architecture (e.g. initializing a BertForSequenceClassification model from a BertForPreTraining model).\n",
      "- This IS NOT expected if you are initializing BertModel from the checkpoint of a model that you expect to be exactly identical (initializing a BertForSequenceClassification model from a BertForSequenceClassification model).\n",
      "/home/chainyo/miniconda3/envs/challenge/lib/python3.8/site-packages/pytorch_lightning/trainer/connectors/callback_connector.py:90: LightningDeprecationWarning: Setting `Trainer(progress_bar_refresh_rate=10)` is deprecated in v1.5 and will be removed in v1.7. Please pass `pytorch_lightning.callbacks.progress.TQDMProgressBar` with `refresh_rate` directly to the Trainer's `callbacks` argument instead. Or, to disable the progress bar pass `enable_progress_bar = False` to the Trainer.\n",
      "  rank_zero_deprecation(\n",
      "GPU available: True, used: True\n",
      "TPU available: False, using: 0 TPU cores\n",
      "IPU available: False, using: 0 IPUs\n",
      "/home/chainyo/miniconda3/envs/challenge/lib/python3.8/site-packages/transformers/tokenization_utils_base.py:2271: FutureWarning: The `pad_to_max_length` argument is deprecated and will be removed in a future version, use `padding=True` or `padding='longest'` to pad to the longest sequence in the batch, or use `padding='max_length'` to pad to a max length. In this case, you can give a specific length with `max_length` (e.g. `max_length=45`) or leave max_length to None to pad to the maximal input size of the model (e.g. 512 for Bert).\n",
      "  warnings.warn(\n",
      "/tmp/ipykernel_4402/795439870.py:112: UserWarning: To copy construct from a tensor, it is recommended to use sourceTensor.clone().detach() or sourceTensor.clone().detach().requires_grad_(True), rather than torch.tensor(sourceTensor).\n",
      "  self.train_seq = torch.tensor(tokens_train[\"input_ids\"])\n",
      "/tmp/ipykernel_4402/795439870.py:113: UserWarning: To copy construct from a tensor, it is recommended to use sourceTensor.clone().detach() or sourceTensor.clone().detach().requires_grad_(True), rather than torch.tensor(sourceTensor).\n",
      "  self.val_seq = torch.tensor(tokens_val[\"input_ids\"])\n",
      "/tmp/ipykernel_4402/795439870.py:114: UserWarning: To copy construct from a tensor, it is recommended to use sourceTensor.clone().detach() or sourceTensor.clone().detach().requires_grad_(True), rather than torch.tensor(sourceTensor).\n",
      "  self.test_seq = torch.tensor(tokens_test[\"input_ids\"])\n",
      "/tmp/ipykernel_4402/795439870.py:116: UserWarning: To copy construct from a tensor, it is recommended to use sourceTensor.clone().detach() or sourceTensor.clone().detach().requires_grad_(True), rather than torch.tensor(sourceTensor).\n",
      "  self.train_mask = torch.tensor(tokens_train[\"attention_mask\"])\n",
      "/tmp/ipykernel_4402/795439870.py:117: UserWarning: To copy construct from a tensor, it is recommended to use sourceTensor.clone().detach() or sourceTensor.clone().detach().requires_grad_(True), rather than torch.tensor(sourceTensor).\n",
      "  self.val_mask = torch.tensor(tokens_val[\"attention_mask\"])\n",
      "/tmp/ipykernel_4402/795439870.py:118: UserWarning: To copy construct from a tensor, it is recommended to use sourceTensor.clone().detach() or sourceTensor.clone().detach().requires_grad_(True), rather than torch.tensor(sourceTensor).\n",
      "  self.test_mask = torch.tensor(tokens_test[\"attention_mask\"])\n",
      "LOCAL_RANK: 0 - CUDA_VISIBLE_DEVICES: [0]\n",
      "\n",
      "  | Name                  | Type             | Params\n",
      "-----------------------------------------------------------\n",
      "0 | loss                  | CrossEntropyLoss | 0     \n",
      "1 | train_accuracy        | Accuracy         | 0     \n",
      "2 | val_accuracy          | Accuracy         | 0     \n",
      "3 | test_accuracy         | Accuracy         | 0     \n",
      "4 | model                 | BertModel        | 109 M \n",
      "5 | classification_layers | Sequential       | 394 K \n",
      "-----------------------------------------------------------\n",
      "394 K     Trainable params\n",
      "109 M     Non-trainable params\n",
      "109 M     Total params\n",
      "439.508   Total estimated model params size (MB)\n"
     ]
    },
    {
     "name": "stdout",
     "output_type": "stream",
     "text": [
      "Validation sanity check:   0%|          | 0/2 [00:00<?, ?it/s]"
     ]
    },
    {
     "name": "stderr",
     "output_type": "stream",
     "text": [
      "/home/chainyo/miniconda3/envs/challenge/lib/python3.8/site-packages/pytorch_lightning/trainer/data_loading.py:132: UserWarning: The dataloader, val_dataloader 0, does not have many workers which may be a bottleneck. Consider increasing the value of the `num_workers` argument` (try 12 which is the number of cpus on this machine) in the `DataLoader` init to improve performance.\n",
      "  rank_zero_warn(\n"
     ]
    },
    {
     "name": "stdout",
     "output_type": "stream",
     "text": [
      "                                                                      "
     ]
    },
    {
     "name": "stderr",
     "output_type": "stream",
     "text": [
      "Global seed set to 42\n",
      "/home/chainyo/miniconda3/envs/challenge/lib/python3.8/site-packages/pytorch_lightning/trainer/data_loading.py:132: UserWarning: The dataloader, train_dataloader, does not have many workers which may be a bottleneck. Consider increasing the value of the `num_workers` argument` (try 12 which is the number of cpus on this machine) in the `DataLoader` init to improve performance.\n",
      "  rank_zero_warn(\n"
     ]
    },
    {
     "name": "stdout",
     "output_type": "stream",
     "text": [
      "Epoch 0:  49%|████▉     | 50/102 [00:13<00:14,  3.67it/s, loss=0.587]"
     ]
    },
    {
     "name": "stderr",
     "output_type": "stream",
     "text": [
      "/home/chainyo/miniconda3/envs/challenge/lib/python3.8/site-packages/pytorch_lightning/trainer/trainer.py:688: UserWarning: Detected KeyboardInterrupt, attempting graceful shutdown...\n",
      "  rank_zero_warn(\"Detected KeyboardInterrupt, attempting graceful shutdown...\")\n",
      "LOCAL_RANK: 0 - CUDA_VISIBLE_DEVICES: [0]\n",
      "/home/chainyo/miniconda3/envs/challenge/lib/python3.8/site-packages/pytorch_lightning/trainer/data_loading.py:132: UserWarning: The dataloader, test_dataloader 0, does not have many workers which may be a bottleneck. Consider increasing the value of the `num_workers` argument` (try 12 which is the number of cpus on this machine) in the `DataLoader` init to improve performance.\n",
      "  rank_zero_warn(\n"
     ]
    },
    {
     "name": "stdout",
     "output_type": "stream",
     "text": [
      "Testing: 0it [00:00, ?it/s]"
     ]
    },
    {
     "name": "stderr",
     "output_type": "stream",
     "text": [
      "Failed to detect the name of this notebook, you can set it manually with the WANDB_NOTEBOOK_NAME environment variable to enable code saving.\n",
      "\u001b[34m\u001b[1mwandb\u001b[0m: Currently logged in as: \u001b[33mchainyo-mleng\u001b[0m (use `wandb login --relogin` to force relogin)\n"
     ]
    },
    {
     "name": "stdout",
     "output_type": "stream",
     "text": [
      "huggingface/tokenizers: The current process just got forked, after parallelism has already been used. Disabling parallelism to avoid deadlocks...\n",
      "To disable this warning, you can either:\n",
      "\t- Avoid using `tokenizers` before the fork if possible\n",
      "\t- Explicitly set the environment variable TOKENIZERS_PARALLELISM=(true | false)\n",
      "huggingface/tokenizers: The current process just got forked, after parallelism has already been used. Disabling parallelism to avoid deadlocks...\n",
      "To disable this warning, you can either:\n",
      "\t- Avoid using `tokenizers` before the fork if possible\n",
      "\t- Explicitly set the environment variable TOKENIZERS_PARALLELISM=(true | false)\n",
      "huggingface/tokenizers: The current process just got forked, after parallelism has already been used. Disabling parallelism to avoid deadlocks...\n",
      "To disable this warning, you can either:\n",
      "\t- Avoid using `tokenizers` before the fork if possible\n",
      "\t- Explicitly set the environment variable TOKENIZERS_PARALLELISM=(true | false)\n"
     ]
    },
    {
     "data": {
      "text/html": [
       "Tracking run with wandb version 0.12.11"
      ],
      "text/plain": [
       "<IPython.core.display.HTML object>"
      ]
     },
     "metadata": {},
     "output_type": "display_data"
    },
    {
     "data": {
      "text/html": [
       "Run data is saved locally in <code>/home/chainyo/code/pizza-challenge/notebooks/wandb/run-20220317_102508-1u3nps7z</code>"
      ],
      "text/plain": [
       "<IPython.core.display.HTML object>"
      ]
     },
     "metadata": {},
     "output_type": "display_data"
    },
    {
     "data": {
      "text/html": [
       "Syncing run <strong><a href=\"https://wandb.ai/chainyo-mleng/challenge/runs/1u3nps7z\" target=\"_blank\">ancient-wood-8</a></strong> to <a href=\"https://wandb.ai/chainyo-mleng/challenge\" target=\"_blank\">Weights & Biases</a> (<a href=\"https://wandb.me/run\" target=\"_blank\">docs</a>)<br/>"
      ],
      "text/plain": [
       "<IPython.core.display.HTML object>"
      ]
     },
     "metadata": {},
     "output_type": "display_data"
    }
   ],
   "source": [
    "seed_everything(42, workers=True)\n",
    "logger = WandbLogger(project=\"challenge\", entity=\"chainyo-mleng\")\n",
    "gpu_value = 1 if torch.cuda.is_available() else 0 # Check if GPU is available\n",
    "\n",
    "model = RequestClassifier(batch_size=32, n_classes=2)\n",
    "\n",
    "checkpoint_callback = callbacks.ModelCheckpoint(\n",
    "    dirpath=\"../data/06_models/checkpoints\",\n",
    "    save_top_k=1,\n",
    "    verbose=True,\n",
    "    monitor=\"val_loss\",\n",
    "    mode=\"min\",\n",
    ")\n",
    "early_stopping_callback = callbacks.EarlyStopping(\n",
    "    monitor=\"val_loss\",\n",
    "    patience=3,\n",
    "    verbose=True,\n",
    "    mode=\"min\",\n",
    ")\n",
    "\n",
    "trainer = Trainer(\n",
    "    max_epochs=5, \n",
    "    progress_bar_refresh_rate=10, \n",
    "    gpus=1, \n",
    "    logger=logger, \n",
    "    callbacks=[checkpoint_callback, early_stopping_callback],\n",
    "    deterministic=False,\n",
    ")\n",
    "\n",
    "trainer.fit(model)\n",
    "trainer.test(model)"
   ]
  },
  {
   "cell_type": "code",
   "execution_count": null,
   "metadata": {},
   "outputs": [],
   "source": []
  }
 ],
 "metadata": {
  "interpreter": {
   "hash": "adb55e0d7d06b22fe6d30f2cb3e94f7617271379578af157e6db74b02ef92f76"
  },
  "kernelspec": {
   "display_name": "Python 3.8.12 ('challenge')",
   "language": "python",
   "name": "python3"
  },
  "language_info": {
   "codemirror_mode": {
    "name": "ipython",
    "version": 3
   },
   "file_extension": ".py",
   "mimetype": "text/x-python",
   "name": "python",
   "nbconvert_exporter": "python",
   "pygments_lexer": "ipython3",
   "version": "3.8.12"
  },
  "orig_nbformat": 4
 },
 "nbformat": 4,
 "nbformat_minor": 2
}
