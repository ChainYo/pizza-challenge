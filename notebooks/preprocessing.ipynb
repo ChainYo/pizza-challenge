{
 "cells": [
  {
   "cell_type": "code",
   "execution_count": 1,
   "metadata": {},
   "outputs": [],
   "source": [
    "import json\n",
    "import pandas as pd"
   ]
  },
  {
   "cell_type": "code",
   "execution_count": 2,
   "metadata": {},
   "outputs": [],
   "source": [
    "datafile_path = \"../data/03_primary/cleaned_text_data.json\"\n",
    "with open(datafile_path) as f:\n",
    "    data = json.load(f)\n",
    "\n",
    "df = pd.DataFrame(data)"
   ]
  },
  {
   "cell_type": "code",
   "execution_count": 3,
   "metadata": {},
   "outputs": [
    {
     "data": {
      "text/plain": [
       "post_was_edited                                        object\n",
       "request_text_edit_aware                                object\n",
       "request_title                                          object\n",
       "requester_account_age_in_days_at_request              float64\n",
       "requester_days_since_first_post_on_raop_at_request    float64\n",
       "requester_number_of_comments_at_request                 int64\n",
       "requester_number_of_comments_at_retrieval               int64\n",
       "requester_number_of_comments_in_raop_at_request         int64\n",
       "requester_number_of_posts_at_request                    int64\n",
       "requester_number_of_posts_on_raop_at_request            int64\n",
       "requester_number_of_subreddits_at_request               int64\n",
       "requester_received_pizza                                 bool\n",
       "requester_subreddits_at_request                        object\n",
       "requester_upvotes_minus_downvotes_at_request            int64\n",
       "requester_upvotes_plus_downvotes_at_request             int64\n",
       "requester_username                                     object\n",
       "unix_timestamp_of_request                             float64\n",
       "unix_timestamp_of_request_utc                         float64\n",
       "cleaned_text                                           object\n",
       "dtype: object"
      ]
     },
     "execution_count": 3,
     "metadata": {},
     "output_type": "execute_result"
    }
   ],
   "source": [
    "df.dtypes"
   ]
  },
  {
   "cell_type": "markdown",
   "metadata": {},
   "source": [
    "## Data Preprocessing"
   ]
  },
  {
   "cell_type": "markdown",
   "metadata": {},
   "source": [
    "Let's start by converting all boolean values to 0 and 1 where 0 is False and 1 is True."
   ]
  },
  {
   "cell_type": "markdown",
   "metadata": {},
   "source": [
    "#### post_was_edited"
   ]
  },
  {
   "cell_type": "code",
   "execution_count": 4,
   "metadata": {},
   "outputs": [
    {
     "data": {
      "text/plain": [
       "False           3395\n",
       "True             346\n",
       "1377877925.0       1\n",
       "1347564988.0       1\n",
       "1349478371.0       1\n",
       "                ... \n",
       "1354396381.0       1\n",
       "1375391768.0       1\n",
       "1374109637.0       1\n",
       "1350765213.0       1\n",
       "1369770892.0       1\n",
       "Name: post_was_edited, Length: 301, dtype: int64"
      ]
     },
     "execution_count": 4,
     "metadata": {},
     "output_type": "execute_result"
    }
   ],
   "source": [
    "df[\"post_was_edited\"].value_counts()"
   ]
  },
  {
   "cell_type": "markdown",
   "metadata": {},
   "source": [
    "As we can see there is some coulumns with timestamps instead of boolean values. We will consider that if there is a timestamp, then the value is True."
   ]
  },
  {
   "cell_type": "code",
   "execution_count": 5,
   "metadata": {},
   "outputs": [
    {
     "data": {
      "text/plain": [
       "0    3395\n",
       "1     645\n",
       "Name: post_was_edited, dtype: int64"
      ]
     },
     "execution_count": 5,
     "metadata": {},
     "output_type": "execute_result"
    }
   ],
   "source": [
    "df[\"post_was_edited\"] = df[\"post_was_edited\"].apply(lambda x: True if isinstance(x, float) else x)\n",
    "df[\"post_was_edited\"] = df[\"post_was_edited\"].astype(int)\n",
    "df[\"post_was_edited\"].value_counts()"
   ]
  },
  {
   "cell_type": "markdown",
   "metadata": {},
   "source": [
    "#### requester_received_pizza"
   ]
  },
  {
   "cell_type": "code",
   "execution_count": 6,
   "metadata": {},
   "outputs": [
    {
     "data": {
      "text/plain": [
       "False    3046\n",
       "True      994\n",
       "Name: requester_received_pizza, dtype: int64"
      ]
     },
     "execution_count": 6,
     "metadata": {},
     "output_type": "execute_result"
    }
   ],
   "source": [
    "df[\"requester_received_pizza\"].value_counts()"
   ]
  },
  {
   "cell_type": "code",
   "execution_count": 7,
   "metadata": {},
   "outputs": [
    {
     "data": {
      "text/plain": [
       "0    3046\n",
       "1     994\n",
       "Name: requester_received_pizza, dtype: int64"
      ]
     },
     "execution_count": 7,
     "metadata": {},
     "output_type": "execute_result"
    }
   ],
   "source": [
    "df[\"requester_received_pizza\"] = df[\"requester_received_pizza\"].astype(int)\n",
    "df[\"requester_received_pizza\"].value_counts()"
   ]
  },
  {
   "cell_type": "markdown",
   "metadata": {},
   "source": [
    "#### unix_timestamp_of_request_utc\n",
    "\n",
    "Now we can convert the timestamp to a datetime object."
   ]
  },
  {
   "cell_type": "code",
   "execution_count": 8,
   "metadata": {},
   "outputs": [
    {
     "name": "stdout",
     "output_type": "stream",
     "text": [
      "datetime64[ns] datetime64[ns]\n"
     ]
    }
   ],
   "source": [
    "df[\"unix_timestamp_of_request_utc\"] = pd.to_datetime(df[\"unix_timestamp_of_request_utc\"], unit=\"s\")\n",
    "df[\"unix_timestamp_of_request\"] = pd.to_datetime(df[\"unix_timestamp_of_request\"], unit=\"s\")\n",
    "print(df.dtypes[\"unix_timestamp_of_request_utc\"], df.dtypes[\"unix_timestamp_of_request\"])"
   ]
  },
  {
   "cell_type": "markdown",
   "metadata": {},
   "source": [
    "#### requester_subreddits_at_request\n",
    "\n",
    "This last column contains a list of subreddits or directly an integer. We will convert all lists to integers in order to make the data more manageable and easier to work with."
   ]
  },
  {
   "cell_type": "code",
   "execution_count": 9,
   "metadata": {},
   "outputs": [
    {
     "data": {
      "text/plain": [
       "[]                                                                                                                                                                                                                                                                                                                                729\n",
       "[Random_Acts_Of_Pizza]                                                                                                                                                                                                                                                                                                            243\n",
       "[AskReddit]                                                                                                                                                                                                                                                                                                                        20\n",
       "[AskReddit, Random_Acts_Of_Pizza]                                                                                                                                                                                                                                                                                                  10\n",
       "[funny]                                                                                                                                                                                                                                                                                                                             8\n",
       "                                                                                                                                                                                                                                                                                                                                 ... \n",
       "[AskReddit, Catholicism, Christianity, Coldplay, IAmA, MCFC, Music, NoFap, Random_Acts_Of_Pizza, SOPA, WTF, WeAreTheMusicMakers, atheism, chicago, drums, fffffffuuuuuuuuuuuu, forhire, funny, gameswap, graphic_design, heat, oasis, offbeat, pics, politics, reddit.com, sports, todayilearned]                                   1\n",
       "[AdviceAnimals, AskReddit, IAmA, Music, Pyongyang, Rainmeter, SOPA, SOPAfunny, Steam, Tribes, UniversityofReddit, WTF, apple, atheism, aww, blog, dayz, fffffffuuuuuuuuuuuu, funny, gaming, learnprogramming, musicintro, pics, politics, reactiongifs, realitianity, technology, todayilearned, videos, wallpaper, worldnews]      1\n",
       "[AdviceAnimals, AskReddit, Random_Acts_Of_Pizza, WTF, aww, funny, pics, triangle, videos]                                                                                                                                                                                                                                           1\n",
       "[AdviceAnimals, AskReddit, Assistance, DoesAnybodyElse, Gore, InternetIsBeautiful, NotTimAndEric, Random_Acts_Of_Amazon, WTF, amiugly, breakingbad, casualiama, cats, circlejerk, cringe, cringepics, facepalm, phish, pics, trees]                                                                                                 1\n",
       "[AskReddit, Drugs, IAmA, LongDistance, Minecraft, Random_Acts_Of_Pizza, SuicideWatch, TwoXChromosomes, WTF, aww, cats, creepy, depression, dubstep, everett, fffffffuuuuuuuuuuuu, funny, gaming, loseit, mildlyinteresting, nosleep, pics, piercing, relationships, sandy, sex, todayilearned, wow]                                 1\n",
       "Name: requester_subreddits_at_request, Length: 2987, dtype: int64"
      ]
     },
     "execution_count": 9,
     "metadata": {},
     "output_type": "execute_result"
    }
   ],
   "source": [
    "df[\"requester_subreddits_at_request\"].value_counts()"
   ]
  },
  {
   "cell_type": "code",
   "execution_count": 10,
   "metadata": {},
   "outputs": [
    {
     "data": {
      "text/plain": [
       "0      729\n",
       "1      362\n",
       "2      128\n",
       "3      119\n",
       "6      107\n",
       "      ... \n",
       "149      1\n",
       "113      1\n",
       "99       1\n",
       "83       1\n",
       "103      1\n",
       "Name: requester_subreddits_at_request, Length: 128, dtype: int64"
      ]
     },
     "execution_count": 10,
     "metadata": {},
     "output_type": "execute_result"
    }
   ],
   "source": [
    "df[\"requester_subreddits_at_request\"] = df[\"requester_subreddits_at_request\"].apply(lambda x: len(x) if isinstance(x, list) else x)\n",
    "df[\"requester_subreddits_at_request\"].value_counts()"
   ]
  },
  {
   "cell_type": "markdown",
   "metadata": {},
   "source": [
    "## Saving data"
   ]
  },
  {
   "cell_type": "code",
   "execution_count": 11,
   "metadata": {},
   "outputs": [
    {
     "data": {
      "text/html": [
       "<div>\n",
       "<style scoped>\n",
       "    .dataframe tbody tr th:only-of-type {\n",
       "        vertical-align: middle;\n",
       "    }\n",
       "\n",
       "    .dataframe tbody tr th {\n",
       "        vertical-align: top;\n",
       "    }\n",
       "\n",
       "    .dataframe thead th {\n",
       "        text-align: right;\n",
       "    }\n",
       "</style>\n",
       "<table border=\"1\" class=\"dataframe\">\n",
       "  <thead>\n",
       "    <tr style=\"text-align: right;\">\n",
       "      <th></th>\n",
       "      <th>post_was_edited</th>\n",
       "      <th>request_text_edit_aware</th>\n",
       "      <th>request_title</th>\n",
       "      <th>requester_account_age_in_days_at_request</th>\n",
       "      <th>requester_days_since_first_post_on_raop_at_request</th>\n",
       "      <th>requester_number_of_comments_at_request</th>\n",
       "      <th>requester_number_of_comments_at_retrieval</th>\n",
       "      <th>requester_number_of_comments_in_raop_at_request</th>\n",
       "      <th>requester_number_of_posts_at_request</th>\n",
       "      <th>requester_number_of_posts_on_raop_at_request</th>\n",
       "      <th>requester_number_of_subreddits_at_request</th>\n",
       "      <th>requester_received_pizza</th>\n",
       "      <th>requester_subreddits_at_request</th>\n",
       "      <th>requester_upvotes_minus_downvotes_at_request</th>\n",
       "      <th>requester_upvotes_plus_downvotes_at_request</th>\n",
       "      <th>requester_username</th>\n",
       "      <th>unix_timestamp_of_request</th>\n",
       "      <th>unix_timestamp_of_request_utc</th>\n",
       "      <th>cleaned_text</th>\n",
       "    </tr>\n",
       "  </thead>\n",
       "  <tbody>\n",
       "    <tr>\n",
       "      <th>0</th>\n",
       "      <td>0</td>\n",
       "      <td>Hi I am in need of food for my 4 children we a...</td>\n",
       "      <td>Request Colorado Springs Help Us Please</td>\n",
       "      <td>0.000000</td>\n",
       "      <td>0.000000</td>\n",
       "      <td>0</td>\n",
       "      <td>0</td>\n",
       "      <td>0</td>\n",
       "      <td>0</td>\n",
       "      <td>0</td>\n",
       "      <td>0</td>\n",
       "      <td>0</td>\n",
       "      <td>0</td>\n",
       "      <td>0</td>\n",
       "      <td>0</td>\n",
       "      <td>nickylvst</td>\n",
       "      <td>2011-10-05 22:10:07</td>\n",
       "      <td>2011-10-05 21:10:07</td>\n",
       "      <td>hi i am in need of food for my 4 children we a...</td>\n",
       "    </tr>\n",
       "    <tr>\n",
       "      <th>1</th>\n",
       "      <td>0</td>\n",
       "      <td>I spent the last money I had on gas today. Im ...</td>\n",
       "      <td>[Request] California, No cash and I could use ...</td>\n",
       "      <td>501.111100</td>\n",
       "      <td>0.000000</td>\n",
       "      <td>0</td>\n",
       "      <td>1000</td>\n",
       "      <td>0</td>\n",
       "      <td>15</td>\n",
       "      <td>0</td>\n",
       "      <td>12</td>\n",
       "      <td>0</td>\n",
       "      <td>12</td>\n",
       "      <td>34</td>\n",
       "      <td>116</td>\n",
       "      <td>fohacidal</td>\n",
       "      <td>2012-03-25 05:13:44</td>\n",
       "      <td>2012-03-25 04:13:44</td>\n",
       "      <td>i spent the last money i had on gas today. im ...</td>\n",
       "    </tr>\n",
       "    <tr>\n",
       "      <th>2</th>\n",
       "      <td>0</td>\n",
       "      <td>My girlfriend decided it would be a good idea ...</td>\n",
       "      <td>[Request] Hungry couple in Dundee, Scotland wo...</td>\n",
       "      <td>0.000000</td>\n",
       "      <td>0.000000</td>\n",
       "      <td>0</td>\n",
       "      <td>0</td>\n",
       "      <td>0</td>\n",
       "      <td>0</td>\n",
       "      <td>0</td>\n",
       "      <td>0</td>\n",
       "      <td>0</td>\n",
       "      <td>0</td>\n",
       "      <td>0</td>\n",
       "      <td>0</td>\n",
       "      <td>jacquibatman7</td>\n",
       "      <td>2011-10-26 17:28:14</td>\n",
       "      <td>2011-10-26 16:28:14</td>\n",
       "      <td>my girlfriend decided it would be a good idea ...</td>\n",
       "    </tr>\n",
       "    <tr>\n",
       "      <th>3</th>\n",
       "      <td>1</td>\n",
       "      <td>It's cold, I'n hungry, and to be completely ho...</td>\n",
       "      <td>[Request] In Canada (Ontario), just got home f...</td>\n",
       "      <td>6.518438</td>\n",
       "      <td>0.000000</td>\n",
       "      <td>36</td>\n",
       "      <td>41</td>\n",
       "      <td>0</td>\n",
       "      <td>1</td>\n",
       "      <td>0</td>\n",
       "      <td>4</td>\n",
       "      <td>0</td>\n",
       "      <td>4</td>\n",
       "      <td>54</td>\n",
       "      <td>76</td>\n",
       "      <td>4on_the_floor</td>\n",
       "      <td>2011-12-02 19:50:34</td>\n",
       "      <td>2011-12-02 19:50:34</td>\n",
       "      <td>it's cold, i'n hungry, and to be completely ho...</td>\n",
       "    </tr>\n",
       "    <tr>\n",
       "      <th>4</th>\n",
       "      <td>0</td>\n",
       "      <td>hey guys:\\n I love this sub. I think it's grea...</td>\n",
       "      <td>[Request] Old friend coming to visit. Would LO...</td>\n",
       "      <td>162.063252</td>\n",
       "      <td>101.606505</td>\n",
       "      <td>140</td>\n",
       "      <td>178</td>\n",
       "      <td>2</td>\n",
       "      <td>14</td>\n",
       "      <td>0</td>\n",
       "      <td>11</td>\n",
       "      <td>0</td>\n",
       "      <td>11</td>\n",
       "      <td>1121</td>\n",
       "      <td>1733</td>\n",
       "      <td>Futuredogwalker</td>\n",
       "      <td>2013-07-12 19:34:51</td>\n",
       "      <td>2013-07-12 18:34:51</td>\n",
       "      <td>hey guys: i love this sub. i think it's great....</td>\n",
       "    </tr>\n",
       "  </tbody>\n",
       "</table>\n",
       "</div>"
      ],
      "text/plain": [
       "   post_was_edited                            request_text_edit_aware  \\\n",
       "0                0  Hi I am in need of food for my 4 children we a...   \n",
       "1                0  I spent the last money I had on gas today. Im ...   \n",
       "2                0  My girlfriend decided it would be a good idea ...   \n",
       "3                1  It's cold, I'n hungry, and to be completely ho...   \n",
       "4                0  hey guys:\\n I love this sub. I think it's grea...   \n",
       "\n",
       "                                       request_title  \\\n",
       "0            Request Colorado Springs Help Us Please   \n",
       "1  [Request] California, No cash and I could use ...   \n",
       "2  [Request] Hungry couple in Dundee, Scotland wo...   \n",
       "3  [Request] In Canada (Ontario), just got home f...   \n",
       "4  [Request] Old friend coming to visit. Would LO...   \n",
       "\n",
       "   requester_account_age_in_days_at_request  \\\n",
       "0                                  0.000000   \n",
       "1                                501.111100   \n",
       "2                                  0.000000   \n",
       "3                                  6.518438   \n",
       "4                                162.063252   \n",
       "\n",
       "   requester_days_since_first_post_on_raop_at_request  \\\n",
       "0                                           0.000000    \n",
       "1                                           0.000000    \n",
       "2                                           0.000000    \n",
       "3                                           0.000000    \n",
       "4                                         101.606505    \n",
       "\n",
       "   requester_number_of_comments_at_request  \\\n",
       "0                                        0   \n",
       "1                                        0   \n",
       "2                                        0   \n",
       "3                                       36   \n",
       "4                                      140   \n",
       "\n",
       "   requester_number_of_comments_at_retrieval  \\\n",
       "0                                          0   \n",
       "1                                       1000   \n",
       "2                                          0   \n",
       "3                                         41   \n",
       "4                                        178   \n",
       "\n",
       "   requester_number_of_comments_in_raop_at_request  \\\n",
       "0                                                0   \n",
       "1                                                0   \n",
       "2                                                0   \n",
       "3                                                0   \n",
       "4                                                2   \n",
       "\n",
       "   requester_number_of_posts_at_request  \\\n",
       "0                                     0   \n",
       "1                                    15   \n",
       "2                                     0   \n",
       "3                                     1   \n",
       "4                                    14   \n",
       "\n",
       "   requester_number_of_posts_on_raop_at_request  \\\n",
       "0                                             0   \n",
       "1                                             0   \n",
       "2                                             0   \n",
       "3                                             0   \n",
       "4                                             0   \n",
       "\n",
       "   requester_number_of_subreddits_at_request  requester_received_pizza  \\\n",
       "0                                          0                         0   \n",
       "1                                         12                         0   \n",
       "2                                          0                         0   \n",
       "3                                          4                         0   \n",
       "4                                         11                         0   \n",
       "\n",
       "   requester_subreddits_at_request  \\\n",
       "0                                0   \n",
       "1                               12   \n",
       "2                                0   \n",
       "3                                4   \n",
       "4                               11   \n",
       "\n",
       "   requester_upvotes_minus_downvotes_at_request  \\\n",
       "0                                             0   \n",
       "1                                            34   \n",
       "2                                             0   \n",
       "3                                            54   \n",
       "4                                          1121   \n",
       "\n",
       "   requester_upvotes_plus_downvotes_at_request requester_username  \\\n",
       "0                                            0          nickylvst   \n",
       "1                                          116          fohacidal   \n",
       "2                                            0      jacquibatman7   \n",
       "3                                           76      4on_the_floor   \n",
       "4                                         1733    Futuredogwalker   \n",
       "\n",
       "  unix_timestamp_of_request unix_timestamp_of_request_utc  \\\n",
       "0       2011-10-05 22:10:07           2011-10-05 21:10:07   \n",
       "1       2012-03-25 05:13:44           2012-03-25 04:13:44   \n",
       "2       2011-10-26 17:28:14           2011-10-26 16:28:14   \n",
       "3       2011-12-02 19:50:34           2011-12-02 19:50:34   \n",
       "4       2013-07-12 19:34:51           2013-07-12 18:34:51   \n",
       "\n",
       "                                        cleaned_text  \n",
       "0  hi i am in need of food for my 4 children we a...  \n",
       "1  i spent the last money i had on gas today. im ...  \n",
       "2  my girlfriend decided it would be a good idea ...  \n",
       "3  it's cold, i'n hungry, and to be completely ho...  \n",
       "4  hey guys: i love this sub. i think it's great....  "
      ]
     },
     "execution_count": 11,
     "metadata": {},
     "output_type": "execute_result"
    }
   ],
   "source": [
    "df.head()"
   ]
  },
  {
   "cell_type": "code",
   "execution_count": 12,
   "metadata": {},
   "outputs": [],
   "source": [
    "# Save dataframe to a new json file\n",
    "df.to_json(\"../data/04_feature/preprocessed_data.json\", orient=\"records\")"
   ]
  }
 ],
 "metadata": {
  "interpreter": {
   "hash": "adb55e0d7d06b22fe6d30f2cb3e94f7617271379578af157e6db74b02ef92f76"
  },
  "kernelspec": {
   "display_name": "Python 3.8.12 ('challenge')",
   "language": "python",
   "name": "python3"
  },
  "language_info": {
   "codemirror_mode": {
    "name": "ipython",
    "version": 3
   },
   "file_extension": ".py",
   "mimetype": "text/x-python",
   "name": "python",
   "nbconvert_exporter": "python",
   "pygments_lexer": "ipython3",
   "version": "3.8.12"
  },
  "orig_nbformat": 4
 },
 "nbformat": 4,
 "nbformat_minor": 2
}
