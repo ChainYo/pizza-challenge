{
 "cells": [
  {
   "cell_type": "code",
   "execution_count": 1,
   "metadata": {},
   "outputs": [],
   "source": [
    "import json\n",
    "import pandas as pd"
   ]
  },
  {
   "cell_type": "code",
   "execution_count": 2,
   "metadata": {},
   "outputs": [],
   "source": [
    "datafile_path = \"../data/02_intermediate/cleaned_data.json\"\n",
    "with open(datafile_path) as f:\n",
    "    data = json.load(f)\n",
    "\n",
    "df = pd.DataFrame(data)"
   ]
  },
  {
   "cell_type": "code",
   "execution_count": 6,
   "metadata": {},
   "outputs": [
    {
     "data": {
      "text/plain": [
       "post_was_edited                                        object\n",
       "request_text_edit_aware                                object\n",
       "request_title                                          object\n",
       "requester_account_age_in_days_at_request              float64\n",
       "requester_days_since_first_post_on_raop_at_request    float64\n",
       "requester_number_of_comments_at_request                 int64\n",
       "requester_number_of_comments_at_retrieval               int64\n",
       "requester_number_of_comments_in_raop_at_request         int64\n",
       "requester_number_of_posts_at_request                    int64\n",
       "requester_number_of_posts_on_raop_at_request            int64\n",
       "requester_number_of_subreddits_at_request               int64\n",
       "requester_received_pizza                                 bool\n",
       "requester_subreddits_at_request                        object\n",
       "requester_upvotes_minus_downvotes_at_request            int64\n",
       "requester_upvotes_plus_downvotes_at_request             int64\n",
       "requester_username                                     object\n",
       "unix_timestamp_of_request                             float64\n",
       "unix_timestamp_of_request_utc                         float64\n",
       "dtype: object"
      ]
     },
     "execution_count": 6,
     "metadata": {},
     "output_type": "execute_result"
    }
   ],
   "source": [
    "df.dtypes"
   ]
  },
  {
   "cell_type": "markdown",
   "metadata": {},
   "source": [
    "## Data Preprocessing"
   ]
  },
  {
   "cell_type": "code",
   "execution_count": null,
   "metadata": {},
   "outputs": [],
   "source": []
  }
 ],
 "metadata": {
  "interpreter": {
   "hash": "adb55e0d7d06b22fe6d30f2cb3e94f7617271379578af157e6db74b02ef92f76"
  },
  "kernelspec": {
   "display_name": "Python 3.8.12 ('challenge')",
   "language": "python",
   "name": "python3"
  },
  "language_info": {
   "codemirror_mode": {
    "name": "ipython",
    "version": 3
   },
   "file_extension": ".py",
   "mimetype": "text/x-python",
   "name": "python",
   "nbconvert_exporter": "python",
   "pygments_lexer": "ipython3",
   "version": "3.8.12"
  },
  "orig_nbformat": 4
 },
 "nbformat": 4,
 "nbformat_minor": 2
}
